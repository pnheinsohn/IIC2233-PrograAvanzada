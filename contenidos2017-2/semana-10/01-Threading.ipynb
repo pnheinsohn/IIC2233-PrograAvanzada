{
 "cells": [
  {
   "cell_type": "markdown",
   "metadata": {},
   "source": [
    "<p>\n",
    "<font size='5' face='Georgia, Arial'>IIC-2233 Apunte Programación Avanzada</font><br>\n",
    "<font size='1'>&copy; 2015 Karim Pichara - Christian Pieringer. Todos los derechos reservados.</font>\n",
    "</p>"
   ]
  },
  {
   "cell_type": "markdown",
   "metadata": {},
   "source": [
    "# Objetivos de la Unidad\n",
    "\n",
    "- Conocer cómo se realizan las tareas en un sistema multitarea\n",
    "- Conocer los conceptos de proceso y de _thread_\n",
    "- Conocer y usar las bibliotecas de clases que provee Python para el manejo de threads\n",
    "- Aplicar OOP utilizando ideas de _multithreading_ y concurrencia"
   ]
  },
  {
   "cell_type": "markdown",
   "metadata": {},
   "source": [
    "## Threading\n",
    "\n",
    "Los **_threads_** (o hilos) son las unidades más pequeñas que pueden ser programadas para ser ejecutadas en un sistema operativo. Estos permiten que varios procesos livianos puedan ser ejecutados simultáneamente dentro de un mismo programa o proceso mayor. Los _threads_ que están dentro de un mismo proceso comparten la memoria y estado de las variables del proceso. Este uso compartido de los recursos le permite a los _threads_ ejecutarse más rápido que correr varias instancias del mismo programa.\n",
    "\n",
    "Cada proceso tiene al menos un _thread_, el que corresponde al mismo proceso en ejecución. Cuando un proceso crea varios _threads_, estos son ejecutados como procesos _paralelos_. En una máquina con un sólo procesador, este _paralelismo_ es aproximado mediante _thread scheduling_ o _time slicing_; esto es, cada un número determinado de instrucciones, el hilo en ejecución es detenido y otro hilo en la cola de espera es ejecutado durante el mismo número de instrucciones. Esta alternancia entre procesos, ejecutados a la velocidad del procesador, brinda la sensación de paralelismo. En este caso, no existe un verdadero aumento de la velocidad de ejecución, pero sí de la manera en que el programa responde. Sin embargo, en máquinas con más procesadores, efectivamente se logra la ejecución en paralelo de varios _threads_ que tiene como resultado una ejecución más rápida del programa. La siguiente figura muestra un esquema de la interacción de los _threads_ con el proceso principal."
   ]
  },
  {
   "cell_type": "markdown",
   "metadata": {},
   "source": [
    "![thread](imgs/thread.png)"
   ]
  },
  {
   "cell_type": "markdown",
   "metadata": {},
   "source": [
    "Algunos ejemplos, donde resulta útil implementar _threads_, a pesar del uso de _time slicing_ en computadores con un único procesador, son:\n",
    "\n",
    "- Interfaces de rápida respuesta donde se necesita interactuar con el usuario mientras se ejecuta algún proceso de cómputo pesado. Por ejemplo, las interfaces gráficas en un computador.\n",
    "- Delegación de trabajos que siguen el patrón _consumidor-productor_, en donde existen procesos que se ejecutan secuencialmente, pero que son independientes entre ellos. Como por ejemplo, un _thread_ que se encargue de poner los _frames_ capturados desde una cámara de video en una cola, y otro _thread_ que procese estos cuadros y los saque de la cola.\n",
    "- Aplicaciones multiusuarios, en donde cada _thread_ se encargaría de las peticiones de cada usuario independientemente. Por ejemplo, sistemas operativos multiusuario."
   ]
  },
  {
   "cell_type": "markdown",
   "metadata": {},
   "source": [
    "### Creación de _threads_"
   ]
  },
  {
   "cell_type": "markdown",
   "metadata": {},
   "source": [
    "En Python 3, el manejo de _threads_ se realiza mediante la librería `threading`, en donde los _threads_ son representados por objetos. Muchas de las funcionalidades necesarias están implementadas en esta librería. La clase `Thread` crea un nuevo hilo. Esta requiere como argumento básico, entregado a través de `target`, la función objetivo que debe ser ejecutada durante el _thread_. Cada objeto `thread` es ejecutado mediante el método `start()`. La clase `Thread` también admite mediante el argumento `name`, que es el nombre que le queremos dar al hilo. En el siguiente ejemplo, crearemos tres _threads_ `t1`, `w1`, y `w2`, que ejecutarán distintas instancias de las funciones `service` y `worker`."
   ]
  },
  {
   "cell_type": "code",
   "execution_count": 1,
   "metadata": {
    "collapsed": false
   },
   "outputs": [
    {
     "name": "stdout",
     "output_type": "stream",
     "text": [
      "Fueron creados 3 threadsThread 2 starting...Thread-6 starting...Thread 1 starting...\n",
      "\n",
      "\n",
      "0\n",
      "\n",
      "1\n",
      "2\n",
      "3\n",
      "4\n",
      "5\n",
      "6\n",
      "7\n",
      "8\n",
      "9\n"
     ]
    }
   ],
   "source": [
    "import threading\n",
    "import time\n",
    "\n",
    "\n",
    "def worker():\n",
    "    print(\"{} starting...\".format(threading.currentThread().getName()))\n",
    "    # Pondremos a dormir el thread por t segundos simulando \n",
    "    # que ocurre algun proceso dentro de la función\n",
    "    time.sleep(2) \n",
    "    print(\"{} exiting...\\n\".format(threading.currentThread().getName()))\n",
    "\n",
    "def service():\n",
    "    print(\"{} starting...\".format(threading.currentThread().getName()))\n",
    "    # Ponemos a dormir el thread por 4 segundos simulando\n",
    "    # un proceso dentro de la función\n",
    "    time.sleep(4) \n",
    "    print(\"{} exiting...\\n\".format(threading.currentThread().getName()))\n",
    "\n",
    "# Creamos los threads usando la clase Thread\n",
    "t1 = threading.Thread(name='Thread 1', target=service)\n",
    "w1 = threading.Thread(name='Thread 2', target=worker)\n",
    "w2 = threading.Thread(target=worker) # En este caso usa el nombre asignado por defecto\n",
    "\n",
    "# Se inicializan los threads creados\n",
    "w1.start()\n",
    "w2.start()\n",
    "t1.start()\n",
    "\n",
    "# Todas estas líneas serán ejecutadas mientras los threads se ejecutan independientemente del programa\n",
    "# principal\n",
    "print('Fueron creados 3 threads')\n",
    "\n",
    "for i in range(10):\n",
    "    print(i)"
   ]
  },
  {
   "cell_type": "markdown",
   "metadata": {},
   "source": [
    "En el ejemplo, vemos que una vez inicializados los _threads_, el programa principal continúa con el resto de instrucciones mientras los _threads_ se ejecutan. Luego los tres _threads_ terminan independientemente en distintos momentos. El programa principal esperará a que todos los _threads_ hayan terminado correctamente.\n",
    "\n",
    "También es posible, mediante el atributo o llave `args`, pasar los argumentos a la función definida como `target` del _thread_."
   ]
  },
  {
   "cell_type": "code",
   "execution_count": 2,
   "metadata": {
    "collapsed": false
   },
   "outputs": [
    {
     "name": "stdout",
     "output_type": "stream",
     "text": [
      "Thread 2 starting with time 3\n",
      "Thread 2 exiting...\n",
      "\n",
      "Thread-6 exiting...\n",
      "\n",
      "Thread 2 exiting...\n",
      "\n"
     ]
    }
   ],
   "source": [
    "import threading\n",
    "import time\n",
    "\n",
    "def worker(tiempo):\n",
    "    print(\"{} starting with time {}\".format(threading.currentThread().getName(), tiempo))\n",
    "    time.sleep(tiempo) # pone a dormir el thread por t segundos simulando que ocurre algun proceso dentro de la función\n",
    "    print(\"{} exiting...\\n\".format(threading.currentThread().getName()))\n",
    "\n",
    "    \n",
    "# Se crean los threads usando la clase Thread, asociada a la función objetivo para \n",
    "# ser ejecutada por el thread, y los atributos de la función son ingresados mediante la llave args. \n",
    "# En este ejemplo, args tiene asignado una tupla de un solo elemento. Por tal razóni\n",
    "# debe ser escrita como (valor,)\n",
    "\n",
    "w = threading.Thread(name='Thread 2', target=worker, args=(3,))\n",
    "w.start()\n",
    "w.join()"
   ]
  },
  {
   "cell_type": "markdown",
   "metadata": {},
   "source": [
    "En concordancia con el modelamiento basado en OOP, podemos crear también un _thread_ heredando desde la clase `Thread` y redefiniendo el método `run()`, el cual se ejecuta luego de hacer `Thread.start()`."
   ]
  },
  {
   "cell_type": "code",
   "execution_count": 3,
   "metadata": {
    "collapsed": false
   },
   "outputs": [
    {
     "name": "stdout",
     "output_type": "stream",
     "text": [
      "Thread-8 starting...\n",
      "Thread-9 starting...\n",
      "Thread-7 starting...\n",
      "Fueron creados 3 threads\n",
      "\n",
      "\n",
      "\n",
      "0\n",
      "1\n",
      "2\n",
      "3\n",
      "4\n",
      "5\n",
      "6\n",
      "7\n",
      "8\n",
      "9\n"
     ]
    }
   ],
   "source": [
    "import threading\n",
    "import time\n",
    "\n",
    "\n",
    "class Worker(threading.Thread):\n",
    "    # Este será nuestro nuevo Worker basado en Thread\n",
    "    def __init__(self, time):\n",
    "        super().__init__()\n",
    "        self.time = time\n",
    "    \n",
    "    def run(self):\n",
    "        # Este metodo ejecuta el proceso de este thread\n",
    "        # cuando lo iniciamos mediante el metodo start()\n",
    "        print(\"{} starting...\\n\".format(threading.currentThread().getName()))\n",
    "        \n",
    "        # Pondremos a dormir el thread por t segundos\n",
    "        # simulando que ocurre algun proceso dentro de la función\n",
    "        t0 = time.time()\n",
    "        time.sleep(self.time) \n",
    "        print(\"{} exiting after {} sec.\\n\".format(threading.currentThread().getName(), time.time() - t0))\n",
    "\n",
    "        \n",
    "class Service(threading.Thread):\n",
    "    # Este sera el nuevo Thread service basado en Thread\n",
    "    def __init__(self, time):\n",
    "        super().__init__()\n",
    "        self.time = time\n",
    "    \n",
    "    def run(self):\n",
    "        print(\"{} starting...\\n\".format(threading.currentThread().getName()))\n",
    "        # El thread dormira por 4 segundos simulando un proceso dentro de la función\n",
    "        t0 = time.time()\n",
    "        time.sleep(self.time) \n",
    "        print(\"{} exiting after {} sec.\\n\".format(threading.currentThread().getName(), time.time() - t0))\n",
    "        \n",
    "\n",
    "# Se crean los threads usando la clase Thread\n",
    "t1 = Service(3)\n",
    "w1 = Worker(4)\n",
    "w2 = Worker(5)\n",
    "\n",
    "# Se inicializan los threads creados\n",
    "w1.start()\n",
    "w2.start()\n",
    "t1.start()\n",
    "\n",
    "# Todas estas líneas serán ejecutadas mientras los threads se ejecutan independientemente del programa principal.\n",
    "print('Fueron creados 3 threads')\n",
    "\n",
    "for i in range(10):\n",
    "    print(i)"
   ]
  },
  {
   "cell_type": "markdown",
   "metadata": {},
   "source": [
    "### `join()`"
   ]
  },
  {
   "cell_type": "markdown",
   "metadata": {},
   "source": [
    "Si necesitamos que el programa principal espere que termine la ejecución de algún _thread_ (o grupo de _threads_), debemos usar del método `join(<tiempo-máximo-espera>)` después de que el _thread_ ha sido iniciado mediante `start()`. Al usar `join()`, el programa principal queda bloqueado hasta que los _threads_ referenciados terminen correctamente. Si el tiempo máximo de espera no ha sido definido, el programa principal esperará indefinidamente hasta que el thread referenciado termine. La figura siguiente explica gráficamente la ejecución del programa usando `join()`.\n",
    "\n",
    "![join](imgs/join.png)\n",
    "\n",
    "Veamos ahora el mismo ejemplo anterior pero con la incorporación de `join()`."
   ]
  },
  {
   "cell_type": "code",
   "execution_count": 4,
   "metadata": {
    "collapsed": false
   },
   "outputs": [
    {
     "name": "stdout",
     "output_type": "stream",
     "text": [
      "Thread-10 starting...\n",
      "Thread-11 starting...\n",
      "Thread-12 starting...\n",
      "\n",
      "\n",
      "\n",
      "Thread 1 exiting...\n",
      "\n",
      "Thread-10 exiting after 1.0016515254974365 sec.\n",
      "\n",
      "Thread-7 exiting after 3.0004642009735107 sec.\n",
      "\n",
      "Thread-8 exiting after 4.0012640953063965 sec.\n",
      "\n",
      "Thread-12 exiting after 4.001278877258301 sec.\n",
      "\n",
      "Thread-9 exiting after 5.000436782836914 sec.\n",
      "\n",
      "Thread-11 exiting after 6.000386476516724 sec.\n",
      "Fueron creados 3 threads\n",
      "\n",
      "0\n",
      "1\n",
      "2\n",
      "3\n",
      "4\n",
      "5\n",
      "6\n",
      "7\n",
      "8\n",
      "9\n"
     ]
    }
   ],
   "source": [
    "import threading\n",
    "import time\n",
    "\n",
    "# Usamos la definicion de los Thread declarados en el ejempo anterior\n",
    "\n",
    "# Se crean los threads usando la clase Thread\n",
    "t1 = Service(1)\n",
    "w1 = Worker(6)\n",
    "w2 = Worker(4)\n",
    "\n",
    "# Se inicializan los threads creados\n",
    "t1.start()\n",
    "w1.start()\n",
    "w2.start()\n",
    "\n",
    "# Aquí incorporamos el método join() para bloquear el programa principal\n",
    "t1.join()\n",
    "w1.join()\n",
    "w2.join()\n",
    "\n",
    "\n",
    "# Una vez que los threads son creados el programa principal sigue su curso y espera \n",
    "# a que los threads terminen. Por ejemplo, todas estas líneas serán ejecutadas después \n",
    "# que los threads sean ejecutados, pero el programa principal no se cerrará hasta que \n",
    "# los threas hayan completado su ejecución.\n",
    "print('Fueron creados 3 threads')\n",
    "\n",
    "for i in range(10):\n",
    "    print(i)"
   ]
  },
  {
   "cell_type": "markdown",
   "metadata": {},
   "source": [
    "### `isAlive()`"
   ]
  },
  {
   "cell_type": "markdown",
   "metadata": {},
   "source": [
    "Es posible identificar si un _thread_ ha terminado su ejecución mediante el uso del método `isAlive()`. Por lo general este método se implementa para saber el estado del _thread_ después del uso de `join()`, al cual se le ha definido su tiempo máximo de espera. Usando las funciones `service` y `worker` podemos hacer lo siguiente."
   ]
  },
  {
   "cell_type": "code",
   "execution_count": 5,
   "metadata": {
    "collapsed": false
   },
   "outputs": [
    {
     "name": "stdout",
     "output_type": "stream",
     "text": [
      "Thread-13 starting...\n",
      "\n",
      "Thread-13 exiting after 2.0009405612945557 sec.\n",
      "El thread ha terminado correctamente\n",
      "\n"
     ]
    }
   ],
   "source": [
    "import threading\n",
    "import time\n",
    "\n",
    "\n",
    "# Se crean los threads usando la clase Thread\n",
    "t = Service(2)#threading.Thread(target=service)\n",
    "\n",
    "# Se inicializan el threads\n",
    "t.start()\n",
    "t.join(5) # el programa esperará por 5 segundos a que el thread termine\n",
    "\n",
    "# Podemos comprobar si el thread terminó\n",
    "if not t.isAlive():\n",
    "    print('El thread ha terminado correctamente')\n"
   ]
  },
  {
   "cell_type": "markdown",
   "metadata": {},
   "source": [
    "Podemos evitar el uso de los `print` con la librería `logging`, embebiendo el nombre de cada _thread_ en su _log message_ usando el código `%(threadName)s`. Por ejemplo,"
   ]
  },
  {
   "cell_type": "code",
   "execution_count": 6,
   "metadata": {
    "collapsed": false
   },
   "outputs": [
    {
     "name": "stderr",
     "output_type": "stream",
     "text": [
      "[DEBUG] (worker    ) Starting\n",
      "[DEBUG] (Thread-14 ) Starting\n",
      "[DEBUG] (service   ) Starting\n"
     ]
    }
   ],
   "source": [
    "import logging\n",
    "import imp\n",
    "\n",
    "# Estas dos lineas son necesarias sólo por el ipython notebook\n",
    "imp.reload(logging)\n",
    "logging.basicConfig(format='[%(levelname)s] (%(threadName)-10s) %(message)s', level=logging.DEBUG, datefmt='%I:%M:%S')\n",
    "\n",
    "# Con esta línea basta si se ejecuta desde otro IDE\n",
    "# logging.basicConfig(level = logging.DEBUG, format='[%(levelname)s] (%(threadName)-10s) %(message)s', )\n",
    "\n",
    "\n",
    "def worker():\n",
    "    logging.debug('Starting')\n",
    "    time.sleep(2)\n",
    "    logging.debug('Exiting')\n",
    "\n",
    "    \n",
    "def service():\n",
    "    logging.debug('Starting')\n",
    "    time.sleep(4)\n",
    "    logging.debug('Exiting')\n",
    "\n",
    "\n",
    "t1 = threading.Thread(name='service', target=service)\n",
    "w1 = threading.Thread(name='worker', target=worker)\n",
    "w2 = threading.Thread(target=worker)\n",
    "\n",
    "w1.start()\n",
    "w2.start()\n",
    "t1.start()\n"
   ]
  },
  {
   "cell_type": "markdown",
   "metadata": {},
   "source": [
    "## _Daemons_\n",
    "\n",
    "En el ejemplo anterior, el programa espera a que todos los _threads_ terminen su trabajo antes de terminar su ejecución. Los **_daemon threads_** son los que a pesar de que estén aún corriendo, no impiden que el programa principal termine. En general, los _daemons_ tienen una menor prioridad en el orden de ejecución de los _threads_. \n",
    "\n",
    "Si no existieran los _daemon threads_, tendríamos que preocuparnos de tener en cuenta todos nuestros _threads_ y preocuparnos de terminarlos a todos para que el programa principal pueda terminar, con los _daemon threads_ podemos ponerlos a correr y olvidarnos de ellos, y cuando el programa termina, los _daemon threads_ serán terminados inmediatamente. El programa principal terminará cuando todos los _threads no-daemon_ hayan finalizado.\n"
   ]
  },
  {
   "cell_type": "code",
   "execution_count": 7,
   "metadata": {
    "collapsed": false
   },
   "outputs": [
    {
     "name": "stderr",
     "output_type": "stream",
     "text": [
      "[DEBUG] (daemon    ) Starting\n",
      "[DEBUG] (non-daemon) Starting\n",
      "[DEBUG] (non-daemon) Exiting\n"
     ]
    }
   ],
   "source": [
    "logging.basicConfig(level=logging.DEBUG,\n",
    "                    format='(%(threadName)-10s) %(message)s',\n",
    "                    )\n",
    "\n",
    "\n",
    "def daemon():\n",
    "    logging.debug('Starting')\n",
    "    time.sleep(4)\n",
    "    logging.debug('Exiting')\n",
    "\n",
    "d1 = threading.Thread(name='daemon', target=daemon)\n",
    "d1.setDaemon(True)#aquí decimos que el thread es efectivamente un daemon thread\n",
    "\n",
    "def non_daemon():\n",
    "    logging.debug('Starting')\n",
    "    logging.debug('Exiting')\n",
    "\n",
    "t1 = threading.Thread(name='non-daemon', target=non_daemon)\n",
    "\n",
    "d1.start()\n",
    "t1.start()\n",
    "\n",
    "# ojo que la última línea del output no se genera en un IDE tradicional, \n",
    "# sólo el ipython notebook lo ejecuta de todas maneras"
   ]
  },
  {
   "cell_type": "markdown",
   "metadata": {},
   "source": [
    "En el _output_ anterior podemos apreciar que el programa principal termina antes que el _daemon thread_. Es posible hacer que el programa espere a un _daemon thread_ mediante el uso de `join()`, lo que tendría sentido cuando debemos esperar algún resultado del _thread_ para el resto del programa.\n",
    "\n",
    "Más claramente, veamos la salida del mismo programa donde utilizamos `join()` para esperar a que los _threads_ completaran su misión."
   ]
  },
  {
   "cell_type": "code",
   "execution_count": 8,
   "metadata": {
    "collapsed": false
   },
   "outputs": [
    {
     "name": "stdout",
     "output_type": "stream",
     "text": [
      "Thread 2 starting...Thread 1 starting...\n",
      "\n"
     ]
    }
   ],
   "source": [
    "import threading\n",
    "import time\n",
    "\n",
    "\n",
    "def worker():\n",
    "    print(\"{} starting...\".format(threading.currentThread().getName()))\n",
    "    time.sleep(2) # pone a dormir el thread por t segundos simulando que ocurre algun proceso dentro de la función\n",
    "    print(\"{} exiting...\".format(threading.currentThread().getName()))\n",
    "\n",
    "    \n",
    "def service():\n",
    "    print(\"{} starting...\".format(threading.currentThread().getName()))\n",
    "    time.sleep(4) # pone a dormir el thread por 4 segundos simulando un proceso dentro de la función\n",
    "    print(\"{} exiting...\".format(threading.currentThread().getName()))\n",
    "\n",
    "\n",
    "# Se crean los threads usando la clase Thread\n",
    "t1 = threading.Thread(name='Thread 1', target=service)\n",
    "w1 = threading.Thread(name='Thread 2', target=worker)\n",
    "\n",
    "# Se configuran los threads como Daemon\n",
    "w1.setDaemon(True)\n",
    "t1.setDaemon(True)\n",
    "\n",
    "# Se inicializan los threads\n",
    "w1.start()\n",
    "t1.start()"
   ]
  },
  {
   "cell_type": "markdown",
   "metadata": {},
   "source": [
    "La siguiente figura muestra la salida en la consola para el programa **con** los _threads_ configurados como `Daemon`. Los _threads_ se interrumpen abruptamente, luego de que el programa principal termina su ejecución.\n",
    "\n",
    "![daemon](imgs/daemon_thread.png)\n",
    "\n",
    "Comparemos el resultado anterior con la salida en la consola para el programa **sin** los _threads_ configurados como `Daemon`, como muestra la imagen siguiente. Podemos ver que la ejecución de los _threads_ fue completada y que el programa no se cierra hasta que los _threads_ terminan.\n",
    "\n",
    "![non_daemon](imgs/nodaemon_thread.png)"
   ]
  },
  {
   "cell_type": "code",
   "execution_count": 9,
   "metadata": {
    "collapsed": false
   },
   "outputs": [
    {
     "name": "stderr",
     "output_type": "stream",
     "text": [
      "[DEBUG] (daemon    ) Starting\n",
      "[DEBUG] (non-daemon) Starting\n",
      "[DEBUG] (non-daemon) Exiting\n",
      "[DEBUG] (worker    ) Exiting\n",
      "[DEBUG] (Thread-14 ) Exiting\n",
      "[DEBUG] (daemon    ) Exiting\n"
     ]
    },
    {
     "name": "stdout",
     "output_type": "stream",
     "text": [
      "Thread 2 exiting...\n"
     ]
    }
   ],
   "source": [
    "logging.basicConfig(level=logging.DEBUG,\n",
    "                    format='(%(threadName)-10s) %(message)s',\n",
    "                    )\n",
    "\n",
    "def daemon():\n",
    "    logging.debug('Starting')\n",
    "    time.sleep(2)\n",
    "    logging.debug('Exiting')\n",
    "\n",
    "d = threading.Thread(name='daemon', target=daemon)\n",
    "d.setDaemon(True)\n",
    "\n",
    "\n",
    "def non_daemon():\n",
    "    logging.debug('Starting')\n",
    "    logging.debug('Exiting')\n",
    "\n",
    "    \n",
    "t = threading.Thread(name='non-daemon', target=non_daemon)\n",
    "\n",
    "d.start()\n",
    "t.start()\n",
    "\n",
    "d.join()\n",
    "t.join()"
   ]
  },
  {
   "cell_type": "markdown",
   "metadata": {},
   "source": [
    "Podemos ingresar como parámetros a `join` el número máximo de segundos que queremos que espere al _daemon_ para que el programa principal pueda terminar, así después de ese tiempo, `join` retornaría igual."
   ]
  },
  {
   "cell_type": "code",
   "execution_count": 10,
   "metadata": {
    "collapsed": false
   },
   "outputs": [
    {
     "name": "stderr",
     "output_type": "stream",
     "text": [
      "[DEBUG] (Thread-15 ) Starting\n"
     ]
    }
   ],
   "source": [
    "logging.basicConfig(level=logging.DEBUG,\n",
    "                    format='(%(threadName)-10s) %(message)s',\n",
    "                    )\n",
    "\n",
    "class Daemon(threading.Thread):\n",
    "    \n",
    "    def __init__(self):\n",
    "        super().__init__()\n",
    "        # Cuando inicializamos el Thread lo declaramos como Daemon\n",
    "        self.daemon = True\n",
    "    \n",
    "    def run(self):\n",
    "        logging.debug('Starting')\n",
    "        time.sleep(2)\n",
    "        logging.debug('Exiting')\n",
    "\n",
    "d = Daemon()\n",
    "d.start()"
   ]
  },
  {
   "cell_type": "code",
   "execution_count": 11,
   "metadata": {
    "collapsed": false
   },
   "outputs": [
    {
     "name": "stderr",
     "output_type": "stream",
     "text": [
      "[DEBUG] (daemon    ) Starting\n",
      "[DEBUG] (non-daemon) Starting\n",
      "[DEBUG] (non-daemon) Exiting\n"
     ]
    },
    {
     "name": "stdout",
     "output_type": "stream",
     "text": [
      "d está vivo?: True\n"
     ]
    }
   ],
   "source": [
    "logging.basicConfig(level=logging.DEBUG,\n",
    "                    format='(%(threadName)-10s) %(message)s',\n",
    "                    )\n",
    "\n",
    "def daemon():\n",
    "    logging.debug('Starting')\n",
    "    time.sleep(2)\n",
    "    logging.debug('Exiting')\n",
    "\n",
    "d = threading.Thread(name='daemon', target=daemon)\n",
    "d.setDaemon(True)\n",
    "\n",
    "def non_daemon():\n",
    "    logging.debug('Starting')\n",
    "    logging.debug('Exiting')\n",
    "\n",
    "t = threading.Thread(name='non-daemon', target=non_daemon)\n",
    "\n",
    "d.start()\n",
    "t.start()\n",
    "\n",
    "d.join(1)\n",
    "print('d está vivo?: {}'.format(d.isAlive()))\n",
    "t.join()"
   ]
  },
  {
   "cell_type": "markdown",
   "metadata": {},
   "source": [
    "Al crear un _thread_ como objeto podemos indicar si este es `Daemon` durante su inicialización usando el atributo `daemon`. Una vez que se ha llamado el método `start()` un _thread_ no puede cambiar desde _daemon_ a _no-daemon_, o vicecersa."
   ]
  },
  {
   "cell_type": "markdown",
   "metadata": {},
   "source": [
    "### _Timers_\n",
    "\n",
    "La clase `Timer` es una subclase de la clase `Thread` y permite ejecutar un proceso o acción después que ha pasado un determinado tiempo. `Timer` requiere, como parámetros básicos, el tiempo en segundos después del cual debe ejecutarse el _thread_, el nombre del proceso a ejecutar y los argumentos de entrada para el proceso. El método `cancel()` permite, si se requiere, cancelar la ejecución del _timer_ antes que este sea ejecuctado."
   ]
  },
  {
   "cell_type": "code",
   "execution_count": 12,
   "metadata": {
    "collapsed": false
   },
   "outputs": [
    {
     "name": "stderr",
     "output_type": "stream",
     "text": [
      "[DEBUG] (service   ) Exiting\n",
      "[DEBUG] (daemon    ) Exiting\n",
      "[DEBUG] (Thread-15 ) Exiting\n",
      "[DEBUG] (daemon    ) Exiting\n"
     ]
    },
    {
     "name": "stdout",
     "output_type": "stream",
     "text": [
      "Thread 1 exiting...\n",
      "Acabas de ejecutar el timer 2\n",
      "\n",
      "Acabas de ejecutar el timer 1\n"
     ]
    }
   ],
   "source": [
    "def mi_timer(archivo):\n",
    "    with open(archivo) as fid:\n",
    "        for linea in fid:\n",
    "            print(linea)\n",
    "    fid.close()\n",
    "\n",
    "\n",
    "# Los archivos para probar están junto con la materia\n",
    "t1 = threading.Timer(10.0, mi_timer, args=('mensaje_01.txt',))\n",
    "t2 = threading.Timer(5.0, mi_timer, args=('mensaje_02.txt',))\n",
    "\n",
    "t1.start() # el thread t comenzará después de 10 seconds\n",
    "t2.start() # el thread t comenzará después de 5 seconds"
   ]
  },
  {
   "cell_type": "code",
   "execution_count": null,
   "metadata": {
    "collapsed": true
   },
   "outputs": [],
   "source": []
  },
  {
   "cell_type": "code",
   "execution_count": null,
   "metadata": {
    "collapsed": true
   },
   "outputs": [],
   "source": []
  },
  {
   "cell_type": "code",
   "execution_count": null,
   "metadata": {
    "collapsed": true
   },
   "outputs": [],
   "source": []
  },
  {
   "cell_type": "code",
   "execution_count": null,
   "metadata": {
    "collapsed": true
   },
   "outputs": [],
   "source": []
  }
 ],
 "metadata": {
  "kernelspec": {
   "display_name": "Python 3",
   "language": "python",
   "name": "python3"
  },
  "language_info": {
   "codemirror_mode": {
    "name": "ipython",
    "version": 3
   },
   "file_extension": ".py",
   "mimetype": "text/x-python",
   "name": "python",
   "nbconvert_exporter": "python",
   "pygments_lexer": "ipython3",
   "version": "3.6.0"
  }
 },
 "nbformat": 4,
 "nbformat_minor": 1
}
