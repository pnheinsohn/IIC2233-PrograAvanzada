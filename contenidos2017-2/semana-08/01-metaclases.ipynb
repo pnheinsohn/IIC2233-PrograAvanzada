{
 "cells": [
  {
   "cell_type": "markdown",
   "metadata": {},
   "source": [
    "<p>\n",
    "<font size='5' face='Georgia, Arial'>IIC-2233 Apunte Programación Avanzada</font><br>\n",
    "<font size='1'>&copy; 2015 Karim Pichara - Christian Pieringer. Todos los derechos reservados.</font>\n",
    "<font size='1'>&copy; Modificado en 2017 por el cuerpo Docente IIC2233015 Karim Pichara - Christian Pieringer. Todos los derechos reservados.</font>\n",
    "\n",
    "</p>"
   ]
  },
  {
   "cell_type": "markdown",
   "metadata": {},
   "source": [
    "En Python, hemos visto que podemos guardar datos de distinto tipo dentro de variables."
   ]
  },
  {
   "cell_type": "markdown",
   "metadata": {},
   "source": [
    "Por ejemplo, enteros, *strings*, listas y *floats*"
   ]
  },
  {
   "cell_type": "code",
   "execution_count": 1,
   "metadata": {
    "collapsed": true
   },
   "outputs": [],
   "source": [
    "a = 13\n",
    "b = \"hola\"\n",
    "c = [None, 2, \"chao\"]\n",
    "d = 1.0"
   ]
  },
  {
   "cell_type": "markdown",
   "metadata": {},
   "source": [
    "Como vimos la materia de decoradores, también podemos guardar funciones en variables."
   ]
  },
  {
   "cell_type": "code",
   "execution_count": 2,
   "metadata": {
    "collapsed": false
   },
   "outputs": [
    {
     "data": {
      "text/plain": [
       "3"
      ]
     },
     "execution_count": 2,
     "metadata": {},
     "output_type": "execute_result"
    }
   ],
   "source": [
    "def suma(a, b):\n",
    "    return a + b\n",
    "\n",
    "variable = suma\n",
    "variable(1, 2)"
   ]
  },
  {
   "cell_type": "markdown",
   "metadata": {},
   "source": [
    "Un aspecto que hasta ahora no hemos visto, es que también podemos guardar clases en variables."
   ]
  },
  {
   "cell_type": "code",
   "execution_count": 3,
   "metadata": {
    "collapsed": true
   },
   "outputs": [],
   "source": [
    "class MiClaseNormal: \n",
    "    \n",
    "    def __init__(self, atributo):\n",
    "        self.atributo = atributo\n",
    "\n",
    "variable2 = MiClaseNormal"
   ]
  },
  {
   "cell_type": "code",
   "execution_count": 4,
   "metadata": {
    "collapsed": false
   },
   "outputs": [
    {
     "name": "stdout",
     "output_type": "stream",
     "text": [
      "2\n"
     ]
    }
   ],
   "source": [
    "instancia_de_mi_clase_normal = variable2(2)\n",
    "print(instancia_de_mi_clase_normal.atributo)"
   ]
  },
  {
   "cell_type": "markdown",
   "metadata": {},
   "source": [
    "Todos las cosas que se pueden guardar en variables, también se pueden pasar como argumentos a una función. Ya vimos que podíamos pasar funciones como argumentos. Veamos cómo hacer lo mismo con una clase."
   ]
  },
  {
   "cell_type": "code",
   "execution_count": 5,
   "metadata": {
    "collapsed": true
   },
   "outputs": [],
   "source": [
    "def imprimir_tipo_de_dato(arg):\n",
    "    print(type(arg))"
   ]
  },
  {
   "cell_type": "code",
   "execution_count": 6,
   "metadata": {
    "collapsed": false
   },
   "outputs": [
    {
     "name": "stdout",
     "output_type": "stream",
     "text": [
      "<class 'int'>\n",
      "<class 'function'>\n",
      "<class '__main__.MiClaseNormal'>\n",
      "<class 'type'>\n"
     ]
    }
   ],
   "source": [
    "imprimir_tipo_de_dato(1)\n",
    "imprimir_tipo_de_dato(suma)\n",
    "imprimir_tipo_de_dato(instancia_de_mi_clase_normal)\n",
    "imprimir_tipo_de_dato(MiClaseNormal)"
   ]
  },
  {
   "cell_type": "markdown",
   "metadata": {},
   "source": [
    "Todos estos elementos que se pueden guardar en variables y pasar como argumentos tienen un tipo de dato, es decir, son instancias de una clase."
   ]
  },
  {
   "cell_type": "markdown",
   "metadata": {},
   "source": [
    "Por ejemplo, los enteros son instancias de la clase `int`, las funciones son instancias de la clase `function` y los objetos que creamos usando MiClaseNormal con instancias de `MiClaseNormal`.\n",
    "\n",
    "Ahora, como vimos que las clases también se pueden guardar en variables y ser pasadas como argumento, también deberían ser instancias de una clase. Las clases que definen el tipo de dato de otras clases, se llaman en Python **Metaclases**."
   ]
  },
  {
   "cell_type": "markdown",
   "metadata": {},
   "source": [
    "El comando `type()` retorna el tipo de dato, es decir la clase, de una instancia. Si esa instancia es una clase —es decir un tipo de datos—, entonces su `type()` retornará cuál es la metaclase de esa clase.\n",
    "\n",
    "En este ejemplo, podemos ver que la clase MiClase es de tipo `type`. En otras palabras `type` es la Metaclase de MiClase."
   ]
  },
  {
   "cell_type": "code",
   "execution_count": 7,
   "metadata": {
    "collapsed": false
   },
   "outputs": [
    {
     "data": {
      "text/plain": [
       "type"
      ]
     },
     "execution_count": 7,
     "metadata": {},
     "output_type": "execute_result"
    }
   ],
   "source": [
    "type(MiClaseNormal)"
   ]
  },
  {
   "cell_type": "markdown",
   "metadata": {},
   "source": [
    "La metaclase de la mayoría de clases es `type`, pero también podemos crear nuestras propias metaclases."
   ]
  },
  {
   "cell_type": "code",
   "execution_count": 8,
   "metadata": {
    "collapsed": false
   },
   "outputs": [
    {
     "data": {
      "text/plain": [
       "int"
      ]
     },
     "execution_count": 8,
     "metadata": {},
     "output_type": "execute_result"
    }
   ],
   "source": [
    "a =1\n",
    "a.__class__"
   ]
  },
  {
   "cell_type": "code",
   "execution_count": 9,
   "metadata": {
    "collapsed": false
   },
   "outputs": [
    {
     "data": {
      "text/plain": [
       "int"
      ]
     },
     "execution_count": 9,
     "metadata": {},
     "output_type": "execute_result"
    }
   ],
   "source": [
    "type(a)"
   ]
  },
  {
   "cell_type": "markdown",
   "metadata": {
    "deletable": true,
    "editable": true
   },
   "source": [
    "# Metaclases\n",
    "\n",
    "Una metaclase es una *clase* cuyas instancias son *clases* en vez de *objetos*. Básicamente las metaclases son tipos de clases, así como las clases son tipos de objetos. Los objetos que creamos a través de una metaclase tienen la particularidad de ser capaces de crear otros objetos o instancias.\n",
    "\n",
    "![](img/metaclass.png)"
   ]
  },
  {
   "cell_type": "markdown",
   "metadata": {
    "deletable": true,
    "editable": true
   },
   "source": [
    "## Cómo asignar un tipo a una clase\n",
    "\n",
    "Para declarar que una clase tiene un cierto tipo, debemos agregar el keyworded argument `metaclass={tipo_de_clases}`. "
   ]
  },
  {
   "cell_type": "code",
   "execution_count": 10,
   "metadata": {
    "collapsed": false,
    "deletable": true,
    "editable": true
   },
   "outputs": [],
   "source": [
    "class ClaseEjemplo(metaclass=type):\n",
    "    pass"
   ]
  },
  {
   "cell_type": "markdown",
   "metadata": {
    "deletable": true,
    "editable": true
   },
   "source": [
    "Durante la creación de la clase, Python pregunta: ¿está el keyword `metaclass` dentro de los argumentos en la clase `ClaseEjemplo`? Si el argumento existe, entonces creará en memoria una clase con el nombre `ClaseEjemplo` usando lo que hay en `metaclass`. En caso contrario, Python usará la misma metaclase de la clase padre, para crear la nueva clase.\n",
    "\n",
    "La variable `metaclass` debe tener *algo* que pueda crear un clase, es decir, debe tener una *metaclase*. En Python, las metaclases de declaran como clases que heredan de `type`. \n",
    "\n",
    "## Metaclases personalizadas\n",
    "\n",
    "El principal propósito de las metaclases es modificar una clase cuando es creada. Para controlar la creación\n",
    "e inicialización de una clase en la metaclase podemos implementar los métodos `__new__` e `___init__`, respectivamente, en la metaclase. \n",
    "\n",
    "`__new__` debe ser implementado cuando queremos controlar la creación de una nueva clase. Utilizando este método podemos cambiar el nombre de la clase y las clases de las cuáles hereda. También podemos modificar sus atributos y métodos. En el siguiente ejemplo pueden ver que podeos cambiar básicamente cualquier cosa utilizando el `__new__`.\n"
   ]
  },
  {
   "cell_type": "code",
   "execution_count": 28,
   "metadata": {
    "collapsed": false,
    "deletable": true,
    "editable": true
   },
   "outputs": [],
   "source": [
    "class MiMetaClase(type):\n",
    "    def __new__(meta, nombre, base_clases, diccionario):\n",
    "        print ('-----------------------------------')\n",
    "        print(\"Creando la clase.. {} \".format(nombre))\n",
    "        print(meta)\n",
    "        print(base_clases)\n",
    "        # supongamos que siempre obligamos a la clase a tener este atributo\n",
    "        diccionario.update(dict({'atributo_obligatorio': 10}))\n",
    "        nombre = \"Meta_\" + nombre # Además le cambiamos el nombre\n",
    "        print(diccionario)\n",
    "        # Aquí llamaremos al método __new__ de \"type\", después de haber hecho las modificaciones que queríamos\n",
    "        # Este método __new__ de type es lo que se habría llamado si no hubiésemos usado la metaclase personalizada\n",
    "        return super().__new__(meta, nombre, base_clases, diccionario)"
   ]
  },
  {
   "cell_type": "code",
   "execution_count": 29,
   "metadata": {
    "collapsed": false,
    "deletable": true,
    "editable": true
   },
   "outputs": [
    {
     "name": "stdout",
     "output_type": "stream",
     "text": [
      "-----------------------------------\n",
      "Creando la clase.. MiClase \n",
      "<class '__main__.MiMetaClase'>\n",
      "()\n",
      "{'__module__': '__main__', '__qualname__': 'MiClase', 'mi_parametro': 4, 'hola': 'chupa', 'func': <function MiClase.func at 0x000002606AD981E0>, 'atributo_obligatorio': 10}\n"
     ]
    }
   ],
   "source": [
    "class MiClase(metaclass = MiMetaClase): # Declaramos que la clase MiClase es del tipo MiMetaclase\n",
    "    mi_parametro = 4\n",
    "    hola = \"chupa\"\n",
    "    \n",
    "    def func(self, params):\n",
    "        pass"
   ]
  },
  {
   "cell_type": "code",
   "execution_count": 30,
   "metadata": {
    "collapsed": false,
    "deletable": true,
    "editable": true
   },
   "outputs": [
    {
     "name": "stdout",
     "output_type": "stream",
     "text": [
      "10\n",
      "Meta_MiClase\n",
      "True\n",
      "False\n"
     ]
    }
   ],
   "source": [
    "m1 = MiClase()\n",
    "print(m1.atributo_obligatorio) # Recuerden que este atributo es de clase\n",
    "print(m1.__class__.__name__) # Recuerden que le cambiamos el nombre arriba\n",
    "print(isinstance(MiClase, MiMetaClase)) # MiClase es una instancia de MiMetaClase\n",
    "print(isinstance(m1, MiMetaClase)) # Esto es falso porque m1 es una instancia de MiClase, no de MiMetaClase"
   ]
  },
  {
   "cell_type": "markdown",
   "metadata": {},
   "source": [
    "`__init__` debería ser implementado cuando queremos controlar la inicialización de la clase una vez que ya está creado. En este método no se pueden modificar ni el nombre ni las clases bases. Sí se puede agregar funciones y atributos a la clase."
   ]
  },
  {
   "cell_type": "code",
   "execution_count": 31,
   "metadata": {
    "collapsed": true
   },
   "outputs": [],
   "source": [
    "class MiMetaClase(type):\n",
    "    def __new__(meta, nombre, base_clases, diccionario):\n",
    "        print ('-----------------------------------')\n",
    "        print(\"Creando la clase: {} \".format(nombre))\n",
    "        print(meta)\n",
    "        print(base_clases)\n",
    "        diccionario.update({'atributo_obligatorio': 10})\n",
    "        nombre = \"Meta_\" + nombre\n",
    "        print(diccionario)\n",
    "        base_clases = (int,)\n",
    "        print(base_clases)\n",
    "        return super().__new__(meta, nombre, base_clases, diccionario)\n",
    "    \n",
    "    def __init__(cls, nombre, base_clases, diccionario):\n",
    "        # diccionario mantiene los cambios realizados en el new, porque mantuvimos la referencia. \n",
    "        # Nombre y base_clases, son de tipo str y tuple que no son mutables, por lo que cuando los\n",
    "        # cambiamos la referencia cambió.\n",
    "        print ('-----------------------------------')\n",
    "        print(\"Inicializando la clase: {} \".format(nombre))\n",
    "        print(cls)\n",
    "        print(cls.__mro__)\n",
    "        print(base_clases) # La misma que \n",
    "        print(diccionario)\n",
    "        # La clase ya fue creada así que cualquier cambio a los parámetros nombre, bases_clases y diccionario\n",
    "        # no generará ningún cambio. Para realizar cambios debemos hacerlos directamente en la clase\n",
    "        diccionario.update({'atributo_obligatorio': 15})\n",
    "        nombre = \"Meta_\" + nombre \n",
    "        \n",
    "        # Esto sí se verá reflejado en la clase\n",
    "        cls.atributo_init = 20\n",
    "        setattr(cls, 'atributo_init_2', '35')\n",
    "        \n",
    "        return super().__init__(nombre, base_clases, diccionario) # En estricto rigor no es necesario retornar"
   ]
  },
  {
   "cell_type": "code",
   "execution_count": 32,
   "metadata": {
    "collapsed": false
   },
   "outputs": [
    {
     "name": "stdout",
     "output_type": "stream",
     "text": [
      "-----------------------------------\n",
      "Creando la clase: MiClase \n",
      "<class '__main__.MiMetaClase'>\n",
      "()\n",
      "{'__module__': '__main__', '__qualname__': 'MiClase', 'mi_parametro': 4, 'func': <function MiClase.func at 0x000002606AD8E400>, 'atributo_obligatorio': 10}\n",
      "(<class 'int'>,)\n",
      "-----------------------------------\n",
      "Inicializando la clase: MiClase \n",
      "<class '__main__.MiClase'>\n",
      "(<class '__main__.MiClase'>, <class 'int'>, <class 'object'>)\n",
      "()\n",
      "{'__module__': '__main__', '__qualname__': 'MiClase', 'mi_parametro': 4, 'func': <function MiClase.func at 0x000002606AD8E400>, 'atributo_obligatorio': 10}\n"
     ]
    }
   ],
   "source": [
    "class MiClase(metaclass = MiMetaClase): # Declaramos que la clase MiClasse es del tipo MiMetaclase\n",
    "    mi_parametro = 4\n",
    "    def func(self, params):\n",
    "        pass"
   ]
  },
  {
   "cell_type": "code",
   "execution_count": 16,
   "metadata": {
    "collapsed": false
   },
   "outputs": [
    {
     "name": "stdout",
     "output_type": "stream",
     "text": [
      "10\n",
      "20\n",
      "35\n",
      "Meta_MiClase\n",
      "True\n",
      "False\n"
     ]
    }
   ],
   "source": [
    "m1 = MiClase()\n",
    "print(m1.atributo_obligatorio) # Recuerden que este atributo es de clase. Tiene el mismo valor que en el new\n",
    "print(m1.atributo_init) # Este atributo es de clase y fue creado en el init\n",
    "print(m1.atributo_init_2) # Este atributo es de clase y fue creado en el init\n",
    "print(m1.__class__.__name__) # Le cambiamos el nombre arriba\n",
    "print(isinstance(MiClase, MiMetaClase)) # MiClase es una instancia de MiMetaClase\n",
    "print(isinstance(m1, MiMetaClase)) # Esto es falso porque m1 es una instancia de MiClase, no de MiMetaClase"
   ]
  },
  {
   "cell_type": "markdown",
   "metadata": {
    "deletable": true,
    "editable": true
   },
   "source": [
    "### Creación de instancias de una clase\n",
    "\n",
    "Cada vez que hacemos `variable()` estamos llamando al método `__call__`. Se dice que un objeto es *callable* cuando tiene el método `__call__` implementando. En el caso de metaclases, el método `__call__` es especial, ya que es ejecutado cuando una *clase* es llamada para crear una instancia de un nuevo objeto. Cada vez que han instanciado objetos de una clase usando los paréntesis, como `list()`, lo que en verdad han hecho es llamar al método `__call__`. \n",
    "\n",
    "En una metaclase podemos modificar el método `__call__` para que sea posible intersectar la creación de instancias. "
   ]
  },
  {
   "cell_type": "code",
   "execution_count": 17,
   "metadata": {
    "collapsed": false,
    "deletable": true,
    "editable": true
   },
   "outputs": [
    {
     "name": "stdout",
     "output_type": "stream",
     "text": [
      "__call__ of  <class '__main__.MiClase'>\n",
      "__call__ *args= (1, 2)\n",
      "Objeto de MiClase con a=1, b=2\n"
     ]
    }
   ],
   "source": [
    "class MiMetaClase(type):\n",
    "    def __call__(cls, *args, **kwargs):\n",
    "        \"\"\"\n",
    "        __call__ recibe cls que es el objeto que corresponde a la clase\n",
    "        que se está llamando, y *args/**args los argumentos que esta recibe\n",
    "        durante su instanciacion. \n",
    "        \"\"\"\n",
    "        print(\"__call__ of  {}\".format(str(cls)))\n",
    "        print(\"__call__ *args= {}\".format(str(args)))\n",
    "        return super().__call__(*args, **kwargs)\n",
    "\n",
    "class MiClase(metaclass = MiMetaClase):\n",
    "    def __init__(self, a, b):\n",
    "        print('Objeto de MiClase con a={}, b={}'.format(a, b))\n",
    "\n",
    "\n",
    "ob1 = MiClase(1, 2)"
   ]
  },
  {
   "cell_type": "markdown",
   "metadata": {
    "deletable": true,
    "editable": true
   },
   "source": [
    "## Ejemplos de metaclases\n",
    "### Clase que no puede ser subclaseada\n",
    "\n",
    "Definamos una metaclase que asegure que ninguna clase va a poder heredar de la metaclase. Se podrán crear clases que tengan la metaclase `MetaFinal` pero no será posible que estas clases sean la clase base de otras."
   ]
  },
  {
   "cell_type": "code",
   "execution_count": 34,
   "metadata": {
    "collapsed": false,
    "deletable": true,
    "editable": true
   },
   "outputs": [
    {
     "name": "stdout",
     "output_type": "stream",
     "text": [
      "<class '__main__.MetaFinal'>\n",
      "True\n",
      "<class '__main__.MetaFinal'>\n"
     ]
    },
    {
     "ename": "TypeError",
     "evalue": "type 'C' is not an acceptable base type",
     "output_type": "error",
     "traceback": [
      "\u001b[0;31m---------------------------------------------------------------------------\u001b[0m",
      "\u001b[0;31mTypeError\u001b[0m                                 Traceback (most recent call last)",
      "\u001b[0;32m<ipython-input-34-e1727c76908d>\u001b[0m in \u001b[0;36m<module>\u001b[0;34m()\u001b[0m\n\u001b[1;32m     19\u001b[0m \u001b[1;33m\u001b[0m\u001b[0m\n\u001b[1;32m     20\u001b[0m \u001b[1;33m\u001b[0m\u001b[0m\n\u001b[0;32m---> 21\u001b[0;31m \u001b[1;32mclass\u001b[0m \u001b[0mD\u001b[0m\u001b[1;33m(\u001b[0m\u001b[0mC\u001b[0m\u001b[1;33m)\u001b[0m\u001b[1;33m:\u001b[0m \u001b[1;31m# Aquí tendremos un error\u001b[0m\u001b[1;33m\u001b[0m\u001b[0m\n\u001b[0m\u001b[1;32m     22\u001b[0m     \u001b[1;32mpass\u001b[0m\u001b[1;33m\u001b[0m\u001b[0m\n",
      "\u001b[0;32m<ipython-input-34-e1727c76908d>\u001b[0m in \u001b[0;36m__new__\u001b[0;34m(mcl, name, bases, classdict)\u001b[0m\n\u001b[1;32m      8\u001b[0m         \u001b[1;32mfor\u001b[0m \u001b[0mb\u001b[0m \u001b[1;32min\u001b[0m \u001b[0mbases\u001b[0m\u001b[1;33m:\u001b[0m\u001b[1;33m\u001b[0m\u001b[0m\n\u001b[1;32m      9\u001b[0m             \u001b[1;32mif\u001b[0m \u001b[0misinstance\u001b[0m\u001b[1;33m(\u001b[0m\u001b[0mb\u001b[0m\u001b[1;33m,\u001b[0m \u001b[0mmcl\u001b[0m\u001b[1;33m)\u001b[0m\u001b[1;33m:\u001b[0m \u001b[1;31m# Si b fue creada con mcl, entonces la clase {name} no puede ser creada\u001b[0m\u001b[1;33m\u001b[0m\u001b[0m\n\u001b[0;32m---> 10\u001b[0;31m                 \u001b[1;32mraise\u001b[0m \u001b[0mTypeError\u001b[0m\u001b[1;33m(\u001b[0m\u001b[1;34m\"type '{0}' is not an acceptable base type\"\u001b[0m\u001b[1;33m.\u001b[0m\u001b[0mformat\u001b[0m\u001b[1;33m(\u001b[0m\u001b[0mb\u001b[0m\u001b[1;33m.\u001b[0m\u001b[0m__name__\u001b[0m\u001b[1;33m)\u001b[0m\u001b[1;33m)\u001b[0m\u001b[1;33m\u001b[0m\u001b[0m\n\u001b[0m\u001b[1;32m     11\u001b[0m         \u001b[1;32mreturn\u001b[0m \u001b[0msuper\u001b[0m\u001b[1;33m(\u001b[0m\u001b[1;33m)\u001b[0m\u001b[1;33m.\u001b[0m\u001b[0m__new__\u001b[0m\u001b[1;33m(\u001b[0m\u001b[0mmcl\u001b[0m\u001b[1;33m,\u001b[0m \u001b[0mname\u001b[0m\u001b[1;33m,\u001b[0m \u001b[0mbases\u001b[0m\u001b[1;33m,\u001b[0m \u001b[0mdict\u001b[0m\u001b[1;33m(\u001b[0m\u001b[0mclassdict\u001b[0m\u001b[1;33m)\u001b[0m\u001b[1;33m)\u001b[0m\u001b[1;33m\u001b[0m\u001b[0m\n\u001b[1;32m     12\u001b[0m \u001b[1;33m\u001b[0m\u001b[0m\n",
      "\u001b[0;31mTypeError\u001b[0m: type 'C' is not an acceptable base type"
     ]
    }
   ],
   "source": [
    "class MetaFinal(type):\n",
    "    def __new__(mcl, name, bases, classdict):\n",
    "        \"\"\"\n",
    "        Este paso chequea que la clase b, de la que se quiere heredar,\n",
    "        no sea una instancia de MetaFinal.\n",
    "        \"\"\"\n",
    "        for b in bases:\n",
    "            if isinstance(b, mcl): # Si b fue creada con mcl, entonces la clase {name} no puede ser creada\n",
    "                raise TypeError(\"type '{0}' is not an acceptable base type\".format(b.__name__))\n",
    "        return super().__new__(mcl, name, bases, dict(classdict))\n",
    "\n",
    "    \n",
    "class C(metaclass=MetaFinal): \n",
    "    pass\n",
    "\n",
    "\n",
    "print(isinstance(C, MetaFinal)) # No tenemos problemas porque C no tiene clases bases que hereden de MetaFinal\n",
    "\n",
    "\n",
    "class D(C): # Aquí tendremos un error\n",
    "    pass"
   ]
  },
  {
   "cell_type": "markdown",
   "metadata": {
    "deletable": true,
    "editable": true
   },
   "source": [
    "### Singletón\n",
    "\n",
    "En este ejemplo veremos como definir una metaclase que asegure que cada vez que se llama a la clase para crear una nueva instancia, ésta retorne la nueva instancia, si y sólo si, ninguna instancia de la clase se ha creado antes. En otro caso, se debería retornar la misma instancia creada la primera vez:"
   ]
  },
  {
   "cell_type": "code",
   "execution_count": 19,
   "metadata": {
    "collapsed": false,
    "deletable": true,
    "editable": true
   },
   "outputs": [
    {
     "name": "stdout",
     "output_type": "stream",
     "text": [
      "False\n",
      "True\n",
      "139842297388672\n",
      "139842297388672\n"
     ]
    }
   ],
   "source": [
    "class MetaSoloUna(type):\n",
    "    def __call__(cls, *args, **kw):\n",
    "        if not hasattr(cls, \"instance\"): # Recuerda que siempre podemos agregar variables en tiempo de ejecución\n",
    "             cls.instance = super().__call__(*args, **kw)\n",
    "        return cls.instance\n",
    "    \n",
    "class SoloUna(metaclass=MetaSoloUna):\n",
    "    pass\n",
    "\n",
    "\n",
    "a = SoloUna()\n",
    "print(a.instance == None)\n",
    "b = SoloUna()\n",
    "print(a is b)\n",
    "print(id(a))\n",
    "print(id(b))\n"
   ]
  },
  {
   "cell_type": "markdown",
   "metadata": {},
   "source": [
    "## ¿Cuál es la diferencia entre los métodos de la metaclase y la clase?"
   ]
  },
  {
   "cell_type": "code",
   "execution_count": 35,
   "metadata": {
    "collapsed": false
   },
   "outputs": [
    {
     "name": "stdout",
     "output_type": "stream",
     "text": [
      "\n",
      "Meta - __new__\n",
      "<class '__main__.Meta'>\n",
      "A\n",
      "()\n",
      "{'__module__': '__main__', '__qualname__': 'A', '__new__': <function A.__new__ at 0x000002606AD988C8>, '__init__': <function A.__init__ at 0x000002606AD98840>, '__call__': <function A.__call__ at 0x000002606AD98158>, '__classcell__': <cell at 0x000002606AD00108: empty>}\n",
      "\n",
      "Meta - __init__\n",
      "<class '__main__.A'>\n",
      "A\n",
      "()\n",
      "{'__module__': '__main__', '__qualname__': 'A', '__new__': <function A.__new__ at 0x000002606AD988C8>, '__init__': <function A.__init__ at 0x000002606AD98840>, '__call__': <function A.__call__ at 0x000002606AD98158>, '__classcell__': <cell at 0x000002606AD00108: Meta object at 0x00000260691BFB78>}\n"
     ]
    }
   ],
   "source": [
    "class Meta(type):\n",
    "    def __new__(meta, nombre, base_clases, diccionario):\n",
    "        print('\\nMeta - __new__')\n",
    "        print(meta)\n",
    "        print(nombre)\n",
    "        print(base_clases)\n",
    "        print(diccionario)\n",
    "        return super().__new__(meta, nombre, base_clases, diccionario)\n",
    "    \n",
    "    def __init__(cls, nombre, base_clases, diccionario):\n",
    "        print('\\nMeta - __init__')\n",
    "        print(cls)\n",
    "        print(nombre)\n",
    "        print(base_clases)\n",
    "        print(diccionario)\n",
    "        return super().__init__(nombre, base_clases, diccionario) # En estricto rigor no es necesario retornar\n",
    "    \n",
    "    def __call__(cls, *args, **kwargs):\n",
    "        print('\\nMeta - __call__')\n",
    "        print(cls)\n",
    "        print(args)\n",
    "        print(kwargs)\n",
    "        return super().__call__(*args, **kwargs)\n",
    "\n",
    "class A(metaclass=Meta):\n",
    "\n",
    "    def __new__(cls, *args, **kwargs):\n",
    "        print('\\nClass - __new__')\n",
    "        print(cls)\n",
    "        print(args)\n",
    "        print(kwargs)\n",
    "        return super().__new__(cls)\n",
    "\n",
    "    def __init__(self, *args, **kwargs):\n",
    "        print(\"\\nClass - __init__\")\n",
    "        print(args)\n",
    "        print(kwargs)\n",
    "    \n",
    "    def __call__(self, *args, **kwargs):\n",
    "        print('\\nClass - __call__')\n",
    "        print(args)\n",
    "        print(kwargs)\n"
   ]
  },
  {
   "cell_type": "code",
   "execution_count": 21,
   "metadata": {
    "collapsed": false
   },
   "outputs": [
    {
     "name": "stdout",
     "output_type": "stream",
     "text": [
      "\n",
      "Meta - __call__\n",
      "<class '__main__.A'>\n",
      "(1, 2, 'varstr')\n",
      "{'kworded_var': 'var'}\n",
      "\n",
      "Class - __new__\n",
      "<class '__main__.A'>\n",
      "(1, 2, 'varstr')\n",
      "{'kworded_var': 'var'}\n",
      "\n",
      "Class - __init__\n",
      "(1, 2, 'varstr')\n",
      "{'kworded_var': 'var'}\n",
      "\n",
      "Class - __call__\n",
      "(9, 4)\n",
      "{'kworded_var': 'var'}\n"
     ]
    }
   ],
   "source": [
    "a = A(1, 2, 'varstr', kworded_var='var')\n",
    "a(9, 4, kworded_var='var')"
   ]
  },
  {
   "cell_type": "markdown",
   "metadata": {},
   "source": [
    "Esta tabla resume las diferencias entre lo que hacen los métodos de la clase y de la metaclase.\n",
    "\n",
    "\n",
    "Métodos     | Clase                       | MetaClase\n",
    "---------- | --------------------------- | -------------------------------------\n",
    "**`__new__`**  | `cls`, `args`, `kwargs`     | `meta`, `name`, `bases`, `attributes`\n",
    "Retorna    | objeto de la clase `cls`    | clase del tipo `meta`, nombre `name` que hereda de `bases`, y que tiene `attributes` atributos\n",
    " | | \n",
    "**`__init__` **| `self` (creado por `new`), `args`, `kwargs`  | `cls` (creado por el `new`), `name`, `bases`, `attributes`\n",
    "Retorna    | nada                      | nada, o clase `cls` inicializada\n",
    " | | \n",
    "**`__call__` **| `self`, `args`, `kwargs`    | `cls`, `args`, `kwargs`\n",
    "Retorna    | no está obligado a retornar | un objeto de la clase `cls` creado e inicializado con `args` y `kwargs`\n"
   ]
  }
 ],
 "metadata": {
  "anaconda-cloud": {},
  "kernelspec": {
   "display_name": "Python 3",
   "language": "python",
   "name": "python3"
  },
  "language_info": {
   "codemirror_mode": {
    "name": "ipython",
    "version": 3
   },
   "file_extension": ".py",
   "mimetype": "text/x-python",
   "name": "python",
   "nbconvert_exporter": "python",
   "pygments_lexer": "ipython3",
   "version": "3.6.0"
  }
 },
 "nbformat": 4,
 "nbformat_minor": 0
}
