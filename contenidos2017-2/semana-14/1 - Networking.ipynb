{
 "cells": [
  {
   "cell_type": "markdown",
   "metadata": {},
   "source": [
    "<p>\n",
    "<font size='5' face='Georgia, Arial'>IIC-2233 Apunte Programación Avanzada</font><br>\n",
    "<font size='1'>&copy; 2015 Karim Pichara - Christian Pieringer. Todos los derechos reservados.</font>\n",
    "</p>"
   ]
  },
  {
   "cell_type": "markdown",
   "metadata": {},
   "source": [
    "**Recuerda que al leer este documento directamente desde GitHub, no estás aprovechando su contenido al 100%.\n",
    "Editando el código puedes aprender más que leyéndolo. Te recomendamos descargarlo y ejecutarlo desde tu computador para que puedas hacer modificaciones e interactuar con el código.**"
   ]
  },
  {
   "cell_type": "markdown",
   "metadata": {},
   "source": [
    "# Networking con Python\n",
    "\n",
    "La programación en redes busca resolver el problema de cómo comunicar distintos computadores, sin importar dónde se encuentren físicamente. Internet nos provee de una infraestructura que nos permite la comunicación entre máquinas a lo largo de la red. En este capítulo exploraremos los conceptos necesarios para conocer los protocolos de comunicación entre computadores, de tal forma de entender cómo podemos enviar y recibir información en forma remota."
   ]
  },
  {
   "cell_type": "markdown",
   "metadata": {},
   "source": [
    "## Cómo identificamos las máquinas dentro de internet\n",
    "\n",
    "Todas las máquinas conectadas a internet tienen un hostname y una dirección IP asociada, por ejemplo, www.python.org tiene la dirección ip 199.27.76.223. Una forma rápida de obtener el ip de una dirección web o hostname es escribiendo \"ping $\\textit{hostname}$\" en la consola (Ej. ping www.python.org). Una dirección IP (Internet Protocol) en la versión 4 (IPv4) corresponde a un número binario de 32 bits (separados en 4 bytes), así en IPv4 pueden existir como máximo $(2^8)^4 = 256^4 = 4.294.967.296$ direcciones ip. Dado que ese número ya nos quedó pequeño para todas las direcciones ip que necesitamos manejar en el mundo, es que apareció IPv6, donde cada dirección tiene 128 bits, dividida en 8 grupos de 16 bits cada uno, representados en notación hexadecimal, es decir, 4 dígitos hexadecimales por cada grupo ($16^4$ valores posibles), separados por dos puntos, ejemplo: 20f1:0db8:0aab:12f1:0110:1bde:0bfd:0001\n"
   ]
  },
  {
   "cell_type": "markdown",
   "metadata": {},
   "source": [
    "<h2>Puertos</h2>\n",
    "\n",
    "Dado que además de comunicarnos con una máquina, en general necesitamos comunicarnos directamente con algún programa, aplicación o servicio dentro de la máquina, necesitamos además de la dirección IP el <b>puerto</b> dentro de la máquina con el cual nos comunicaremos. Por ejemplo, si necesitamos conectarnos con un servidor a través de ftp para transferencia de archivos, debemos conectarnos al servidor a través del puerto 21. Para varias aplicaciones existen números estándar de puertos, aquí algunos ejemplos:"
   ]
  },
  {
   "cell_type": "markdown",
   "metadata": {},
   "source": [
    "| Puerto | descripción |\n",
    "|--------|-------------|\n",
    "| 21     | FTP CONTROL |\n",
    "| 22     | SSH         | \n",
    "| 23     | Telnet      |\n",
    "| 25     | SMTP (Mail) |\n",
    "| 37\t |  Time       |\n",
    "| 42\t | Host Name Server (Nameserv) |\n",
    "| 53\t | Domain Name System (DNS) |\n",
    "| 80     | HTTP (Web)  |\n",
    "| 110    | POP3 (Mail) | \n",
    "| 118\t | SQL Services|\n",
    "| 119    | NNTP (News) | \n",
    "| 443    | HTTPS (web) | \n"
   ]
  },
  {
   "cell_type": "markdown",
   "metadata": {},
   "source": [
    "El número de puerto se representa por un número binario de 16 bits, existiendo entonces $2^{16} = 65536$ puertos posibles. Existen tres rangos definidos dentro de la lista de puertos posibles: los puertos conocidos (well-known ports) van en el rango [0-1023], los puertos registrados (the registered ports) que van en el rango  [1024-49151] y los puertos dinámicos o privados (the dynamic or private ports) que van en el rango [49152-65535]. La organización IANA (Internet Assigned Numbers Authority) es responsable de designar y mantener los números de puertos para los dos primeros rangos, el tercer rango en general es usado por el sistema operativo para la asignación de puertos requeridos por distintos programas. "
   ]
  },
  {
   "cell_type": "markdown",
   "metadata": {},
   "source": [
    "Cada programa que se comunica dentro de una red debe estar representado entonces por un host y un puerto, en Python por ejemplo representamos el par como una tupla: (\"www.yahoo.es\", 80) ó (\"74.6.50.150\", 443). En general hay dos formas de conexión entre puntos en una red: TCP (Transmission Control Protocol) y UDP (User Datagram Protocol). \n",
    "\n",
    "**TCP**: En este tipo de conexión se garantiza que los datos van a llegar intactos, sin ningún tipo de pérdida de información, ningún duplicado o cambio en el orden de los datos, obviamente a menos que la conexión falle. En casos de pérdidas de información o falla en las conexiones los paquetes de datos son retransmitidos hasta que llegan satisfactoriamente. Cada paquete TCP lleva asociado una secuencia de números de tal forma que el sistema que recibe los paquetes tiene la información necesaria para re-ensamblarlos en el orden correcto. Además el sistema que recibe los paquetes puede darse cuenta de que falta algún paquete intermedio usando la misma secuencia de números, así cuando falta un paquete el sistema lo solicita de nuevo para su re-transmisión. Algunos ejemplos son: transmisión de archivos vía ftp, envío de correos (SMTP), HTTP, POP3, etc. La siguiente figura (obtenida desde http://software-engineer-training.com/transmission-control-protocol-tcp/) muestra cómo se compone el header de un datagrama TCP:\n",
    "\n",
    "![](imgs/tcp_header.png)"
   ]
  },
  {
   "cell_type": "markdown",
   "metadata": {},
   "source": [
    "**UDP**: Permite el envío de datos sin la necesidad de establecer una conexión. Los paquetes de datos enviados a través del protocolo UDP (datagramas) contienen un encabezado suficiente para ser identificados y direccionados correctamente a través de la red. Algunos ejemplos son: streaming de video y audio, información del clima, juegos online, etc. La figura siguiente (obtenida desde http://software-engineer-training.com/tag/udp/) muestra el header de un datagrama UDP:\n",
    "\n",
    "![](imgs/udp_header.png)"
   ]
  },
  {
   "cell_type": "markdown",
   "metadata": {},
   "source": [
    "## Sockets:\n",
    "    \n",
    "Cuando escribimos código para comunicarnos a través de una red con una máquina (o entre distintos puertos dentro de la misma máquina), necesitamos generar un objeto que estaría encargado de manejar toda la información necesaria para la comunicación (hostname, dirección, puerto, etc.). Los sockets son justamente los objetos encargados de realizar esta conexión a nivel de código. Para crear sockets en Python, primero debemos importar el módulo **socket**, luego para crear un socket debemos ingresar dos argumentos, la familia de la dirección (address family) y el tipo de socket. Hay dos tipos de familias de direcciones, **AF_INET** para direcciones IPv4 y **AF_INET6** para direcciones IPv6. Con respecto a los tipos de sockets, tenemos **SOCK_STREAM** para conecciones TCP y **SOCK_DGRAM** para conexiones UDP. Ejemplo:"
   ]
  },
  {
   "cell_type": "code",
   "execution_count": 1,
   "metadata": {
    "collapsed": false
   },
   "outputs": [],
   "source": [
    "import socket\n",
    "\n",
    "# Esto crea un socket para una conexión TCP con IPv4\n",
    "s = socket.socket(socket.AF_INET, socket.SOCK_STREAM)"
   ]
  },
  {
   "cell_type": "markdown",
   "metadata": {},
   "source": [
    "## Arquitectura Cliente-Servidor\n",
    "\n",
    "Esta arquitectura corresponde a un modelo de conexión entre máquinas donde algunas máquinas ofrecen un servicio (servidores) y otras máquinas(clientes) consumen estos servicios. Un cliente entonces debe conectarse a un servidor dado y usar los protocolos necesarios para obtener el servicio deseado del respectivo servidor al cual se está conectando. Un servidor por otro lado debe estar constantemente atento a potenciales conexiones de clientes, de tal forma de que cuando reciba un intento de conexión, si la conexión se establece sea capaz de entregar los servicios requeridos por el cliente. Ambas partes en la arquitectura cliente-servidor pueden aceptar conexiones del tipo TCP y UDP. La siguiente figura (extraída desde:  http://en.wikipedia.org/wiki/Client%E2%80%93server_model) muestra un diagrama de lo que sería la arquitectura cliente-servidor:\n",
    "\n",
    "![](imgs/client-server-model.png)"
   ]
  },
  {
   "cell_type": "markdown",
   "metadata": {},
   "source": [
    "### Cliente TCP en Python\n",
    "\n",
    "  Veamos entonces cómo podríamos crear una conexión donde nuestro computador sería un **cliente TCP**:"
   ]
  },
  {
   "cell_type": "code",
   "execution_count": null,
   "metadata": {
    "collapsed": false
   },
   "outputs": [
    {
     "name": "stdout",
     "output_type": "stream",
     "text": [
      "b'GET /index.html HTTP/1.0\\n\\n\\n'\n",
      "b'HTTP/1.1 500 Domain Not Found\\r\\nServer: Varnish\\r\\nRetry-After: 0\\r\\ncontent-type: text/html\\r\\nCache-Control: private, no-cache\\r\\nconnection: keep-alive\\r\\nX-Served-By: cache-gru17120-GRU\\r\\nContent-Length: 221\\r\\nAccept-Ranges: bytes\\r\\nDate: Wed, 08 Nov 2017 23:49:41 GMT\\r\\nVia: 1.1 varnish\\r\\nConnection: close\\r\\n\\r\\n\\n<html>\\n<head>\\n<title>Fastly error: unknown domain </title>\\n</head>\\n<body>\\n<p>Fastly error: unknown domain: . Please check that this domain has been added to a service.</p>\\n<p>Details: cache-gru17120-GRU</p></body></html>' _________\n",
      "HTTP/1.1 500 Domain Not Found\r\n",
      "Server: Varnish\r\n",
      "Retry-After: 0\r\n",
      "content-type: text/html\r\n",
      "Cache-Control: private, no-cache\r\n",
      "connection: keep-alive\r\n",
      "X-Served-By: cache-gru17120-GRU\r\n",
      "Content-Length: 221\r\n",
      "Accept-Ranges: bytes\r\n",
      "Date: Wed, 08 Nov 2017 23:49:41 GMT\r\n",
      "Via: 1.1 varnish\r\n",
      "Connection: close\r\n",
      "\r\n",
      "\n",
      "<html>\n",
      "<head>\n",
      "<title>Fastly error: unknown domain </title>\n",
      "</head>\n",
      "<body>\n",
      "<p>Fastly error: unknown domain: . Please check that this domain has been added to a service.</p>\n",
      "<p>Details: cache-gru17120-GRU</p></body></html>\n"
     ]
    }
   ],
   "source": [
    "import socket\n",
    "import sys\n",
    "\n",
    "\n",
    "# Esto crea un socket para una conexión TCP con IPv4\n",
    "s = socket.socket(socket.AF_INET, socket.SOCK_STREAM)\n",
    "\n",
    "try:\n",
    "    # Nos conectamos con la dirección especificada y enviamos un string \n",
    "    # (codificado en bytes) pidiendo el contenido de index.html\n",
    "    # Recibimos la respuesta, el argumento indica el tamaño del bufer en bytes y \n",
    "    # finalmente aquí imprimimos los datos que recibimos después de codificarlos\n",
    "    s.connect((\"www.python.org\", 80))\n",
    "    print(\"GET /index.html HTTP/1.0\\n\\n\\n\".encode('ascii'))\n",
    "    s.send(\"GET /index.html HTTP/1.0\\n\\n\\n\".encode('ascii'))  \n",
    "    data = s.recv(1024)                    \n",
    "    print(data, \"_________\")\n",
    "    print(data.decode('ascii'))\n",
    "    \n",
    "except socket.error:\n",
    "    print(\"No fue posible conectarse\")\n",
    "    sys.exit()\n",
    "\n",
    "finally:\n",
    "    # Cerramos la conexión        \n",
    "    s.close()"
   ]
  },
  {
   "cell_type": "markdown",
   "metadata": {},
   "source": [
    "### Servidor TCP en Python\n",
    "\n",
    "De forma similar, si queremos implementar un **servidor TCP**:"
   ]
  },
  {
   "cell_type": "code",
   "execution_count": null,
   "metadata": {
    "collapsed": false
   },
   "outputs": [],
   "source": [
    "import socket\n",
    "\n",
    "# Creamos un socket para una conexión TCP con IPv4\n",
    "s = socket.socket(socket.AF_INET, socket.SOCK_STREAM)\n",
    "host = socket.gethostname()                           \n",
    "port = 10001\n",
    "\n",
    "# El metodo bind \"enlaza\" el socket a un puerto dado, en este caso el puerto 80\n",
    "s.bind((host,port))\n",
    "\n",
    "# Con el método listen() pedimos al sistema operativo que empiece a escuchar por\n",
    "# potenciales conexiones al socket. El argumento corresponde al número máximo de \n",
    "# conexiones pendientes permitidas.\n",
    "s.listen(5)\n",
    "\n",
    "cont = 0\n",
    "while True:\n",
    "    # Establecemos la conexión\n",
    "    socket_cliente, address = s.accept()      \n",
    "    print(\"Obtuvimos una conexión desde %s\" % str(address))\n",
    "    socket_cliente.send(\"{}. Hola nuevo amigo!\\n\".format(cont).encode(\"ascii\"))\n",
    "    socket_cliente.close()\n",
    "    cont += 1"
   ]
  },
  {
   "cell_type": "markdown",
   "metadata": {},
   "source": [
    "En el cliente no es necesario hacer un **bind** entre el host y el puerto, ya que el sistema operativo lo hace implícitamente a través del método connect, asignando al cliente un puerto aleatorio. Sólo en casos donde el servidor al cual nos conectamos exige la dirección de cada cliente esté en un rango de puertos específicos, tendríamos que \"enlazar\" el cliente a un puerto específico también. En el caso del servidor el puerto debe estar enlazado con la dirección, ya que los clientes deben saber dónde ubicar exactamente al servidor para conectarse a él. El método **listen** no funciona si no enlazamos la dirección a un puerto específico.\n",
    "\n",
    "\n",
    "El siguiente código correspondería a un posible cliente que se conecte al servidor implementado en la celda anterior:"
   ]
  },
  {
   "cell_type": "code",
   "execution_count": null,
   "metadata": {
    "collapsed": false
   },
   "outputs": [],
   "source": [
    "# Creamos un socket para una conexión TCP con IPv4\n",
    "s_cliente = socket.socket(socket.AF_INET, socket.SOCK_STREAM)\n",
    "\n",
    "# Obtenemos el nombre de la máquina local\n",
    "host = socket.gethostname()\n",
    "port = 10001\n",
    "s_cliente.connect((host,port))\n",
    "data = s_cliente.recv(1024)\n",
    "print(data.decode('ascii'))\n",
    "s_cliente.close() "
   ]
  },
  {
   "cell_type": "markdown",
   "metadata": {},
   "source": [
    "### Cliente UDP en Python\n",
    "\n",
    "Dado que el protocolo UDP no establece una conexión, la comunicación UDP es mucho más simple de implementar, por ejemplo para enviar un mensaje como cliente a un servidor simplemente debemos especificar la dirección y enviar el mensaje. La única consideración es que el segundo argumento al crear el socket debe ser **SOCK_DGRAM**, ejemplo:"
   ]
  },
  {
   "cell_type": "code",
   "execution_count": 2,
   "metadata": {
    "collapsed": false
   },
   "outputs": [
    {
     "ename": "ConnectionResetError",
     "evalue": "[WinError 10054] Se ha forzado la interrupción de una conexión existente por el host remoto",
     "output_type": "error",
     "traceback": [
      "\u001b[0;31m---------------------------------------------------------------------------\u001b[0m",
      "\u001b[0;31mConnectionResetError\u001b[0m                      Traceback (most recent call last)",
      "\u001b[0;32m<ipython-input-2-cf5e294921d6>\u001b[0m in \u001b[0;36m<module>\u001b[0;34m()\u001b[0m\n\u001b[1;32m     13\u001b[0m \u001b[1;31m# El metodo recvfrom() retorna además de los datos, la dirección desde\u001b[0m\u001b[1;33m\u001b[0m\u001b[1;33m\u001b[0m\u001b[0m\n\u001b[1;32m     14\u001b[0m \u001b[1;31m# donde fueron enviados\u001b[0m\u001b[1;33m\u001b[0m\u001b[1;33m\u001b[0m\u001b[0m\n\u001b[0;32m---> 15\u001b[0;31m \u001b[0mdata\u001b[0m\u001b[1;33m,\u001b[0m \u001b[0mdireccion\u001b[0m \u001b[1;33m=\u001b[0m \u001b[0ms\u001b[0m\u001b[1;33m.\u001b[0m\u001b[0mrecvfrom\u001b[0m\u001b[1;33m(\u001b[0m\u001b[0mMAXSIZE\u001b[0m\u001b[1;33m)\u001b[0m\u001b[1;33m\u001b[0m\u001b[0m\n\u001b[0m\u001b[1;32m     16\u001b[0m \u001b[0mprint\u001b[0m\u001b[1;33m(\u001b[0m\u001b[0mdata\u001b[0m\u001b[1;33m.\u001b[0m\u001b[0mdecode\u001b[0m\u001b[1;33m(\u001b[0m\u001b[1;34m'utf-8'\u001b[0m\u001b[1;33m)\u001b[0m\u001b[1;33m)\u001b[0m\u001b[1;33m\u001b[0m\u001b[0m\n",
      "\u001b[0;31mConnectionResetError\u001b[0m: [WinError 10054] Se ha forzado la interrupción de una conexión existente por el host remoto"
     ]
    }
   ],
   "source": [
    "import socket\n",
    "MAXSIZE = 2048\n",
    "\n",
    "#server_name = \"127.0.0.1\"\n",
    "server_name = socket.gethostname()\n",
    "server_port = 15000\n",
    "\n",
    "s = socket.socket(socket.AF_INET, socket.SOCK_DGRAM)\n",
    "mensaje = \"Hola, simplemente te estoy enviando un mensaje\".encode('ascii')\n",
    "s.sendto(mensaje, (server_name, server_port))\n",
    "\n",
    "# Opcionalmente podemos recibir información enviada de vuelta\n",
    "# El metodo recvfrom() retorna además de los datos, la dirección desde \n",
    "# donde fueron enviados\n",
    "data, direccion = s.recvfrom(MAXSIZE)\n",
    "print(data.decode('utf-8'))"
   ]
  },
  {
   "cell_type": "markdown",
   "metadata": {},
   "source": [
    "Podemos también recibir el mensaje total fragmentado, el siguiente código muestra cómo podríamos ensamblar el mensaje:"
   ]
  },
  {
   "cell_type": "code",
   "execution_count": null,
   "metadata": {
    "collapsed": false
   },
   "outputs": [],
   "source": [
    "fragmentos = [] \n",
    "terminado = False\n",
    "\n",
    "while not terminado:\n",
    "    chunk = s.recv(MAXSIZE)\n",
    "    if not chunk:\n",
    "        break\n",
    "    fragmentos.append(chunk)\n",
    "\n",
    "# Reensamblamos el mensaje final\n",
    "mensage = \"\".join(fragmentos)\n"
   ]
  },
  {
   "cell_type": "markdown",
   "metadata": {},
   "source": [
    "### Servidor UDP en Python\n",
    "\n",
    "Si de forma similar queremos implementar un servidor que envía mensajes en modalidad UDP, simplemente debemos preocuparnos de responder a la misma dirección desde donde se nos ha enviado algún mensaje. Por ejemplo, el siguiente código podría representar al servidor que se comunica con el cliente implementado en la celda anterior:"
   ]
  },
  {
   "cell_type": "code",
   "execution_count": null,
   "metadata": {
    "collapsed": false
   },
   "outputs": [],
   "source": [
    "import socket\n",
    "MAXSIZE = 2048\n",
    "server_name = socket.gethostname()\n",
    "server_port = 15000\n",
    "\n",
    "s = socket.socket(socket.AF_INET, socket.SOCK_DGRAM)\n",
    "\n",
    "# Con las doble comillas como argumento del bind indicamos que el socket es \n",
    "# alcanzable desde cualquier dirección que pueda tener el servidor. Esto \n",
    "# por supuesto también funcionaría con server_name.\n",
    "s.bind((\"\",server_port))\n",
    "\n",
    "while True:\n",
    "    data, addr = s.recvfrom(MAXSIZE)\n",
    "    respuesta = \"Aquí va mi respuesta para {}\".format(addr[0])\n",
    "    s.sendto(respuesta.encode('utf-8'), addr)"
   ]
  },
  {
   "cell_type": "markdown",
   "metadata": {},
   "source": [
    "### Envío de datos JSON\n",
    "\n",
    "En el siguiente ejemplo veremos como generar un servidor que reciba datos y los envíe de vuelta al cliente, luego haremos un cliente que envíe datos json y los imprima una vez que el servidor los envíe de vuelta. **Haz la prueba con dos computadores, en uno ejecuta el código de la siguiente celda con la definición del servidor y en el otro la celda subsiguiente con la definición del cliente que envía los datos json**."
   ]
  },
  {
   "cell_type": "code",
   "execution_count": null,
   "metadata": {
    "collapsed": false
   },
   "outputs": [],
   "source": [
    "# Implementación del servidor que recibe datos y los envía de vuelta.\n",
    "# Esto cómunmente se denomina 'echo server'\n",
    "\n",
    "import socket\n",
    "\n",
    "host = ''        # Indicamos que es para todas las interfaces en el servidor\n",
    "port = 12345     # Puerto arbitrario no-privilegiado o utilizado por otra aplicación\n",
    "\n",
    "s = socket.socket(socket.AF_INET, socket.SOCK_STREAM)\n",
    "print(socket.gethostname())\n",
    "s.bind((host, port))\n",
    "s.listen(1)\n",
    "conn, addr = s.accept()\n",
    "\n",
    "print('Connected by', addr)\n",
    "\n",
    "while True:\n",
    "    data = conn.recv(1024)\n",
    "    if not data: break\n",
    "    conn.sendall(data)\n",
    "conn.close()"
   ]
  },
  {
   "cell_type": "code",
   "execution_count": null,
   "metadata": {
    "collapsed": false
   },
   "outputs": [],
   "source": [
    "# Implementación del cliente que envía los datos json, \n",
    "# Poner atención en la serialización y transformación a bytes.\n",
    "\n",
    "import socket\n",
    "import sys\n",
    "import json\n",
    "\n",
    "MAX_SIZE = 1000\n",
    "server_host = \"\"  # Aquí debe ir la dirección ip del servidor\n",
    "port = 12345\n",
    "\n",
    "# Generamos la información que enviaremos, en este caso es un simple diccinario\n",
    "diction = {1: \"Hola\", 2: \"Chao\"}\n",
    "message = json.dumps(diction)\n",
    "s = socket.socket(socket.AF_INET, socket.SOCK_STREAM)\n",
    "\n",
    "try:\n",
    "    s.connect((server_host, port))\n",
    "\n",
    "except:\n",
    "    print(\"Error: No pudo conectarse\")\n",
    "    sys.exit()\n",
    "\n",
    "# Debemos enviar bytes\n",
    "s.sendall(message.encode(\"UTF-8\"))\n",
    "\n",
    "# Decodificamos los bytes y luego los de-serializamos con json\n",
    "data = json.loads(s.recv(MAX_SIZE).decode('UTF-8'))\n",
    "print(data)\n",
    "s.close()"
   ]
  },
  {
   "cell_type": "markdown",
   "metadata": {},
   "source": [
    "### Envío de datos con pickle\n",
    "\n",
    "Al igual que el ejemplo anterior, podemos enviar cualquier objeto de Python serializado con pickle, el siguiente código muestra  un ejemplo de cómo conectarse al servidor anterior y enviarle datos serializados con pickle. Cuando los bytes vienen de vuelta desde el servidor lo des-serializamos y tenemos nuevamente la instancia de la clase persona que habíamos enviado:\n"
   ]
  },
  {
   "cell_type": "code",
   "execution_count": null,
   "metadata": {
    "collapsed": false
   },
   "outputs": [],
   "source": [
    "import socket\n",
    "import sys\n",
    "import pickle\n",
    "\n",
    "MAX_SIZE = 1000\n",
    "server_host = \"\"  # Debemos poner aquí la dirección ip del servidor\n",
    "port = 12345\n",
    "\n",
    "\n",
    "class Persona:\n",
    "    \n",
    "    def __init__(self, nombre, mail):\n",
    "        self.nombre = nombre\n",
    "        self.mail = mail\n",
    "\n",
    "\n",
    "# Enviaremos esta instancia de la clase Persona\n",
    "p1 = Persona(\"Juan Perez\", \"jp@algo.com\")\n",
    "message = pickle.dumps(p1)\n",
    "\n",
    "s = socket.socket(socket.AF_INET, socket.SOCK_STREAM)\n",
    "\n",
    "try:\n",
    "    s.connect((server_host, port))\n",
    "except socket.gaierror as err:\n",
    "    print(\"Error: No pudo conectarse {}\".format(err))\n",
    "    sys.exit()\n",
    "\n",
    "s.sendall(message)\n",
    "data = pickle.loads(s.recv(MAX_SIZE))\n",
    "print(data.nombre)\n",
    "s.close()"
   ]
  },
  {
   "cell_type": "markdown",
   "metadata": {},
   "source": [
    "También podríamos modificar el código del servidor para que haga alguna acción requerida con los datos que recibe y envíe el resultado de esta acción de vuelta. Por ejemplo, verificar en el servidor los datos de un cliente para iniciar sesión. **Recomendamos fuertemente conectar dos computadores y probar enviando hacia y desde ambas partes**, de tal forma de familiarizarse lo más posible con los sockets y disfrutar de los beneficios que nos ofrece la red."
   ]
  },
  {
   "cell_type": "markdown",
   "metadata": {
    "collapsed": false
   },
   "source": [
    "## Ejemplo Práctico: Servidor con manejo de múltiples clientes en forma concurrente\n",
    "\n",
    "En la práctica, lo más probable es que tengamos que manejar múltiples usuarios de forma concurrente en el servidor, y además enviar paquetes de datos de tamaños arbitrarios. A continuación describiremos como incorporaremos estas modificaciones.\n",
    "\n",
    "El manejo de varios usuarios simultáneamente se logra mediante el uso de threads. Cada vez que se ejecutan los métodos `socket.accept()` y `socket.recv()` los threads dónde ellos son invocados se bloquean hasta aceptar una nueva conexión en el caso del primero, y recibir datos, en el caso del segundo. Para evitar este comportamiento deberemos crear un thread principal encargado de: \n",
    "\n",
    "- aceptar nuevos clientes; \n",
    "- y, cada vez que se acepte un cliente, crear un thread nuevo que se ocupe de escuchar y enviar información al nuevo cliente conectado.\n",
    "\n",
    "Para crear un esquema de comunicación entre el cliente y el servidor que permita el intercambio de mensajes de un tamaño arbitrario deberemos modificar la cantidad de bytes que especificamos en el método `socket.recv()`. Hasta ahora hemos usado como parámetro del método `recv()` algún valor arbitrario en potencia de 2 (1024, 2048) razonable que permite el intercambio de mensajes simples. La desventaha de este esquema es que siempre vamos a limitar el tamaño de los mensajes al parámetro que recibe `socket.recv()`, lo que para algunos casos, como por ejemplo el envío de archivos, es poco práctico.\n",
    "\n",
    "Un método simple para implementar el control de datos enviados consiste en que, antes de enviar cualquier mensaje a través del socket mediremos el largo del mensaje enviado, lo que retornará algun valor entero. Luego, calcularemos la representación en bytes de ese largo y adjuntaremos este valor al principio del mensaje enviado. Si usamos 4 bytes como encabezado de todos los mensajes para indicar el largo de éstos, podremos enviar mensajes de hasta 2^32 bytes (4 GB). Esta es una cantidad razonable para la mayoría de los casos.\n",
    "\n",
    "Definamos a continuación una clase `Client` donde ejemplificaremos las modificaciones mencionadas:"
   ]
  },
  {
   "cell_type": "code",
   "execution_count": null,
   "metadata": {
    "collapsed": true
   },
   "outputs": [],
   "source": [
    "import threading\n",
    "import socket\n",
    "\n",
    "\n",
    "# La clase Client manejará toda la comunicación desde el lado del cliente.\n",
    "# Implementa el esquema de comunicación donde los primeros 4 bytes de cada \n",
    "# mensaje indicarán el largo del mensaje enviado.\n",
    "\n",
    "class Client:\n",
    "    def __init__(self, port, host):\n",
    "        print(\"Inicializando cliente...\")\n",
    "\n",
    "        # Inicializamos el socket principal del cliente\n",
    "        self.host = host\n",
    "        self.port = port\n",
    "        self.socket_cliente = socket.socket(socket.AF_INET, socket.SOCK_STREAM)\n",
    "        \n",
    "        try:\n",
    "            self.connect_to_server()\n",
    "            self.listen()\n",
    "            self.repl()\n",
    "        except:\n",
    "            print(\"Conexión terminada\")\n",
    "            self.socket_cliente.close()\n",
    "            exit()\n",
    "\n",
    "    # El método connnect_to_server() creará la conexión al servidor.\n",
    "    def connect_to_server(self):\n",
    "        self.socket_cliente.connect((self.host, self.port))\n",
    "        print(\"Cliente conectado exitosamente al servidor...\")\n",
    "\n",
    "    # El método listen() inicilizará el thread que escuchará los mensajes del\n",
    "    # servidor. Es útil hacer un thread diferente para escuchar al servidor \n",
    "    # ya que de esa forma podremos tener comunicación asíncrona con este, es decir,\n",
    "    # el servidor nos podrá enviar mensajes sin necesidad de iniciar una solicitud \n",
    "    # desde el lado del cliente.\n",
    "    def listen(self):\n",
    "        thread = threading.Thread(target=self.listen_thread, daemon=True)\n",
    "        thread.start()\n",
    "\n",
    "\n",
    "    # El método send() enviará mensajes al servidor. Implementa el mismo\n",
    "    # protocolo de comunicación que mencionamos, es decir, agregar 4 bytes \n",
    "    # al principio de cada mensaje indicando el largo del mensaje enviado.\n",
    "    def send(self, msg):\n",
    "        msg_bytes = msg.encode()\n",
    "        msg_length = len(msg_bytes).to_bytes(4, byteorder=\"big\")\n",
    "        self.socket_cliente.send(msg_length + msg_bytes)\n",
    "\n",
    "\n",
    "    # La función listen_thread() será lanzada como thread el cual se encarga\n",
    "    # de escuchar al servidor. Vemos como se encarga de recibir 4 bytes que \n",
    "    # indicarán el largo de los mensajes. Posteriormente recibe en bloques de\n",
    "    # 256 bytes el resto del mensaje hasta que éste se recibe totalmente.\n",
    "    def listen_thread(self):\n",
    "        while True:\n",
    "            response_bytes_length = self.socket_cliente.recv(4)\n",
    "            response_length = int.from_bytes(response_bytes_length, byteorder=\"big\")\n",
    "            response = b\"\"\n",
    "            \n",
    "            # Recibimos datos hasta que alcancemos la totalidad de los datos \n",
    "            # indicados en los primeros 4 bytes recibidos.\n",
    "            while len(response) < response_length:\n",
    "                response += self.socket_cliente.recv(256)\n",
    "                \n",
    "            print(\"{}\\n>>> \".format(response.decode()), end=\"\")\n",
    "\n",
    "\n",
    "    # Usaremos este método para capturar input del usuario. Lee mensajes desde \n",
    "    # el terminal y después se los pasa a `self.send()`.\n",
    "    def repl(self):\n",
    "        print(\"------ Consola ------\\n>>> \", end=\"\")\n",
    "        \n",
    "        while True:\n",
    "            msg = input(\"\")\n",
    "            response = self.send(msg)\n",
    "        \n",
    "if __name__ == \"__main__\":\n",
    "    port = 8080\n",
    "    host = \"0.0.0.0\"\n",
    "\n",
    "    client = Client(port, host)"
   ]
  },
  {
   "cell_type": "markdown",
   "metadata": {},
   "source": [
    "Ahora implemetaremos la clase `Server()` que se encargará de controlar toda la lógica en el lado del servidor:"
   ]
  },
  {
   "cell_type": "code",
   "execution_count": null,
   "metadata": {
    "collapsed": true
   },
   "outputs": [],
   "source": [
    "import threading\n",
    "import socket\n",
    "\n",
    "\n",
    "class Server:\n",
    "    \n",
    "    def __init__(self, port, host):\n",
    "        print(\"Inicializando servidor...\")\n",
    "\n",
    "        # Inicializar socket principal del servidor.\n",
    "        self.host = host\n",
    "        self.port = port\n",
    "        self.socket_servidor = socket.socket(socket.AF_INET, socket.SOCK_STREAM)\n",
    "        self.bind_and_listen()\n",
    "        self.accept_connections()\n",
    "\n",
    "    # El método bind_and_listen() enlazará el socket creado con el host y puerto\n",
    "    # indicado. Primero se enlaza el socket y luego que esperando por conexiones \n",
    "    # entrantes, con un máximo de 5 clientes en espera.\n",
    "    def bind_and_listen(self):\n",
    "        self.socket_servidor.bind((self.host, self.port))\n",
    "        self.socket_servidor.listen(5)  \n",
    "        print(\"Servidor escuchando en {}:{}...\".format(self.host, self.port))\n",
    "        \n",
    "    # El método accept_connections() inicia el thread que aceptará clientes. \n",
    "    # Aunque podríamos aceptar clientes en el thread principal de la instancia, \n",
    "    # resulta útil hacerlo en un thread aparte que nos permitirá realizar la\n",
    "    # lógica en la parte del servidor sin dejar de aceptar clientes. Por ejemplo,\n",
    "    # seguir procesando archivos.\n",
    "    def accept_connections(self):\n",
    "        thread = threading.Thread(target=self.accept_connections_thread)\n",
    "        thread.start()\n",
    "        \n",
    "    # El método accept_connections_thread() será arrancado como thread para \n",
    "    # aceptar clientes. Cada vez que aceptamos un nuevo cliente, iniciamos un \n",
    "    # thread nuevo encargado de manejar el socket para ese cliente.\n",
    "    def accept_connections_thread(self):\n",
    "        print(\"Servidor aceptando conexiones...\")\n",
    "\n",
    "        while True:\n",
    "            client_socket, _ = self.socket_servidor.accept()\n",
    "            listening_client_thread = threading.Thread(\n",
    "                target=self.listen_client_thread,\n",
    "                args=(client_socket,),\n",
    "                daemon=True\n",
    "            )\n",
    "            listening_client_thread.start()\n",
    "\n",
    "    # Usaremos el método send() para enviar mensajes hacia algún socket cliente. \n",
    "    # Debemos implementar en este método el protocolo de comunicación donde los \n",
    "    # primeros 4 bytes indicarán el largo del mensaje.\n",
    "    @staticmethod\n",
    "    def send(value, socket):\n",
    "        stringified_value = str(value)\n",
    "        msg_bytes = stringified_value.encode()\n",
    "        msg_length = len(msg_bytes).to_bytes(4, byteorder=\"big\")\n",
    "        socket.send(msg_length + msg_bytes)\n",
    "\n",
    "\n",
    "    # El método listen_client_thread() sera ejecutado como thread que escuchará a un \n",
    "    # cliente en particular. Implementa las funcionalidades del protocolo de comunicación\n",
    "    # que permiten recuperar la informacion enviada.\n",
    "    def listen_client_thread(self, client_socket):\n",
    "        print(\"Servidor conectado a un nuevo cliente...\")\n",
    "\n",
    "        while True:\n",
    "            response_bytes_length = client_socket.recv(4)\n",
    "            response_length = int.from_bytes(response_bytes_length, byteorder=\"big\")\n",
    "            response = b\"\"\n",
    "            \n",
    "            while len(response) < response_length:\n",
    "                response += client_socket.recv(256)\n",
    "                \n",
    "            received = response.decode() \n",
    "            \n",
    "            if received != \"\":\n",
    "                # El método `self.handle_command()` debe ser definido. Este realizará \n",
    "                # toda la lógica asociado a los mensajes que llegan al servidor desde \n",
    "                # un cliente en particular. Se espera que retorne la respuesta que el \n",
    "                # servidor debe enviar hacia el cliente.\n",
    "                response = self.handle_command(received, client_socket)\n",
    "                self.send(response, client_socket)\n",
    "\n",
    "                \n",
    "if __name__ == \"__main__\":\n",
    "\n",
    "    port = 8080\n",
    "    host = \"0.0.0.0\"\n",
    "\n",
    "    server = Server(port, host)"
   ]
  },
  {
   "cell_type": "markdown",
   "metadata": {},
   "source": [
    "Las clases descritas en los códigos anteriores definen entidades que podrán ser usadas eficientemente a través de threads para comunicación asíncrona. Es recomendable mantener las funcionalidades de estas clases solo destinadas a funciones de networking,, i.e., solo para efectuar la comunicación entre el servidor y los clientes. Será natural que intentemos agregar código que permita manejar la lógica en el cliente o el servidor de acuerdo a los requerimientos de nuestro problema, lo que tendrá como consecuencia la generación de código muy **difícil de leer y mantener**. Por lo tanto, recomendamos fuertemente efectuar la implementación de la lógica en otras clases, similar al que usamos con interfaces gráficas."
   ]
  },
  {
   "cell_type": "markdown",
   "metadata": {},
   "source": [
    "<font size='1' face='Arial'><sup>1</sup>Agradecemos al ayudante del curso Rodolfo Palma por su colaboración para la elaboración del ejemplo práctico de este material.</font>"
   ]
  }
 ],
 "metadata": {
  "anaconda-cloud": {},
  "kernelspec": {
   "display_name": "Python 3",
   "language": "python",
   "name": "python3"
  },
  "language_info": {
   "codemirror_mode": {
    "name": "ipython",
    "version": 3
   },
   "file_extension": ".py",
   "mimetype": "text/x-python",
   "name": "python",
   "nbconvert_exporter": "python",
   "pygments_lexer": "ipython3",
   "version": "3.6.0"
  }
 },
 "nbformat": 4,
 "nbformat_minor": 0
}
