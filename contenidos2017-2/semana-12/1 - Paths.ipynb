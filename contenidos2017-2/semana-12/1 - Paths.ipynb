{
 "cells": [
  {
   "cell_type": "markdown",
   "metadata": {},
   "source": [
    "## Librería `OS`\n",
    "Esta librería nos permie realizar varias operaciones relacionadas al sistema operativo. En este curso solo deberían usar el módulo `os.path` que permite realizar operaciones básicas de paths. Es importante que la utilicen en sus tareas de aquí en adelante, ya que permite que sus programas puedan correr en distintos sistemas operativos sin tener que cambiar el formato de los _paths_ de los archivos."
   ]
  },
  {
   "cell_type": "markdown",
   "metadata": {},
   "source": [
    "## _Paths_ y nombres de archivos"
   ]
  },
  {
   "cell_type": "code",
   "execution_count": 2,
   "metadata": {
    "collapsed": true
   },
   "outputs": [],
   "source": [
    "import os"
   ]
  },
  {
   "cell_type": "markdown",
   "metadata": {},
   "source": [
    "Un _path_ nos indica el lugar donde se encuentra un archivo o un directotio en nuestro sistema de archivos. \n",
    "Los paths pueden ser **absolutos** o **relativos**.\n",
    " - Un **_path_ absoluto** comienza siempre con con el caracter **/** e indica una dirección en el sistema de archivos, independiente de donde se está ejecutando el programa.\n",
    " - Un **_path_ relativo** nunca comienza con el caracter **/** e indica una dirección relativa al directorio donde se está ejecutando.\n",
    " \n",
    "Por ejemplo:\n"
   ]
  },
  {
   "cell_type": "code",
   "execution_count": 3,
   "metadata": {
    "collapsed": false
   },
   "outputs": [
    {
     "ename": "FileNotFoundError",
     "evalue": "[Errno 2] No such file or directory: '\\\\home\\\\archivo.txt'",
     "output_type": "error",
     "traceback": [
      "\u001b[0;31m---------------------------------------------------------------------------\u001b[0m",
      "\u001b[0;31mFileNotFoundError\u001b[0m                         Traceback (most recent call last)",
      "\u001b[0;32m<ipython-input-3-45b6589af3aa>\u001b[0m in \u001b[0;36m<module>\u001b[0;34m()\u001b[0m\n\u001b[1;32m      3\u001b[0m \u001b[0mpath\u001b[0m \u001b[1;33m=\u001b[0m \u001b[1;34m'/home/archivo.txt'\u001b[0m\u001b[1;33m\u001b[0m\u001b[0m\n\u001b[1;32m      4\u001b[0m \u001b[1;33m\u001b[0m\u001b[0m\n\u001b[0;32m----> 5\u001b[0;31m \u001b[1;32mwith\u001b[0m \u001b[0mopen\u001b[0m\u001b[1;33m(\u001b[0m\u001b[0mos\u001b[0m\u001b[1;33m.\u001b[0m\u001b[0mpath\u001b[0m\u001b[1;33m.\u001b[0m\u001b[0mnormpath\u001b[0m\u001b[1;33m(\u001b[0m\u001b[0mpath\u001b[0m\u001b[1;33m)\u001b[0m\u001b[1;33m,\u001b[0m \u001b[1;34m'rb'\u001b[0m\u001b[1;33m)\u001b[0m \u001b[1;32mas\u001b[0m \u001b[0mf\u001b[0m\u001b[1;33m:\u001b[0m\u001b[1;33m\u001b[0m\u001b[0m\n\u001b[0m\u001b[1;32m      6\u001b[0m     \u001b[0mlineas\u001b[0m \u001b[1;33m=\u001b[0m \u001b[0mf\u001b[0m\u001b[1;33m.\u001b[0m\u001b[0mreadlines\u001b[0m\u001b[1;33m(\u001b[0m\u001b[1;33m)\u001b[0m\u001b[1;33m\u001b[0m\u001b[0m\n\u001b[1;32m      7\u001b[0m \u001b[1;33m\u001b[0m\u001b[0m\n",
      "\u001b[0;31mFileNotFoundError\u001b[0m: [Errno 2] No such file or directory: '\\\\home\\\\archivo.txt'"
     ]
    }
   ],
   "source": [
    "##path absoluto\n",
    "\n",
    "path = '/home/archivo.txt'\n",
    "\n",
    "with open(os.path.normpath(path), 'rb') as f:\n",
    "    lineas = f.readlines()\n",
    "    \n",
    "print(lineas)"
   ]
  },
  {
   "cell_type": "markdown",
   "metadata": {},
   "source": [
    "El en el código anterior, se intenta abrir un archivo llamado `archivo.txt` una carpeta llamada `home`, ubicada en el directorio raíz del sistema de archivos del computador donde se está ejecutando el código. Este código lanzará una exepción, a menos que esta carpeta y este archivo existan."
   ]
  },
  {
   "cell_type": "code",
   "execution_count": 3,
   "metadata": {
    "collapsed": false
   },
   "outputs": [
    {
     "name": "stdout",
     "output_type": "stream",
     "text": [
      "[b'Funciona!\\r\\n']\n"
     ]
    }
   ],
   "source": [
    "## path relativo\n",
    "\n",
    "path = 'data/archivo.txt'\n",
    "\n",
    "with open(os.path.normpath(path), 'rb') as f:\n",
    "    lineas = f.readlines()\n",
    "    \n",
    "print(lineas)"
   ]
  },
  {
   "cell_type": "markdown",
   "metadata": {},
   "source": [
    "El en el código anterior, se intenta abrir un archivo llamado `archivo.txt` una carpeta llamada `data`, ubicada en la carpeta donde está código Python que está siendo ejecutado. Este archivo debería leerse sin problemas, ya que el repositorio donde se encuentra este material incluye a esta carpeta y a este archivo."
   ]
  },
  {
   "cell_type": "markdown",
   "metadata": {},
   "source": [
    "El *path* se puede dividir en dos partes:\n",
    " - El nombre el directorio o `dirname`, que es la carpeta donde se encuentra el archivo.\n",
    " - El nombre de archivo, *filename* o `basename`, que es el nombre del archivo, incluyendo su extensión.\n",
    " \n",
    "A continuación se muestra, como Python puede separar un path en `dirname` y `basename`."
   ]
  },
  {
   "cell_type": "code",
   "execution_count": 7,
   "metadata": {
    "collapsed": false
   },
   "outputs": [
    {
     "name": "stdout",
     "output_type": "stream",
     "text": [
      "dirname: /carpeta1/carpeta2\n",
      "pathname: imagen.jpg.png\n"
     ]
    }
   ],
   "source": [
    "path1 = '/carpeta1/carpeta2/imagen.jpg.png'\n",
    "\n",
    "dirname1 = os.path.dirname(path1)\n",
    "basename1 = os.path.basename(path1)\n",
    "\n",
    "print('dirname: {}\\npathname: {}'.format(dirname1, basename1))"
   ]
  },
  {
   "cell_type": "code",
   "execution_count": 8,
   "metadata": {
    "collapsed": false
   },
   "outputs": [
    {
     "name": "stdout",
     "output_type": "stream",
     "text": [
      "dirname: f1/f2\n",
      "pathname: archivo_de_texto.txt\n"
     ]
    }
   ],
   "source": [
    "path2 = 'f1/f2/archivo_de_texto.txt'\n",
    "\n",
    "dirname2 = os.path.dirname(path2)\n",
    "basename2 = os.path.basename(path2)\n",
    "\n",
    "print('dirname: {}\\npathname: {}'.format(dirname2, basename2))"
   ]
  },
  {
   "cell_type": "markdown",
   "metadata": {},
   "source": [
    "## Extensiones de archivo"
   ]
  },
  {
   "cell_type": "markdown",
   "metadata": {},
   "source": [
    "Como han podido observar, muchas veces los nombres de archivo terminan con una sequencia que aparece despues de un punto. Algunas de estas secuencias son `.txt`, `.jpg`, `.pdf`, `.mp3` y `.avi`. Esta sequencia de letras es la extensión del archivo y sirve para dos objetivos:\n",
    "1. Darle una pista al usuario sobre el tipo de archivo de que se trata, para saber qué hacer con él.\n",
    "2. Darle una pista al sistema operativo para saber con qué programa leer el archivo."
   ]
  },
  {
   "cell_type": "code",
   "execution_count": 9,
   "metadata": {
    "collapsed": false
   },
   "outputs": [
    {
     "name": "stdout",
     "output_type": "stream",
     "text": [
      "imagen.jpg\n",
      ".png\n"
     ]
    }
   ],
   "source": [
    "# podemos usar splitext para separar la extension del resto del nombre de archivo\n",
    "\n",
    "nombre_sin_extension, extension = os.path.splitext(basename1)\n",
    "print(nombre_sin_extension)\n",
    "print(extension)"
   ]
  },
  {
   "cell_type": "markdown",
   "metadata": {},
   "source": [
    "Si bien la extensión del archivo sirve para darnos información acerca del tipo de archivo, ésta es parte del nombre de archivo y es sólo una convención. Una extensión informa del tipo de archivo, pero no determina el tipo del archivo.\n",
    "\n",
    "Por ejemplo, acontinuación escribiremos un archivo de texto y lo guardaremos con extensión `.jpg`, que indica que el archivo es una images. Para un usuario será confuso que un arhivo de texto tenga una extensión de imagen, sin embargo, el archivo seguirá siendo un archivo de texto."
   ]
  },
  {
   "cell_type": "code",
   "execution_count": 10,
   "metadata": {
    "collapsed": true
   },
   "outputs": [],
   "source": [
    "path = 'data/archivo_de_texto.jpg'\n",
    "\n",
    "with open(path, 'w') as f:\n",
    "    f.writelines(['línea 1\\n','línea 2\\n','línea 3\\n'])"
   ]
  },
  {
   "cell_type": "markdown",
   "metadata": {},
   "source": [
    "Si intentas abrir el archivo generado, puede que tu sistema operativo intente erróneamente abrirlo con un visor de imágenes. Sin embargo, si lo abres con tu editor de texto favorito, deberías poder leerlo adecuadamente, ya que es un archivo de texto."
   ]
  },
  {
   "cell_type": "markdown",
   "metadata": {},
   "source": [
    "Algunos sistemas operativos vienen por defecto configurados para ocunltar la extensión de los archivos. Se recomienda fuertemente cambiar esta configuración para poder ver el nombre de archivo completo y evitar confusiones al leer y escribir archivos."
   ]
  }
 ],
 "metadata": {
  "kernelspec": {
   "display_name": "Python 3",
   "language": "python",
   "name": "python3"
  },
  "language_info": {
   "codemirror_mode": {
    "name": "ipython",
    "version": 3
   },
   "file_extension": ".py",
   "mimetype": "text/x-python",
   "name": "python",
   "nbconvert_exporter": "python",
   "pygments_lexer": "ipython3",
   "version": "3.6.0"
  }
 },
 "nbformat": 4,
 "nbformat_minor": 2
}
