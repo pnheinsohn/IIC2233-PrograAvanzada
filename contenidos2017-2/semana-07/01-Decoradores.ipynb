{
 "cells": [
  {
   "cell_type": "markdown",
   "metadata": {},
   "source": [
    "<p>\n",
    "<font size='5' face='Georgia, Arial'>IIC-2233 Apunte Programación Avanzada</font><br>\n",
    "<font size='1'>&copy; 2015 Karim Pichara - Christian Pieringer. Todos los derechos reservados.</font>\n",
    "<font size='1'>Modificado por Cuerpo Docente 2017 - 1</font>\n",
    "</p>"
   ]
  },
  {
   "cell_type": "markdown",
   "metadata": {},
   "source": [
    "# Decoradores\n",
    "\n",
    "Antes de definir lo que es un decorador, veamos algunas de las cosas que podemos hacer con las funciones en Python."
   ]
  },
  {
   "cell_type": "markdown",
   "metadata": {},
   "source": [
    "En Python uno puede asignar una función a una variable y luego usar esa variable igual que la función:"
   ]
  },
  {
   "cell_type": "code",
   "execution_count": 1,
   "metadata": {
    "collapsed": false
   },
   "outputs": [
    {
     "name": "stdout",
     "output_type": "stream",
     "text": [
      "Hola Juan\n"
     ]
    }
   ],
   "source": [
    "def func_hola(nombre):\n",
    "    return \"Hola \" + nombre\n",
    "\n",
    "saludar = func_hola\n",
    "print(saludar(\"Juan\"))"
   ]
  },
  {
   "cell_type": "markdown",
   "metadata": {},
   "source": [
    "También podemos definir funciones adentro de otras funciones:"
   ]
  },
  {
   "cell_type": "code",
   "execution_count": 2,
   "metadata": {
    "collapsed": false
   },
   "outputs": [
    {
     "name": "stdout",
     "output_type": "stream",
     "text": [
      "Hola Pedro\n"
     ]
    }
   ],
   "source": [
    "def func_hola(nombre):\n",
    "    def get_message():\n",
    "        return \"Hola \"\n",
    "\n",
    "    res = get_message() + nombre\n",
    "    return res\n",
    "\n",
    "print(func_hola(\"Pedro\"))"
   ]
  },
  {
   "cell_type": "markdown",
   "metadata": {},
   "source": [
    "Las funciones también pueden ser pasadas como argumentos a otras funciones:"
   ]
  },
  {
   "cell_type": "code",
   "execution_count": 3,
   "metadata": {
    "collapsed": false
   },
   "outputs": [
    {
     "name": "stdout",
     "output_type": "stream",
     "text": [
      "Hola Diego\n"
     ]
    }
   ],
   "source": [
    "def func_hola(nombre):\n",
    "    return \"Hola \" + nombre\n",
    "\n",
    "def llamar_func(func):\n",
    "    otro_nombre = \"Diego\"\n",
    "    return func(otro_nombre)  \n",
    "\n",
    "print(llamar_func(func_hola))"
   ]
  },
  {
   "cell_type": "markdown",
   "metadata": {},
   "source": [
    "Las funciones pueden retornar otras funciones:"
   ]
  },
  {
   "cell_type": "code",
   "execution_count": 4,
   "metadata": {
    "collapsed": false
   },
   "outputs": [
    {
     "name": "stdout",
     "output_type": "stream",
     "text": [
      "¡Hola a todos!\n"
     ]
    }
   ],
   "source": [
    "def compone_func_saludar():\n",
    "    def get_message():\n",
    "        return \"¡Hola a todos!\"\n",
    "\n",
    "    return get_message\n",
    "\n",
    "saludar = compone_func_saludar()\n",
    "print(saludar())"
   ]
  },
  {
   "cell_type": "markdown",
   "metadata": {},
   "source": [
    "Las funciones internas tienen acceso (sólo de lectura) a las variables (y argumentos) del scope de la función que la contiene:"
   ]
  },
  {
   "cell_type": "code",
   "execution_count": 5,
   "metadata": {
    "collapsed": false
   },
   "outputs": [
    {
     "name": "stdout",
     "output_type": "stream",
     "text": [
      "¡Saludos para ti, Ana!\n"
     ]
    }
   ],
   "source": [
    "def compone_func_saludar(nombre):\n",
    "    def get_message():\n",
    "        return \"¡Saludos para ti, {}!\".format(nombre)\n",
    "    return get_message\n",
    "\n",
    "saludar = compone_func_saludar(\"Ana\")\n",
    "print(saludar())"
   ]
  },
  {
   "cell_type": "markdown",
   "metadata": {},
   "source": [
    "Ahora el mismo ejemplo pero con algunos `print` que nos aclaran lo que ocurre cuando intentamos modificar una variable de la\n",
    "función que está un nivel más arriba:"
   ]
  },
  {
   "cell_type": "code",
   "execution_count": 1,
   "metadata": {
    "collapsed": false
   },
   "outputs": [
    {
     "name": "stdout",
     "output_type": "stream",
     "text": [
      "Acá.\n",
      "1433778672\n",
      "2\n",
      "1433778672\n",
      "2\n",
      "Aquí.\n",
      "Entrando a get_mensaje()...\n",
      "1433778704\n",
      "3\n",
      "¡Saludos para ti, Ana!\n"
     ]
    }
   ],
   "source": [
    "def compone_func_saludar(nombre):\n",
    "    aux = 2\n",
    "    print(id(aux))\n",
    "    print(aux)\n",
    "    def get_message():\n",
    "        print(\"Entrando a get_mensaje()...\")\n",
    "        aux = 3\n",
    "        print(id(aux))\n",
    "        print(aux)\n",
    "        return \"¡Saludos para ti, {}!\".format(nombre)\n",
    "    print(id(aux))\n",
    "    print(aux)\n",
    "    return get_message  # en esta llamada se entra en la ejecución de get_message\n",
    "\n",
    "print(\"Acá.\")\n",
    "saludar = compone_func_saludar(\"Ana\")\n",
    "print(\"Aquí.\")\n",
    "print(saludar())"
   ]
  },
  {
   "cell_type": "markdown",
   "metadata": {},
   "source": [
    "Los decoradores nos permiten tomar una función ya implementada, agregar algún comportamiento o datos adicionales y retornar una nueva función. Podemos ver los decoradores simplemente como funciones que reciben una función `f1` cualquiera, y retornan una función `f2` distinta. Por ejemplo, si nuestro decorador se llama `dec_1`, para obtener la función modificada que queremos y asignarla a la misma función actual, simplemente escribimos `f1 = dec_1(f1)`. \n",
    "\n",
    "Con esto, nuestra función `f1` ahora queda con los nuevos datos y comportamientos agregados. Uno de los beneficios de los decoradores es que nos evitan la necesidad de modificar el código de la función original: así, si queremos volver a la versión original de la función, simplemente quitamos el llamado al decorador. También nos evita crear una función distinta con otro nombre. Esto sería un problema, ya que habría que modificar todos los llamados a la función que queremos cambiar para que llamen a la función nueva.\n",
    "\n",
    "**Ejemplo:** supongamos que tenemos la siguiente implementación recursiva ineficiente de la función que retorna los números de Fibonacci."
   ]
  },
  {
   "cell_type": "code",
   "execution_count": 2,
   "metadata": {
    "collapsed": false
   },
   "outputs": [
    {
     "name": "stdout",
     "output_type": "stream",
     "text": [
      "14930352\n",
      "Tiempo de ejecución: 0:00:08.343317\n"
     ]
    }
   ],
   "source": [
    "import datetime\n",
    "\n",
    "def fib(n):\n",
    "    if n == 0 or n == 1:\n",
    "        return n\n",
    "    else:\n",
    "        return fib(n-1) + fib(n-2)\n",
    "\n",
    "n = 36\n",
    "t1 = datetime.datetime.now()\n",
    "print(fib(n))\n",
    "print(\"Tiempo de ejecución: {}\".format(datetime.datetime.now()-t1))\n"
   ]
  },
  {
   "cell_type": "markdown",
   "metadata": {},
   "source": [
    "Una implementación mucho más eficiente podría preocuparse de \"memorizar\" los números ya calculados en la secuencia de Fibonacci. \n",
    "Podemos usar un decorador que tome la función `fib` y le agregue una memoria y un chequeo que se preocupe de ver la existencia\n",
    "del número en algún cálculo anterior:"
   ]
  },
  {
   "cell_type": "code",
   "execution_count": 8,
   "metadata": {
    "collapsed": false
   },
   "outputs": [
    {
     "name": "stdout",
     "output_type": "stream",
     "text": [
      "14930352\n",
      "Tiempo de ejecución: 0:00:00.000270\n"
     ]
    }
   ],
   "source": [
    "def efficient_fib(f):  # recibe una función como argumento\n",
    "    data = {}\n",
    "    def func(x):  # aquí se crea la función nueva que será retornada\n",
    "        if x not in data:\n",
    "            data[x] = f(x)  # aquí usa la función que recibió como argumento\n",
    "        return data[x]\n",
    "    return func\n",
    "    \n",
    "fib = efficient_fib(fib)  # aquí aplicamos el decorador, \n",
    "# la función fib queda \"decorada\" por la función \"eficient_fib\"\n",
    "t1 = datetime.datetime.now()\n",
    "\n",
    "print(fib(n))  # aquí vemos que seguimos usando el mismo nombre para la función, \n",
    "               # sin la necesidad de llamar a la función nueva\n",
    "print(\"Tiempo de ejecución: {}\".format(datetime.datetime.now()-t1))\n"
   ]
  },
  {
   "cell_type": "markdown",
   "metadata": {},
   "source": [
    "## Decoradores con *azúcar sintáctico*  \n",
    "\n",
    "Una forma más rápida y legible de decorar funciones es escribiendo el nombre del decorador arriba del encabezado de la función anteponiendo un @. Es la misma sintáxis que usamos cuando queremos crear properties. De hecho `property` es un decorador. "
   ]
  },
  {
   "cell_type": "code",
   "execution_count": 9,
   "metadata": {
    "collapsed": false
   },
   "outputs": [
    {
     "name": "stdout",
     "output_type": "stream",
     "text": [
      "14930352\n",
      "Tiempo de ejecución: 0:00:00.000194\n"
     ]
    }
   ],
   "source": [
    "@efficient_fib\n",
    "def fib(n):\n",
    "    if n == 0 or n == 1:\n",
    "        return n\n",
    "    else:\n",
    "        return fib(n-1) + fib(n-2)\n",
    "\n",
    "n = 36\n",
    "t1 = datetime.datetime.now()\n",
    "print(fib(n))\n",
    "print(\"Tiempo de ejecución: {}\".format(datetime.datetime.now()-t1))\n"
   ]
  },
  {
   "cell_type": "markdown",
   "metadata": {},
   "source": [
    "La sintáxis para llamar al decorador es distinta, pero la forma de definirlo es la misma."
   ]
  },
  {
   "cell_type": "markdown",
   "metadata": {},
   "source": [
    "## Decoradores con parámetros"
   ]
  },
  {
   "cell_type": "markdown",
   "metadata": {},
   "source": [
    "Si queremos crear decoradores que acepten parámetros, debemos agregar un tercer nivel de funciones anidadas. \n",
    "Una forma genérica de hacerlo es la siguiente."
   ]
  },
  {
   "cell_type": "code",
   "execution_count": 10,
   "metadata": {
    "collapsed": true
   },
   "outputs": [],
   "source": [
    "def my_decorator_constructor(dec_parameters):\n",
    "    def my_decorator(function):\n",
    "        def wrapped_func(*args, **kwargs): # estos son argumentos de \"function\"\n",
    "            # hacer algo aquí antes de aplicar la función\n",
    "            # llamar a la función\n",
    "            # en cualquier momento se puede usar dec_parameters para algo\n",
    "            res = function(*args, **kwargs)\n",
    "            # hacer algo después\n",
    "            return res\n",
    "        # retorna la sub función\n",
    "        return wrapped_function\n",
    "    return my_decorator"
   ]
  },
  {
   "cell_type": "markdown",
   "metadata": {},
   "source": [
    "- La función más externa es el constructor del decorador.\n",
    "- La función intermedia es el decorador.\n",
    "- La función más interna es la función modificada."
   ]
  },
  {
   "cell_type": "markdown",
   "metadata": {},
   "source": [
    "Veamos un ejemplo."
   ]
  },
  {
   "cell_type": "code",
   "execution_count": 11,
   "metadata": {
    "collapsed": true
   },
   "outputs": [],
   "source": [
    "def revisar_tipo(tipo):\n",
    "    def _revisar_tipo(funcion):\n",
    "        def __revisar_tipo(*args):\n",
    "            for arg in args:\n",
    "                if not isinstance(arg, tipo):\n",
    "                    raise TypeError(\"Todos los agrumentos deben ser del tipo {}\".format(tipo))\n",
    "                return funcion(*args)\n",
    "        return __revisar_tipo\n",
    "    return _revisar_tipo"
   ]
  },
  {
   "cell_type": "markdown",
   "metadata": {},
   "source": [
    "En este ejemplo creamos un decorador que sirve para verificar que todos los argumentos de una función sean de un determinando tipo. Para determinar el tipo, necesitamos que el decorador pueda recibir este tipo como argumento. Para esto usamos el constructor. Veamos como usarlo"
   ]
  },
  {
   "cell_type": "code",
   "execution_count": 12,
   "metadata": {
    "collapsed": true
   },
   "outputs": [],
   "source": [
    "decorador_str = revisar_tipo(str) # Usando el constructor, creamos el decorador"
   ]
  },
  {
   "cell_type": "code",
   "execution_count": 13,
   "metadata": {
    "collapsed": false
   },
   "outputs": [
    {
     "name": "stdout",
     "output_type": "stream",
     "text": [
      "3\n",
      "Hola y chao\n"
     ]
    }
   ],
   "source": [
    "def concatenar_strings(str1, str2):\n",
    "    return str1 + str2\n",
    "\n",
    "print(concatenar_strings(1, 2))\n",
    "print(concatenar_strings(\"Hola y \", \"chao\"))"
   ]
  },
  {
   "cell_type": "markdown",
   "metadata": {},
   "source": [
    "Este comportamiento no es el esperado de esta función. Solo queremos que permita concatenar strings. Vamos a decorarla."
   ]
  },
  {
   "cell_type": "code",
   "execution_count": 14,
   "metadata": {
    "collapsed": false
   },
   "outputs": [
    {
     "data": {
      "text/plain": [
       "'Hola y Chao'"
      ]
     },
     "execution_count": 14,
     "metadata": {},
     "output_type": "execute_result"
    }
   ],
   "source": [
    "funcion_decorada = decorador_str(concatenar_strings) # Función decorada \n",
    "\n",
    "# Usamos la función decorada\n",
    "\n",
    "funcion_decorada(\"Hola y \", \"Chao\")"
   ]
  },
  {
   "cell_type": "markdown",
   "metadata": {},
   "source": [
    "Si intentamos usar la función decorada para sumar enteros, tendremos un error. Este error no ocurria cuando usábamos la función no decorada"
   ]
  },
  {
   "cell_type": "code",
   "execution_count": 15,
   "metadata": {
    "collapsed": false
   },
   "outputs": [
    {
     "ename": "TypeError",
     "evalue": "Todos los agrumentos deben ser del tipo <class 'str'>",
     "output_type": "error",
     "traceback": [
      "\u001b[0;31m---------------------------------------------------------------------------\u001b[0m",
      "\u001b[0;31mTypeError\u001b[0m                                 Traceback (most recent call last)",
      "\u001b[0;32m<ipython-input-15-ef51b3ec42e0>\u001b[0m in \u001b[0;36m<module>\u001b[0;34m()\u001b[0m\n\u001b[0;32m----> 1\u001b[0;31m \u001b[0mfuncion_decorada\u001b[0m\u001b[0;34m(\u001b[0m\u001b[0;36m1\u001b[0m\u001b[0;34m,\u001b[0m \u001b[0;36m2\u001b[0m\u001b[0;34m)\u001b[0m\u001b[0;34m\u001b[0m\u001b[0m\n\u001b[0m",
      "\u001b[0;32m<ipython-input-11-4aa220de23a8>\u001b[0m in \u001b[0;36m__revisar_tipo\u001b[0;34m(*args)\u001b[0m\n\u001b[1;32m      4\u001b[0m             \u001b[0;32mfor\u001b[0m \u001b[0marg\u001b[0m \u001b[0;32min\u001b[0m \u001b[0margs\u001b[0m\u001b[0;34m:\u001b[0m\u001b[0;34m\u001b[0m\u001b[0m\n\u001b[1;32m      5\u001b[0m                 \u001b[0;32mif\u001b[0m \u001b[0;32mnot\u001b[0m \u001b[0misinstance\u001b[0m\u001b[0;34m(\u001b[0m\u001b[0marg\u001b[0m\u001b[0;34m,\u001b[0m \u001b[0mtipo\u001b[0m\u001b[0;34m)\u001b[0m\u001b[0;34m:\u001b[0m\u001b[0;34m\u001b[0m\u001b[0m\n\u001b[0;32m----> 6\u001b[0;31m                     \u001b[0;32mraise\u001b[0m \u001b[0mTypeError\u001b[0m\u001b[0;34m(\u001b[0m\u001b[0;34m\"Todos los agrumentos deben ser del tipo {}\"\u001b[0m\u001b[0;34m.\u001b[0m\u001b[0mformat\u001b[0m\u001b[0;34m(\u001b[0m\u001b[0mtipo\u001b[0m\u001b[0;34m)\u001b[0m\u001b[0;34m)\u001b[0m\u001b[0;34m\u001b[0m\u001b[0m\n\u001b[0m\u001b[1;32m      7\u001b[0m                 \u001b[0;32mreturn\u001b[0m \u001b[0mfuncion\u001b[0m\u001b[0;34m(\u001b[0m\u001b[0;34m*\u001b[0m\u001b[0margs\u001b[0m\u001b[0;34m)\u001b[0m\u001b[0;34m\u001b[0m\u001b[0m\n\u001b[1;32m      8\u001b[0m         \u001b[0;32mreturn\u001b[0m \u001b[0m__revisar_tipo\u001b[0m\u001b[0;34m\u001b[0m\u001b[0m\n",
      "\u001b[0;31mTypeError\u001b[0m: Todos los agrumentos deben ser del tipo <class 'str'>"
     ]
    }
   ],
   "source": [
    "funcion_decorada(1, 2)"
   ]
  },
  {
   "cell_type": "markdown",
   "metadata": {},
   "source": [
    "Esto mismo lo podemos hacer de una forma más legible si usamos el azúcar sintáctica."
   ]
  },
  {
   "cell_type": "code",
   "execution_count": 16,
   "metadata": {
    "collapsed": true
   },
   "outputs": [],
   "source": [
    "@revisar_tipo(int)\n",
    "def sumar_enteros(a, b):\n",
    "    return a + b"
   ]
  },
  {
   "cell_type": "code",
   "execution_count": 17,
   "metadata": {
    "collapsed": false
   },
   "outputs": [
    {
     "ename": "TypeError",
     "evalue": "Todos los agrumentos deben ser del tipo <class 'int'>",
     "output_type": "error",
     "traceback": [
      "\u001b[0;31m---------------------------------------------------------------------------\u001b[0m",
      "\u001b[0;31mTypeError\u001b[0m                                 Traceback (most recent call last)",
      "\u001b[0;32m<ipython-input-17-35ab4d3d952d>\u001b[0m in \u001b[0;36m<module>\u001b[0;34m()\u001b[0m\n\u001b[0;32m----> 1\u001b[0;31m \u001b[0msumar_enteros\u001b[0m\u001b[0;34m(\u001b[0m\u001b[0;36m1.0\u001b[0m\u001b[0;34m,\u001b[0m \u001b[0;36m1.5\u001b[0m\u001b[0;34m)\u001b[0m\u001b[0;34m\u001b[0m\u001b[0m\n\u001b[0m",
      "\u001b[0;32m<ipython-input-11-4aa220de23a8>\u001b[0m in \u001b[0;36m__revisar_tipo\u001b[0;34m(*args)\u001b[0m\n\u001b[1;32m      4\u001b[0m             \u001b[0;32mfor\u001b[0m \u001b[0marg\u001b[0m \u001b[0;32min\u001b[0m \u001b[0margs\u001b[0m\u001b[0;34m:\u001b[0m\u001b[0;34m\u001b[0m\u001b[0m\n\u001b[1;32m      5\u001b[0m                 \u001b[0;32mif\u001b[0m \u001b[0;32mnot\u001b[0m \u001b[0misinstance\u001b[0m\u001b[0;34m(\u001b[0m\u001b[0marg\u001b[0m\u001b[0;34m,\u001b[0m \u001b[0mtipo\u001b[0m\u001b[0;34m)\u001b[0m\u001b[0;34m:\u001b[0m\u001b[0;34m\u001b[0m\u001b[0m\n\u001b[0;32m----> 6\u001b[0;31m                     \u001b[0;32mraise\u001b[0m \u001b[0mTypeError\u001b[0m\u001b[0;34m(\u001b[0m\u001b[0;34m\"Todos los agrumentos deben ser del tipo {}\"\u001b[0m\u001b[0;34m.\u001b[0m\u001b[0mformat\u001b[0m\u001b[0;34m(\u001b[0m\u001b[0mtipo\u001b[0m\u001b[0;34m)\u001b[0m\u001b[0;34m)\u001b[0m\u001b[0;34m\u001b[0m\u001b[0m\n\u001b[0m\u001b[1;32m      7\u001b[0m                 \u001b[0;32mreturn\u001b[0m \u001b[0mfuncion\u001b[0m\u001b[0;34m(\u001b[0m\u001b[0;34m*\u001b[0m\u001b[0margs\u001b[0m\u001b[0;34m)\u001b[0m\u001b[0;34m\u001b[0m\u001b[0m\n\u001b[1;32m      8\u001b[0m         \u001b[0;32mreturn\u001b[0m \u001b[0m__revisar_tipo\u001b[0m\u001b[0;34m\u001b[0m\u001b[0m\n",
      "\u001b[0;31mTypeError\u001b[0m: Todos los agrumentos deben ser del tipo <class 'int'>"
     ]
    }
   ],
   "source": [
    "sumar_enteros(1.0, 1.5)"
   ]
  }
 ],
 "metadata": {
  "anaconda-cloud": {},
  "kernelspec": {
   "display_name": "Python 3",
   "language": "python",
   "name": "python3"
  },
  "language_info": {
   "codemirror_mode": {
    "name": "ipython",
    "version": 3
   },
   "file_extension": ".py",
   "mimetype": "text/x-python",
   "name": "python",
   "nbconvert_exporter": "python",
   "pygments_lexer": "ipython3",
   "version": "3.6.0"
  }
 },
 "nbformat": 4,
 "nbformat_minor": 1
}
