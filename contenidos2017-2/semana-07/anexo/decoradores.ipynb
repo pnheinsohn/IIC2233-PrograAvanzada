{
 "cells": [
  {
   "cell_type": "markdown",
   "metadata": {},
   "source": [
    "# Decoradores"
   ]
  },
  {
   "cell_type": "markdown",
   "metadata": {},
   "source": [
    "Primero, algo simple: definamos el decorador identidad.  \n",
    "Y le decimos _identidad_ porque, simplemente, devuelve una función (el _wrapper_) que, una vez llamado, ejecutará la función original."
   ]
  },
  {
   "cell_type": "code",
   "execution_count": 1,
   "metadata": {
    "collapsed": true
   },
   "outputs": [],
   "source": [
    "def deco_function(original_function):\n",
    "    print(\"Entrando... (1)\")\n",
    "\n",
    "    def wrapper_function():\n",
    "        print(\"Entrando... (2)\")\n",
    "        original_function()\n",
    "        print(\"Saliendo... (2)\")\n",
    "\n",
    "    print(\"Saliendo... (1)\")\n",
    "    return wrapper_function"
   ]
  },
  {
   "cell_type": "markdown",
   "metadata": {},
   "source": [
    "Ahora, definimos una función dieciochera."
   ]
  },
  {
   "cell_type": "code",
   "execution_count": 2,
   "metadata": {
    "collapsed": true
   },
   "outputs": [],
   "source": [
    "def print_paya():\n",
    "    print(\"¡Aro, aro, aro!\")"
   ]
  },
  {
   "cell_type": "markdown",
   "metadata": {},
   "source": [
    "Llamamos a esta función recién definida."
   ]
  },
  {
   "cell_type": "code",
   "execution_count": 3,
   "metadata": {},
   "outputs": [
    {
     "name": "stdout",
     "output_type": "stream",
     "text": [
      "¡Aro, aro, aro!\n"
     ]
    }
   ],
   "source": [
    "print_paya()"
   ]
  },
  {
   "cell_type": "markdown",
   "metadata": {},
   "source": [
    "Le entregamos la función al decorador —recordemos que el decorador también es una función— para crear una **nueva** función."
   ]
  },
  {
   "cell_type": "code",
   "execution_count": 4,
   "metadata": {},
   "outputs": [
    {
     "name": "stdout",
     "output_type": "stream",
     "text": [
      "Entrando... (1)\n",
      "Saliendo... (1)\n"
     ]
    }
   ],
   "source": [
    "new_print_paya = deco_function(print_paya)"
   ]
  },
  {
   "cell_type": "markdown",
   "metadata": {},
   "source": [
    "La función decorada debería tener el nuevo comportamiento."
   ]
  },
  {
   "cell_type": "code",
   "execution_count": 5,
   "metadata": {},
   "outputs": [
    {
     "name": "stdout",
     "output_type": "stream",
     "text": [
      "Entrando... (2)\n",
      "¡Aro, aro, aro!\n",
      "Saliendo... (2)\n"
     ]
    }
   ],
   "source": [
    "new_print_paya()"
   ]
  },
  {
   "cell_type": "markdown",
   "metadata": {},
   "source": [
    "Y efectivamente lo tiene.  \n",
    "Pero también podemos utilizar **el nombre de la función original** como variable."
   ]
  },
  {
   "cell_type": "code",
   "execution_count": 6,
   "metadata": {},
   "outputs": [
    {
     "name": "stdout",
     "output_type": "stream",
     "text": [
      "Entrando... (1)\n",
      "Saliendo... (1)\n"
     ]
    }
   ],
   "source": [
    "print_paya = deco_function(print_paya)"
   ]
  },
  {
   "cell_type": "markdown",
   "metadata": {},
   "source": [
    "Y obtendremos el mismo resultado."
   ]
  },
  {
   "cell_type": "code",
   "execution_count": 7,
   "metadata": {},
   "outputs": [
    {
     "name": "stdout",
     "output_type": "stream",
     "text": [
      "Entrando... (2)\n",
      "¡Aro, aro, aro!\n",
      "Saliendo... (2)\n"
     ]
    }
   ],
   "source": [
    "print_paya()"
   ]
  },
  {
   "cell_type": "markdown",
   "metadata": {},
   "source": [
    "Además, esto es _equivalente_ a definir una función ya decorada, utilizando algo de **azúcar sintáctico**.  \n",
    "Veamos un ejemplo, ahora, con una nueva función vegetariana."
   ]
  },
  {
   "cell_type": "code",
   "execution_count": 8,
   "metadata": {},
   "outputs": [
    {
     "name": "stdout",
     "output_type": "stream",
     "text": [
      "Entrando... (1)\n",
      "Saliendo... (1)\n"
     ]
    }
   ],
   "source": [
    "@deco_function\n",
    "def print_comida():\n",
    "    print(\"Comí pimentones con huevo.\")\n",
    "    print(\"Comí empanadas vegetarianas.\")"
   ]
  },
  {
   "cell_type": "markdown",
   "metadata": {},
   "source": [
    "Veamos el resultado."
   ]
  },
  {
   "cell_type": "code",
   "execution_count": 9,
   "metadata": {},
   "outputs": [
    {
     "name": "stdout",
     "output_type": "stream",
     "text": [
      "Entrando... (2)\n",
      "Comí pimentones con huevo.\n",
      "Comí empanadas vegetarianas.\n",
      "Saliendo... (2)\n"
     ]
    }
   ],
   "source": [
    "print_comida()"
   ]
  },
  {
   "cell_type": "markdown",
   "metadata": {},
   "source": [
    "El decorador se aplicó satisfactoriamente.  \n",
    "Intentemos con una nueva función que, a diferencia de la anterior, acepta un parámetro."
   ]
  },
  {
   "cell_type": "code",
   "execution_count": 10,
   "metadata": {},
   "outputs": [
    {
     "name": "stdout",
     "output_type": "stream",
     "text": [
      "Entrando... (1)\n",
      "Saliendo... (1)\n"
     ]
    }
   ],
   "source": [
    "@deco_function\n",
    "def print_bebida(bebida):\n",
    "    print(\"Este dieciocho, me tomé dos litros de {} al día.\".format(bebida))"
   ]
  },
  {
   "cell_type": "markdown",
   "metadata": {},
   "source": [
    "Veamos nuevamente el resultado."
   ]
  },
  {
   "cell_type": "code",
   "execution_count": 11,
   "metadata": {},
   "outputs": [
    {
     "ename": "TypeError",
     "evalue": "wrapper_function() takes 0 positional arguments but 1 was given",
     "output_type": "error",
     "traceback": [
      "\u001b[0;31m---------------------------------------------------------------------------\u001b[0m",
      "\u001b[0;31mTypeError\u001b[0m                                 Traceback (most recent call last)",
      "\u001b[0;32m<ipython-input-11-4d69a32cfb77>\u001b[0m in \u001b[0;36m<module>\u001b[0;34m()\u001b[0m\n\u001b[0;32m----> 1\u001b[0;31m \u001b[0mprint_bebida\u001b[0m\u001b[0;34m(\u001b[0m\u001b[0;34m\"agua\"\u001b[0m\u001b[0;34m)\u001b[0m\u001b[0;34m\u001b[0m\u001b[0m\n\u001b[0m",
      "\u001b[0;31mTypeError\u001b[0m: wrapper_function() takes 0 positional arguments but 1 was given"
     ]
    }
   ],
   "source": [
    "print_bebida(\"agua\")"
   ]
  },
  {
   "cell_type": "markdown",
   "metadata": {},
   "source": [
    "Algo salió mal. El _wrapper_ no esperaba recibir un argumento.  \n",
    "Para resolver este problema, necesitamos utilizar `*args` y `**kwargs`."
   ]
  },
  {
   "cell_type": "markdown",
   "metadata": {},
   "source": [
    "## _Intermezzo_"
   ]
  },
  {
   "cell_type": "markdown",
   "metadata": {},
   "source": [
    "“¿Qué es `*args` y `**kwargs`?”  \n",
    "Ellos son utilizados generalmente en la definición de funciones, y sirven para pasar una **cantidad variable** de argumentos.  \n",
    "\n",
    "“¿Y para qué me sirve eso?”  \n",
    "Esto me será de gran utilidad en casos cuando yo no sepa, de antemano, cuántos argumentos me llegarán.\n",
    "\n",
    "Veamos un ejemplo simple."
   ]
  },
  {
   "cell_type": "code",
   "execution_count": 12,
   "metadata": {
    "collapsed": true
   },
   "outputs": [],
   "source": [
    "def multiply_two_numbers(first, second):\n",
    "    return first * second"
   ]
  },
  {
   "cell_type": "markdown",
   "metadata": {},
   "source": [
    "Utilicemos esta función para multiplicar dos números."
   ]
  },
  {
   "cell_type": "code",
   "execution_count": 13,
   "metadata": {},
   "outputs": [
    {
     "data": {
      "text/plain": [
       "42"
      ]
     },
     "execution_count": 13,
     "metadata": {},
     "output_type": "execute_result"
    }
   ],
   "source": [
    "multiply_two_numbers(6, 7)"
   ]
  },
  {
   "cell_type": "markdown",
   "metadata": {},
   "source": [
    "¿Y cómo hago si quiero multiplicar una cantidad variable de números?"
   ]
  },
  {
   "cell_type": "code",
   "execution_count": 14,
   "metadata": {
    "collapsed": true
   },
   "outputs": [],
   "source": [
    "from functools import reduce\n",
    "\n",
    "def multiply_some_numbers(*numbers):\n",
    "    print(numbers)  # Esto imprime el iterable completo.\n",
    "    print(*numbers) # Esto imprime los números desempaquetados.\n",
    "    return reduce(lambda x, y: x*y, numbers)"
   ]
  },
  {
   "cell_type": "markdown",
   "metadata": {},
   "source": [
    "(Como puede inferir, amigue lector, no es necesario que tomen el nombre de `args` y `kwargs`.)  \n",
    "Veamos cómo utilizarlo."
   ]
  },
  {
   "cell_type": "code",
   "execution_count": 15,
   "metadata": {},
   "outputs": [
    {
     "name": "stdout",
     "output_type": "stream",
     "text": [
      "(3, 4, 5, 7)\n",
      "3 4 5 7\n"
     ]
    },
    {
     "data": {
      "text/plain": [
       "420"
      ]
     },
     "execution_count": 15,
     "metadata": {},
     "output_type": "execute_result"
    }
   ],
   "source": [
    "multiply_some_numbers(3, 4, 5, 7)"
   ]
  },
  {
   "cell_type": "markdown",
   "metadata": {},
   "source": [
    "### Secreto\n",
    "\n",
    "Y ahora, un secreto: la función de `print` utiliza esto por detrás."
   ]
  },
  {
   "cell_type": "code",
   "execution_count": 16,
   "metadata": {},
   "outputs": [
    {
     "name": "stdout",
     "output_type": "stream",
     "text": [
      "42\n",
      "Esto permite imprimir un número variable de argumentos.\n"
     ]
    }
   ],
   "source": [
    "print(42)\n",
    "print(\"Esto\", \"permite\", \"imprimir\", \"un\", \"número\", \"variable\", \"de\", \"argumentos.\")"
   ]
  },
  {
   "cell_type": "markdown",
   "metadata": {},
   "source": [
    "## Fin del _intermezzo_"
   ]
  },
  {
   "cell_type": "markdown",
   "metadata": {},
   "source": [
    "Entonces, volviendo al primer decorador…  \n",
    "Ahora, agreguemos los `*args` y `**kwargs`."
   ]
  },
  {
   "cell_type": "code",
   "execution_count": 17,
   "metadata": {
    "collapsed": true
   },
   "outputs": [],
   "source": [
    "def deco_function(original_function):\n",
    "    print(\"Entrando... (1)\")\n",
    "    \n",
    "    def wrapper_function(*args, **kwargs):    \n",
    "        print(\"Entrando... (2)\")\n",
    "        original_function(*args, **kwargs)\n",
    "        print(\"Saliendo... (2)\")\n",
    "    \n",
    "    print(\"Saliendo... (1)\")\n",
    "    return wrapper_function"
   ]
  },
  {
   "cell_type": "code",
   "execution_count": 18,
   "metadata": {},
   "outputs": [
    {
     "name": "stdout",
     "output_type": "stream",
     "text": [
      "Entrando... (1)\n",
      "Saliendo... (1)\n"
     ]
    }
   ],
   "source": [
    "@deco_function\n",
    "def print_bebida(bebida):\n",
    "    print(\"Este dieciocho, me tomé dos litros de {} por día.\".format(bebida))"
   ]
  },
  {
   "cell_type": "markdown",
   "metadata": {},
   "source": [
    "Veamos nuevamente el resultado."
   ]
  },
  {
   "cell_type": "code",
   "execution_count": 19,
   "metadata": {},
   "outputs": [
    {
     "name": "stdout",
     "output_type": "stream",
     "text": [
      "Entrando... (2)\n",
      "Este dieciocho, me tomé dos litros de pipeño por día.\n",
      "Saliendo... (2)\n"
     ]
    }
   ],
   "source": [
    "print_bebida(\"pipeño\")"
   ]
  },
  {
   "cell_type": "markdown",
   "metadata": {},
   "source": [
    "Ahora sí funcionó. 😀"
   ]
  },
  {
   "cell_type": "markdown",
   "metadata": {},
   "source": [
    "## Ejemplos de la vida real (casi)\n",
    "\n",
    "Veamos cómo podemos aplicar esto en un ejemplo dieciochero.  \n",
    "Definamos un decorador etílico."
   ]
  },
  {
   "cell_type": "code",
   "execution_count": 20,
   "metadata": {
    "collapsed": true
   },
   "outputs": [],
   "source": [
    "from time import sleep as caña\n",
    "\n",
    "def caña_de_pipeño(original_function):\n",
    "    def wrapper(*args, **kwargs):\n",
    "        caña(3)\n",
    "        return original_function(*args, **kwargs)\n",
    "\n",
    "    return wrapper"
   ]
  },
  {
   "cell_type": "markdown",
   "metadata": {},
   "source": [
    "Definamos una simple función decorada."
   ]
  },
  {
   "cell_type": "code",
   "execution_count": 21,
   "metadata": {
    "collapsed": true
   },
   "outputs": [],
   "source": [
    "@caña_de_pipeño\n",
    "def add_twelve(number):\n",
    "    return number + 12"
   ]
  },
  {
   "cell_type": "markdown",
   "metadata": {},
   "source": [
    "Veamos el resultado."
   ]
  },
  {
   "cell_type": "code",
   "execution_count": 22,
   "metadata": {},
   "outputs": [
    {
     "name": "stdout",
     "output_type": "stream",
     "text": [
      "¡Feliz 18 para todos!\n"
     ]
    }
   ],
   "source": [
    "print(\"¡Feliz {} para todos!\".format(add_twelve(6)))"
   ]
  },
  {
   "cell_type": "markdown",
   "metadata": {},
   "source": [
    "Podemos ver que la función se demoró en responder.  \n",
    "Ahora, imaginemos que buscamos implementar lo mismo, pero con un parámetro adicional."
   ]
  },
  {
   "cell_type": "code",
   "execution_count": 23,
   "metadata": {
    "collapsed": true
   },
   "outputs": [],
   "source": [
    "def caña_de(bebida):\n",
    "    def deco_function(original_function):\n",
    "        def wrapper(*args, **kwargs):\n",
    "            if bebida == \"vino\":\n",
    "                caña(2)\n",
    "                print(\"Ayuda, por favor.\")\n",
    "            elif bebida == \"pipeño\":\n",
    "                caña(4)\n",
    "                print(\"¿Dónde estoy? ¿Quién soy?\")\n",
    "                args = (0, )  # Para acrecentar los efectos del pipeño,\n",
    "                              # podemos también cambiar los parámetros.\n",
    "            else:\n",
    "                print(\"No hay caña.\")\n",
    "            return original_function(*args, **kwargs)\n",
    "        \n",
    "        return wrapper\n",
    "    return deco_function"
   ]
  },
  {
   "cell_type": "markdown",
   "metadata": {},
   "source": [
    "Definimos la misma función, pero ahora con el decorador recién definido."
   ]
  },
  {
   "cell_type": "code",
   "execution_count": 24,
   "metadata": {
    "collapsed": true
   },
   "outputs": [],
   "source": [
    "@caña_de(\"pipeño\")\n",
    "def add_twelve(number):\n",
    "    return number + 12"
   ]
  },
  {
   "cell_type": "markdown",
   "metadata": {},
   "source": [
    "Analicemos los efectos del pipeño."
   ]
  },
  {
   "cell_type": "code",
   "execution_count": 25,
   "metadata": {},
   "outputs": [
    {
     "name": "stdout",
     "output_type": "stream",
     "text": [
      "¿Dónde estoy? ¿Quién soy?\n",
      "¡Feliz 12 para todos!\n"
     ]
    }
   ],
   "source": [
    "print(\"¡Feliz {} para todos!\".format(add_twelve(6)))"
   ]
  },
  {
   "cell_type": "markdown",
   "metadata": {},
   "source": [
    "Claro… por lo que ocurrió el [12 de febrero de 1818](https://es.wikipedia.org/wiki/Acta_de_Independencia_de_Chile)."
   ]
  }
 ],
 "metadata": {
  "kernelspec": {
   "display_name": "Python 3",
   "language": "python",
   "name": "python3"
  },
  "language_info": {
   "codemirror_mode": {
    "name": "ipython",
    "version": 3
   },
   "file_extension": ".py",
   "mimetype": "text/x-python",
   "name": "python",
   "nbconvert_exporter": "python",
   "pygments_lexer": "ipython3",
   "version": "3.5.2"
  }
 },
 "nbformat": 4,
 "nbformat_minor": 2
}
