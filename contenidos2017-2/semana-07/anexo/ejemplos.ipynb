{
 "cells": [
  {
   "cell_type": "markdown",
   "metadata": {},
   "source": [
    "# Ejemplos de decoradores"
   ]
  },
  {
   "cell_type": "markdown",
   "metadata": {},
   "source": [
    "## Un decorador sin constructor\n",
    "\n",
    "Acá definimos un decorador que nos permitirá hacer _logging_, cuando llamemos a una función decorada."
   ]
  },
  {
   "cell_type": "code",
   "execution_count": 1,
   "metadata": {
    "collapsed": true
   },
   "outputs": [],
   "source": [
    "def logger(function):\n",
    "    def wrapper(*args, **kwargs):\n",
    "        start = time.time()\n",
    "        print(\"Ejecutando la función...\")\n",
    "        result = function(*args, **kwargs)\n",
    "        end = time.time()\n",
    "        print(\"Finalizando la función. Demoró {:.4f} segundos.\".format(end - start))\n",
    "        \n",
    "        return result\n",
    "    return wrapper"
   ]
  },
  {
   "cell_type": "markdown",
   "metadata": {},
   "source": [
    "## Un decorador con constructor\n",
    "\n",
    "Acá definimos un nuevo decorador que nos permitirá hacer algo similar al anterior.  \n",
    "Además, agregamos una funcionalidad para notificar si la ejecución ha demorado más que un _threshold_ específico."
   ]
  },
  {
   "cell_type": "code",
   "execution_count": 2,
   "metadata": {
    "collapsed": true
   },
   "outputs": [],
   "source": [
    "import time \n",
    "\n",
    "def timer(threshold=2): # Podemos, incluso, entregarle un parámetro opcional.\n",
    "    def check_time(func):\n",
    "        def wrapper(*args, **kwargs):\n",
    "            start = time.time()\n",
    "            result = func(*args, **kwargs)\n",
    "            end = time.time()\n",
    "            \n",
    "            if end - start > threshold:\n",
    "                print('[Warning] La ejecución ha tomado mucho tiempo.')\n",
    "            \n",
    "            return result\n",
    "        return wrapper\n",
    "    return check_time"
   ]
  },
  {
   "cell_type": "markdown",
   "metadata": {},
   "source": [
    "Creamos dos funciones de suma: una normal, y otra un poco más somnolienta.  \n",
    "Y además, aprovechamos de aplicarles distintos decoradores recién definidos."
   ]
  },
  {
   "cell_type": "code",
   "execution_count": 3,
   "metadata": {
    "collapsed": true
   },
   "outputs": [],
   "source": [
    "@timer(1)\n",
    "def normal_sum(a, b):\n",
    "    return a + b\n",
    "\n",
    "@logger\n",
    "@timer()\n",
    "def sleepy_sum(a, b, c):\n",
    "    time.sleep(3)\n",
    "    return a + b + c"
   ]
  },
  {
   "cell_type": "code",
   "execution_count": 4,
   "metadata": {},
   "outputs": [
    {
     "name": "stdout",
     "output_type": "stream",
     "text": [
      "Resultado: 7\n",
      "\n",
      "\n",
      "Ejecutando la función...\n",
      "[Warning] La ejecución ha tomado mucho tiempo.\n",
      "Finalizando la función. Demoró 3.0036 segundos.\n",
      "Resultado: 15\n"
     ]
    }
   ],
   "source": [
    "print(\"Resultado:\", normal_sum(3, 4))\n",
    "print()\n",
    "print()\n",
    "print(\"Resultado:\", sleepy_sum(4, 5, 6))"
   ]
  }
 ],
 "metadata": {
  "kernelspec": {
   "display_name": "Python 3",
   "language": "python",
   "name": "python3"
  },
  "language_info": {
   "codemirror_mode": {
    "name": "ipython",
    "version": 3
   },
   "file_extension": ".py",
   "mimetype": "text/x-python",
   "name": "python",
   "nbconvert_exporter": "python",
   "pygments_lexer": "ipython3",
   "version": "3.5.2"
  }
 },
 "nbformat": 4,
 "nbformat_minor": 2
}
