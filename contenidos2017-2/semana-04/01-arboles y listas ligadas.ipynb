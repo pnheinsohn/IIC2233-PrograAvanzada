{
 "cells": [
  {
   "cell_type": "markdown",
   "metadata": {},
   "source": [
    "<p>\n",
    "<font size='5' face='Georgia, Arial'>IIC-2233 Apunte Programación Avanzada</font><br>\n",
    "<font size='1'>&copy; 2015-2016 Karim Pichara - Christian Pieringer <sup>1</sup>. Todos los derechos reservados.</font>\n",
    "</p>"
   ]
  },
  {
   "cell_type": "markdown",
   "metadata": {},
   "source": [
    "En esta sección describiremos un conjunto de estructuras de datos basadas en una estructura base llama **nodo**. Un **nodo** representa a un ítem y sus elementos, y mantiene una o más referencias con sus nodos vecinos con la finalidad de representar estructuras de datos más complejas."
   ]
  },
  {
   "cell_type": "markdown",
   "metadata": {},
   "source": [
    "# Árboles\n",
    "\n",
    "Los árboles corresponden a una estructura de datos no lineal, en donde los objetos están estructurados <b>jerárquicamente</b>. A diferencia de las estructuras basadas en arreglos como colas y pilas, en los árboles los objetos quedan ordenados <i>sobre</i> y <i>debajo</i> de acuerdo a esta jerarquía. Cada elemento en el árbol se denomina <b>nodo</b>. El primer nodo en el árbol recibe el nombre de <b>raíz</b> (root). A excepción del nodo raíz, cada nodo del árbol tiene un <i><b>padre</b></i> y cero o más nodos <i><b>hijos</b></i>. Los nodos provenientes de un mismo padre se denominan nodos <b>hermanos</b> y los nodos en la línea de descendencia del nodo padre se conocen como ancestros."
   ]
  },
  {
   "cell_type": "markdown",
   "metadata": {},
   "source": [
    "Formalmente, un árbol <b>T</b> que ordena los objetos bajo una relación <i>padre-hijo</i> tiene las siguientes propiedades:\n",
    "\n",
    "- Si <b>T</b> no está vacío, tienen un nodo <i>raíz</i> que no tiene padres\n",
    "- Cada nodo <i>c</i> en <b>T</b> distinto de la raíz, tiene un único padre <i>p</i>, y todos los nodos <i>c</i> que tienen por padre a <i>p</i> son hijos de <i>p</i>.\n",
    "\n",
    "En la figura a continuación, el árbol mostrado tiene como nodo raíz al reino animal. Este nodo tiene dos nodos hijos: Vertebrados e Invertebrados. Otro ejemplo dentro del mismo árbol es el nodo Gusanos que tiene como nodo padre al nodo Invertebrados, pero tiene cero nodos hijos.\n",
    "\n",
    "![](img/trees-example.png)"
   ]
  },
  {
   "cell_type": "markdown",
   "metadata": {},
   "source": [
    "<p>\n",
    "Un <b>vértice</b> corresponde a la conexión entre un par de nodos (<i>u</i>, <i>v</i>) que tienen una relación directa. Cada nodo tiene solo un vértice entrante, y cero o varios vértices salientes. La secuencia ordenada de nodos consecutivos unidos por un vértice a lo largo de árbol <b>T</b> forman un <b>camino</b>. En la figura anterior, los nodos <i>Peces</i> y <i>Oseos</i> un vértice, y están en el camino <i>Reino Animal-Vertebrados-Peces-Oseos</i>. Los nodos que no tienen hijos se conocen como nodos <b>hoja</b> (leaf node). Así, todos los nodos que no son hoja ni raíz se denominan nodos <b>interiores</b>.\n",
    "</p>\n",
    "\n",
    "<p>\n",
    "La <b>profundidad</b> (depth) de un nodo <i>u</i> se denomina como el número de áncestros que existen entre el nodo raíz y el nodo <i>u</i>, excluyendo el nodo. Así mismo, la <b>altura</b> (height) del árbol corresponde al máximo de las profundidades alcanzada por los nodos hojas. Por ejemplo en la figura anterior, el nivel del nodo Peces es 2, y la profundidad del árbol es 3.\n",
    "</p>"
   ]
  },
  {
   "cell_type": "markdown",
   "metadata": {},
   "source": [
    "## Árboles de Estructura Enlazada \n",
    "\n",
    "Un forma de poder representar un árbol consiste en modelar cada nodo como un objeto con las propiedades de: id_nodo, id_padre, hijos y el valor almacenado en ese nodo. Cada nodo es en sí un árbol y podemos crear el árbol completo agregando nodos incrementalmente."
   ]
  },
  {
   "cell_type": "code",
   "execution_count": 2,
   "metadata": {
    "collapsed": true
   },
   "outputs": [],
   "source": [
    "class Arbol:\n",
    "    # Creamos la estructura básica del árbol. Los nodos hijos pueden ser guardados en alguna \n",
    "    # estructura como listas o diccionarios. Sin pérdidad de generalidad, en este ejemplo los\n",
    "    # nodos hijos serán guardados en un diccionario.\n",
    "    \n",
    "    def __init__(self, id_nodo, valor=None, id_padre=None):\n",
    "        self.id_nodo = id_nodo\n",
    "        self.id_padre = id_padre\n",
    "        self.valor = valor\n",
    "        self.hijos = {}       \n",
    "    \n",
    "    def agregar_nodo(self, id_nodo, valor=None, id_padre=None):\n",
    "        # Cada vez que agregamos un nodo verificamos primero si corresponde al nodo padre \n",
    "        # donde queremos agregar el nuevo nodo. Si no es el nodo, buscamos recursivamente \n",
    "        # a través de todos los nodos existentes hasta que encontremos el nodo correspondiente.\n",
    "        \n",
    "        if self.id_nodo == id_padre:\n",
    "            # Si el nodo es el nodo padre, entonces actualizamos el diccionario \n",
    "            # con los hijos\n",
    "            \n",
    "            self.hijos.update({id_nodo: Arbol(id_nodo, valor, id_padre)})\n",
    "            \n",
    "        else:\n",
    "            # Si no, recursivamente seguimos buscando en el árbol el nodo padre\n",
    "            \n",
    "            for hijo in self.hijos.values():\n",
    "                hijo.agregar_nodo(id_nodo, valor, id_padre)\n",
    "                \n",
    "    def obtener_nodo(self, id_nodo):\n",
    "        # recursivamente obtenemos el nodo siempre y cuando exista la posicion.\n",
    "        \n",
    "        if self.id_nodo == id_nodo:\n",
    "            return self\n",
    "        else:\n",
    "            for hijo in self.hijos.values():\n",
    "                nodo = hijo.obtener_nodo(id_nodo)\n",
    "                \n",
    "                if nodo:\n",
    "                    # retorna el nodo si es que existe en el árbol\n",
    "                    return nodo\n",
    "                             \n",
    "    def __repr__(self):\n",
    "        # Para visualizar el arbol redefinimos el método __repr__ para recorrer recursivamente\n",
    "        # todos los nodos del árbol.\n",
    "        \n",
    "        def recorrer_arbol(raiz):\n",
    "            for hijo in raiz.hijos.values():\n",
    "                self.ret += \"id-nodo: {} -> id_padre: {} -> valor: {}\\n\".format(hijo.id_nodo, hijo.id_padre, hijo.valor)\n",
    "                recorrer_arbol(hijo)\n",
    "                \n",
    "            return self\n",
    "\n",
    "        self.ret = 'RAIZ:\\nroot-id: {} -> valor: {}\\n\\nHIJOS:\\n'.format(self.id_nodo, self.valor)\n",
    "        recorrer_arbol(self)        \n",
    "        return self.ret"
   ]
  },
  {
   "cell_type": "markdown",
   "metadata": {},
   "source": [
    "Para crear y poblar el árbol, utilicemos el árbol de ejemplo mostrado en la siguiente figura. Cada nodo tiene el valor almacenado y su ID.\n",
    "![](img/ejemplo_arbol.png)"
   ]
  },
  {
   "cell_type": "code",
   "execution_count": 5,
   "metadata": {
    "collapsed": false
   },
   "outputs": [
    {
     "name": "stdout",
     "output_type": "stream",
     "text": [
      "RAIZ:\n",
      "root-id: 0 -> valor: 10\n",
      "\n",
      "HIJOS:\n",
      "id-nodo: 1 -> id_padre: 0 -> valor: 8\n",
      "id-nodo: 3 -> id_padre: 1 -> valor: 4\n",
      "id-nodo: 5 -> id_padre: 3 -> valor: 1\n",
      "id-nodo: 4 -> id_padre: 1 -> valor: 9\n",
      "id-nodo: 2 -> id_padre: 0 -> valor: 12\n",
      "id-nodo: 6 -> id_padre: 2 -> valor: 18\n",
      "\n",
      "0\n"
     ]
    }
   ],
   "source": [
    "T = Arbol(0, 10)\n",
    "T.agregar_nodo(1, 8, 0)\n",
    "T.agregar_nodo(2, 12, 0)\n",
    "T.agregar_nodo(3, 4, 1)\n",
    "T.agregar_nodo(4, 9, 1)\n",
    "T.agregar_nodo(5, 1, 3)\n",
    "T.agregar_nodo(6, 18, 2)\n",
    "\n",
    "\n",
    "# Desplegamos el árbol según se definió en el método __repr__\n",
    "print(T)\n",
    "print(T.id_nodo)"
   ]
  },
  {
   "cell_type": "markdown",
   "metadata": {},
   "source": [
    "Si queremos obtener un nodo específico utilizamos el método *obtener_nodo()* el que recursivamente busca por el id del nodo. En este ejemplo el método retorna todo el objeto el nodo."
   ]
  },
  {
   "cell_type": "code",
   "execution_count": 6,
   "metadata": {
    "collapsed": false
   },
   "outputs": [
    {
     "name": "stdout",
     "output_type": "stream",
     "text": [
      "El ID del nodo es 6\n",
      "El nodo tiene 2 hijos\n"
     ]
    }
   ],
   "source": [
    "nodo = T.obtener_nodo(6)\n",
    "print('El ID del nodo es {}'.format(nodo.id_nodo))\n",
    "\n",
    "nodo = T.obtener_nodo(1)\n",
    "print('El nodo tiene {} hijos'.format(len(nodo.hijos)))\n"
   ]
  },
  {
   "cell_type": "markdown",
   "metadata": {},
   "source": [
    "## Recorrido de un Árbol\n",
    "\n",
    "El recorrido de un árbol o también conocido como <i>Tree traversal</i>, corresponde a la forma de accesar o visitar sistemáticamente todos los nodos de un árbol <b>T</b>. Existen dos formas principales: recursivas y no recursivas. Entre los métodos recursivos para visitar los nodos se encuentran: pre-order traversal y post-order traversal. Dentro de los métodos no recursivos más populares se encuentran: Breadth First Search y Depth First Search.\n",
    "\n",
    "### Recorridos Recursivos\n",
    "\n",
    "\n",
    "#### Pre-Order Traversal\n",
    "\n",
    "En esta forma de recorrer el árbol nodo raíz se visita primero, y luego su hijos son recorridos recursivamente."
   ]
  },
  {
   "cell_type": "code",
   "execution_count": 9,
   "metadata": {
    "collapsed": false
   },
   "outputs": [
    {
     "name": "stdout",
     "output_type": "stream",
     "text": [
      "nodo_id: 0, id_padre: None -> valor: 10\n",
      "nodo_id: 1, id_padre: 0 -> valor: 8\n",
      "nodo_id: 3, id_padre: 1 -> valor: 4\n",
      "nodo_id: 5, id_padre: 3 -> valor: 1\n",
      "nodo_id: 4, id_padre: 1 -> valor: 9\n",
      "nodo_id: 2, id_padre: 0 -> valor: 12\n",
      "nodo_id: 6, id_padre: 2 -> valor: 18\n",
      "\n"
     ]
    }
   ],
   "source": [
    "class ArbolPreOrder(Arbol):\n",
    "    # Heredamos de la clase original del Arbol y hacemos override del metodo recorrer_arbol para recorrer el árbol \n",
    "    # usan do pre-order\n",
    "    def __repr__(self):        \n",
    "        def recorrer_arbol(raiz):\n",
    "            self.ret += \"nodo_id: {}, id_padre: {} -> valor: {}\\n\".format(raiz.id_nodo, raiz.id_padre, raiz.valor)\n",
    "            for hijo in raiz.hijos.values():\n",
    "                recorrer_arbol(hijo)\n",
    "\n",
    "        self.ret = ''\n",
    "        recorrer_arbol(self)\n",
    "        \n",
    "        return self.ret\n",
    "    \n",
    "# Poblamos el árbol con los datos usados en el caso anterior de árbol\n",
    "T = ArbolPreOrder(0, 10)\n",
    "T.agregar_nodo(1, 8, 0)\n",
    "T.agregar_nodo(2, 12, 0)\n",
    "T.agregar_nodo(3, 4, 1)\n",
    "T.agregar_nodo(4, 9, 1)\n",
    "T.agregar_nodo(5, 1, 3)\n",
    "T.agregar_nodo(6, 18, 2)\n",
    "\n",
    "print(T)"
   ]
  },
  {
   "cell_type": "markdown",
   "metadata": {},
   "source": [
    "#### Post-Order Traversal\n",
    "\n",
    "En esta modalidad de recorrido primero se visita recursivamente los sub-arboles generados por los nodos hijos y finalmente el nodo raíz."
   ]
  },
  {
   "cell_type": "code",
   "execution_count": 10,
   "metadata": {
    "collapsed": false
   },
   "outputs": [
    {
     "name": "stdout",
     "output_type": "stream",
     "text": [
      "nodo_id: 5, id_padre: 3 -> valor: 1\n",
      "nodo_id: 3, id_padre: 1 -> valor: 4\n",
      "nodo_id: 4, id_padre: 1 -> valor: 9\n",
      "nodo_id: 1, id_padre: 0 -> valor: 8\n",
      "nodo_id: 6, id_padre: 2 -> valor: 18\n",
      "nodo_id: 2, id_padre: 0 -> valor: 12\n",
      "nodo_id: 0, id_padre: None -> valor: 10\n",
      "\n"
     ]
    }
   ],
   "source": [
    "class ArbolPostOrder(Arbol):\n",
    "    # Heredamos de la clase original del Arbol e implementamos el PostOrder para el recorrido del arbol\n",
    "    def __repr__(self):\n",
    "        def recorrer_arbol(raiz):\n",
    "            # primero recorremos recursivamente los hijos\n",
    "            for hijo in raiz.hijos.values():\n",
    "                recorrer_arbol(hijo)\n",
    "            \n",
    "            # Finalmente visitamos el nodo raíz\n",
    "            self.ret += \"nodo_id: {}, id_padre: {} -> valor: {}\\n\".format(raiz.id_nodo, raiz.id_padre, raiz.valor)\n",
    "\n",
    "        self.ret = ''\n",
    "        recorrer_arbol(self)\n",
    "        return self.ret\n",
    "    \n",
    "# Poblamos el árbol usando los mismo datos que en el caso original\n",
    "T = ArbolPostOrder(0, 10)\n",
    "T.agregar_nodo(1, 8, 0)\n",
    "T.agregar_nodo(2, 12, 0)\n",
    "T.agregar_nodo(3, 4, 1)\n",
    "T.agregar_nodo(4, 9, 1)\n",
    "T.agregar_nodo(5, 1, 3)\n",
    "T.agregar_nodo(6, 18, 2)\n",
    "\n",
    "print(T)"
   ]
  },
  {
   "cell_type": "markdown",
   "metadata": {},
   "source": [
    "### Recorridos No Recursivos\n",
    "\n",
    "En métodos recorren los nodos del árbol sin recursión utilizando otras estructuras de datos auxiliares para manejar los nodos visitados.\n",
    "\n",
    "\n",
    "#### Bread-First Search (BFS)\n",
    "\n",
    "El enfoque **Breadth First Search** consiste en recorrer el árbol por nivel, siendo primero visitados todos los nodos de más arriba en la jerarquía del árbol. Para ejecutar el recorrido utiliza una **cola** para almacenar los nodos por visitar. En estructuras jerárquicas más complejas que los árboles, como por ejemplo un grafo no dirijido, es necesario también mantener un listado de los nodos que han sido visitados y de esta forma evitar que existan loops infinitos entre nodos.\n"
   ]
  },
  {
   "cell_type": "code",
   "execution_count": 11,
   "metadata": {
    "collapsed": false
   },
   "outputs": [
    {
     "name": "stdout",
     "output_type": "stream",
     "text": [
      "nodo_id: 0, id_padre: None -> valor: 10\n",
      "nodo_id: 1, id_padre: 0 -> valor: 8\n",
      "nodo_id: 2, id_padre: 0 -> valor: 12\n",
      "nodo_id: 3, id_padre: 1 -> valor: 4\n",
      "nodo_id: 4, id_padre: 1 -> valor: 9\n",
      "nodo_id: 6, id_padre: 2 -> valor: 18\n",
      "nodo_id: 5, id_padre: 3 -> valor: 1\n",
      "\n"
     ]
    }
   ],
   "source": [
    "from collections import deque\n",
    "\n",
    "\n",
    "class ArbolBFS(Arbol):\n",
    "    # Heredamos de la clase original del Arbol y modificamos el metodo recorrer_arbol para usar \n",
    "    # el Breadth-first Search\n",
    "    \n",
    "    def __repr__(self):\n",
    "        \n",
    "        def recorrer_arbol(raiz):\n",
    "            \n",
    "            # Utiliamos una cola para almacenar los nodos por visitar\n",
    "            Q = deque()\n",
    "            Q.append(raiz)\n",
    "            \n",
    "            # Utilizamos una lista para registrar los nodos visitados\n",
    "            visitados = []\n",
    "            \n",
    "            while len(Q) > 0:                \n",
    "                p = Q.popleft()\n",
    "                \n",
    "                if p.id_nodo not in visitados:\n",
    "                    \n",
    "                    # Revisamos si el nodo ha sido visitado. Si no ha sido visitado\n",
    "                    # lo agregamos a la lista de visitados\n",
    "                    \n",
    "                    visitados.append(p.id_nodo)\n",
    "\n",
    "                    #visitamos el nodo\n",
    "                    self.ret += \"nodo_id: {}, id_padre: {} -> valor: {}\\n\".format(\n",
    "                        p.id_nodo, p.id_padre, p.valor)\n",
    "                \n",
    "                    # Agregamos todos los nodos hijos a la cola por visitar\n",
    "                    for hijo in p.hijos.values():\n",
    "                        Q.append(hijo)\n",
    "                    \n",
    "\n",
    "        self.ret = ''\n",
    "        recorrer_arbol(self)\n",
    "        return self.ret\n",
    "    \n",
    "# Poblamos el árbol con los datos utilizados en los casos anteriores\n",
    "T = ArbolBFS(0, 10)\n",
    "T.agregar_nodo(1, 8, 0)\n",
    "T.agregar_nodo(2, 12, 0)\n",
    "T.agregar_nodo(3, 4, 1)\n",
    "T.agregar_nodo(4, 9, 1)\n",
    "T.agregar_nodo(5, 1, 3)\n",
    "T.agregar_nodo(6, 18, 2)\n",
    "\n",
    "print(T)"
   ]
  },
  {
   "cell_type": "markdown",
   "metadata": {},
   "source": [
    "#### Depth First Search (DFS)\n",
    "\n",
    "El enfoque **Depth First Search** consiste en recorrer el árbol por profundidad, siendo primero visitados todos los nodos de más arriba en la jerarquía del árbol. Para ejecutar el recorrido utiliza una **pila** para almacenar los nodos por visitar. Al igual que en el caso de BFS, es necesario mantener un listado de los nodos que han sido visitados para evitar que existan loops infinitos entre nodos cuando recorremos estructuras jérarquicas más complejas."
   ]
  },
  {
   "cell_type": "code",
   "execution_count": 12,
   "metadata": {
    "collapsed": false
   },
   "outputs": [
    {
     "name": "stdout",
     "output_type": "stream",
     "text": [
      "nodo_id: 0, id_padre: None -> valor: 10\n",
      "nodo_id: 2, id_padre: 0 -> valor: 12\n",
      "nodo_id: 6, id_padre: 2 -> valor: 18\n",
      "nodo_id: 1, id_padre: 0 -> valor: 8\n",
      "nodo_id: 4, id_padre: 1 -> valor: 9\n",
      "nodo_id: 3, id_padre: 1 -> valor: 4\n",
      "nodo_id: 5, id_padre: 3 -> valor: 1\n",
      "\n"
     ]
    }
   ],
   "source": [
    "from collections import deque\n",
    "\n",
    "class ArbolDFS(Arbol):\n",
    "    \n",
    "    # Heredamos de la clase original del Arbol y modificamos el metodo recorrer_arbol para usar \n",
    "    # el Depth-first Search (DFS)\n",
    "    \n",
    "    def __repr__(self):\n",
    "        \n",
    "        def recorrer_arbol(raiz):\n",
    "            \n",
    "            # En DPS utilizamos un stack para almacenar los nodos por visitar          \n",
    "            Q = deque()\n",
    "            Q.append(raiz)\n",
    "            \n",
    "            # Utilizaremos una lista para marcar los nodos visitados\n",
    "            visitados = []\n",
    "\n",
    "            while len(Q) > 0:                \n",
    "                p = Q.pop()\n",
    "                \n",
    "                if p.id_nodo not in visitados:\n",
    "                    \n",
    "                    # Revisamos si el nodo ha sido visitado. Si no ha sido visitado\n",
    "                    # lo agregamos a la lista de visitados\n",
    "                    \n",
    "                    visitados.append(p.id_nodo)\n",
    "                    \n",
    "                    self.ret += \"nodo_id: {}, id_padre: {} -> valor: {}\\n\".format(\n",
    "                        p.id_nodo, p.id_padre, p.valor)\n",
    "\n",
    "                    for hijo in p.hijos.values():\n",
    "                        Q.append(hijo)\n",
    "        \n",
    "        self.ret = ''\n",
    "        recorrer_arbol(self)\n",
    "        \n",
    "        return self.ret\n",
    "    \n",
    "    \n",
    "# Poblamos el árbol con los datos utilizados en los casos anteriores\n",
    "T = ArbolDFS(0, 10)\n",
    "T.agregar_nodo(1, 8, 0)\n",
    "T.agregar_nodo(2, 12, 0)\n",
    "T.agregar_nodo(3, 4, 1)\n",
    "T.agregar_nodo(4, 9, 1)\n",
    "T.agregar_nodo(5, 1, 3)\n",
    "T.agregar_nodo(6, 18, 2)\n",
    "\n",
    "print(T)"
   ]
  },
  {
   "cell_type": "markdown",
   "metadata": {},
   "source": [
    "# Árbol Binario"
   ]
  },
  {
   "cell_type": "markdown",
   "metadata": {},
   "source": [
    "Los árboles binarios son un caso particular de las estructuras de datos tipo árbol, en donde:\n",
    "\n",
    "- cada nodo tiene como máximo dos nodos hijo\n",
    "- cada nodo hijo está etiquedado como <b>hijo-izquierdo</b> o bien <b>hijo-derecho</b>, y\n",
    "- en términos de precedencia, el hijo-izquierdo precede al hijo-derecho.\n",
    "\n",
    "En un árbol binario el máximo número de nodos crece en forma exponencial. Sea el <b>nivel</b> <i>d</i> de un arbol <b>T</b> el conjunto de todos los nodos ubicados a la misma profundidad <i>d</i>. En el nivel <i>d</i> = 0 existe a lo más el nodo raíz. El nivel <i>d</i> = 2 tiene a lo más dos nodos, y así sucesivamente. Al nivel <i>d</i>, el árbol debe tener como máximo 2<sup><i>d</i></sup> nodos. Se denomina árbol binario **completo** a aquel árbol en donde cada nodo padre del árbol presenta los dos nodos hijos, tal como se muestra en la siguiente figura.\n",
    "\n",
    "![](img/binary-tree.png)\n",
    "\n",
    "Un ejemplo real de árbol binario son los **árboles de decisión** en donde cada nodo interno y además la raíz están asociados a una pregunta, y cuyas respuestas (Si, No) quedan representadas en los dos nodos hijos. Otro ejemplo son las **operaciones artméticas**, en donde las variables son representadas por lo nodos hoja, y las operaciones por los nodos interiores."
   ]
  },
  {
   "cell_type": "markdown",
   "metadata": {},
   "source": [
    "## Árbol Binario de Estructura Enlazada"
   ]
  },
  {
   "cell_type": "markdown",
   "metadata": {},
   "source": [
    "En esta implementación de árbol binario, modelaremos cada nodo como un objeto que tendrá por atributos las referencias al nodo padre, hijos, y el elemento en esa posición. Usaremos el valor <b>None</b> para señalar que un atributos particular no existe. Por ejemplo, si se modela el nodo padre, el atributo <i>padre = None</i>. A continuación el modelamiento queda de la siguiente forma:"
   ]
  },
  {
   "cell_type": "code",
   "execution_count": 2,
   "metadata": {
    "collapsed": false
   },
   "outputs": [
    {
     "name": "stdout",
     "output_type": "stream",
     "text": [
      "padre: None, valor: 4 -> r\n",
      "padre: 4, valor: 1 -> i\n",
      "padre: 1, valor: 3 -> d\n",
      "padre: 4, valor: 5 -> d\n",
      "padre: 5, valor: 20 -> d\n",
      "\n"
     ]
    }
   ],
   "source": [
    "class Nodo:\n",
    "    def __init__(self, valor, padre=None):\n",
    "        self.valor = valor\n",
    "        self.padre = padre\n",
    "        self.hijo_izquierdo = None\n",
    "        self.hijo_derecho = None\n",
    "\n",
    "    def __repr__(self):\n",
    "        return 'padre: {0}, valor: {1}'.format(self.padre, self.valor)\n",
    "\n",
    "\n",
    "class ArbolBinario:\n",
    "    def __init__(self, nodo_raiz=None):\n",
    "        self.nodo_raiz = nodo_raiz\n",
    "\n",
    "    def agregar_nodo(self, valor):\n",
    "        if self.nodo_raiz == None:\n",
    "            self.nodo_raiz = Nodo(valor)\n",
    "        else:\n",
    "            temp = self.nodo_raiz\n",
    "            agregado = False\n",
    "\n",
    "            while not agregado:\n",
    "                # Recursivamente recorremos el árbol revisando cada nodo usando\n",
    "                # alguna regla. En este caso si el valor del nuevo nodo es mayor \n",
    "                # o no que el valor del nodo revisado.\n",
    "                \n",
    "                if valor <= temp.valor:\n",
    "                    if temp.hijo_izquierdo == None:\n",
    "                        # Si no hay nodo izquierdo, agregamos el nuevo nodo\n",
    "                        temp.hijo_izquierdo = Nodo(valor, temp.valor)\n",
    "                        agregado = True\n",
    "                    else:\n",
    "                        # Si ya existe un nodo izquierdo seguimos revisando\n",
    "                        temp = temp.hijo_izquierdo\n",
    "                else:\n",
    "                    if temp.hijo_derecho == None:\n",
    "                        # Si no hay un nodo derecho, agregamos el valor como \n",
    "                        # un nuevo nodo\n",
    "                        temp.hijo_derecho = Nodo(valor, temp.valor)\n",
    "                        agregado = True\n",
    "                    else:\n",
    "                        # Si ya hay un nodo seguimos buscando en profundidad\n",
    "                        temp = temp.hijo_derecho\n",
    "\n",
    "    def __repr__(self):\n",
    "        def recorrer(nodo, lado=\"r\"):\n",
    "            ret = ''\n",
    "\n",
    "            if nodo != None:\n",
    "                ret += '{0} -> {1}\\n'.format(nodo, lado)\n",
    "                ret += recorrer(nodo.hijo_izquierdo, 'i')\n",
    "                ret += recorrer(nodo.hijo_derecho, 'd')\n",
    "\n",
    "            return ret\n",
    "\n",
    "        ret = recorrer(self.nodo_raiz)\n",
    "        return ret\n",
    "\n",
    "\n",
    "T = ArbolBinario()\n",
    "T.agregar_nodo(4)\n",
    "T.agregar_nodo(1)\n",
    "T.agregar_nodo(5)\n",
    "T.agregar_nodo(3)\n",
    "T.agregar_nodo(20)\n",
    "\n",
    "print(T)"
   ]
  },
  {
   "cell_type": "code",
   "execution_count": 7,
   "metadata": {
    "collapsed": false
   },
   "outputs": [
    {
     "name": "stdout",
     "output_type": "stream",
     "text": [
      "padre: None, valor: 4 -> r\n",
      "padre: 4, valor: 1 -> i\n",
      "padre: 1, valor: 3 -> d\n",
      "padre: 4, valor: 5 -> d\n",
      "padre: 5, valor: 20 -> d\n",
      "\n"
     ]
    }
   ],
   "source": [
    "class ArbolBinarioPreOrder(ArbolBinario):\n",
    "    \n",
    "    def __repr__(self):\n",
    "        def recorrer(nodo, lado=\"r\"):\n",
    "            ret = ''\n",
    "\n",
    "            if nodo != None:\n",
    "                ret += '{0} -> {1}\\n'.format(nodo, lado)\n",
    "                ret += recorrer(nodo.hijo_izquierdo, 'i')\n",
    "                ret += recorrer(nodo.hijo_derecho, 'd')\n",
    "\n",
    "            return ret\n",
    "\n",
    "        ret = recorrer(self.nodo_raiz)\n",
    "        return ret\n",
    "\n",
    "\n",
    "T = ArbolBinarioPreOrder()\n",
    "T.agregar_nodo(4)\n",
    "T.agregar_nodo(1)\n",
    "T.agregar_nodo(5)\n",
    "T.agregar_nodo(3)\n",
    "T.agregar_nodo(20)\n",
    "\n",
    "print(T)"
   ]
  },
  {
   "cell_type": "code",
   "execution_count": 8,
   "metadata": {
    "collapsed": false
   },
   "outputs": [
    {
     "name": "stdout",
     "output_type": "stream",
     "text": [
      "padre: 4, valor: 1 -> i\n",
      "padre: 1, valor: 3 -> d\n",
      "padre: None, valor: 4 -> r\n",
      "padre: 4, valor: 5 -> d\n",
      "padre: 5, valor: 20 -> d\n",
      "\n"
     ]
    }
   ],
   "source": [
    "class ArbolBinarioInOrder(ArbolBinario):\n",
    "    \n",
    "    def __repr__(self):\n",
    "        def recorrer(nodo, lado=\"r\"):\n",
    "            ret = ''\n",
    "\n",
    "            if nodo != None:\n",
    "                ret += recorrer(nodo.hijo_izquierdo, 'i')\n",
    "                ret += '{0} -> {1}\\n'.format(nodo, lado)\n",
    "                ret += recorrer(nodo.hijo_derecho, 'd')\n",
    "\n",
    "            return ret\n",
    "\n",
    "        ret = recorrer(self.nodo_raiz)\n",
    "        return ret\n",
    "\n",
    "\n",
    "T = ArbolBinarioInOrder()\n",
    "T.agregar_nodo(4)\n",
    "T.agregar_nodo(1)\n",
    "T.agregar_nodo(5)\n",
    "T.agregar_nodo(3)\n",
    "T.agregar_nodo(20)\n",
    "\n",
    "print(T)"
   ]
  },
  {
   "cell_type": "code",
   "execution_count": 9,
   "metadata": {
    "collapsed": false
   },
   "outputs": [
    {
     "name": "stdout",
     "output_type": "stream",
     "text": [
      "padre: 1, valor: 3 -> d\n",
      "padre: 4, valor: 1 -> i\n",
      "padre: 5, valor: 20 -> d\n",
      "padre: 4, valor: 5 -> d\n",
      "padre: None, valor: 4 -> r\n",
      "\n"
     ]
    }
   ],
   "source": [
    "class ArbolBinarioPostOrder(ArbolBinario):\n",
    "    \n",
    "    def __repr__(self):\n",
    "        def recorrer(nodo, lado=\"r\"):\n",
    "            ret = ''\n",
    "\n",
    "            if nodo != None:\n",
    "                ret += recorrer(nodo.hijo_izquierdo, 'i')\n",
    "                ret += recorrer(nodo.hijo_derecho, 'd')\n",
    "                ret += '{0} -> {1}\\n'.format(nodo, lado)\n",
    "\n",
    "            return ret\n",
    "\n",
    "        ret = recorrer(self.nodo_raiz)\n",
    "        return ret\n",
    "\n",
    "\n",
    "T = ArbolBinarioPostOrder()\n",
    "T.agregar_nodo(4)\n",
    "T.agregar_nodo(1)\n",
    "T.agregar_nodo(5)\n",
    "T.agregar_nodo(3)\n",
    "T.agregar_nodo(20)\n",
    "\n",
    "print(T)"
   ]
  },
  {
   "cell_type": "markdown",
   "metadata": {},
   "source": [
    "# Listas Ligadas\n",
    "\n",
    "Las listas ligadas pueden ser consideradas como un caso particular de árbol. Corresponden a una secuencia de nodos, donde cada nodo posee un solo nodo del cual proviene o **nodo padre** y un solo nodo descendiente o **hijo**. El primer nodo de la lista es denominado <b>cabeza</b> (head), y el último <b>cola</b> (tail). Los nodos pueden ser modelados por un objeto cuyos atributos son: <b>valor</b> y <b>próximo</b> (next). El campo *next* contiene la referencia al siguiente nodo de la lista. En el nodo cola, el atributo next queda vacío o None.\n",
    "\n",
    "![](img/linked-list.png)\n"
   ]
  },
  {
   "cell_type": "code",
   "execution_count": 13,
   "metadata": {
    "collapsed": false
   },
   "outputs": [
    {
     "name": "stdout",
     "output_type": "stream",
     "text": [
      "7\n",
      "4\n",
      "2->4->7->\n"
     ]
    }
   ],
   "source": [
    "class Nodo:\n",
    "    # Creamos la estructura del nodo\n",
    "    \n",
    "    def __init__(self, valor=None):\n",
    "        self.siguiente = None\n",
    "        self.valor = valor\n",
    "\n",
    "class ListaLigada:\n",
    "    def __init__(self):\n",
    "        self.cola = None\n",
    "        self.cabeza = None\n",
    "\n",
    "    def agregar_nodo(self, valor):\n",
    "        if not self.cabeza:\n",
    "            # Revisamos si el nodo cabeza tiene un nodo asignado.\n",
    "            # Si no tiene nodo, creamos un nodo\n",
    "            self.cabeza = Nodo(valor)\n",
    "            self.cola = self.cabeza\n",
    "        else:\n",
    "            # Si ya tiene un nodo\n",
    "            self.cola.siguiente = Nodo(valor)\n",
    "            self.cola = self.cola.siguiente\n",
    "\n",
    "    def obtener(self, posicion):\n",
    "        nodo = self.cabeza\n",
    "        \n",
    "        for i in range(posicion):\n",
    "            if nodo:\n",
    "                nodo = nodo.siguiente\n",
    "        if not nodo:\n",
    "            return \"posicion no encontrada\"\n",
    "        else:\n",
    "            return nodo.valor\n",
    "\n",
    "    def __repr__(self):\n",
    "        rep = ''\n",
    "        nodo_actual = self.cabeza\n",
    "        \n",
    "        while nodo_actual:\n",
    "            rep += '{0}->'.format(nodo_actual.valor)\n",
    "            nodo_actual = nodo_actual.siguiente\n",
    "        \n",
    "        return rep\n",
    "    \n",
    "l = ListaLigada()\n",
    "l.agregar_nodo(2)\n",
    "l.agregar_nodo(4)\n",
    "l.agregar_nodo(7)\n",
    "\n",
    "print(l.obtener(2))\n",
    "print(l.obtener(1))\n",
    "\n",
    "print(l)"
   ]
  },
  {
   "cell_type": "markdown",
   "metadata": {},
   "source": [
    "<font size='1' face='Arial'><sup>1</sup>Agradecemos a los ayudantes del curso Belén Saldías, Ivania Donoso, Patricio López, Jaime Castro, Rodrigo Gómez y Marco Bucchi por su colaboración durante la revisión de este material.</font>"
   ]
  }
 ],
 "metadata": {
  "anaconda-cloud": {},
  "kernelspec": {
   "display_name": "Python 3",
   "language": "python",
   "name": "python3"
  },
  "language_info": {
   "codemirror_mode": {
    "name": "ipython",
    "version": 3
   },
   "file_extension": ".py",
   "mimetype": "text/x-python",
   "name": "python",
   "nbconvert_exporter": "python",
   "pygments_lexer": "ipython3",
   "version": "3.6.0"
  }
 },
 "nbformat": 4,
 "nbformat_minor": 1
}
