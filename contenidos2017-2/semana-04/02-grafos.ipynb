{
 "cells": [
  {
   "cell_type": "markdown",
   "metadata": {},
   "source": [
    "<p>\n",
    "<font size='5' face='Georgia, Arial'>IIC-2233 Apunte Programación Avanzada</font><br>\n",
    "<font size='1'>&copy; 2016-2017 Ivania Donoso - Antonio Ossa. </font>\n",
    "</p>"
   ]
  },
  {
   "cell_type": "markdown",
   "metadata": {},
   "source": [
    "# Grafos\n",
    "Un grafo es un conjunto no vacío de nodos y las relaciones entre estos nodos. En teoría de grafos a los nodos se les llama **vértices** y a las relaciones entre ellos **aristas**. \n",
    "\n",
    "Los grafos pueden ser dirigidos o no dirigidos. Que un grafo sea dirigido significa que las relaciones entre los nodos tienen una orientación: si el ```nodo_a``` está relacionado con el ```nodo_b```, esto no signfica que el nodo_b está relacionado con el ```nodo_a```. En cambio, en los grafos no digiridos, las relaciones son son simétricas: si el ```nodo_a``` está relacionado con el ```nodo_b```, entonces el ```nodo_b``` está relacionado con el ```nodo_a```.\n",
    "![](img/grafos.png)"
   ]
  },
  {
   "cell_type": "markdown",
   "metadata": {},
   "source": [
    "En este curso no estudiaremos teoría de grafos, solo veremos las estructuras de datos que se usan para representarlos y operar con ellos. \n",
    "\n",
    "## Estructura\n",
    "\n",
    "Existen múltiples formas para representar grafos. En este curso veremos 4: representación con nodos, listas de adyacencia, matrices de adyacencia y matrices de incidencia. \n",
    "\n",
    "### Representación con nodos\n",
    "Esta es la forma más natural de representar un grafo: se define la clase nodo, que tiene una lista de nodos a los cuáles está relacionado. Solo se tiene acceso directo a un nodo, tal y como sucede con los árboles. "
   ]
  },
  {
   "cell_type": "code",
   "execution_count": 1,
   "metadata": {
    "collapsed": true
   },
   "outputs": [],
   "source": [
    "class Node:\n",
    "    \n",
    "    def __init__(self, value):\n",
    "        self.value = value\n",
    "        self.connections = []\n",
    "        \n",
    "    def add_vertex(self, value):\n",
    "        self.connections.append(value)\n",
    "        \n",
    "    def __repr__(self):\n",
    "        l = \"Node: {} \".format(self.value)\n",
    "        if len(self.connections) > 0:\n",
    "            l += \"-> (\"+ \",\".join([c.__repr__() for c in self.connections]) + \")\"\n",
    "        return l\n",
    "    \n",
    "\n",
    "grafo = Node(1)\n",
    "last = grafo\n",
    "n_5 = Node(5)\n",
    "for i in range(2, 5):\n",
    "    n = Node(i)\n",
    "    last.add_vertex(n)\n",
    "    last = n\n",
    "    if i == 3:\n",
    "        last.add_vertex(n_5)\n",
    "    elif i ==4:\n",
    "        last.add_vertex(n_5)\n",
    "        "
   ]
  },
  {
   "cell_type": "code",
   "execution_count": 2,
   "metadata": {},
   "outputs": [
    {
     "name": "stdout",
     "output_type": "stream",
     "text": [
      "Node: 1 -> (Node: 2 -> (Node: 3 -> (Node: 5 ,Node: 4 -> (Node: 5 ))))\n"
     ]
    }
   ],
   "source": [
    "print(grafo)"
   ]
  },
  {
   "cell_type": "markdown",
   "metadata": {},
   "source": [
    "\n",
    "### Lista de Adyacencia\n",
    "\n",
    "En esta estructura todos los vertices se guardan en una lista, y a su vez cada uno de ellos guarda una lista con los vértices con los que está relacionados. Los grafos de arriba se representarían como:"
   ]
  },
  {
   "cell_type": "code",
   "execution_count": 3,
   "metadata": {
    "collapsed": true
   },
   "outputs": [],
   "source": [
    "# Aquí usamos diccionarios int: list porque ofrece más facilidad de búsqueda.\n",
    "# También podrían ser list(tuple(int, list)). Por qué no sería correcto hacer list(list(int, list))?\n",
    "grafo_no_dirigido = {1: [2], 2: [1, 3], 3: [2, 4, 5], 4: [3, 5], 5: [3, 4]}\n",
    "grafo_dirigido = {1: [2], 2: [3], 3: [4, 5], 4: [5], 5: []}"
   ]
  },
  {
   "cell_type": "markdown",
   "metadata": {},
   "source": [
    "### Matriz de Adyacencia\n",
    "\n",
    "Son matrices de dos dimensiones, donde las filas representan los vértices de origen y las columnas los vértices de llegada. En python las podemos representar con listas de listas, o utilizar numpy para generarlas."
   ]
  },
  {
   "cell_type": "code",
   "execution_count": 4,
   "metadata": {
    "collapsed": true
   },
   "outputs": [],
   "source": [
    "grafo_no_dirigido = [[0, 1, 0, 0, 0], [1, 0, 1, 0, 0], [0, 1, 0, 1, 1], [0, 0, 1, 0, 1], [0, 0, 1, 1, 0]]\n",
    "grafo_dirigido = [[0, 1, 0, 0, 0], [0, 0, 1, 0, 0], [0, 0, 0, 1, 1], [0, 0, 0, 0, 1], [0, 0, 0, 0, 0]]"
   ]
  },
  {
   "cell_type": "code",
   "execution_count": 5,
   "metadata": {},
   "outputs": [
    {
     "name": "stdout",
     "output_type": "stream",
     "text": [
      "[0, 1, 0, 0, 0]\n",
      "[1, 0, 1, 0, 0]\n",
      "[0, 1, 0, 1, 1]\n",
      "[0, 0, 1, 0, 1]\n",
      "[0, 0, 1, 1, 0]\n",
      "\n",
      "[0, 1, 0, 0, 0]\n",
      "[0, 0, 1, 0, 0]\n",
      "[0, 0, 0, 1, 1]\n",
      "[0, 0, 0, 0, 1]\n",
      "[0, 0, 0, 0, 0]\n"
     ]
    }
   ],
   "source": [
    "for v in grafo_no_dirigido:\n",
    "    print(v)\n",
    "print(\"\")\n",
    "for v in grafo_dirigido:\n",
    "    print(v)"
   ]
  },
  {
   "cell_type": "markdown",
   "metadata": {},
   "source": [
    "### Matriz de incidencia\n",
    "\n",
    "También son matrices de dos dimensiones. La diferencia con la *matriz de adyacencia* es que aquí las filas son los vértices y las columnas son las aristas. Se pone un *uno* cuando un vértice está conectado a una arista y un *cero* cuando no hay conexión.  \n",
    "\n",
    "Si el grafo es dirigido, se debe poner un *menos uno* en las filas de los vértices que \"reciben\"."
   ]
  },
  {
   "cell_type": "code",
   "execution_count": 10,
   "metadata": {
    "collapsed": true
   },
   "outputs": [],
   "source": [
    "grafo_no_dirigido = [[1, 0, 0, 0, 0], [1, 1, 0, 0, 0], [0, 1, 1, 1, 0], [0, 0, 1, 0, 1], [0, 0, 0, 1, 1]]\n",
    "grafo_dirigido = [[1, 0, 0, 0, 0], [-1, 1, 0, 0, 0], [0, -1, 1, 1, 0], [0, 0, -1, 0, 1], [0, 0, 0, -1, -1]]"
   ]
  },
  {
   "cell_type": "code",
   "execution_count": 12,
   "metadata": {},
   "outputs": [
    {
     "name": "stdout",
     "output_type": "stream",
     "text": [
      "[1, 0, 0, 0, 0]\n",
      "[1, 1, 0, 0, 0]\n",
      "[0, 1, 1, 1, 0]\n",
      "[0, 0, 1, 0, 1]\n",
      "[0, 0, 0, 1, 1]\n",
      "\n",
      "[1, 0, 0, 0, 0]\n",
      "[-1, 1, 0, 0, 0]\n",
      "[0, -1, 1, 1, 0]\n",
      "[0, 0, -1, 0, 1]\n",
      "[0, 0, 0, -1, -1]\n"
     ]
    }
   ],
   "source": [
    "for v in grafo_no_dirigido:\n",
    "    print(v)\n",
    "print()\n",
    "for v in grafo_dirigido:\n",
    "    print(v)"
   ]
  },
  {
   "cell_type": "markdown",
   "metadata": {},
   "source": [
    "## Operaciones básicas"
   ]
  },
  {
   "cell_type": "markdown",
   "metadata": {},
   "source": [
    "Las operaciones básicas que implementan estas estructuras de datos son:\n",
    "\n",
    "**```adjacent(G, x, y)```**: verifica que exista una arista entre ```x``` e ```y```.\n",
    "\n",
    "**```neighbors(G, x)```**: entrega una lista con todos los vértices ```y``` tales que existe una arista entre ```x``` e ```y```.\n",
    "\n",
    "**```add_vertex(G, x)```**: agrega el vértice ```x```.\n",
    "\n",
    "**```remove_vertex(G, x)```**: remueve el vértice ```x```.\n",
    "\n",
    "**```add_edge(G, x, y)```**: agrega una arista entre los vértices ```x``` e ```y```.\n",
    "\n",
    "**```remove_edge(G, x, y)```**: remueve la arista entre ```x``` e ```y```.\n",
    "\n",
    "**```get_vertex_value(G, x)```**: obtiene el valor asociado al vértice ```x```.\n",
    "\n",
    "**```set_vertex_value(G, x, v)```**: asigna un valor al vértice ```x```.\n",
    "\n",
    "**```get_edge_value(G, x, y)```**: retorna el valor asociado con la arista que existe entre ```x``` e ```y```.\n",
    "\n",
    "**```set_edge_value(G, x, y)```**: asigna un valor a la arista que existe entre ```x``` e ```y```.\n"
   ]
  },
  {
   "cell_type": "markdown",
   "metadata": {},
   "source": [
    "## Ejemplo"
   ]
  },
  {
   "cell_type": "markdown",
   "metadata": {},
   "source": [
    "Supongamos que quieres representar a tus amigos como un grafo. **Cada nodo sería una persona**, y cada vez que un nodo A se conecte con un nodo B significa que **A considera que B es su amigo :D**. No siempre esta relación es simétrica, es decir, no siempre nuestros amigos creen que somos sus amigos D: De hecho, cerca de la mitad de las personas que consideramos nuestros amigos no nos consideran amigos suyos :'(,  [comprobado cientificamente](http://www.nytimes.com/2016/08/07/opinion/sunday/do-your-friends-actually-like-you.html). Por lo tanto el grafo que tendremos que representar es un **grafo dirigido**\n",
    "\n",
    "Partamos con la clase Persona:"
   ]
  },
  {
   "cell_type": "code",
   "execution_count": 8,
   "metadata": {
    "collapsed": true
   },
   "outputs": [],
   "source": [
    "class Persona:\n",
    "\n",
    "    def __init__(self, nombre, edad):\n",
    "        self.nombre = nombre\n",
    "        self.edad = edad\n",
    "\n",
    "    def __repr__(self):\n",
    "        return self.nombre"
   ]
  },
  {
   "cell_type": "markdown",
   "metadata": {},
   "source": [
    "Como dijimos, cada nodo es una persona. Para esto tenemos dos posibilidades: cada nodo tiene como valor a un objeto del tipo Persona, o cada Persona es un nodo en el grafo. Para este ejemplo crearemos una clase Nodo cuyo valor sea del tipo Persona."
   ]
  },
  {
   "cell_type": "code",
   "execution_count": 9,
   "metadata": {
    "collapsed": true
   },
   "outputs": [],
   "source": [
    "class Nodo:\n",
    "\n",
    "    def __init__(self, valor):\n",
    "        self.valor = valor\n",
    "        \n",
    "    def __repr__(self):\n",
    "        return repr(self.valor)"
   ]
  },
  {
   "cell_type": "markdown",
   "metadata": {},
   "source": [
    "Ahora definimos la clase Grafo, o Graph, sobre la cual realizaremos nuestras operaciones"
   ]
  },
  {
   "cell_type": "code",
   "execution_count": 10,
   "metadata": {
    "collapsed": true
   },
   "outputs": [],
   "source": [
    "class Grafo:\n",
    "\n",
    "    def __init__(self, lista_adjacencia=None):\n",
    "        self.lista_adjacencia = dict() if lista_adjacencia is None else lista_adjacencia\n",
    "\n",
    "    def adjacent(self, x, y):\n",
    "        return y in self.lista_adjacencia[x]\n",
    "\n",
    "    def neighbors(self, x):\n",
    "        return self.lista_adjacencia[x]\n",
    "\n",
    "    def add_vertex(self, x):\n",
    "        self.lista_adjacencia[x] = set()\n",
    "\n",
    "    def remove_vertex(self, x):\n",
    "        self.lista_adjacencia.pop(x, None)\n",
    "        for k, v in self.lista_adjacencia.items():\n",
    "            if x in v:\n",
    "                v.remove(x)\n",
    "\n",
    "    def add_edge(self, x, y):\n",
    "        if x in self.lista_adjacencia:\n",
    "            self.lista_adjacencia[x].add(y)\n",
    "\n",
    "    def remove_edge(self, x, y):\n",
    "        vertice = self.lista_adjacencia.get(x, list())\n",
    "        if y in vertice:\n",
    "            vertice.remove(y)\n",
    "\n",
    "    def get_vertex_value(self, x):\n",
    "        return self.lista_adjacencia.get(x, None)\n",
    "\n",
    "    def set_vertex_value(self, x, v):\n",
    "        self.lista_adjacencia[v] = self.lista_adjacencia.pop(x)\n",
    "\n",
    "    def get_edge_value(self, x, y):\n",
    "        pass\n",
    "\n",
    "    def set_edge_value(self, x, y):\n",
    "        pass\n",
    "\n",
    "    def __repr__(self):\n",
    "        output = list()\n",
    "        for k, v in self.lista_adjacencia.items():\n",
    "            output.append(\"{} dice que sus amigos son: {}\".format(k, v))\n",
    "        return \"\\n\".join(output)"
   ]
  },
  {
   "cell_type": "markdown",
   "metadata": {},
   "source": [
    "Veamos como se llevan algunos ayudantes del curso :O (*Las opiniones vertidas en éste código son de exclusiva responsabilidad de quienes coordinan el curso (a.k.a Bastián) y no representan necesariamente el pensamiento de quien programó este código*)"
   ]
  },
  {
   "cell_type": "code",
   "execution_count": 11,
   "metadata": {},
   "outputs": [
    {
     "data": {
      "text/plain": [
       "Bastian dice que sus amigos son: {Florencia B, Matías, Freddie, Florencia V, Ivania, Antonio}\n",
       "Florencia B dice que sus amigos son: {Ivania, Matías, Antonio, Florencia V}\n",
       "Florencia V dice que sus amigos son: {Ivania, Freddie, Florencia B}\n",
       "Ivania dice que sus amigos son: {Freddie, Florencia B, Antonio, Florencia V}\n",
       "Matías dice que sus amigos son: {Freddie, Antonio}\n",
       "Antonio dice que sus amigos son: {Ivania, Matías, Florencia V}"
      ]
     },
     "execution_count": 11,
     "metadata": {},
     "output_type": "execute_result"
    }
   ],
   "source": [
    "# Creamos a nuestros ayudantes y guardemoslos en nodos\n",
    "bamavrakis = Nodo(Persona(\"Bastian\", 15))\n",
    "fvr1 = Nodo(Persona(\"Florencia V\", 20))\n",
    "aaossa = Nodo(Persona(\"Antonio\", 21))\n",
    "flobarrios = Nodo(Persona(\"Florencia B\", 20))\n",
    "mjjunemann = Nodo(Persona(\"Matías\", 20))\n",
    "fgvenegas = Nodo(Persona(\"Freddie\", 10))\n",
    "indonoso = Nodo(Persona(\"Ivania\", 22))\n",
    "\n",
    "# Definimos las amistades\n",
    "amistades = {\n",
    "    bamavrakis: set([fvr1, aaossa, flobarrios, mjjunemann, fgvenegas, indonoso]),\n",
    "    fvr1: set([flobarrios, fgvenegas, indonoso]),\n",
    "    aaossa: set([fvr1, mjjunemann, indonoso]),\n",
    "    mjjunemann: set([aaossa, fgvenegas]),\n",
    "    flobarrios: set([fvr1, aaossa, mjjunemann, indonoso]),\n",
    "    indonoso: set([fvr1, aaossa, flobarrios, fgvenegas])\n",
    "}\n",
    "\n",
    "grafo = Grafo(amistades)\n",
    "grafo"
   ]
  },
  {
   "cell_type": "code",
   "execution_count": 12,
   "metadata": {},
   "outputs": [
    {
     "name": "stdout",
     "output_type": "stream",
     "text": [
      "Freddie dice que sus amigos son: set()\n",
      "Freddie dice que sus amigos son: {Bastian, Antonio}\n"
     ]
    }
   ],
   "source": [
    "# Rayos! Nos olvidamos de un ayudante...\n",
    "# Siempre nos olvidamos de Freddie :(\n",
    "grafo.add_vertex(fgvenegas)\n",
    "print(\"Freddie dice que sus amigos son: {}\".format(\n",
    "    grafo.get_vertex_value(fgvenegas)))\n",
    "\n",
    "# Freddie dice que tiene algunos amigos\n",
    "grafo.add_edge(fgvenegas, aaossa)\n",
    "grafo.add_edge(fgvenegas, bamavrakis)\n",
    "print(\"Freddie dice que sus amigos son: {}\".format(\n",
    "    grafo.get_vertex_value(fgvenegas)))\n",
    "\n",
    "# Y June dice que Freddie es su amigo\n",
    "grafo.add_edge(mjjunemann, fgvenegas)"
   ]
  },
  {
   "cell_type": "code",
   "execution_count": 13,
   "metadata": {},
   "outputs": [
    {
     "data": {
      "text/plain": [
       "Bastian dice que sus amigos son: {Florencia B, Matías, Freddie, Ivania, Antonio}\n",
       "Freddie dice que sus amigos son: {Bastian, Antonio}\n",
       "Florencia B dice que sus amigos son: {Ivania, Matías, Antonio}\n",
       "Ivania dice que sus amigos son: {Freddie, Florencia B, Antonio}\n",
       "Matías dice que sus amigos son: {Freddie, Antonio}\n",
       "Antonio dice que sus amigos son: {Ivania, Matías}"
      ]
     },
     "execution_count": 13,
     "metadata": {},
     "output_type": "execute_result"
    }
   ],
   "source": [
    "# A Flory le cae mal Freddie :( Asi que renuncia\n",
    "grafo.remove_vertex(fvr1)\n",
    "grafo"
   ]
  },
  {
   "cell_type": "code",
   "execution_count": 14,
   "metadata": {
    "collapsed": true
   },
   "outputs": [],
   "source": [
    "def dfs(graph, start):\n",
    "    visited, stack = list(), [start]\n",
    "    while stack:\n",
    "        vertex = stack.pop()\n",
    "        if vertex not in visited:\n",
    "            visited.append(vertex)\n",
    "            for v in graph[vertex]:\n",
    "                if v not in visited:\n",
    "                    stack.append(v)   \n",
    "    return visited"
   ]
  },
  {
   "cell_type": "code",
   "execution_count": 15,
   "metadata": {},
   "outputs": [
    {
     "data": {
      "text/plain": [
       "[Bastian, Antonio, Matías, Freddie, Ivania, Florencia B]"
      ]
     },
     "execution_count": 15,
     "metadata": {},
     "output_type": "execute_result"
    }
   ],
   "source": [
    "dfs(amistades, bamavrakis)"
   ]
  },
  {
   "cell_type": "code",
   "execution_count": 16,
   "metadata": {
    "collapsed": true
   },
   "outputs": [],
   "source": [
    "def bfs(graph, start):\n",
    "    visited, queue = list(), [start]\n",
    "    while queue:\n",
    "        vertex = queue.pop(0)\n",
    "        if vertex not in visited:\n",
    "            visited.append(vertex)\n",
    "            for v in graph[vertex]:\n",
    "                if v not in visited:\n",
    "                    queue.append(v)\n",
    "    return visited"
   ]
  },
  {
   "cell_type": "code",
   "execution_count": 17,
   "metadata": {},
   "outputs": [
    {
     "data": {
      "text/plain": [
       "[Ivania, Freddie, Florencia B, Antonio, Bastian, Matías]"
      ]
     },
     "execution_count": 17,
     "metadata": {},
     "output_type": "execute_result"
    }
   ],
   "source": [
    "bfs(amistades, indonoso)"
   ]
  },
  {
   "cell_type": "code",
   "execution_count": 18,
   "metadata": {
    "collapsed": true
   },
   "outputs": [],
   "source": [
    "grafo = {\n",
    "    \"A\": [\"B\", \"C\", \"E\", \"G\"],\n",
    "    \"B\": [\"D\", \"F\", \"G\"],\n",
    "    \"C\": [\"B\", \"E\", \"G\"],\n",
    "    \"E\": [\"C\", \"F\"],\n",
    "    \"D\": [\"B\", \"C\", \"E\", \"G\"],\n",
    "    \"G\": [\"B\", \"C\", \"D\", \"F\"],\n",
    "    \"F\": [\"C\", \"A\" ]\n",
    "}"
   ]
  },
  {
   "cell_type": "code",
   "execution_count": 19,
   "metadata": {},
   "outputs": [
    {
     "data": {
      "text/plain": [
       "['F', 'A', 'G', 'D', 'E', 'C', 'B']"
      ]
     },
     "execution_count": 19,
     "metadata": {},
     "output_type": "execute_result"
    }
   ],
   "source": [
    "dfs(grafo, \"F\")"
   ]
  },
  {
   "cell_type": "code",
   "execution_count": 20,
   "metadata": {},
   "outputs": [
    {
     "data": {
      "text/plain": [
       "['F', 'C', 'A', 'B', 'E', 'G', 'D']"
      ]
     },
     "execution_count": 20,
     "metadata": {},
     "output_type": "execute_result"
    }
   ],
   "source": [
    "bfs(grafo, \"F\")"
   ]
  }
 ],
 "metadata": {
  "kernelspec": {
   "display_name": "Python 3",
   "language": "python",
   "name": "python3"
  },
  "language_info": {
   "codemirror_mode": {
    "name": "ipython",
    "version": 3
   },
   "file_extension": ".py",
   "mimetype": "text/x-python",
   "name": "python",
   "nbconvert_exporter": "python",
   "pygments_lexer": "ipython3",
   "version": "3.6.1"
  }
 },
 "nbformat": 4,
 "nbformat_minor": 1
}
