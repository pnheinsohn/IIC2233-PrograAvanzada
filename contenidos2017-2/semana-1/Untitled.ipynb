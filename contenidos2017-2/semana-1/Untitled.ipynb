{
 "cells": [
  {
   "cell_type": "code",
   "execution_count": 73,
   "metadata": {
    "collapsed": true
   },
   "outputs": [],
   "source": [
    "import datetime\n",
    "\n",
    "class PostIt:\n",
    "    last_id = 0 #variable estática para manejar el ultimo id generado\n",
    "    \n",
    "    def __init__(self, mensaje, tags = ''):\n",
    "        self.mensaje = mensaje\n",
    "        self.tags = tags\n",
    "        self.creation_date = datetime.date.today()\n",
    "        self._id = PostIt.last_id #variable de la clase para manejar el ultimo id generado\n",
    "        PostIt.last_id += 1\n",
    "\n",
    "    def match(self, keyword):\n",
    "        return keyword in self.mensaje or keyword in self.tags\n"
   ]
  },
  {
   "cell_type": "code",
   "execution_count": 74,
   "metadata": {
    "collapsed": true
   },
   "outputs": [],
   "source": [
    "class Panel:\n",
    "\n",
    "    def __init__(self):\n",
    "        self.postit_dict = {}\n",
    "\n",
    "    def nuevo_postit(self, texto, tags=''):\n",
    "        p = PostIt(texto, tags)\n",
    "        self.postit_dict.update({p._id : p})\n",
    "\n",
    "    def modifica_mensaje(self, postit_id, mensaje_nuevo):\n",
    "        self.postit_dict[postit_id].mensaje = mensaje_nuevo\n",
    "\n",
    "\n",
    "    def modifica_tags(self, postit_id, tags_nuevos):\n",
    "        self.postit_dict[postit_id].tags = tags_nuevos\n",
    "\n",
    "    def buscar_postits(self, keyword):\n",
    "        return [p for p in self.postit_dict.values() if p.match(keyword)]"
   ]
  },
  {
   "cell_type": "code",
   "execution_count": 75,
   "metadata": {
    "collapsed": true
   },
   "outputs": [],
   "source": [
    "p1 = PostIt(\"mensajeN°1\", \"primero\")\n",
    "p2 = PostIt(\"mensajeN°2\", \"segundo\")\n",
    "p3 = PostIt(\"mensajeN°3\", \"tercero\")"
   ]
  },
  {
   "cell_type": "code",
   "execution_count": 76,
   "metadata": {
    "collapsed": false
   },
   "outputs": [
    {
     "name": "stdout",
     "output_type": "stream",
     "text": [
      "True\n"
     ]
    }
   ],
   "source": [
    "print(p1.match(\"p\"))"
   ]
  },
  {
   "cell_type": "code",
   "execution_count": 77,
   "metadata": {
    "collapsed": true
   },
   "outputs": [],
   "source": [
    "panel = Panel()\n",
    "panel.nuevo_postit(\"mensajeN°4\", \"cuarto\")\n",
    "panel.nuevo_postit(\"mensajeN°5\", \"cinco\")"
   ]
  },
  {
   "cell_type": "code",
   "execution_count": 97,
   "metadata": {
    "collapsed": false
   },
   "outputs": [
    {
     "name": "stdout",
     "output_type": "stream",
     "text": [
      "3 mensajeN°4\n",
      "3 mensajeN°5\n",
      "4 mensajeN°4\n",
      "4 mensajeN°5\n"
     ]
    }
   ],
   "source": [
    "for x in panel.postit_dict:\n",
    "    print (x, panel.buscar_postits(\"men\")[0].mensaje)\n",
    "    print (x, panel.buscar_postits(\"men\")[1].mensaje)\n"
   ]
  },
  {
   "cell_type": "code",
   "execution_count": 113,
   "metadata": {
    "collapsed": false
   },
   "outputs": [
    {
     "name": "stdout",
     "output_type": "stream",
     "text": [
      "mensajeN°4\n",
      "mensajeN°5\n"
     ]
    }
   ],
   "source": [
    "for x in range(2):\n",
    "    print(panel.buscar_postits(\"men\")[x].mensaje)"
   ]
  },
  {
   "cell_type": "code",
   "execution_count": 103,
   "metadata": {
    "collapsed": false
   },
   "outputs": [
    {
     "name": "stdout",
     "output_type": "stream",
     "text": [
      "<generator object <genexpr> at 0x00000234003F88E0>\n",
      "<generator object <genexpr> at 0x00000234003F88E0>\n"
     ]
    }
   ],
   "source": [
    "for x in panel.postit_dict:\n",
    "    print(p for p in panel.postit_dict.values())\n"
   ]
  },
  {
   "cell_type": "code",
   "execution_count": null,
   "metadata": {
    "collapsed": true
   },
   "outputs": [],
   "source": []
  }
 ],
 "metadata": {
  "kernelspec": {
   "display_name": "Python 3",
   "language": "python",
   "name": "python3"
  },
  "language_info": {
   "codemirror_mode": {
    "name": "ipython",
    "version": 3
   },
   "file_extension": ".py",
   "mimetype": "text/x-python",
   "name": "python",
   "nbconvert_exporter": "python",
   "pygments_lexer": "ipython3",
   "version": "3.6.0"
  }
 },
 "nbformat": 4,
 "nbformat_minor": 2
}
