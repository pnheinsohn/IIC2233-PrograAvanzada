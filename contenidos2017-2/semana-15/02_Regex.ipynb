{
 "cells": [
  {
   "cell_type": "markdown",
   "metadata": {},
   "source": [
    "<p>\n",
    "<font size='5' face='Georgia, Arial'>IIC-2233 Apunte Programación Avanzada</font><br>\n",
    "<font size='1'>&copy; 2016 Karim Pichara - Christian Pieringer. Todos los derechos reservados.</font>\n",
    "</p>"
   ]
  },
  {
   "cell_type": "markdown",
   "metadata": {},
   "source": [
    "# _Regular Expressions_\n",
    "\n",
    "Hasta ahora cada vez que necesitamos procesar la información contenida en _strings_ lo hemos hecho mediante los mismos métodos que los objetos de esta clase (`str`) nos provee. Esto es fácil cuando el texto que analizamos es relativamente simple. Por ejemplo si queremos separar un _string_ de acuerdo a un carácter especial solo deberíamos hacer `string.split('caracter')`; o bien si necesitamos buscar una secuencia dentro de un string cualquiera podemos usar el método `find()`. Sin embargo, cuando la información está contenida en _strings_ complejos o bien cuando necesitamos buscar múltiples secuencias dentro de información, existe una forma más eficiente y poderosa usando patrones.\n",
    "\n",
    "Estos patrones se conocen como **expresiones regulares** o **RE** o **regex**. Las expresiones regulares corresponden a secuencias especiales de caracteres que nos permiten comparar, buscar _strings_ o conjuntos de _strings_, entre otras. Las expresiones regulares se definen como un patrón mediante una sintaxis especializada. Algunos ejemplos de situaciones que pueden ser resueltas usando expresiones son: validación de formularios, búsqueda y reemplazo, transformación de texto, y procesamiento de registros (_logs_).\n",
    "\n",
    "Aunque hoy en día varios lenguajes permiten el uso de expresiones regulares, estas vienen siendo usadas desde el año 1956 cuando fueron propuestas por el matemático [Stephen Kleene](https://en.wikipedia.org/wiki/Stephen_Cole_Kleene). "
   ]
  },
  {
   "cell_type": "markdown",
   "metadata": {},
   "source": [
    "Las expresiones regulares se deben definir utilizando un conjunto de caracteres denominados **meta-carateres**. Algunos de ellos son:\n",
    "\n",
    "- **```[ ]```**: usados para especificar clases de caracteres. Los meta-caracteres no funcionan dentro de las clases. \n",
    "\n",
    "- **```-```**: permite definir rangos de caracteres. Se usan en conjunto con \"`[ ]`\".\n",
    "\n",
    "- **```+```**: usado para indicar que la clase definida estará presente una o más veces.\n",
    "\n",
    "- **```*```**: cumple la función como complemento de \"`+`\", *i.e.*, que la expresión definida en una clase no aparezca ninguna vez en el string.\n",
    "\n",
    "- **```?```**: permite indicar que la expresión definida en el patrón puede estar una vez, o no estar.\n",
    "\n",
    "- **```.```**: usado para representar cualquier carácter, excepto un salto de línea.\n",
    "\n",
    "- **```( )```**: cumplen la función de delimitadores\n",
    "\n",
    "- **```|```**: utilizado para separar grupos de secuencias. Con esto se considerará que en ese lugar puedan ser consideradas los grupos de patrones.\n",
    "\n",
    "- **```\\```**: permite que los meta-caracteres puedan ser incorporados como parte del patrón y no sean considerados como especiales\n",
    "- **```{m, n}```**: usado para indicar que la clase definida estará presente entre m y n. También puede ser una cantidad fija m."
   ]
  },
  {
   "cell_type": "markdown",
   "metadata": {},
   "source": [
    "Python provee el módulo `re` para el uso de expresiones regulares. Dentro de las funcionalidades que nos permite el módulo `re` de Python se encuentran:\n",
    "\n",
    "- Verificar si un string cumple con un patrón: ``re.match()``\n",
    "- Revisar si algún sub-string cumple con el patrón: ``re.search()``\n",
    "- Realizar el reemplazo del patrón por otra secuencia de caracteres: ``re.sub()``\n",
    "- Separar un string de acuerdo al patrón: ``re.split()``\n",
    "\n",
    "\n",
    "\n",
    "### _Matching_\n",
    "\n",
    "Las expresiones regulares son fuertemente utilizadas en operaciones de comparación o _matching_. A continuación revisaremos algunos ejemplos y sus resultados."
   ]
  },
  {
   "cell_type": "code",
   "execution_count": 2,
   "metadata": {
    "collapsed": true
   },
   "outputs": [],
   "source": [
    "# Para cargar el módulo re\n",
    "import re"
   ]
  },
  {
   "cell_type": "code",
   "execution_count": 3,
   "metadata": {
    "collapsed": false
   },
   "outputs": [
    {
     "name": "stdout",
     "output_type": "stream",
     "text": [
      "None\n",
      "<_sre.SRE_Match object; span=(0, 5), match='4ttkb'>\n",
      "None\n",
      "None\n",
      "None\n",
      "<_sre.SRE_Match object; span=(0, 5), match='4ttab'>\n",
      "None\n"
     ]
    }
   ],
   "source": [
    "# Definamos un conjunto de secuencias que necesitamos verificar cumplen con \n",
    "# un determinado patrón.\n",
    "seq = [\"4tt\", \"4ttkbcabc32\", \"3ssafjabc33\", \"4tssssghj33\", \"44ttabcdag60\", \"4ttabcfgh41\", \"3ttabc4ttyb\"]\n",
    "for s in seq:\n",
    "    print(re.match('(4tt.b)', s))"
   ]
  },
  {
   "cell_type": "markdown",
   "metadata": {},
   "source": [
    "El patrón que estamos utilizando es `^(4tt.b)`. El meta-caracter `^` nos permite indicar que la subsecuencia `(4tt.b)` **debe** estar en la primera casilla. La delimitamos como grupo usando \"`( )`\". A pesar del patrón, el método ```match()``` de **re** siempre busca al comienzo del string.\n",
    "\n",
    "El método match retorna un objeto tipo `Match`, donde algunos de los atributos más relevantes son:\n",
    "\n",
    "- `span`: tupla que indica el inicio y término del patrón comparado\n",
    "\n",
    "- `group(índice)`: el patrón que fue comparado y que aparece en el campo `match`.\n",
    "\n",
    "\n",
    "El resultado de `match()` puede ser utilizado directamente como condición de sentencias `if`, `while`, etc. En el siguiente ejemplo verificaremos si las secuencias en `seq` cumplen con el patrón de tener la sub-secuencia caracteres `4tt.b` al comienzo de la secuencia. \n"
   ]
  },
  {
   "cell_type": "code",
   "execution_count": 9,
   "metadata": {
    "collapsed": false
   },
   "outputs": [
    {
     "name": "stdout",
     "output_type": "stream",
     "text": [
      "4tt cumple con el patron\n",
      "4ttkbcabc32 cumple con el patron\n",
      "4ttabcfgh41 cumple con el patron\n"
     ]
    }
   ],
   "source": [
    "# Recordar las secuencias\n",
    "# seq = [\"4tt\", \"4ttabcabc32\", \"3ssafjabc33\", \"4tssssghj33\", \"44ttabcdag60\", \"4ttabcfgh41\", \"3ttabc4tt\"]\n",
    "\n",
    "for s in seq:    \n",
    "    if re.match('^(4tt)', s):\n",
    "        print(\"{} cumple con el patron\".format(s))"
   ]
  },
  {
   "cell_type": "markdown",
   "metadata": {},
   "source": [
    "Ahora modifiquemos el patrón para que permita detectar en repeticiones de un grupo de caracteres. Para esto incorporaremos al  patrón utilizado el grupo de caracteres como `(abc)`."
   ]
  },
  {
   "cell_type": "code",
   "execution_count": 15,
   "metadata": {
    "collapsed": false
   },
   "outputs": [
    {
     "name": "stdout",
     "output_type": "stream",
     "text": [
      "4ttabcfgh41 cumple con el patron\n"
     ]
    }
   ],
   "source": [
    "for s in seq:\n",
    "    if re.match('^4tt(abc){1}', s):\n",
    "        print(\"{} cumple con el patron\".format(s))"
   ]
  },
  {
   "cell_type": "code",
   "execution_count": 16,
   "metadata": {
    "collapsed": false
   },
   "outputs": [
    {
     "name": "stdout",
     "output_type": "stream",
     "text": [
      "4tt cumple con el patron\n",
      "4ttkbcabc32 cumple con el patron\n",
      "4ttabcfgh41 cumple con el patron\n"
     ]
    }
   ],
   "source": [
    "for s in seq:\n",
    "    # Indicaremos con los '{ }' el número de veces que el grupo debe estar presente.\n",
    "    # Como vemos, por defecto se asume que puede estar 1 o más veces.\n",
    "    if re.match('^4tt(abc){0}', s):\n",
    "        print(\"{} cumple con el patron\".format(s))"
   ]
  },
  {
   "cell_type": "markdown",
   "metadata": {},
   "source": [
    "Veamos ahora como podríamos asegurarnos de que una dirección de correo electrónico cumpla con un determinado formato. Por ejemplo, supongamos que las direcciones que admitiremos pueden tener cualquier tipo de caracter antes de la `@` y pertenecer a al los dominios `mail.cl` o `mimail.cl`, y con esto a cualquier de las direcciones que incluyan este dominio, como por ejemplo: `seccion1.mimail.cl`, `seccion2.mimail.cl`. Para construir el patrón que nos permitirá verficar esta información, debemos hacerlo de la siguiente forma:\n",
    "\n",
    "1. Al comienzo debemos incluir los meta-caracteres `[a-zA-Z0-9_.]+`. Con esto estamos indicando que la cadena que vamos a ingresar contendrá 1 o más (`+`) caracteres entre letras mayúsculas y minúsculas, números o bien los caracteres \"`_`\" o \"`.`\", especificados en la clase mediante \"`[ ]`\";\n",
    "1. Luego irá el símbolo \"`@`\";\n",
    "1. A continuación debemos indicar que podría o no existir (\"`?`\") los subdominios `((seccion1|seccion2)\\.)?`, seguidos de un \"`.`\". En este caso debemos usar el meta-caracter \"`\\`\" para hacer que el meta-caracter \"`.`\" sea considerado como punto.\n",
    "1. Finalmente, debemos verifcar que esté presente el dominio del correo incluyendo en el patrón `(mi)?mail.cl`, indicando que la secuencia \"`mi`\" puede estar o no (\"`?`\") en el dominio. Otra forma de escribir la misma regla es creando el grupo `(mimail|mail).cl`."
   ]
  },
  {
   "cell_type": "code",
   "execution_count": 18,
   "metadata": {
    "collapsed": false
   },
   "outputs": [
    {
     "name": "stdout",
     "output_type": "stream",
     "text": [
      "True\n",
      "True\n",
      "True\n",
      "False\n",
      "False\n"
     ]
    }
   ],
   "source": [
    "def is_valid_mail(email):\n",
    "    # Recordar que el método 'match()' retorna un objeto de tipo 'Match' que al ser\n",
    "    # usado en sentencias como IF y WHILE representa un valor lógico. Podemos hacer\n",
    "    # que una función retorne un valor lógico de la operación de match haciendo la\n",
    "    # conversión a bool.\n",
    "    #\n",
    "    # Otra forma de escribir el patrón es:\n",
    "    # pattern = \"[a-zA-Z0-9_.]+@((seccion1|seccion2)\\.)?(mi)?mail.cl\"\n",
    "    pattern = \"[a-zA-Z0-9_.]+@((seccion1|seccion2)\\.)?(mimail|mail).cl\"\n",
    "    return bool(re.match(pattern, email))\n",
    "\n",
    "# Las direcciones de correo tienen consistencia con el patrón utilizado\n",
    "print(is_valid_mail('nombre.apellido@mail.cl'))\n",
    "print(is_valid_mail('nombre_aprellido@mimail.cl'))\n",
    "print(is_valid_mail('nombre1010@seccion2.mimail.cl'))\n",
    "\n",
    "# Estos los correos incluyen elementos no considerados en el patrón\n",
    "print(is_valid_mail('nombre1010@tumail.cl'))\n",
    "print(is_valid_mail('nombre101-@tumail.cl'))"
   ]
  },
  {
   "cell_type": "markdown",
   "metadata": {},
   "source": [
    "Veamos otro ejemplo que consiste en verificar que el RUT ingresado en un campo de un formulario tenga el formato especificado como: ##.###.###-#, que es una secuencias de números separados por puntos y el dígito verificador separado por guión. Debe considerar que existen números infereriores al millón, pero no menos que mil; y que el digito verificador puede ser un decimal hasta el 9 o la letra \"k\". Esto es solo a modo de ejemplo. La estructura del patrón entonces quedaría definida de la siguiente forma:\n",
    "\n",
    "1. Al comienzo, incluiremos la regla que indica que puede existir o no (\"`?`\") entre uno o dos caracteres numéricos seguidos de un \"`.`\". Esto lo indicamos como  `[0-9]{1,2}\\.?`. Dentro de \"`[]`\" estamos incluyendo la clase de caracteres numéricos y en \"`{1,2}`\" estamos indicando que habrá entre uno y dos caracteres en esta sección antes del punto;\n",
    "1. Después, incluímos los siguientes tres caracteres numéricos. Lo indicamos como `[0-9]{1,3}`;\n",
    "1. Luego, indicamos que debe haber obligatoriamente 3 dígitos incluyendo seguidos de un guión `[0-9]{3}-`;\n",
    "1. Finalmente, consideramos que haya un dígito entre 0 y 9, o bien la letra k mayúscula o minúscula."
   ]
  },
  {
   "cell_type": "code",
   "execution_count": 26,
   "metadata": {
    "collapsed": false
   },
   "outputs": [
    {
     "name": "stdout",
     "output_type": "stream",
     "text": [
      "True\n",
      "True\n",
      "True\n",
      "False\n",
      "False\n"
     ]
    }
   ],
   "source": [
    "def is_valid_rut(rut):\n",
    "    pattern = \"([0-9]{1,2}\\.[0-9]{3}|[0-9]{1,3})\\.[0-9]{3}-([0-9]|k|K)\"\n",
    "    return bool(re.match(pattern, rut))\n",
    "\n",
    "# Casos válidos para el patrón\n",
    "print(is_valid_rut('12.224.877-2'))\n",
    "print(is_valid_rut('12.745.331-k'))\n",
    "print(is_valid_rut('113.221-2'))\n",
    "\n",
    "# Casos no válidos para el patrón\n",
    "print(is_valid_rut('13.427.974-a'))\n",
    "print(is_valid_rut('ab.111.444-0'))"
   ]
  },
  {
   "cell_type": "markdown",
   "metadata": {},
   "source": [
    "Existen abreviaciones prestablecidas para ciertas clases de caracteres. Por ejemplo:\n",
    "\n",
    "- `\\d`: equivale a [0-9];\n",
    "- `\\D`: es equivalente a [^0-9], donde se compara con cualquier caracter que no sea dígito; \n",
    "- `\\s`: equivale a hacer `[\\t\\n\\r\\f\\v]`, compara cualquier tipo de espacio en blanco;\n",
    "- `\\S`: equivale a escribir la clase `[^\\t\\n\\r\\f\\v]`, que compara con cualquier caracter distinto a los espacios en blanco;\n",
    "- `\\w`: es equivalente a la clase [a-zA-Z0-9\\_], donde se compara con cualquier caracter alfa numérico;\n",
    "- `\\W`: equivale a [^a-zA-Z0-9\\_], que contempla que no haya ningún caracter alfa numérico.\n",
    "\n",
    "De esta forma podríamos escribir el patrón para comprobar el RUT de la siguiente forma equivalente:"
   ]
  },
  {
   "cell_type": "code",
   "execution_count": 27,
   "metadata": {
    "collapsed": false
   },
   "outputs": [
    {
     "name": "stdout",
     "output_type": "stream",
     "text": [
      "True\n",
      "False\n"
     ]
    }
   ],
   "source": [
    "def is_valid_rut(rut):\n",
    "    pattern = \"(\\d{1,2}\\.)?\\d{1,3}\\.\\d{3}-(\\d|k|K)\"\n",
    "    return bool(re.match(pattern, rut))\n",
    "\n",
    "# Casos válidos para el patrón\n",
    "print(is_valid_rut('12.224.877-k'))\n",
    "print(is_valid_rut('ab.111.444-0'))"
   ]
  },
  {
   "cell_type": "markdown",
   "metadata": {},
   "source": [
    "### Búsqueda\n",
    "\n",
    "La búsqueda es otra de las tareas donde comúnmente se aplica el uso de expresiones regulares. En este caso el módulo `re` permite tres formas de búsqueda:\n",
    "\n",
    "- `search()`: busca en una secuencia cualquier posición donde el patrón coincida, retorna la primera coincidencia.\n",
    "- `findall()`: Encuentra todas las sub-secuencias donde el patrón coincida, y las retorna como una lista.\n",
    "- `finditer()`: opera como `findall()`, pero retorna un iterador.\n",
    "\n",
    "Volvamos al ejemplo de las secuencias usadas anteriormente y busquemos en ellas donde aparece la subsecuencia \"ab\":"
   ]
  },
  {
   "cell_type": "code",
   "execution_count": 36,
   "metadata": {
    "collapsed": false
   },
   "outputs": [
    {
     "name": "stdout",
     "output_type": "stream",
     "text": [
      "secuencia 4tt: None\n",
      "secuencia 4ttabcabc32: <_sre.SRE_Match object; span=(3, 5), match='ab'>\n",
      "secuencia 3ssafjabc33: <_sre.SRE_Match object; span=(6, 8), match='ab'>\n",
      "secuencia 4tssssghj33: None\n",
      "secuencia 4ttabcdag60: <_sre.SRE_Match object; span=(3, 5), match='ab'>\n",
      "secuencia 4ttabcfgh41: <_sre.SRE_Match object; span=(3, 5), match='ab'>\n",
      "secuencia 3ttabc4tt: <_sre.SRE_Match object; span=(3, 5), match='ab'>\n"
     ]
    }
   ],
   "source": [
    "seq = [\"4tt\", \"4ttabcabc32\", \"3ssafjabc33\", \"4tssssghj33\", \"4ttabcdag60\", \"4ttabcfgh41\", \"3ttabc4tt\"]\n",
    "\n",
    "for s in seq:\n",
    "    print('secuencia {}: {}'.format(s, re.search('(ab)', s)))"
   ]
  },
  {
   "cell_type": "markdown",
   "metadata": {},
   "source": [
    "Al igual que el método `match()`, el método `search()` retorna un objeto indicando la posición de la coincidencia. Si no encuentra alguna coincidencia retorna `None`.\n",
    "\n",
    "Veamos un ejemplo donde podamos recuperar un listado con todos las subsecuencias de valores numéricos que estén en las secuencias:"
   ]
  },
  {
   "cell_type": "code",
   "execution_count": 10,
   "metadata": {
    "collapsed": false
   },
   "outputs": [
    {
     "name": "stdout",
     "output_type": "stream",
     "text": [
      "secuencia 4tt: ['4']\n",
      "secuencia 4ttabcabc32: ['4', '32']\n",
      "secuencia 3ssafjabc33: ['3', '33']\n",
      "secuencia 4tssssghj33: ['4', '33']\n",
      "secuencia 4ttabcdag60: ['4', '60']\n",
      "secuencia 4ttabcfgh41: ['4', '41']\n",
      "secuencia 3ttabc4tt: ['3', '4']\n"
     ]
    }
   ],
   "source": [
    "for s in seq:\n",
    "    print('secuencia {}: {}'.format(s, re.findall('\\d+', s)))"
   ]
  },
  {
   "cell_type": "markdown",
   "metadata": {},
   "source": [
    "### Sustitución\n",
    "\n",
    "La modificación de secuencias es también otra de las tareas en que las expresiones regulares son de gran ayuda. El módulo `re` nos provee con el método `sub(<patron>, <reemplazar por>, secuencia)` que nos permite hacer sustitución de acuerdo al patrón indicado. Por ejemplo, eliminaremos todos los números en las secuencias usadas en los ejemplos anteriores:"
   ]
  },
  {
   "cell_type": "code",
   "execution_count": 38,
   "metadata": {
    "collapsed": false
   },
   "outputs": [
    {
     "name": "stdout",
     "output_type": "stream",
     "text": [
      "Secuencia 4tt queda como tt\n",
      "Secuencia 4ttabcabc32 queda como ttabcabc\n",
      "Secuencia 3ssafjabc33 queda como ssafjabc\n",
      "Secuencia 4tssssghj33 queda como tssssghj\n",
      "Secuencia 4ttabcdag60 queda como ttabcdag\n",
      "Secuencia 4ttabcfgh41 queda como ttabcfgh\n",
      "Secuencia 3ttabc4tt queda como ttabctt\n"
     ]
    }
   ],
   "source": [
    "for s in seq:\n",
    "    # sub retorna un nuevo valor, por lo tanto, no modifica la secuencia original\n",
    "    print('Secuencia {} queda como {}'.format(s, re.sub('\\d', '', s)))"
   ]
  },
  {
   "cell_type": "markdown",
   "metadata": {},
   "source": [
    "En vez de usar un valor a sustituir, podemos también incluir una función donde podamos utilizar una regla de sustitución más compleja. Por ejemplo, procesemos una secuencia de ADN con bases \"A\", \"T\" y \"C\" reemplazándolas por sus bases complementarias:"
   ]
  },
  {
   "cell_type": "code",
   "execution_count": 41,
   "metadata": {
    "collapsed": false
   },
   "outputs": [
    {
     "name": "stdout",
     "output_type": "stream",
     "text": [
      "ACAAGATGCCATTGTCCCCCGGCCTCCTGCTGCTGCTGCTCTCCGGGGCCACGGCCACCG\n",
      "TGTTCTACGGTAACAGGGGGCCGGAGGACGACGACGACGAGAGGCCCCGGTGCCGGTGGC\n"
     ]
    }
   ],
   "source": [
    "def bases(base):\n",
    "    # A la función entra un objeto tipo Match. Debemos recuperar el \n",
    "    # valor de la coincidencia haciendo group(0) ya que sabemos que \n",
    "    # con el patrón utilizado nos llegará solo una coincidencia.\n",
    "    mapping = {'A': 'T', 'G': 'C', 'T': 'A', 'C':'G'}\n",
    "    return mapping[base.group(0)]\n",
    "\n",
    "adn = 'ACAAGATGCCATTGTCCCCCGGCCTCCTGCTGCTGCTGCTCTCCGGGGCCACGGCCACCG'\n",
    "print(adn)\n",
    "print(re.sub('[ATCG]', bases, adn))"
   ]
  },
  {
   "cell_type": "markdown",
   "metadata": {},
   "source": [
    "### Split"
   ]
  },
  {
   "cell_type": "markdown",
   "metadata": {},
   "source": [
    "Por ejemplo, para separar una secuencia por el caracter _e_ podemos usar el método `split()` de los objetos `str`. Esto quedaría como siguiente ejemplo:"
   ]
  },
  {
   "cell_type": "code",
   "execution_count": 54,
   "metadata": {
    "collapsed": false
   },
   "outputs": [
    {
     "name": "stdout",
     "output_type": "stream",
     "text": [
      "['Est', ' ', 's un m', 'nsaj', ' simpl', ' qu', ' vamos a proc', 'sar ', 'hh!']\n"
     ]
    }
   ],
   "source": [
    "msg = \"Este es un mensaje simple que vamos a procesar ehh!\"\n",
    "print(msg.split('e'))"
   ]
  },
  {
   "cell_type": "markdown",
   "metadata": {},
   "source": [
    "Podemos realizar el mismo procesamiento usado el módulo `re` de la siguiente forma:"
   ]
  },
  {
   "cell_type": "code",
   "execution_count": 55,
   "metadata": {
    "collapsed": false
   },
   "outputs": [
    {
     "data": {
      "text/plain": [
       "['',\n",
       " 'st',\n",
       " ' ',\n",
       " 's un m',\n",
       " 'nsaj',\n",
       " ' simpl',\n",
       " ' qu',\n",
       " ' vamos a proc',\n",
       " 'sar ',\n",
       " 'hh!']"
      ]
     },
     "execution_count": 55,
     "metadata": {},
     "output_type": "execute_result"
    }
   ],
   "source": [
    "msg = \"Este es un mensaje simple que vamos a procesar ehh!\"\n",
    "re.split('[e|E]', msg)"
   ]
  },
  {
   "cell_type": "markdown",
   "metadata": {},
   "source": [
    "El método `split()`require como argumentos un string con el patrón y el string donde vamos aplicar ese patrón. Hasta ahora ambos métodos nos entregan el mismo resultado. Para casos simples de procesamiento solo bastaría el uso de los métodos propios de la clase `str()` y dejar regex para tareas más complejas."
   ]
  },
  {
   "cell_type": "code",
   "execution_count": 15,
   "metadata": {
    "collapsed": false
   },
   "outputs": [
    {
     "name": "stdout",
     "output_type": "stream",
     "text": [
      "['Est', ' ', 's ', 'n m', 'ns', 'j', ' s', 'mpl', ' q', '', ' v', 'm', 's ', ' pr', 'c', 's', 'r ', 'hh!']\n"
     ]
    }
   ],
   "source": [
    "# Divimos sacando solo las vocales. Los patrones regules son case\n",
    "print(re.split('[aeiou]', msg))"
   ]
  },
  {
   "cell_type": "markdown",
   "metadata": {},
   "source": [
    "Volvamos al ejemplo de la secuencia de ADN. Supongamos que necesitamos dividir una secuencia dada usando los tripletas de genes (*codones*). La implementación mediante expresiones regulares para separar la siguiente secuencia usando las tripleras *GGG* y *GGA* sería:"
   ]
  },
  {
   "cell_type": "code",
   "execution_count": 60,
   "metadata": {
    "collapsed": false
   },
   "outputs": [
    {
     "name": "stdout",
     "output_type": "stream",
     "text": [
      "['AGCTTTTCATTCTGACTGCAAC', 'CAATATGTCTCTGTGT', 'TTAAAAAAAGAGTGTCTGATAGCAGCTTCTGAACTGGTTACCTGCCGTGAGTAAATTAAAATTTTATTGACTTAGGTCACTAAATACTTTAACCAATATAGGCATAGCGCACAGACAGATAAAAATTACAGAGTACACAACATCCATGAAACGCATTAGCACCACCATTACCACCACCATCACCATTACCACAGGTAACGGTGC', 'CTGACGCGTACA', 'AACACAGAAAAAAG']\n"
     ]
    }
   ],
   "source": [
    "adn = \"AGCTTTTCATTCTGACTGCAACGGGCAATATGTCTCTGTGTGGATTAAAAAAAGAGTGTCTGATAGCAGCTTCTGA\" + \\\n",
    "\"ACTGGTTACCTGCCGTGAGTAAATTAAAATTTTATTGACTTAGGTCACTAAATACTTTAACCAATATAGGCATAGCGCACAGACAGATAAAAATTACAGAGTACACAACATCC\" + \\\n",
    "\"ATGAAACGCATTAGCACCACCATTACCACCACCATCACCATTACCACAGGTAACGGTGCGGGCTGACGCGTACAGGAAACACAGAAAAAAG\"\n",
    "\n",
    "print(re.split('(?:GGG|GGA)', adn))\n"
   ]
  },
  {
   "cell_type": "markdown",
   "metadata": {},
   "source": [
    "En este caso hemos al incorporar los meta-caracteres `?:` estamos indicando que vamos a buscar cualquiera de los grupos de  expresiones dentro de los paréntesis, pero que las subsecuencias que coincidan no serán retornadas después realizar la búsqueda. Esto permite que split solo retorne las secuencias producto de la división. Esto se conoce como *non-capturing version*."
   ]
  },
  {
   "cell_type": "markdown",
   "metadata": {},
   "source": [
    "Los conceptos vistos en este material corresponden a los usos básicos que pueden dar a las expresiones regulares. Les recomendamos revisar la documentación de Python para [expresiones regulares](https://docs.python.org/3/library/re.html) y [HOWTO](https://docs.python.org/3/howto/regex.html#regex-howto), para tener mayor detalle de cada método en el módulo `re` y conocer otros casos de uso. También pueden verificar las expresiones regular que escriban usando sitios como [http://pythex.org/](http://pythex.org/)"
   ]
  }
 ],
 "metadata": {
  "anaconda-cloud": {},
  "kernelspec": {
   "display_name": "Python 3",
   "language": "python",
   "name": "python3"
  },
  "language_info": {
   "codemirror_mode": {
    "name": "ipython",
    "version": 3
   },
   "file_extension": ".py",
   "mimetype": "text/x-python",
   "name": "python",
   "nbconvert_exporter": "python",
   "pygments_lexer": "ipython3",
   "version": "3.6.0"
  }
 },
 "nbformat": 4,
 "nbformat_minor": 1
}
