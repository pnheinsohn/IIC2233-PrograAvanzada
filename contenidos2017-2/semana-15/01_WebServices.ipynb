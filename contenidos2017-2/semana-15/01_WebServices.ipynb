{
 "cells": [
  {
   "cell_type": "markdown",
   "metadata": {},
   "source": [
    "<p>\n",
    "<font size='5' face='Georgia, Arial'>IIC-2233 Apunte Programación Avanzada</font><br>\n",
    "<font size='1'>&copy; 2015 Karim Pichara - Christian Pieringer. Todos los derechos reservados.</font>\n",
    "<font size='1'>Modificado por el cuerpo docente 2017-2</font>\n",
    "</p>"
   ]
  },
  {
   "cell_type": "markdown",
   "metadata": {},
   "source": [
    "# *Web Services*\n",
    "\n",
    "Durante el capítulo de _networking_ aprendimos el uso de *sockets* y algunos protocolos para establecer la comunicación a través de una arquitectura cliente-servidor. En este capítulo, revisaremos la extensión de este tipo de comunicación pero ahora mediante la web. Además entenderemos cómo se realiza el envío y la recepción de datos, y utilizaremos algunas de las herramientas provistas por Python para el manejo de estos servicios.\n",
    "\n",
    "Se entiende por un **_web service_** al conjunto de aplicaciones cliente-servidor que se comunican a través de la web mediante un protocolo diseñado para ello. Podemos ver este tipo de servicios como una función o caja negra que puede ser accedida por otros programas a través de internet. Por ejemplo, consideremos el protocolo HTTP usado por nuestro navegador para solicitar información a un sitio web. Por cada llamada desde nuestro navegador al servidor, un _script_ escrito en algún lenguaje de programación (tal como PHP, Python o Ruby) genera dinámicamente una salida en HTML dirigida al navegador para ser visualizada por un nosotros. Los _web services_ funcionan de forma similar, donde la salida está dirigida a una **aplicación que consume** esta información. Para ello, el formato de salida desde y hacia el servidor debe ser conocido para que la información pueda ser interpretada correctamente.\n",
    "\n",
    "Supongamos el caso mostrado en la siguiente figura, donde una casa tiene la capacidad de ser controlada remotamente y para ello maneja la información en un computador con salida a internet a través de un servidor web. Este servidor permite la interacción de la casa con otros dispositivos. Como podemos ver una de las ventajas de este modelo de comunicación es la simplicidad de interacción entre las aplicaciones, debido a la independencia del lenguaje con que se implementan los clientes y el servidor. Todos los clientes trabajan procesando un mismo tipo de dato definido en el protocolo. En este ejemplo cada nodo puede solicitar al servidor que envíe o modifique ciertos parámetros de la casa. En el ejemplo, la información es publicada usando JSON o XML, pero también pueden ser utilizados otros formatos.\n",
    "\n",
    "![diagrama_web_service](imgs/diagrama_webservice.png)\n",
    "\n",
    "En general se conoce como **Application Programming Interface** o **API** al conjunto de funciones que son expuestos por un servicio para ser utilizados por otros programas. Este servicio puede ser un _web service_ u otro tipo de servicio, por ejemplo una librería de Python. Sin embargo, en este capítulo cuando hablemos de _API_ nos estaremos refiriendo a los métodos expuestos por un servicio web."
   ]
  },
  {
   "cell_type": "markdown",
   "metadata": {},
   "source": [
    "## HTTP\n",
    "\n",
    "Gran parte de las arquitecturas de web services se basan en el uso de del protocolo **HTTP** o **_Hypertext Transfer Protocol_**. Este protocolo de aplicación está encargado de proporcionar una capa para realización de transacciones y así permitir la comunicación entre clientes y servidores. HTTP trabaja como un protocolo **_request-response_** en donde el cliente hace una solicitud y el servidor responde con la información solicitada. Es un protocolo \n",
    "\n",
    "Es un protocolo en el que el servidor no guarda ninguna información de las conexiones. Por ejemplo, al acceder a métodos de un servicio web que requiere identificación del cliente, este deberá en cada consulta _algo_ que acredite su identidad. \n",
    "\n",
    "El funcionamiento de este protocolo se basa en la definición de métodos o verbos que indican la acción a desarrollar por un determinado recurso. Los recursos pueden ser datos existentes en el servidor (*e.g.* archivos) o bien una salida generada dinámicamente. La versión HTTP/1.1 incluye los 5 verbos descritos en la siguiente tabla:\n",
    "\n",
    "VERBO HTTP | Acción\n",
    "-----------|-------\n",
    "GET        | recupera una representación de un recurso sin cambiar nada en el servidor.\n",
    "POST       | crea un recurso.\n",
    "PATCH      | aplica modificaciones parciales a un recurso.\n",
    "PUT\t       | reemplaza completamente un recurso existente.\n",
    "DELETE\t   | elimina un recurso.\n",
    "\n",
    "HTTP consta también con una conjunto de códigos de estado mediante los cuales entrega información al cliente sobre el resultado de su petición. Para más detalle de los códigos pueden revisar el siguiente [link]( http://www.w3schools.com/tags/ref_httpmessages.asp). Algunos códigos comunes son:\n",
    "\n",
    "\n",
    "Código Estado | Descripción\n",
    "--------------|------------\n",
    "200 | OK. Solicitud exitosa\n",
    "403 | Prohibido. La petición es aceptada, pero servidor rechaza responderla\n",
    "404 | No encontrado. El recurso solicitado no ha sido encontrado\n",
    "500 | Error interno del servidor\n",
    "\n",
    "La siguiente figura muestra un ejemplo con la estructura de los mensaje HTTP para el request del cliente y para la respuesta desde el servidor.\n",
    "\n",
    "![](imgs/http_message.png)\n",
    "\n",
    "\n"
   ]
  },
  {
   "cell_type": "markdown",
   "metadata": {},
   "source": [
    "## _Client-side Script_\n",
    "\n",
    "En esta sección veremos desde el punto de vista del cliente como hacer solicitudes o _requests_ a un servidor que mantiene un servicio web. En Python, la librería `requests` nos permite interactuar con servicios disponibles en algún _web service_. Además, la librería tiene integrada los métodos para serialización en JSON. Para generar una petición mediente GET usamos el método `get(url)` que recibe por argumento el llamado al recurso. Por ejemplo en el siguiente script generamos un cliente que se conecta a la API de google image y recupera una consulta."
   ]
  },
  {
   "cell_type": "code",
   "execution_count": 1,
   "metadata": {
    "collapsed": false,
    "scrolled": true
   },
   "outputs": [
    {
     "name": "stdout",
     "output_type": "stream",
     "text": [
      "Status: 200\n",
      "Hola!\r\n",
      "\r\n",
      "Muchos el día de hoy en la sala de ayuda preguntaron como pasar la imagen PNG a matriz RGB.\r\n",
      "\r\n",
      "Al igual que en el enunciado se habla de comprimir la matriz a través del método compress de la librería zlib, para conseguir la matriz RGB tienen que hacer el proceso inverso, utilizando el método decompress de la misma librería en la sección de información dentro del chunk IDAT.\r\n",
      "\r\n",
      "Saludos!\n"
     ]
    }
   ],
   "source": [
    "import requests\n",
    "\n",
    "# Esta url contiene la dirección del web service y los parámetros que se requiren para la consulta. \n",
    "url = 'https://api.github.com/repos/IIC2233/Syllabus/issues/716'\n",
    "response = requests.get(url)\n",
    "\n",
    "print('Status: {}'.format(response.status_code))\n",
    "print(response.json()['body'])"
   ]
  }
 ],
 "metadata": {
  "anaconda-cloud": {},
  "kernelspec": {
   "display_name": "Python 3",
   "language": "python",
   "name": "python3"
  },
  "language_info": {
   "codemirror_mode": {
    "name": "ipython",
    "version": 3
   },
   "file_extension": ".py",
   "mimetype": "text/x-python",
   "name": "python",
   "nbconvert_exporter": "python",
   "pygments_lexer": "ipython3",
   "version": "3.6.0"
  }
 },
 "nbformat": 4,
 "nbformat_minor": 1
}
