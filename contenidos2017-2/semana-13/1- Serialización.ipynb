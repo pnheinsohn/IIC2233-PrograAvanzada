{
 "cells": [
  {
   "cell_type": "markdown",
   "metadata": {},
   "source": [
    "# Serialización de objetos\n",
    "\n",
    "Como revisamos en el material anterior, toda la información que almacena un computador se guarda en base a bits (esto es, ceros y unos). Por ejemplo, imaginemos que buscamos guardar una estructura de datos o una instancia de una clase. De alguna forma, estos datos —que probablemente no tienen una estructura lineal— deben ser guardados como una serie (o secuencia) de bytes. Aquí es cuando aparece el término de **serialización**.\n",
    "\n",
    "Este concepto se refiere al procedimiento de transformar cualquier objeto en una secuencia o serie de _bytes_. Esto nos permite almacenar el objeto de forma persistente, por ejemplo en un archivo o una base de datos. También nos permite enviar el objeto a otros computadores y programas. \n",
    "\n",
    "## `pickle`\n",
    "\n",
    "El módulo `pickle` de Python nos permite serializar cualquier objeto. Este módulo nos ofrece el método `dumps`, que nos permite serializar un objeto; y el método `loads`, que sirve para deserializar el objeto serializado retornando el objeto original."
   ]
  },
  {
   "cell_type": "code",
   "execution_count": 1,
   "metadata": {
    "collapsed": false,
    "scrolled": true
   },
   "outputs": [
    {
     "name": "stdout",
     "output_type": "stream",
     "text": [
      "b'\\x80\\x03(X\\x01\\x00\\x00\\x00aq\\x00K\\x01K\\x03X\\x04\\x00\\x00\\x00holaq\\x01tq\\x02.'\n",
      "<class 'bytes'>\n",
      "('a', 1, 3, 'hola')\n"
     ]
    }
   ],
   "source": [
    "import pickle\n",
    "\n",
    "tupla = (\"a\", 1, 3, \"hola\")\n",
    "serial = pickle.dumps(tupla)\n",
    "print(serial)\n",
    "print(type(serial))\n",
    "print(pickle.loads(serial))\n",
    " "
   ]
  },
  {
   "cell_type": "markdown",
   "metadata": {},
   "source": [
    "`pickle` también nos ofrece los métodos `dump` y `load` (casi el mismo nombre que antes pero sin la _s_). Estos métodos también serializan y deserializan, pero a través de archivos: `dump` guarda un archivo con el objeto serializado y `load` carga el archivo de vuelta."
   ]
  },
  {
   "cell_type": "code",
   "execution_count": 2,
   "metadata": {
    "collapsed": false
   },
   "outputs": [],
   "source": [
    "lista = [1, 2, 3, 7, 8, 3]\n",
    "\n",
    "with open(\"mi_lista\", 'wb') as file:\n",
    "    pickle.dump(lista, file)\n",
    "\n",
    "with open(\"mi_lista\", 'rb') as file:\n",
    "    mi_lista = pickle.load(file)\n",
    "\n",
    "# Esto generaría un error si el objeto que cargamos no es igual al que guardamos\n",
    "assert mi_lista == lista "
   ]
  },
  {
   "cell_type": "markdown",
   "metadata": {},
   "source": [
    "`pickle` es un módulo no seguro. Esto implica que **nunca** deben cargar un archivo `pickle` cuando no conocen su procedencia, ya que éste podría ejecutar código malicioso en sus computadores. No entraremos en detalles sobre cómo inyectar código a través del módulo `pickle`, pero los interesados pueden revisar este [enlace](http://www.cs.jhu.edu/~s/musings/pickle.html). \n",
    "\n",
    "Cuando `pickle` trata de serializar un objeto, lo primero que hará es verificar que el objeto que se quiere serializar sea de una clase que tenga implementado el método `__getstate__`. Este método debe retornar un diccionario con los atributos que se quieren serializar. Si `__getstate__` no estuviese implementado, entonces `pickle` guardará el atributo `__dict__` del objeto. Recuerden que el atributo `__dict__` es un diccionario que guarda todos los atributos y métodos de un objeto. Por ejemplo, `o.atributo` es equivalente a `o.__dict__[\"atributo\"]` y `o.atributo = 42` es equivalente a `o.__dict__[\"atributo\"] = 42`.\n",
    "\n",
    "El método `__getstate__` nos permite personalizar la serialización del objeto. Usando este método podemos crear un diccionario que contenga solo la información que deseamos guardar. "
   ]
  },
  {
   "cell_type": "code",
   "execution_count": 3,
   "metadata": {
    "collapsed": false
   },
   "outputs": [
    {
     "name": "stdout",
     "output_type": "stream",
     "text": [
      "No pasa nada\n",
      "b'\\x80\\x03c__main__\\nPersona\\nq\\x00)\\x81q\\x01}q\\x02(X\\x06\\x00\\x00\\x00nombreq\\x03X\\x04\\x00\\x00\\x00Juanq\\x04X\\x04\\x00\\x00\\x00edadq\\x05K\\x1eX\\x07\\x00\\x00\\x00mensajeq\\x06X\\x19\\x00\\x00\\x00\\xc2\\xa1Me est\\xc3\\xa1n serializando!q\\x07ub.'\n",
      "¡Me están serializando!\n",
      "No pasa nada\n"
     ]
    }
   ],
   "source": [
    "class Persona:\n",
    "    \n",
    "    def __init__(self, nombre, edad):\n",
    "        self.nombre = nombre\n",
    "        self.edad = edad\n",
    "        self.mensaje = \"No pasa nada\"\n",
    "        \n",
    "    def __getstate__(self):\n",
    "        # Retorna el estado actual del objeto, para que sea serializado por pickle\n",
    "        # Aquí creamos una copia del diccionario actual, para modificar la copia \n",
    "        # y no el objeto original\n",
    "        nueva = self.__dict__.copy()\n",
    "        nueva.update({\"mensaje\" : \"¡Me están serializando!\"})\n",
    "        return nueva\n",
    "\n",
    "m = Persona(\"Juan\", 30)\n",
    "print(m.mensaje)\n",
    "serial = pickle.dumps(m)\n",
    "m2 = pickle.loads(serial)\n",
    "print(serial)\n",
    "# el objeto original sigue igual\n",
    "print(m2.mensaje)\n",
    "print(m.mensaje)"
   ]
  },
  {
   "cell_type": "markdown",
   "metadata": {},
   "source": [
    "De forma análoga, podemos personalizar la **deserialización**. Para esto debemos implementar el método `__setstate__`, que se ejecutará cada vez que llamemos a `load` o `loads`. El método `__setstate__` recibe como argumento el diccionario que representa el estado del objeto que fue serializado. Luego debe asignarlo al diccionario del objeto `self.__dict__ = diccionario_con_estado`. Esto no impide que se realicen otras acciones que modifiquen `diccionario_con_estado` antes o después de la asignación.\n",
    "\n",
    "Si el método `__setstate__` no estuviese implementado, entonces se asignará al `__dict__` del objeto el estado deserializado sin realizar otras acciones adicionales."
   ]
  },
  {
   "cell_type": "code",
   "execution_count": 6,
   "metadata": {
    "collapsed": false
   },
   "outputs": [
    {
     "name": "stdout",
     "output_type": "stream",
     "text": [
      "Juan\n",
      "{'nombre': 'Juan', 'edad': 30, 'mensaje': '¡Me están serializando!'} state\n",
      "Objeto recién deserializado, actualizando su estado\n",
      "\n",
      "{'nombre': 'Juan deserializado', 'edad': 30, 'mensaje': '¡Me están serializando!'}\n",
      "Juan deserializado\n"
     ]
    }
   ],
   "source": [
    "class Persona:\n",
    "    \n",
    "    def __init__(self, nombre, edad):\n",
    "        self.nombre = nombre\n",
    "        self.edad = edad\n",
    "        self.mensaje = \"No pasa nada\"\n",
    "        \n",
    "    def __getstate__(self):\n",
    "        nueva = self.__dict__.copy()\n",
    "        nueva.update({\"mensaje\": \"¡Me están serializando!\"})\n",
    "        # esto es lo que será serializado por pickle\n",
    "        return nueva \n",
    "\n",
    "    def __setstate__(self, state):\n",
    "        print(state, \"state\")\n",
    "        print(\"Objeto recién deserializado, actualizando su estado\\n\")\n",
    "        state.update({\"nombre\": state[\"nombre\"] + \" deserializado\"})\n",
    "        print(state)\n",
    "        self.__dict__ = state\n",
    "    \n",
    "m = Persona(\"Juan\", 30)\n",
    "print(m.nombre)\n",
    "serial = pickle.dumps(m)\n",
    "m2 = pickle.loads(serial)\n",
    "print(m2.nombre)"
   ]
  },
  {
   "cell_type": "markdown",
   "metadata": {},
   "source": [
    "Una aplicación práctica de los métodos `__getstate__` y `__setstate__` es cuando necesitamos serializar un objeto que contiene un atributo que depende de las condiciones actuales del programa. Por ejemplo, imaginemos que un objeto mantiene una conexión a una base de datos. Supongamos, además, que esta conexión tiene atributos relacionados con el estado del programa: tiempo de conexión, puertos utilizados, _host_, entre otros. Cuando guardamos el objeto, deberíamos eliminar la conexión, ya que este atributo no podrá ser utilizado en otra instancia del programa. Para lograr esto usamos el método `__getstate__`. \n",
    "\n",
    "Cuando se cargue el mismo objeto desde el archivo serializado, será necesario volver a crear la conexión con las condiciones del programa. Para realizar esto tendremos que implementar `__setstate__`."
   ]
  },
  {
   "cell_type": "markdown",
   "metadata": {},
   "source": [
    "# Serialización de objetos con JSON\n",
    "\n",
    "Una de las desventajas de los objetos serializados con `pickle` es que sólo pueden ser deserializados por otros programas escritos en Python. Por otra parte, **JSON** (JavaScript Object Notation) es un formato estándar de intercambio de datos que puede ser interpretado por muchos lenguajes. JSON además es _human-readable_, es decir, puede ser fácilmente leído y entendido por humanos. El formato en que almacena la información es similar a los diccionarios de Python.\n",
    "\n",
    "En JSON sólo es posible serializar instancias de `int`, `str`, `float`, `dict`, `bool`, `list`, `tuple` y `NoneType`. Sin embargo, no es posible serializar funciones o instancias de otras clases.\n",
    "En Python, existe un módulo llamado `json` que provee métodos para serializar objetos en el  formato JSON. Este módulo provee una interfaz similar a la de `pickle` (métodos `dump`(`s`) y `load`(`s`)). "
   ]
  },
  {
   "cell_type": "code",
   "execution_count": 5,
   "metadata": {
    "collapsed": false
   },
   "outputs": [
    {
     "name": "stdout",
     "output_type": "stream",
     "text": [
      "datos en formato JSON: \n",
      "{\"estado_civil\": \"Soltero\", \"nombre\": \"Juan\", \"edad\": 35, \"idn\": 1}\n",
      "<class 'str'>\n",
      "datos en formato Python: \n",
      "{'idn': 1, 'edad': 35, 'estado_civil': 'Soltero', 'nombre': 'Juan'}\n",
      "<class 'dict'>\n"
     ]
    }
   ],
   "source": [
    "import json\n",
    "\n",
    "class Persona:\n",
    "    \n",
    "    def __init__(self, nombre, edad, estado_civil):\n",
    "        self.nombre = nombre\n",
    "        self.edad = edad\n",
    "        self.estado_civil = estado_civil\n",
    "        self.idn = next(Persona.gen)\n",
    "\n",
    "    def get_id():\n",
    "        cont = 1\n",
    "        while True:\n",
    "            yield cont\n",
    "            cont += 1\n",
    "\n",
    "    gen = get_id()\n",
    "            \n",
    "p = Persona(\"Juan\", 35, \"Soltero\")\n",
    "json_string = json.dumps(p.__dict__)\n",
    "print(\"datos en formato JSON: \")\n",
    "print(json_string)\n",
    "print(type(json_string))\n",
    "print(\"datos en formato Python: \")\n",
    "print(json.loads(json_string))\n",
    "print(type(json.loads(json_string)))"
   ]
  },
  {
   "cell_type": "markdown",
   "metadata": {},
   "source": [
    "`json` tiene una tabla de transformación que pueden revisar en [este link](https://docs.python.org/3/library/json.html#encoders-and-decoders). \n",
    "Cuando queremos guardar un objeto como JSON podemos personalizar la transformación utilizando un `json.JSONEncoder`, de forma análoga a como lo hicimos `__getstate__`.  \n",
    "\n",
    "Para esto debemos crear una clase que hereda de la clase `json.JSONEncoder` y sobreescribir el método `default`:"
   ]
  },
  {
   "cell_type": "code",
   "execution_count": 6,
   "metadata": {
    "collapsed": false
   },
   "outputs": [
    {
     "name": "stdout",
     "output_type": "stream",
     "text": [
      "Serialización default:\n",
      "\n",
      "{\"estado_civil\": \"Soltero\", \"nombre\": \"Juan\", \"edad\": 37, \"idn\": 2}\n",
      "\n",
      "Serialización personalizada:\n",
      "\n",
      "{\"edad\": 37, \"fecha_nac\": 1980, \"Persona_id\": 2, \"estado_civil\": \"Soltero\", \"nombre\": \"Juan\"}\n",
      "{\"edad\": 33, \"fecha_nac\": 1984, \"Persona_id\": 3, \"estado_civil\": \"Casado\", \"nombre\": \"Jorge\"}\n",
      "{\"edad\": 24, \"fecha_nac\": 1993, \"Persona_id\": 4, \"estado_civil\": \"Soltero\", \"nombre\": \"Pedro\"}\n"
     ]
    }
   ],
   "source": [
    "from datetime import datetime\n",
    "\n",
    "\n",
    "class PersonaEncoder(json.JSONEncoder):\n",
    "    \n",
    "       def default(self, obj):\n",
    "            # Creamos una serialización personalizada para el\n",
    "            # el tipo de objeto Persona\n",
    "            \n",
    "            if isinstance(obj, Persona):\n",
    "                return {'Persona_id': obj.idn, \n",
    "                        'nombre': obj.nombre, \n",
    "                        'edad': obj.edad, \n",
    "                        'estado_civil': obj.estado_civil, \n",
    "                        'fecha_nac' : datetime.now().year - obj.edad}\n",
    "            \n",
    "            # Mantenemos la serialización por defecto para \n",
    "            # cualquier otro tipo de objeto\n",
    "            return super().default(obj)\n",
    "\n",
    "\n",
    "p1 = Persona(\"Juan\", 37, \"Soltero\")\n",
    "p2 = Persona(\"Jorge\", 33, \"Casado\")\n",
    "p3 = Persona(\"Pedro\", 24, \"Soltero\")\n",
    "\n",
    "print(\"Serialización default:\\n\")\n",
    "\n",
    "# con esto serializamos directamente usando el default\n",
    "json_string = json.dumps(p1.__dict__)\n",
    "print(json_string)\n",
    "\n",
    "# Ahora serializamos usando el método personalizado\n",
    "print(\"\\nSerialización personalizada:\\n\")\n",
    "json_string = json.dumps(p1, cls = PersonaEncoder)\n",
    "print(json_string)\n",
    "\n",
    "json_string = json.dumps(p2, cls = PersonaEncoder)\n",
    "print(json_string)\n",
    "\n",
    "json_string = json.dumps(p3, cls = PersonaEncoder)\n",
    "print(json_string)\n"
   ]
  },
  {
   "cell_type": "markdown",
   "metadata": {},
   "source": [
    "Cuando queremos transformar un JSON a un objeto Python podemos utilizar los `object_hook`, de forma análoga a como lo hicimos con `__setstate__`. El `object_hook` es un parámetro de los métodos `load` y `loads` que recibe una función que recibe un diccionario y retorna el objeto que queremos. Por ejemplo, si queremos cargar datos `json` en una lista de tuplas en vez de un diccionario:"
   ]
  },
  {
   "cell_type": "code",
   "execution_count": 7,
   "metadata": {
    "collapsed": false
   },
   "outputs": [
    {
     "name": "stdout",
     "output_type": "stream",
     "text": [
      "[('puntaje', 90.5), ('edad', 34), ('estado_civil', 'casado'), ('nombre', 'Jorge')]\n"
     ]
    }
   ],
   "source": [
    "# En los ejemplos guardamos el json en un string para fines ilustrativos\n",
    "# pero en la vida real recibirán jsons como archivos.\n",
    "json_string = '{\"nombre\": \"Jorge\", \"edad\": 34, \"estado_civil\": \"casado\", \"puntaje\": 90.5}'\n",
    "datos = json.loads(json_string, object_hook=lambda dict_obj: [(key, value) for key, value in dict_obj.items()])\n",
    "print(datos)"
   ]
  },
  {
   "cell_type": "markdown",
   "metadata": {},
   "source": [
    "Podemos crear cualquier función y aplicarla a los datos que serán convertidos con `json`:"
   ]
  },
  {
   "cell_type": "code",
   "execution_count": 8,
   "metadata": {
    "collapsed": false
   },
   "outputs": [
    {
     "name": "stdout",
     "output_type": "stream",
     "text": [
      "['puntaje', '90.5', 'edad', '34', 'estado_civil', 'casado', 'nombre', 'Jorge']\n"
     ]
    }
   ],
   "source": [
    "def funcion(dict_obj):\n",
    "    lista = []\n",
    "    for k in dict_obj:\n",
    "        lista.extend([k, str(dict_obj[k])])\n",
    "    return lista\n",
    "\n",
    "json_string = '{\"nombre\": \"Jorge\", \"edad\": 34, \"estado_civil\": \"casado\", \"puntaje\": 90.5}'\n",
    "datos = json.loads(json_string, object_hook=lambda dict_obj: funcion(dict_obj))\n",
    "print(datos)"
   ]
  }
 ],
 "metadata": {
  "kernelspec": {
   "display_name": "Python 3",
   "language": "python",
   "name": "python3"
  },
  "language_info": {
   "codemirror_mode": {
    "name": "ipython",
    "version": 3
   },
   "file_extension": ".py",
   "mimetype": "text/x-python",
   "name": "python",
   "nbconvert_exporter": "python",
   "pygments_lexer": "ipython3",
   "version": "3.6.0"
  }
 },
 "nbformat": 4,
 "nbformat_minor": 0
}
