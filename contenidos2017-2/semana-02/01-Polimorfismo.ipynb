{
 "cells": [
  {
   "cell_type": "markdown",
   "metadata": {},
   "source": [
    "<p>\n",
    "<font size='5' face='Georgia, Arial'>IIC-2233 Apunte Programación Avanzada</font><br>\n",
    "<font size='1'>&copy; 2015 Karim Pichara - Christian Pieringer. Todos los derechos reservados.</font>\n",
    "<font size='1'>Modificado el 2017</font>\n",
    "</p>"
   ]
  },
  {
   "cell_type": "markdown",
   "metadata": {},
   "source": [
    "El polimorfismo \"se refiere a la propiedad por la que es posible enviar mensajes sintácticamente iguales a objetos de tipos distintos\" ([Wikipedia](https://es.wikipedia.org/wiki/Polimorfismo_(inform%C3%A1tica), 2017). Básicamente es utilizar distintos objetos de tipos distintos con la misma *interfaz*. Overriding y Overloading son dos maneras de hacer polimorfismo.\n",
    "\n",
    "- Overriding: ocurre cuando se implementa un método en una subclase que \"invalida\" la implementación del mismo método en la super clase\n",
    "   \n",
    "- Overloading: es la capacidad de definir un método con el mismo nombre pero con distinto número y tipo de argumentos. Es la capacidad de una función de ejecutar distintas acciones dependiendo del tipo y número de argumentos que recibe. \n",
    "  \n",
    "Python no soporta *overloading* (en realidad no es necesario), se puede \"simular\" usando algunos parámetros con valores por defecto o número de argumentos variables, pero no se puede definir la función más de una vez con distintos tipos y números de argumentos y esperar que ambas definiciones sean consideradas por el programa.\n",
    "   \n",
    "\n",
    "#### Ejemplo\n",
    "\n",
    "La clase $\\texttt{Variable}$ representa un conjunto de datos cualquiera, mientras que la subclase $\\texttt{Ingresos}$ contiene un método para calcular el valor \"representante\" (algo así como el promedio, mediana, moda, etc.). Ocurre lo mismo con las subclases $\\texttt{Comuna}$ y $\\texttt{Puesto}$: \n",
    "\n",
    "Si los datos corresponden a ingresos, el representante es el promedio. \n",
    "Si los datos corresponden a la comuna, el representante es la comuna que más se repite. \n",
    "Finalmente, si los datos corresponden al puesto de trabajo, entonces el representante es el que tiene el puesto más alto según la jerarquía especificada en el diccionario \"categorías\"."
   ]
  },
  {
   "cell_type": "code",
   "execution_count": 1,
   "metadata": {
    "collapsed": false
   },
   "outputs": [],
   "source": [
    "import numpy  as np\n",
    "\n",
    "class Variable:\n",
    "    \n",
    "    def __init__(self, data):\n",
    "        self.data = np.array(data)\n",
    "\n",
    "    def representante(self):\n",
    "        pass\n",
    "\n",
    "\n",
    "class Ingresos(Variable):\n",
    "    \n",
    "    def representante(self):\n",
    "        return np.mean(self.data)\n",
    "\n",
    "\n",
    "class Comuna(Variable):\n",
    "    \n",
    "    def representante(self):\n",
    "        ind = np.argmax([np.sum(self.data == c) for c in self.data])  # el que mas se repite\n",
    "        return self.data[ind]\n",
    "\n",
    "\n",
    "class Puesto(Variable):\n",
    "    \n",
    "    categorias = {'Gerente': 1, 'SubGerente': 2, 'Analista': 3, \n",
    "                  'Alumno en Practica': 4} # class (or static) variable\n",
    "\n",
    "    def representante(self):\n",
    "        return self.data[np.argmin([Puesto.categorias[c] for c in self.data])]#la categoria mas alta acorde con el diccionario\n",
    "\n"
   ]
  },
  {
   "cell_type": "code",
   "execution_count": 3,
   "metadata": {
    "collapsed": false
   },
   "outputs": [
    {
     "name": "stdout",
     "output_type": "stream",
     "text": [
      "79.3636363636\n",
      "Santiago\n",
      "SubGerente\n"
     ]
    }
   ],
   "source": [
    "lista_pesos = Ingresos([50, 80, 90, 150, 45, 65, 78, 89, 59, 77, 90])\n",
    "lista_comunas = Comuna(['Providencia', 'Macul' , 'LaReina' ,'Santiago', 'Providencia', 'PuenteAlto',\n",
    "                        'Macul', 'Santiago', 'Santiago' ])\n",
    "lista_puestos = Puesto(['SubGerente', 'Analista','SubGerente','Analista','Alumno en Practica',\n",
    "                        'Alumno en Practica'])\n",
    "\n",
    "\n",
    "print(lista_pesos.representante())\n",
    "print(lista_comunas.representante())\n",
    "print(lista_puestos.representante())\n"
   ]
  },
  {
   "cell_type": "markdown",
   "metadata": {},
   "source": [
    "<h1> Overriding de operadores en Python </h1>\n",
    "\n",
    "Existen muchos operadores en Python que funcionan para varias de las clases \"built-in\". Por ejemplo, el operador \"+\" puede sumar dos números, concatenar dos strings, mezclar dos listas, etc. dependiendo de la clase con la que estemos trabajando:"
   ]
  },
  {
   "cell_type": "code",
   "execution_count": 20,
   "metadata": {
    "collapsed": false
   },
   "outputs": [
    {
     "name": "stdout",
     "output_type": "stream",
     "text": [
      "[1, 2, 3, 4, 5, 6, 7, 8]\n",
      "Hola Mundo\n"
     ]
    }
   ],
   "source": [
    "a = [1,2,3,4]\n",
    "b = [5,6,7,8]\n",
    "print(a+b)\n",
    "c = \"Hola\"\n",
    "d = \" Mundo\"\n",
    "print(c+d)"
   ]
  },
  {
   "cell_type": "markdown",
   "metadata": {},
   "source": [
    "Nosotros también podemos personalizar el método `__add__` para que funcione en algún tipo de clase específica que necesitemos. Por ejemplo, supongamos una clase que representa un carro de compra:"
   ]
  },
  {
   "cell_type": "code",
   "execution_count": 4,
   "metadata": {
    "collapsed": false
   },
   "outputs": [],
   "source": [
    "class Carro:\n",
    "    '''\n",
    "    Un carro de compras lo representaremos como un diccionario \n",
    "    donde el key es el nombre del producto y el value es la cantidad\n",
    "    Ej: {'pan' : 3, 'leche' : 2, 'agua' : 6}\n",
    "    '''\n",
    "    \n",
    "    def __init__(self, lista_productos):\n",
    "        self.lista_productos = lista_productos\n",
    "\n",
    "    def __add__(self, otro_carro):\n",
    "        lista_sumada = self.lista_productos\n",
    "        for p in otro_carro.lista_productos.keys():  # aquí vamos recorriendo los nombres de los productos\n",
    "            if p in self.lista_productos.keys():\n",
    "                lista_sumada.update({ p : otro_carro.lista_productos[p] + self.lista_productos[p]})  # aquí creo la nueva instancia con las cantidades sumada\n",
    "            else:\n",
    "                lista_sumada.update({ p : otro_carro.lista_productos[p]})\n",
    "                \n",
    "        return Carro(lista_sumada)\n",
    "    \n",
    "    def __repr__(self):\n",
    "        return \"\\n\".join(\"Producto: {} | Cantidad: {}\".format(p, self.lista_productos[p]) for p in self.lista_productos.keys())\n",
    "    \n",
    "    "
   ]
  },
  {
   "cell_type": "code",
   "execution_count": 22,
   "metadata": {
    "collapsed": false
   },
   "outputs": [
    {
     "name": "stdout",
     "output_type": "stream",
     "text": [
      "{'bebida': 2, 'agua': 6, 'cerveza': 12, 'pan': 3, 'leche': 7}\n"
     ]
    }
   ],
   "source": [
    "carro_1 = Carro({'pan' : 3, 'leche' : 2, 'agua' : 6})\n",
    "carro_2 = Carro({'leche' : 5, 'bebida' : 2, 'cerveza' : 12})\n",
    "carro_3 = carro_1 + carro_2\n",
    "print(carro_3.lista_productos)"
   ]
  },
  {
   "cell_type": "markdown",
   "metadata": {},
   "source": [
    " El método `__repr__` nos permite generar un string que será usado a la hora de llamar a print de alguna instancia de Carro:"
   ]
  },
  {
   "cell_type": "code",
   "execution_count": 23,
   "metadata": {
    "collapsed": false
   },
   "outputs": [
    {
     "name": "stdout",
     "output_type": "stream",
     "text": [
      "Producto: bebida | Cantidad: 2\n",
      "Producto: agua | Cantidad: 6\n",
      "Producto: cerveza | Cantidad: 12\n",
      "Producto: pan | Cantidad: 3\n",
      "Producto: leche | Cantidad: 7\n"
     ]
    }
   ],
   "source": [
    "print(carro_3)"
   ]
  },
  {
   "cell_type": "markdown",
   "metadata": {},
   "source": [
    "También podríamos haber implementado el método \\_\\_str\\_\\_ que cumple la misma función que el método \\_\\_repr\\_\\_. La principal diferencia es que \\_\\_repr\\_\\_ debería contener todos los detalles necesarios para identificar bien al objeto, como para ser usado por alguien que implementará algo en el futuro y debe entender bien nuestro código. El método \\_\\_str\\_\\_ está orientado a generar una impresión \"human-readable\", algo que se vea bien y se interprete bien en el contexto en particular, pero no necesariamente debe contener todos los detalles técnicos del objeto. En casos en que \\_\\_str\\_\\_ está implementado, print usará el string generado por \\_\\_str\\_\\_ para imprimir, pero cuando no esté \\_\\_str\\_\\_ implementado, print usará el método \\_\\_repr\\_\\_."
   ]
  },
  {
   "cell_type": "code",
   "execution_count": 1,
   "metadata": {
    "collapsed": true
   },
   "outputs": [],
   "source": [
    "class Carro:\n",
    "    ''' Un carro de compras lo representaremos como un diccionario \n",
    "        donde el key es el nombre del producto y el value es la cantidad\n",
    "        Ej: {'pan' : 3, 'leche' : 2, 'agua' : 6}\n",
    "    '''\n",
    "    def __init__(self, lista_productos):\n",
    "        self.lista_productos = lista_productos\n",
    "\n",
    "    def __add__(self, otro_carro):\n",
    "        lista_sumada = self.lista_productos\n",
    "        for p in otro_carro.lista_productos.keys():#aquí vamos recorriendo los nombres de los productos\n",
    "            if p in self.lista_productos.keys():\n",
    "                lista_sumada.update({ p : otro_carro.lista_productos[p] + self.lista_productos[p]})#aquí creo la nueva instancia con las cantidades sumada\n",
    "            else:\n",
    "                lista_sumada.update({ p : otro_carro.lista_productos[p]})\n",
    "                \n",
    "        return Carro(lista_sumada)\n",
    "    \n",
    "    def __repr__(self):\n",
    "        s = self.__doc__#esto retorna el string del comienzo de la clase, la documentación que la describe\n",
    "        return s + \"\\n\" + \"\\n\".join(\"Producto: {} | Cantidad: {}\".format(p, self.lista_productos[p]) for p in self.lista_productos.keys())\n",
    "    \n",
    "    def __str__(self):\n",
    "        return \"\\n\".join(\"Producto: {} - Cantidad: {}\".format(p, self.lista_productos[p]) for p in self.lista_productos.keys())    "
   ]
  },
  {
   "cell_type": "code",
   "execution_count": 2,
   "metadata": {
    "collapsed": false
   },
   "outputs": [
    {
     "name": "stdout",
     "output_type": "stream",
     "text": [
      "Producto: pan - Cantidad: 3\n",
      "Producto: bebida - Cantidad: 2\n",
      "Producto: leche - Cantidad: 7\n",
      "Producto: agua - Cantidad: 6\n",
      "Producto: cerveza - Cantidad: 12\n"
     ]
    }
   ],
   "source": [
    "carro_1 = Carro({'pan' : 3, 'leche' : 2, 'agua' : 6})\n",
    "carro_2 = Carro({'leche' : 5, 'bebida' : 2, 'cerveza' : 12})\n",
    "carro_3 = carro_1 + carro_2\n",
    "print(carro_3)"
   ]
  },
  {
   "cell_type": "markdown",
   "metadata": {},
   "source": [
    "Si comentamos el método \\_\\_str\\_\\_, print va a imprimir el string que retorna la función \\_\\_repr\\_\\_"
   ]
  },
  {
   "cell_type": "code",
   "execution_count": 3,
   "metadata": {
    "collapsed": true
   },
   "outputs": [],
   "source": [
    "class Carro:\n",
    "    ''' Un carro de compras lo representaremos como un diccionario \n",
    "        donde el key es el nombre del producto y el value es la cantidad\n",
    "        Ej: {'pan' : 3, 'leche' : 2, 'agua' : 6}\n",
    "    '''\n",
    "    def __init__(self, lista_productos):\n",
    "        self.lista_productos = lista_productos\n",
    "\n",
    "    def __add__(self, otro_carro):\n",
    "        lista_sumada = self.lista_productos\n",
    "        for p in otro_carro.lista_productos.keys():#aquí vamos recorriendo los nombres de los productos\n",
    "            if p in self.lista_productos.keys():\n",
    "                lista_sumada.update({ p : otro_carro.lista_productos[p] + self.lista_productos[p]})#aquí creo la nueva instancia con las cantidades sumada\n",
    "            else:\n",
    "                lista_sumada.update({ p : otro_carro.lista_productos[p]})\n",
    "                \n",
    "        return Carro(lista_sumada)\n",
    "    \n",
    "    def __repr__(self):\n",
    "        s = self.__doc__#esto retorna el string del comienzo de la clase, la documentación que la describe\n",
    "        return s + \"\\n\" + \"\\n\".join(\"Producto: {} | Cantidad: {}\".format(p, self.lista_productos[p]) for p in self.lista_productos.keys())\n",
    "    \n",
    "#    def __str__(self):\n",
    "#        return \"\\n\".join(\"Producto: {} - Cantidad: {}\".format(p, self.lista_productos[p]) for p in self.lista_productos.keys())    "
   ]
  },
  {
   "cell_type": "code",
   "execution_count": 4,
   "metadata": {
    "collapsed": false
   },
   "outputs": [
    {
     "name": "stdout",
     "output_type": "stream",
     "text": [
      " Un carro de compras lo representaremos como un diccionario \n",
      "        donde el key es el nombre del producto y el value es la cantidad\n",
      "        Ej: {'pan' : 3, 'leche' : 2, 'agua' : 6}\n",
      "    \n",
      "Producto: pan | Cantidad: 3\n",
      "Producto: bebida | Cantidad: 2\n",
      "Producto: leche | Cantidad: 7\n",
      "Producto: agua | Cantidad: 6\n",
      "Producto: cerveza | Cantidad: 12\n"
     ]
    }
   ],
   "source": [
    "carro_1 = Carro({'pan' : 3, 'leche' : 2, 'agua' : 6})\n",
    "carro_2 = Carro({'leche' : 5, 'bebida' : 2, 'cerveza' : 12})\n",
    "carro_3 = carro_1 + carro_2\n",
    "print(carro_3)"
   ]
  },
  {
   "cell_type": "markdown",
   "metadata": {},
   "source": [
    "De la misma forma podemos personalizar la mayoría de los operadores, por ejemplo, para personalizar el operador \"menor que\" (less than):"
   ]
  },
  {
   "cell_type": "code",
   "execution_count": 5,
   "metadata": {
    "collapsed": false
   },
   "outputs": [
    {
     "name": "stdout",
     "output_type": "stream",
     "text": [
      "True\n"
     ]
    }
   ],
   "source": [
    "class Punto: \n",
    "    def __init__(self, x, y): \n",
    "        self.x = x \n",
    "        self.y = y\n",
    "    \n",
    "    def __lt__(self, otro_punto): \n",
    "        self_mag = (self.x ** 2) + (self.y ** 2) \n",
    "        otro_punto_mag = (otro_punto.x ** 2) + (otro_punto.y ** 2) \n",
    "        return self_mag < otro_punto_mag\n",
    "\n",
    "p1 = Punto(2,4)\n",
    "p2 = Punto(8,3)\n",
    "print(p1 < p2)"
   ]
  },
  {
   "cell_type": "markdown",
   "metadata": {},
   "source": [
    "# Duck Typing\n",
    "\n",
    "> if it walks like a duck and quacks like a duck then it is a duck\" \n",
    "(no importa el tipo de objeto si contiene la acción)\n",
    " \n",
    "Duck typing es una característica de algunos lenguajes que hace que el polimorfismo sea menos atractivo, ya que el lenguaje por sí sólo es capaz de generar comportamiento polimórfico sin la necesidad de implementar el polimorfismo a través de la herencia. "
   ]
  },
  {
   "cell_type": "code",
   "execution_count": 2,
   "metadata": {
    "collapsed": false
   },
   "outputs": [
    {
     "name": "stdout",
     "output_type": "stream",
     "text": [
      "Quack!\n",
      "caminando como un pato...\n",
      "Ahhh!\n",
      "caminando como un humano...\n"
     ]
    }
   ],
   "source": [
    "class Pato:\n",
    "    \n",
    "    def gritar(self):\n",
    "        print(\"Quack!\")\n",
    "        \n",
    "    def caminar(self):\n",
    "        print(\"caminando como un pato...\")        \n",
    "    \n",
    "class Persona:\n",
    "    \n",
    "    def gritar(self):\n",
    "        print(\"Ahhh!\")\n",
    "        \n",
    "    def caminar(self):\n",
    "        print(\"caminando como un humano...\")        \n",
    "\n",
    "        \n",
    "def activar(pato): #esto en otro tipo de lenguaje obligaría a que pato sea del tipo \"Pato\", por lo tanto\n",
    "    pato.gritar() #la función activar no podría ser llamada con un argumento tipo \"Persona\"\n",
    "    pato.caminar()\n",
    "\n",
    "\n",
    "donald = Pato()\n",
    "juan = Persona()\n",
    "activar(donald)\n",
    "activar(juan)"
   ]
  },
  {
   "cell_type": "code",
   "execution_count": null,
   "metadata": {
    "collapsed": true
   },
   "outputs": [],
   "source": []
  }
 ],
 "metadata": {
  "kernelspec": {
   "display_name": "Python 3",
   "language": "python",
   "name": "python3"
  },
  "language_info": {
   "codemirror_mode": {
    "name": "ipython",
    "version": 3
   },
   "file_extension": ".py",
   "mimetype": "text/x-python",
   "name": "python",
   "nbconvert_exporter": "python",
   "pygments_lexer": "ipython3",
   "version": "3.6.0"
  }
 },
 "nbformat": 4,
 "nbformat_minor": 0
}
