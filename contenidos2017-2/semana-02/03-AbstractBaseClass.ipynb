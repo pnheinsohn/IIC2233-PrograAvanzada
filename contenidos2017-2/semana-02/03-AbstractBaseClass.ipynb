{
 "cells": [
  {
   "cell_type": "markdown",
   "metadata": {},
   "source": [
    "<h1>Abstract Base Class </h1>\n",
    "\n",
    "Las clases abstractas en un lenguaje de programación nos permiten representar mejor lo que son las clases realmente abstractas desde el punto de vista del modelamiento. Por ejemplo, la clase \"Vehículo\" representa algo abstracto, no tiene forma, no puede tomar vida por sí sola a menos de que sea subclaseada, es decir, una instancia de la clase Vehículo no tendría mucho sentido,  necesitamos saber a qué (subclase) vehículo corresponde (camión, deportivo, bus, etc.) para que sepamos cómo se conduce, cuántos pasajeros traslada, etc. Son las subclases de la clase abstracta las que deben ser instanciadas. La principal razón de las clases abstractas es ahorrarnos el repetir las variables y métodos que compartirían todas sus subclases.\n",
    "\n",
    " Existen entonces dentro de una clase abstracta: los métodos abstractos que funcionan distinto dependiendo de la subclase, por lo tanto deben ser implementados en cada subclase; y los métodos normales, que funcionan igual para todas las subclases y deberían estar implementados en la clase abstracta. \n",
    "\n",
    "En Python podríamos tratar de simular clases abstractas de la siguiente forma:"
   ]
  },
  {
   "cell_type": "code",
   "execution_count": 3,
   "metadata": {
    "collapsed": false
   },
   "outputs": [
    {
     "ename": "TypeError",
     "evalue": "__init__() missing 1 required positional argument: 'atr1'",
     "output_type": "error",
     "traceback": [
      "\u001b[1;31m---------------------------------------------------------------------------\u001b[0m",
      "\u001b[1;31mTypeError\u001b[0m                                 Traceback (most recent call last)",
      "\u001b[1;32m<ipython-input-3-9eed3bf5d59a>\u001b[0m in \u001b[0;36m<module>\u001b[1;34m()\u001b[0m\n\u001b[0;32m     18\u001b[0m \u001b[1;33m\u001b[0m\u001b[0m\n\u001b[0;32m     19\u001b[0m \u001b[0mb1\u001b[0m \u001b[1;33m=\u001b[0m \u001b[0mBase\u001b[0m\u001b[1;33m(\u001b[0m\u001b[1;34m'un atributo'\u001b[0m\u001b[1;33m)\u001b[0m\u001b[1;33m\u001b[0m\u001b[0m\n\u001b[1;32m---> 20\u001b[1;33m \u001b[0mb2\u001b[0m \u001b[1;33m=\u001b[0m \u001b[0mSubClase\u001b[0m\u001b[1;33m(\u001b[0m\u001b[1;33m)\u001b[0m\u001b[1;33m\u001b[0m\u001b[0m\n\u001b[0m\u001b[0;32m     21\u001b[0m \u001b[0mb2\u001b[0m\u001b[1;33m.\u001b[0m\u001b[0mfunc_1\u001b[0m\u001b[1;33m(\u001b[0m\u001b[1;33m)\u001b[0m\u001b[1;33m\u001b[0m\u001b[0m\n\u001b[0;32m     22\u001b[0m \u001b[0mb2\u001b[0m\u001b[1;33m.\u001b[0m\u001b[0mfunc_2\u001b[0m\u001b[1;33m(\u001b[0m\u001b[1;33m)\u001b[0m\u001b[1;33m\u001b[0m\u001b[0m\n",
      "\u001b[1;31mTypeError\u001b[0m: __init__() missing 1 required positional argument: 'atr1'"
     ]
    }
   ],
   "source": [
    "class Base:\n",
    "            \n",
    "    def func_1(self):\n",
    "        raise NotImplementedError()\n",
    "\n",
    "    def func_2(self):\n",
    "        raise NotImplementedError()\n",
    "        \n",
    "class SubClase(Base):\n",
    "    def func_1(self):\n",
    "        print(\"func_1() called...\")\n",
    "        return\n",
    "\n",
    "    # se nos olvidó el método func_2 :(\n",
    "    \n",
    "b1 = Base()\n",
    "b2 = SubClase()\n",
    "b2.func_1()\n",
    "b2.func_2()"
   ]
  },
  {
   "cell_type": "code",
   "execution_count": 18,
   "metadata": {
    "collapsed": false,
    "scrolled": true
   },
   "outputs": [
    {
     "ename": "NotImplementedError",
     "evalue": "",
     "output_type": "error",
     "traceback": [
      "\u001b[0;31m---------------------------------------------------------------------------\u001b[0m\n\u001b[0;31mNotImplementedError\u001b[0m                       Traceback (most recent call last)",
      "\u001b[0;32m<ipython-input-18-ac76688e460c>\u001b[0m in \u001b[0;36m<module>\u001b[0;34m()\u001b[0m\n\u001b[0;32m----> 1\u001b[0;31m \u001b[0mb1\u001b[0m\u001b[0;34m.\u001b[0m\u001b[0mfunc_2\u001b[0m\u001b[0;34m(\u001b[0m\u001b[0;34m)\u001b[0m\u001b[0;34m\u001b[0m\u001b[0m\n\u001b[0m",
      "\u001b[0;32m<ipython-input-17-0803174cce17>\u001b[0m in \u001b[0;36mfunc_2\u001b[0;34m(self)\u001b[0m\n\u001b[1;32m      4\u001b[0m \u001b[0;34m\u001b[0m\u001b[0m\n\u001b[1;32m      5\u001b[0m     \u001b[0;32mdef\u001b[0m \u001b[0mfunc_2\u001b[0m\u001b[0;34m(\u001b[0m\u001b[0mself\u001b[0m\u001b[0;34m)\u001b[0m\u001b[0;34m:\u001b[0m\u001b[0;34m\u001b[0m\u001b[0m\n\u001b[0;32m----> 6\u001b[0;31m         \u001b[0;32mraise\u001b[0m \u001b[0mNotImplementedError\u001b[0m\u001b[0;34m(\u001b[0m\u001b[0;34m)\u001b[0m\u001b[0;34m\u001b[0m\u001b[0m\n\u001b[0m\u001b[1;32m      7\u001b[0m \u001b[0;34m\u001b[0m\u001b[0m\n\u001b[1;32m      8\u001b[0m \u001b[0;32mclass\u001b[0m \u001b[0mSubClase\u001b[0m\u001b[0;34m(\u001b[0m\u001b[0mBase\u001b[0m\u001b[0;34m)\u001b[0m\u001b[0;34m:\u001b[0m\u001b[0;34m\u001b[0m\u001b[0m\n",
      "\u001b[0;31mNotImplementedError\u001b[0m: "
     ]
    }
   ],
   "source": [
    "b1.func_2()"
   ]
  },
  {
   "cell_type": "markdown",
   "metadata": {},
   "source": [
    "El problema de este approach es que el programa nos permite instanciar la clase base sin problemas, \n",
    "lo cual no es correcto ya que es una clase abstracta. Además está permitido proveer una subclase incompleta,\n",
    "lo cual tampoco es deseable. El módulo ABC (\"Abstract Base Classes\") de Python nos permite forzar a que esta situación no ocurra:"
   ]
  },
  {
   "cell_type": "code",
   "execution_count": 19,
   "metadata": {
    "collapsed": false
   },
   "outputs": [
    {
     "name": "stdout",
     "output_type": "stream",
     "text": [
      "Es subclase: True\n"
     ]
    },
    {
     "ename": "TypeError",
     "evalue": "Can't instantiate abstract class SubClase with abstract methods func_2",
     "output_type": "error",
     "traceback": [
      "\u001b[0;31m---------------------------------------------------------------------------\u001b[0m\n\u001b[0;31mTypeError\u001b[0m                                 Traceback (most recent call last)",
      "\u001b[0;32m<ipython-input-19-b1003dd6fd92>\u001b[0m in \u001b[0;36m<module>\u001b[0;34m()\u001b[0m\n\u001b[1;32m     17\u001b[0m \u001b[0;34m\u001b[0m\u001b[0m\n\u001b[1;32m     18\u001b[0m \u001b[0mprint\u001b[0m\u001b[0;34m(\u001b[0m\u001b[0;34m'Es subclase: {}'\u001b[0m\u001b[0;34m.\u001b[0m\u001b[0mformat\u001b[0m\u001b[0;34m(\u001b[0m\u001b[0missubclass\u001b[0m\u001b[0;34m(\u001b[0m\u001b[0mSubClase\u001b[0m\u001b[0;34m,\u001b[0m \u001b[0mBase\u001b[0m\u001b[0;34m)\u001b[0m\u001b[0;34m)\u001b[0m\u001b[0;34m)\u001b[0m\u001b[0;34m\u001b[0m\u001b[0m\n\u001b[0;32m---> 19\u001b[0;31m \u001b[0mprint\u001b[0m\u001b[0;34m(\u001b[0m\u001b[0;34m'Es instancia: {}'\u001b[0m\u001b[0;34m.\u001b[0m\u001b[0mformat\u001b[0m\u001b[0;34m(\u001b[0m\u001b[0misinstance\u001b[0m\u001b[0;34m(\u001b[0m\u001b[0mSubClase\u001b[0m\u001b[0;34m(\u001b[0m\u001b[0;34m)\u001b[0m\u001b[0;34m,\u001b[0m \u001b[0mBase\u001b[0m\u001b[0;34m)\u001b[0m\u001b[0;34m)\u001b[0m\u001b[0;34m)\u001b[0m\u001b[0;34m\u001b[0m\u001b[0m\n\u001b[0m",
      "\u001b[0;31mTypeError\u001b[0m: Can't instantiate abstract class SubClase with abstract methods func_2"
     ]
    }
   ],
   "source": [
    "from abc import ABCMeta, abstractmethod\n",
    "\n",
    "class Base(metaclass=ABCMeta):\n",
    "    @abstractmethod\n",
    "    def func_1(self):\n",
    "        pass\n",
    "\n",
    "    @abstractmethod\n",
    "    def func_2(self):\n",
    "        pass\n",
    "\n",
    "class SubClase(Base):\n",
    "    def func_1(self):\n",
    "        pass\n",
    "\n",
    "    # Nuevamente olvidamod declarar el método func_2\n",
    "\n",
    "print('Es subclase: {}'.format(issubclass(SubClase, Base)))\n",
    "print('Es instancia: {}'.format(isinstance(SubClase(), Base)))"
   ]
  },
  {
   "cell_type": "code",
   "execution_count": 20,
   "metadata": {
    "collapsed": false
   },
   "outputs": [
    {
     "name": "stdout",
     "output_type": "stream",
     "text": [
      "Tratando de generar una instancia de la clase Base...\n",
      "\n"
     ]
    },
    {
     "ename": "TypeError",
     "evalue": "Can't instantiate abstract class Base with abstract methods func_1, func_2",
     "output_type": "error",
     "traceback": [
      "\u001b[0;31m---------------------------------------------------------------------------\u001b[0m\n\u001b[0;31mTypeError\u001b[0m                                 Traceback (most recent call last)",
      "\u001b[0;32m<ipython-input-20-e8aa694c9937>\u001b[0m in \u001b[0;36m<module>\u001b[0;34m()\u001b[0m\n\u001b[1;32m      1\u001b[0m \u001b[0mprint\u001b[0m\u001b[0;34m(\u001b[0m\u001b[0;34m'Tratando de generar una instancia de la clase Base...\\n'\u001b[0m\u001b[0;34m)\u001b[0m\u001b[0;34m\u001b[0m\u001b[0m\n\u001b[0;32m----> 2\u001b[0;31m \u001b[0ma\u001b[0m \u001b[0;34m=\u001b[0m \u001b[0mBase\u001b[0m\u001b[0;34m(\u001b[0m\u001b[0;34m)\u001b[0m\u001b[0;34m\u001b[0m\u001b[0m\n\u001b[0m",
      "\u001b[0;31mTypeError\u001b[0m: Can't instantiate abstract class Base with abstract methods func_1, func_2"
     ]
    }
   ],
   "source": [
    "print('Tratando de generar una instancia de la clase Base...\\n')\n",
    "a = Base()"
   ]
  },
  {
   "cell_type": "markdown",
   "metadata": {},
   "source": [
    "Agregando entonces ambos métodos:"
   ]
  },
  {
   "cell_type": "code",
   "execution_count": 2,
   "metadata": {
    "collapsed": false
   },
   "outputs": [
    {
     "name": "stdout",
     "output_type": "stream",
     "text": [
      "Subclass: True\n",
      "Instance: True\n"
     ]
    }
   ],
   "source": [
    "from abc import ABCMeta, abstractmethod\n",
    "\n",
    "class Base(metaclass=ABCMeta):\n",
    "    @abstractmethod\n",
    "    def func_1(self):\n",
    "        pass\n",
    "\n",
    "    @abstractmethod\n",
    "    def func_2(self):\n",
    "        pass\n",
    "\n",
    "class SubClase(Base):\n",
    "    \n",
    "    def func_1(self):\n",
    "        pass\n",
    "\n",
    "    def func_2(self):\n",
    "        pass\n",
    "\n",
    "    # Nuevamente olvidamod declarar el método func_2\n",
    "\n",
    "c = SubClase()\n",
    "print('Subclass: {}'.format(issubclass(SubClase, Base)))\n",
    "print('Instance: {}'.format(isinstance(SubClase(), Base)))"
   ]
  },
  {
   "cell_type": "markdown",
   "metadata": {},
   "source": [
    "También podemos usar \"abstract properties\":"
   ]
  },
  {
   "cell_type": "code",
   "execution_count": 8,
   "metadata": {
    "collapsed": false
   },
   "outputs": [
    {
     "name": "stdout",
     "output_type": "stream",
     "text": [
      "Can't instantiate abstract class Base with abstract methods value\n",
      "ERROR: Can't instantiate abstract class Base with abstract methods value\n",
      "Implementation.value: propiedad concrasdeta\n"
     ]
    }
   ],
   "source": [
    "from abc import abstractproperty\n",
    "\n",
    "class Base(metaclass= ABCMeta):\n",
    "    \n",
    "    @abstractproperty\n",
    "    def value(self):\n",
    "        return 'Nunca deberíamos llegar aquí'\n",
    "\n",
    "\n",
    "class Implementation(Base):\n",
    "    \n",
    "    @property\n",
    "    def value(self):\n",
    "        return 'propiedad concrasdeta'\n",
    "\n",
    "try:\n",
    "    b = Base()\n",
    "    print('Base.value: {}'.format(b.value))\n",
    "    \n",
    "except Exception as err:\n",
    "    print(err)\n",
    "    print('ERROR: {}'.format(str(err)))\n",
    "\n",
    "i = Implementation()\n",
    "\n",
    "print('Implementation.value: {}'.format(i.value))"
   ]
  },
  {
   "cell_type": "markdown",
   "metadata": {},
   "source": [
    "## Comentarios finales\n",
    "\n",
    "Existen muchas opiniones acerca de la relación entre polimorfismo, herencia y ducktyping ([1](https://softwareengineering.stackexchange.com/questions/121778/is-duck-typing-a-subset-of-polymorphism), [2](https://stackoverflow.com/questions/11502433/what-is-the-difference-between-polymorphism-and-duck-typing), [3](https://www.reddit.com/r/learnprogramming/comments/2r30c0/is_ducktyping_and_advanced_form_of_polymorphism/) y otras). Lo importante para este curso es que entiendas cómo se implementan estos tres conceptos en python. Si tienes  dudas, haz una issue."
   ]
  }
 ],
 "metadata": {
  "kernelspec": {
   "display_name": "Python 3",
   "language": "python",
   "name": "python3"
  },
  "language_info": {
   "codemirror_mode": {
    "name": "ipython",
    "version": 3
   },
   "file_extension": ".py",
   "mimetype": "text/x-python",
   "name": "python",
   "nbconvert_exporter": "python",
   "pygments_lexer": "ipython3",
   "version": "3.6.0"
  }
 },
 "nbformat": 4,
 "nbformat_minor": 0
}
