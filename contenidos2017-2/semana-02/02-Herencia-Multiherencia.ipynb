{
 "cells": [
  {
   "cell_type": "markdown",
   "metadata": {},
   "source": [
    "<p>\n",
    "<font size='5' face='Georgia, Arial'>IIC-2233 Apunte Programación Avanzada</font><br>\n",
    "<font size='1'>&copy; 2015 Karim Pichara - Christian Pieringer. Todos los derechos reservados.</font>\n",
    "</p>"
   ]
  },
  {
   "cell_type": "markdown",
   "metadata": {},
   "source": [
    "<h2>Herencia</h2>\n",
    "\n",
    "El concepto de herencia en programación orientada a objetos nos permite aprovechar código de las clases de las cuales se hereda. La herencia nos permite representar la relación del tipo \"el objeto B es un objeto A, pero con ciertas diferencias\".\n",
    "\n",
    "Una clase hija (o subclase) corresponde a una <b>especialización</b> de su clase padre. Cuando un objeto pertenece a una clase en particular, si esta clase es a su vez una subclase de otra clase más general, la herencia nos permite \"heredar\" los datos y comportamiento de la clase \"madre\" (superclase), de tal manera de no tener que volver a definir esos datos y comportamiento en la subclase. Por ejemplo: La clase \"furgón escolar\" es una subclase de la clase \"vehículo\", por lo tanto sabemos que la clase \"furgón escolar\" va a heredar los datos y comportamiento de \"vehículo\" (ruedas, motor, etc.) y no es necesario volver a definirlos en la subclase \"furgón escolar\". Lo interesante es que la subclase \"furgón escolar\" tiene ciertos datos y métodos que la hacen más especializada que la clase \"vehículo\", <i>i.e.</i>, lista de niños inscritos en el furgón.\n",
    "\n",
    "También la herencia nos permite sobrescribir los métodos que necesitemos modificar. En Python, simplemente definimos nuevamente el método y con eso se entiende que la versión implementada en la subclase es la que cuenta. Una de las cosas que podemos hacer con herencia es extender los _built-ins_, por ejemplo, si queremos extender la clase \"lista\", podemos definir una subclase que heredará los métodos de la clase \"lista\" y a su vez tendrá datos y métodos propios:\n"
   ]
  },
  {
   "cell_type": "code",
   "execution_count": 2,
   "metadata": {
    "collapsed": false
   },
   "outputs": [],
   "source": [
    "# Aquí estamos extendiendo y especializando la clase lista estándar. Tiene todos los métodos de la lista más los definidos por\n",
    "# nosotros. Recordar que para nombrar las clases se utiliza notación CamelCase.\n",
    "class ContactList(list):\n",
    "    \n",
    "    # buscar es un método específico de esta sub-clase\n",
    "    def buscar(self, nombre):\n",
    "        matches = []\n",
    "        \n",
    "        for contacto in self:\n",
    "            if nombre in contacto.nombre:\n",
    "                matches.append(contacto)\n",
    "                \n",
    "        return matches\n",
    "\n",
    "    \n",
    "class Contacto:\n",
    "    \n",
    "    # Contacto se compone de una lista de contactos del tipo ContactList\n",
    "    # contactos_list = [] #así sería para usar una lista común y corriente\n",
    "    contactos_list = ContactList()\n",
    "\n",
    "    def __init__(self, nombre, email):\n",
    "        self.nombre = nombre\n",
    "        self.email = email\n",
    "        Contacto.contactos_list.append(self) # el método append() es heredado de la clase List()\n",
    "\n",
    "\n",
    "# Familiar es una clase especializada de contacto que permite incluir el tipo de relación\n",
    "class Familiar(Contacto):\n",
    "\n",
    "    def __init__(self, nombre, email, relacion): # Overriding sobre el método __init__()\n",
    "        super().__init__(nombre, email) # Obtiene la instancia del padre y llama a su funcion __init__\n",
    "        self.relacion = relacion"
   ]
  },
  {
   "cell_type": "code",
   "execution_count": 3,
   "metadata": {
    "collapsed": false
   },
   "outputs": [
    {
     "name": "stdout",
     "output_type": "stream",
     "text": [
      "[Jorge González, Jorge Contreras]\n"
     ]
    }
   ],
   "source": [
    "p1 = Familiar(nombre = \"Juan Gómez\", email = \"jg@hotmail.com\", relacion = \"padre\")\n",
    "p2 = Contacto(nombre = \"Jorge González\", email = \"jg@gmail.com\")\n",
    "p3 = Familiar(nombre = \"Pablo Gómez\", email = \"pab_g@gmail.com\", relacion = 'primo')\n",
    "p4 = Contacto(nombre = \"Jorge Contreras\", email = \"jc@gmail.com\")\n",
    "\n",
    "L = [c.nombre for c in p1.contactos_list.buscar(\"Jorge\")]\n",
    "\n",
    "print('[', end='')\n",
    "print(*L, sep=', ', end='')\n",
    "print(']')"
   ]
  },
  {
   "cell_type": "markdown",
   "metadata": {},
   "source": [
    "<h2> Multiherencia</h2>\n",
    "\n",
    "Tal como es posible que una subclase herede datos y comportamiento de una superclase, también es posible heredar\n",
    "de más de una clase a la vez:\n"
   ]
  },
  {
   "cell_type": "code",
   "execution_count": 1,
   "metadata": {
    "collapsed": false
   },
   "outputs": [
    {
     "name": "stdout",
     "output_type": "stream",
     "text": [
      "Juan Perez\n",
      "Inteligencia de Máquina\n",
      "Ciencia De La Computación\n"
     ]
    }
   ],
   "source": [
    "class Investigador:\n",
    "    def __init__(self, area):\n",
    "        self.area = area\n",
    "        \n",
    "class Docente:\n",
    "    def __init__(self, Departamento):\n",
    "        self.departamento = Departamento\n",
    "        \n",
    "class Academico(Docente, Investigador):\n",
    "    def __init__(self, nombre, area_investigacion, departamento):\n",
    "        #esto no es del todo correcto, coming soon...\n",
    "        Investigador.__init__(self, area_investigacion)\n",
    "        Docente.__init__(self, departamento)\n",
    "        self.nombre = nombre\n",
    "\n",
    "p1 = Academico(\"Juan Perez\", \"Inteligencia de Máquina\", \"Ciencia De La Computación\")\n",
    "print(p1.nombre)\n",
    "print(p1.area)\n",
    "print(p1.departamento)"
   ]
  },
  {
   "cell_type": "markdown",
   "metadata": {},
   "source": [
    "<h2> Multiherencia y el Problema del diamante</h2>\n",
    "\n",
    "El siguiente ejemplo muestra lo que ocurre en un contexto de multiherencia si es que cada sub-clase llama directamente a inicializar a todas sus superclases. La figura siguiente muestra la jerarquía de las clases en cuestión\n",
    "\n",
    "![Diamante](img_diamante.png)"
   ]
  },
  {
   "cell_type": "markdown",
   "metadata": {},
   "source": [
    "El siguiente código muestra qué ocurre cuando llamamos al método \"llamar()\" en ambas super clases desde la clase \"SubClaseA\"."
   ]
  },
  {
   "cell_type": "code",
   "execution_count": 1,
   "metadata": {
    "collapsed": false
   },
   "outputs": [
    {
     "name": "stdout",
     "output_type": "stream",
     "text": [
      "Llamando método en Clase B\n",
      "Llamando método en Subclase izquierda\n",
      "Llamando método en Clase B\n",
      "Llamando método en Subclase derecha\n",
      "Llamando método en SubclaseA\n",
      "1 1 1 2\n"
     ]
    }
   ],
   "source": [
    "class ClaseB:\n",
    "    num_llamadas_B = 0\n",
    "    def llamar(self):\n",
    "        print(\"Llamando método en Clase B\")\n",
    "        self.num_llamadas_B += 1\n",
    "\n",
    "\n",
    "class SubClaseIzquierda(ClaseB):\n",
    "    num_llamadas_izq = 0\n",
    "    def llamar(self):\n",
    "        ClaseB.llamar(self)\n",
    "        print(\"Llamando método en Subclase izquierda\")\n",
    "        self.num_llamadas_izq += 1\n",
    "\n",
    "class SubClaseDerecha(ClaseB):\n",
    "    \n",
    "    num_llamadas_der = 0\n",
    "    \n",
    "    def llamar(self):\n",
    "        ClaseB.llamar(self)\n",
    "        print(\"Llamando método en Subclase derecha\")\n",
    "        self.num_llamadas_der += 1\n",
    "\n",
    "class SubClaseA(SubClaseIzquierda, SubClaseDerecha):\n",
    "    num_llamadas_subA = 0\n",
    "    def llamar(self):\n",
    "        SubClaseIzquierda.llamar(self)\n",
    "        SubClaseDerecha.llamar(self)\n",
    "        print(\"Llamando método en SubclaseA\")\n",
    "        self.num_llamadas_subA += 1\n",
    "\n",
    "\n",
    "\n",
    "s = SubClaseA()\n",
    "s.llamar()\n",
    "print(s.num_llamadas_subA, s.num_llamadas_izq, s.num_llamadas_der, s.num_llamadas_B)\n",
    "\n"
   ]
  },
  {
   "cell_type": "markdown",
   "metadata": {},
   "source": [
    "Del output se puede apreciar que la clase de más arriba en la jerarquía (\"Clase B\"), fue llamada dos veces, a pesar de que\n",
    "nuestra intención era llamarla sólo una vez. La estructura de jerarquía en forma de diamante ocurre siempre que tengamos una clase que hereda de dos clases, ya que como en Python todo es un objeto, todo hereda de la clase \"object\" (ver: \"new style classes (https://www.python.org/doc/newstyle/)\"), por lo tanto en general el esquema de multiherencia se ve de la siguiente forma:\n",
    "\n",
    "![Diamante2](img_diamante_2.png)\n",
    "Siguiendo el mismo ejemplo anterior, en vez de llamar al método \"llamar()\", llamamos al método \"__init__\", estaríamos inicializando dos veces en la clase \"object\"!!. \n"
   ]
  },
  {
   "cell_type": "markdown",
   "metadata": {},
   "source": [
    "<h2>Solución:</h2>\n",
    "\n",
    "La solución es que cada clase debe preocuparse de llamar a inicializar a la clase que la \"precede\" en el orden del esquema de la multiherencia. En Python el orden de las clases va de izquierda a derecha dentro de la lista de super-clases desde donde hereda la sub-clase. En este caso, simplemente debemos preocuparnos de hacer una llamada a \"super()\", Python se encargará de que la llamada corresponda a la clase que respeta el orden en la multiherencia, en este caso, después de la subclase viene la clase \"SubclaseIzquierda\", después \"SubClaseDerecha\" y finalmente \"ClaseB\""
   ]
  },
  {
   "cell_type": "code",
   "execution_count": 2,
   "metadata": {
    "collapsed": false
   },
   "outputs": [
    {
     "name": "stdout",
     "output_type": "stream",
     "text": [
      "Llamando método en Clase B\n",
      "Llamando método en Subclase Derecha\n",
      "Llamando método en Subclase Izquierda\n",
      "Llamando método en SubclaseA\n",
      "1 1 1 1\n"
     ]
    }
   ],
   "source": [
    "class ClaseB:\n",
    "    num_llamadas_B = 0\n",
    "    def llamar(self):\n",
    "        print(\"Llamando método en Clase B\")\n",
    "        self.num_llamadas_B += 1\n",
    "\n",
    "\n",
    "class SubClaseIzquierda(ClaseB):\n",
    "    num_llamadas_izq = 0\n",
    "    def llamar(self):\n",
    "        super().llamar()\n",
    "        print(\"Llamando método en Subclase Izquierda\")\n",
    "        self.num_llamadas_izq += 1\n",
    "\n",
    "class SubClaseDerecha(ClaseB):\n",
    "    num_llamadas_der = 0\n",
    "    def llamar(self):\n",
    "        super().llamar()\n",
    "        print(\"Llamando método en Subclase Derecha\")\n",
    "        self.num_llamadas_der += 1\n",
    "\n",
    "class SubClaseA(SubClaseIzquierda, SubClaseDerecha):\n",
    "    num_llamadas_subA = 0\n",
    "    def llamar(self):\n",
    "        super().llamar()\n",
    "        print(\"Llamando método en SubclaseA\")\n",
    "        self.num_llamadas_subA += 1\n",
    "\n",
    "\n",
    "s = SubClaseA()\n",
    "s.llamar()\n",
    "print(s.num_llamadas_subA, s.num_llamadas_izq, s.num_llamadas_der, s.num_llamadas_B)\n",
    "\n"
   ]
  },
  {
   "cell_type": "markdown",
   "metadata": {},
   "source": [
    "### El método `__mro__` (method resolution order) nos muestra el orden de la jerarquía. \n",
    "\n",
    "Es útil para casos de multiherencia más complejos, Python utiliza el algoritmo C3 para calcular un orden lineal entre las clases que participan en el esquema de multiherencia: \n"
   ]
  },
  {
   "cell_type": "code",
   "execution_count": 30,
   "metadata": {
    "collapsed": false
   },
   "outputs": [
    {
     "data": {
      "text/plain": [
       "(__main__.SubClaseA,\n",
       " __main__.SubClaseIzquierda,\n",
       " __main__.SubClaseDerecha,\n",
       " __main__.ClaseB,\n",
       " object)"
      ]
     },
     "execution_count": 30,
     "metadata": {},
     "output_type": "execute_result"
    }
   ],
   "source": [
    "SubClaseA.__mro__"
   ]
  },
  {
   "cell_type": "markdown",
   "metadata": {},
   "source": [
    "Este es un ejemplo de estructura de multiherencia que no estaría permitida en Python, ya que el algoritmo C3 generaría un error:"
   ]
  },
  {
   "cell_type": "code",
   "execution_count": 31,
   "metadata": {
    "collapsed": false
   },
   "outputs": [
    {
     "ename": "TypeError",
     "evalue": "Cannot create a consistent method resolution\norder (MRO) for bases X, Y",
     "output_type": "error",
     "traceback": [
      "\u001b[0;31m---------------------------------------------------------------------------\u001b[0m\n\u001b[0;31mTypeError\u001b[0m                                 Traceback (most recent call last)",
      "\u001b[0;32m<ipython-input-31-fc78f996e01f>\u001b[0m in \u001b[0;36m<module>\u001b[0;34m()\u001b[0m\n\u001b[1;32m     15\u001b[0m          \u001b[0mprint\u001b[0m\u001b[0;34m(\u001b[0m\u001b[0;34m\"soy B\"\u001b[0m\u001b[0;34m)\u001b[0m\u001b[0;34m\u001b[0m\u001b[0m\n\u001b[1;32m     16\u001b[0m \u001b[0;34m\u001b[0m\u001b[0m\n\u001b[0;32m---> 17\u001b[0;31m \u001b[0;32mclass\u001b[0m \u001b[0mF\u001b[0m\u001b[0;34m(\u001b[0m\u001b[0mA\u001b[0m\u001b[0;34m,\u001b[0m \u001b[0mB\u001b[0m\u001b[0;34m)\u001b[0m\u001b[0;34m:\u001b[0m\u001b[0;34m\u001b[0m\u001b[0m\n\u001b[0m\u001b[1;32m     18\u001b[0m     \u001b[0;32mdef\u001b[0m \u001b[0mcall_me\u001b[0m\u001b[0;34m(\u001b[0m\u001b[0mself\u001b[0m\u001b[0;34m)\u001b[0m\u001b[0;34m:\u001b[0m\u001b[0;34m\u001b[0m\u001b[0m\n\u001b[1;32m     19\u001b[0m         \u001b[0mprint\u001b[0m\u001b[0;34m(\u001b[0m\u001b[0;34m\"soy F\"\u001b[0m\u001b[0;34m)\u001b[0m\u001b[0;34m\u001b[0m\u001b[0m\n",
      "\u001b[0;31mTypeError\u001b[0m: Cannot create a consistent method resolution\norder (MRO) for bases X, Y"
     ]
    }
   ],
   "source": [
    "class X():\n",
    "    def call_me(self):\n",
    "        print(\"soy X\")\n",
    "    \n",
    "class Y():\n",
    "    def call_me(self):\n",
    "        print(\"soy Y\")\n",
    "    \n",
    "class A(X, Y):\n",
    "    def call_me(self):\n",
    "        print(\"soy A\")\n",
    "    \n",
    "class B(Y, X):\n",
    "     def call_me(self):\n",
    "         print(\"soy B\")\n",
    "\n",
    "class F(A, B):\n",
    "    def call_me(self):\n",
    "        print(\"soy F\")"
   ]
  },
  {
   "cell_type": "code",
   "execution_count": 32,
   "metadata": {
    "collapsed": false
   },
   "outputs": [
    {
     "name": "stdout",
     "output_type": "stream",
     "text": [
      "(<class '__main__.B'>, <class '__main__.Y'>, <class '__main__.X'>, <class 'object'>)\n"
     ]
    }
   ],
   "source": [
    "print(B.__mro__)"
   ]
  },
  {
   "cell_type": "markdown",
   "metadata": {},
   "source": [
    "<h2> Ejemplo Multiherencia: </h2>\n",
    "\n",
    "<h3> Mala práctica: </h3> \n",
    "\n",
    "Si bien el siguiente ejemplo al parecer funciona correctamente, al llamar directamente a las superclases dentro de la clase Cliente estamos cometiendo el error mencionado anteriormente (se está llamando al inicializador de \"object\" más de una vez)"
   ]
  },
  {
   "cell_type": "code",
   "execution_count": 11,
   "metadata": {
    "collapsed": false
   },
   "outputs": [
    {
     "name": "stdout",
     "output_type": "stream",
     "text": [
      "Juan Perez, jp@gmail.com, Pedro de Valdivia, Providencia\n"
     ]
    }
   ],
   "source": [
    "class AddressHolder:\n",
    "    def __init__(self, calle, numero, comuna, ciudad):\n",
    "        self.calle = calle\n",
    "        self.ciudad = ciudad\n",
    "        self.comuna = comuna\n",
    "        self.numero = numero\n",
    "\n",
    "class Contacto:\n",
    "\n",
    "    contactos_list = []\n",
    "\n",
    "    def __init__(self, nombre, email):\n",
    "        self.nombre = nombre\n",
    "        self.email = email\n",
    "        Contacto.contactos_list.append(self)\n",
    "\n",
    "\n",
    "class Cliente(Contacto, AddressHolder):\n",
    "\n",
    "    def __init__(self, nombre, email, telefono, calle, numero, comuna, ciudad):\n",
    "        Contacto.__init__(self, nombre, email)\n",
    "        AddressHolder.__init__(self, calle, numero, comuna, ciudad)\n",
    "        self.telefono = telefono\n",
    "\n",
    "c = Cliente('Juan Perez', 'jp@gmail.com', '23542331', 'Pedro de Valdivia', '231', 'Providencia', 'Santiago')\n",
    "\n",
    "print(\"{}, {}, {}, {}\".format(c.nombre, c.email, c.calle, c.comuna))"
   ]
  },
  {
   "cell_type": "markdown",
   "metadata": {},
   "source": [
    "### Forma mejorada: `*args` y `**kwargs`\n",
    "\n",
    "Antes de ver una forma más adecuada para la versión del código anterior, mostraremos cómo usar \"\\*\\*kwargs\". En este caso \\*\\*kwargs se refiere a un \"keyworded variable-length argument list\", donde \\*\\* mapea los elementos contenidos en el diccionario <i>kwargs</i> y los pasa a la función como argumentos no posicionales. Este método puede ser usado para enviar una cantidad variable de argumentos a una función:"
   ]
  },
  {
   "cell_type": "code",
   "execution_count": 17,
   "metadata": {
    "collapsed": false
   },
   "outputs": [
    {
     "name": "stdout",
     "output_type": "stream",
     "text": [
      "arg1: 1\n",
      "arg2: two\n",
      "arg3: 3\n"
     ]
    }
   ],
   "source": [
    "def metodo(arg1, arg2, arg3):\n",
    "    print(\"arg1: {}\".format(arg1))\n",
    "    print(\"arg2: {}\".format(arg2))\n",
    "    print(\"arg3: {}\".format(arg3))\n",
    "\n",
    "kwargs = {\"arg3\": 3, \"arg2\": \"two\"}\n",
    "metodo(1, **kwargs)"
   ]
  },
  {
   "cell_type": "markdown",
   "metadata": {},
   "source": [
    "De forma casi análoga, \\*args se refiere a un \"Non-keyworded variable length argument list\", donde el operador `*` desempaqueta el contenido del iterable `args` y los pasa a la función como argumentos posicionales. La principal diferencia es que la lista de argumentos contiene simplemente los valores, sin los keywords (guardada en una lista):"
   ]
  },
  {
   "cell_type": "code",
   "execution_count": 22,
   "metadata": {
    "collapsed": false
   },
   "outputs": [
    {
     "name": "stdout",
     "output_type": "stream",
     "text": [
      "primer arg normal: hola\n",
      "siguiente argumento de *argv : como\n",
      "siguiente argumento de *argv : va\n",
      "siguiente argumento de *argv : todo\n"
     ]
    }
   ],
   "source": [
    "def metodo2(f_arg, *argv):\n",
    "    print(\"primer arg normal: {}\".format(f_arg))\n",
    "    for arg in argv:\n",
    "        print(\"siguiente argumento de *argv : {}\".format(arg))\n",
    "\n",
    "metodo2('hola','como','va','todo')"
   ]
  },
  {
   "cell_type": "markdown",
   "metadata": {},
   "source": [
    "Otro ejemplo:"
   ]
  },
  {
   "cell_type": "code",
   "execution_count": 17,
   "metadata": {
    "collapsed": false
   },
   "outputs": [
    {
     "name": "stdout",
     "output_type": "stream",
     "text": [
      "1\n",
      "3\n"
     ]
    },
    {
     "ename": "TypeError",
     "evalue": "funcion() takes from 0 to 2 positional arguments but 3 were given",
     "output_type": "error",
     "traceback": [
      "\u001b[1;31m---------------------------------------------------------------------------\u001b[0m",
      "\u001b[1;31mTypeError\u001b[0m                                 Traceback (most recent call last)",
      "\u001b[1;32m<ipython-input-17-3395f6386d4a>\u001b[0m in \u001b[0;36m<module>\u001b[1;34m()\u001b[0m\n\u001b[0;32m     12\u001b[0m \u001b[1;31m# La función necesita dos argumentos, por lo tanto el exceso de argumentos posicionales genera un error.\u001b[0m\u001b[1;33m\u001b[0m\u001b[1;33m\u001b[0m\u001b[0m\n\u001b[0;32m     13\u001b[0m \u001b[0mvalores\u001b[0m \u001b[1;33m=\u001b[0m \u001b[1;33m(\u001b[0m\u001b[1;36m1\u001b[0m\u001b[1;33m,\u001b[0m\u001b[1;36m2\u001b[0m\u001b[1;33m,\u001b[0m\u001b[1;36m3\u001b[0m\u001b[1;33m)\u001b[0m\u001b[1;33m\u001b[0m\u001b[0m\n\u001b[1;32m---> 14\u001b[1;33m \u001b[0mprint\u001b[0m\u001b[1;33m(\u001b[0m\u001b[0mfuncion\u001b[0m\u001b[1;33m(\u001b[0m\u001b[1;33m*\u001b[0m\u001b[0mvalores\u001b[0m\u001b[1;33m)\u001b[0m\u001b[1;33m)\u001b[0m\u001b[1;33m\u001b[0m\u001b[0m\n\u001b[0m",
      "\u001b[1;31mTypeError\u001b[0m: funcion() takes from 0 to 2 positional arguments but 3 were given"
     ]
    }
   ],
   "source": [
    "def funcion(a=0, b=0):\n",
    "    return a+b\n",
    "\n",
    "# Usando solo un valor posicional y el resto usa los argumentos por defecto\n",
    "valores = (1,)\n",
    "print(funcion(*valores))\n",
    "\n",
    "# Usando todos los argumentos posicionales definidos en la lista\n",
    "valores = (1,2)\n",
    "print(funcion(*valores))\n",
    "\n",
    "# La función necesita dos argumentos, por lo tanto el exceso de argumentos posicionales genera un error.\n",
    "valores = (1,2,3)\n",
    "print(funcion(*valores))"
   ]
  },
  {
   "cell_type": "markdown",
   "metadata": {},
   "source": [
    "Cuando usamos en una llamada `*args` y `**kwargs` juntos, se debe usar el siguiente orden: `alguna_funcion(f_args,*args,**kwargs)`"
   ]
  },
  {
   "cell_type": "code",
   "execution_count": 4,
   "metadata": {
    "collapsed": false
   },
   "outputs": [
    {
     "name": "stdout",
     "output_type": "stream",
     "text": [
      "(<class '__main__.Cliente'>, <class '__main__.Contacto'>, <class '__main__.AddressHolder'>, <class 'object'>)\n"
     ]
    }
   ],
   "source": [
    "class AddressHolder:\n",
    "    def __init__(self, calle='', ciudad='', numero='', comuna='',**kwargs):\n",
    "        print(kwargs, \"_____\")\n",
    "        super().__init__(**kwargs)\n",
    "        self.calle = calle\n",
    "        self.ciudad = ciudad\n",
    "        self.comuna = comuna\n",
    "        self.numero = numero\n",
    "\n",
    "\n",
    "class Contacto:\n",
    "\n",
    "    contactos_list = []\n",
    "\n",
    "    def __init__(self, nombre = '', email = '', **kwargs):\n",
    "        print(kwargs, \"_____\")\n",
    "        super().__init__(**kwargs)\n",
    "        self.nombre = nombre\n",
    "        self.email = email\n",
    "        Contacto.contactos_list.append(self)\n",
    "\n",
    "\n",
    "class Cliente(Contacto, AddressHolder):#Notar aquí que la clase Contacto fue involucrada (a posterior)\n",
    "                                       #en un contexto de multiherencia\n",
    "    def __init__(self, telefono='', **kwargs):\n",
    "        print(kwargs, \"_____\")\n",
    "        super().__init__(**kwargs)\n",
    "        self.telefono = telefono\n",
    "\n",
    "print(Cliente.__mro__)"
   ]
  },
  {
   "cell_type": "code",
   "execution_count": 5,
   "metadata": {
    "collapsed": false
   },
   "outputs": [
    {
     "name": "stdout",
     "output_type": "stream",
     "text": [
      "{'nombre': 'Juan Perez', 'email': 'jp@gmail.com', 'calle': 'Pedro de Valdivia', 'numero': '231', 'comuna': 'Providencia', 'ciudad': 'Santiago'} _____\n",
      "{'calle': 'Pedro de Valdivia', 'numero': '231', 'comuna': 'Providencia', 'ciudad': 'Santiago'} _____\n",
      "{} _____\n",
      "Juan Perez, jp@gmail.com, Pedro de Valdivia, Providencia\n"
     ]
    }
   ],
   "source": [
    "c = Cliente(nombre = 'Juan Perez', email = 'jp@gmail.com', telefono = '23542331',\n",
    "            calle = 'Pedro de Valdivia', numero = '231', comuna = 'Providencia', ciudad = 'Santiago')\n",
    "\n",
    "print(\"{}, {}, {}, {}\".format(c.nombre, c.email, c.calle, c.comuna))"
   ]
  },
  {
   "cell_type": "code",
   "execution_count": null,
   "metadata": {
    "collapsed": true
   },
   "outputs": [],
   "source": []
  }
 ],
 "metadata": {
  "kernelspec": {
   "display_name": "Python 3",
   "language": "python",
   "name": "python3"
  },
  "language_info": {
   "codemirror_mode": {
    "name": "ipython",
    "version": 3
   },
   "file_extension": ".py",
   "mimetype": "text/x-python",
   "name": "python",
   "nbconvert_exporter": "python",
   "pygments_lexer": "ipython3",
   "version": "3.6.0"
  }
 },
 "nbformat": 4,
 "nbformat_minor": 0
}
