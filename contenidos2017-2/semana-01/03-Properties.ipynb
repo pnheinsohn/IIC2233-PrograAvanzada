{
 "cells": [
  {
   "cell_type": "markdown",
   "metadata": {},
   "source": [
    "<p>\n",
    "<font size='5' face='Georgia, Arial'>IIC-2233 Apunte Programación Avanzada</font><br>\n",
    "<font size='1'>Basado en: &copy; 2015 Karim Pichara - Christian Pieringer. Todos los derechos reservados.</font>\n",
    "</p>"
   ]
  },
  {
   "cell_type": "markdown",
   "metadata": {},
   "source": [
    "# Properties\n",
    "\n",
    "Las properties se usan en muchos lenguajes de programación para asegurar el principio de encapsulación. Con el keyword \"property\" podemos hacer que métodos parezcan atributos."
   ]
  },
  {
   "cell_type": "markdown",
   "metadata": {},
   "source": [
    "## ¿Cuándo usar properties?\n",
    "\n",
    "Una \"property\" funciona como un atributo, pero podemos hacer que se ejecuten acciones automáticamente cuando ésta es obtenida, _seteada_ o eliminada.\n",
    "\n",
    "Un típico ejemplo de acción invocada es cuando hacemos \"caching\" de una página web. Esto ocurre cuando nuestro navegador guarda contenido del sitio, para no tener que descargarlo cada vez que se accede a él. \n",
    "\n",
    "En nuestro ejemplo, un atributo que corresponde al contenido de una página web. Si un usuario accede al contenido por primera vez, descargamos el contenido y lo guardarmos. De esta forma, en los próximos accesos podemos retornar el contenido guardado sin la necesidad de bajarlo de nuevo.\n",
    "\n"
   ]
  },
  {
   "cell_type": "code",
   "execution_count": 1,
   "metadata": {
    "collapsed": false
   },
   "outputs": [],
   "source": [
    "from urllib.request import urlopen\n",
    "\n",
    "class WebPage:\n",
    "    def __init__(self, url):\n",
    "        self.url = url\n",
    "        self._content = None\n",
    "        \n",
    "    @property\n",
    "    def content(self):\n",
    "        if not self._content:\n",
    "            print(\"Obteniendo Página Web...\")\n",
    "            self._content = urlopen(self.url).read()\n",
    "        return self._content\n",
    "        \n",
    "        "
   ]
  },
  {
   "cell_type": "code",
   "execution_count": 2,
   "metadata": {
    "collapsed": false
   },
   "outputs": [
    {
     "name": "stdout",
     "output_type": "stream",
     "text": [
      "Obteniendo Página Web...\n",
      "Tiempo en obtener la página por primera vez: 1.2959187030792236\n",
      "Tiempo en obtener la página por segunda vez: 0.0\n"
     ]
    },
    {
     "data": {
      "text/plain": [
       "True"
      ]
     },
     "execution_count": 2,
     "metadata": {},
     "output_type": "execute_result"
    }
   ],
   "source": [
    "import time\n",
    "page = WebPage(\"http://www.puc.cl\")\n",
    "now = time.time() #Return the time in seconds\n",
    "contenido_1 = page.content\n",
    "print(\"Tiempo en obtener la página por primera vez: {}\".format(time.time() - now))\n",
    "now = time.time()\n",
    "contenido_2 = page.content\n",
    "print(\"Tiempo en obtener la página por segunda vez: {}\".format(time.time() - now))\n",
    "contenido_1 == contenido_2"
   ]
  },
  {
   "cell_type": "markdown",
   "metadata": {},
   "source": [
    "Una forma de usar properties es definiendo los métodos y luego asignarlos a una variable usando `property`."
   ]
  },
  {
   "cell_type": "code",
   "execution_count": 3,
   "metadata": {
    "collapsed": false
   },
   "outputs": [],
   "source": [
    "class Email:\n",
    "    \n",
    "    def __init__(self, address):\n",
    "        self._email = address\n",
    "        \n",
    "    def _set_email(self, value):\n",
    "        if '@' not in value:\n",
    "            print(\"Esto no parece una dirección de correo.\") #aquí el ideal es levantar una excepción, eso se verá pronto\n",
    "        else:\n",
    "            self._email = value\n",
    "\n",
    "    def _get_email(self):\n",
    "        return self._email\n",
    "    \n",
    "    def _del_email(self):\n",
    "        print(\"Eliminaste el correo!!\")\n",
    "        del self._email    \n",
    "\n",
    "    email = property(_get_email, _set_email, _del_email, \"Esta propiedad corresponde al correo...\")"
   ]
  },
  {
   "cell_type": "code",
   "execution_count": 4,
   "metadata": {
    "collapsed": false
   },
   "outputs": [
    {
     "name": "stdout",
     "output_type": "stream",
     "text": [
      "Help on class Email in module __main__:\n",
      "\n",
      "class Email(builtins.object)\n",
      " |  Methods defined here:\n",
      " |  \n",
      " |  __init__(self, address)\n",
      " |      Initialize self.  See help(type(self)) for accurate signature.\n",
      " |  \n",
      " |  ----------------------------------------------------------------------\n",
      " |  Data descriptors defined here:\n",
      " |  \n",
      " |  __dict__\n",
      " |      dictionary for instance variables (if defined)\n",
      " |  \n",
      " |  __weakref__\n",
      " |      list of weak references to the object (if defined)\n",
      " |  \n",
      " |  email\n",
      " |      Esta propiedad corresponde al correo...\n",
      "\n"
     ]
    }
   ],
   "source": [
    "help(Email)"
   ]
  },
  {
   "cell_type": "code",
   "execution_count": 5,
   "metadata": {
    "collapsed": false
   },
   "outputs": [
    {
     "name": "stdout",
     "output_type": "stream",
     "text": [
      "kp1@gmail.com\n",
      "kp2@gmail.com\n",
      "Esto no parece una dirección de correo.\n",
      "Eliminaste el correo!!\n"
     ]
    }
   ],
   "source": [
    "m1 = Email(\"kp1@gmail.com\")\n",
    "print(m1.email)\n",
    "m1.email = \"kp2@gmail.com\"\n",
    "print(m1.email)\n",
    "m1.email = \"kp2.com\"\n",
    "del m1.email"
   ]
  },
  {
   "cell_type": "markdown",
   "metadata": {},
   "source": [
    "Ojo que el código no nos prohibe hacer lo siguiente:"
   ]
  },
  {
   "cell_type": "code",
   "execution_count": 6,
   "metadata": {
    "collapsed": false
   },
   "outputs": [
    {
     "name": "stdout",
     "output_type": "stream",
     "text": [
      "kp3.com\n",
      "140690318556272\n",
      "kp3.com\n",
      "140690318556272\n",
      "Esto no parece una dirección de correo.\n"
     ]
    }
   ],
   "source": [
    "m1._email = \"kp3.com\"  # Puedo acceder directamente al atributo _email saltándome el método _set_email\n",
    "print(m1._email)\n",
    "print(id(m1._email))\n",
    "print(m1.email)\n",
    "print(id(m1.email))  # la property es simplemente una referencia al mismo atributo _email, tienen la misma dirección de memoria\n",
    "m1.email = \"kp3.com\"  # Si trato de modificar la property directamente pasa por el método _set_email"
   ]
  },
  {
   "cell_type": "markdown",
   "metadata": {},
   "source": [
    "La forma más típica de usar properties es usar los decoradores (veremos decoradores más adelante).\n",
    "\n",
    "Ejemplo: Para la clase Color usemos una property primero sin decorador"
   ]
  },
  {
   "cell_type": "code",
   "execution_count": 7,
   "metadata": {
    "collapsed": false
   },
   "outputs": [],
   "source": [
    "class Color:  # version sin decorador\n",
    "    \n",
    "    def __init__(self, rgb_code, nombre):\n",
    "        self.rgb_code = rgb_code\n",
    "        self._nombre = nombre\n",
    "        \n",
    "    def set_nombre(self, nombre):\n",
    "        self._nombre = nombre\n",
    "        \n",
    "    def get_nombre(self):\n",
    "        return self._nombre\n",
    "        \n",
    "        \n",
    "    nombre = property(get_nombre, set_nombre)"
   ]
  },
  {
   "cell_type": "code",
   "execution_count": 8,
   "metadata": {
    "collapsed": false
   },
   "outputs": [
    {
     "name": "stdout",
     "output_type": "stream",
     "text": [
      "red\n"
     ]
    }
   ],
   "source": [
    "c = Color(\"#ff0000\", \"red\")\n",
    "print(c.nombre)"
   ]
  },
  {
   "cell_type": "markdown",
   "metadata": {},
   "source": [
    "<h3>Ahora la misma clase con decorador:</h3>"
   ]
  },
  {
   "cell_type": "code",
   "execution_count": 9,
   "metadata": {
    "collapsed": false
   },
   "outputs": [],
   "source": [
    "class Color:  # version con decorador\n",
    "    \n",
    "    def __init__(self, rgb_code, nombre):\n",
    "        self.rgb_code = rgb_code\n",
    "        self._nombre = nombre\n",
    "    \n",
    "    @property \n",
    "    def nombre(self):\n",
    "        print(\"Obteniendo el nombre del color\")\n",
    "        return self._nombre\n",
    "        \n",
    "    @nombre.setter    \n",
    "    def nombre(self, valor):\n",
    "        print(\"Estas seteando el valor en {}\".format(valor))\n",
    "        self._nombre = valor\n",
    "        \n",
    "    @nombre.deleter\n",
    "    def nombre(self):\n",
    "        print(\"Eliminaste el nombre!!\")\n",
    "        del self._nombre\n",
    "        "
   ]
  },
  {
   "cell_type": "code",
   "execution_count": 10,
   "metadata": {
    "collapsed": false
   },
   "outputs": [
    {
     "name": "stdout",
     "output_type": "stream",
     "text": [
      "Estas seteando el valor en azul\n",
      "Obteniendo el nombre del color\n",
      "azul\n",
      "Eliminaste el nombre!!\n"
     ]
    }
   ],
   "source": [
    "c = Color(\"#ff0000\", \"red\")\n",
    "c.nombre = \"azul\"\n",
    "print(c.nombre)\n",
    "del c.nombre\n"
   ]
  },
  {
   "cell_type": "markdown",
   "metadata": {},
   "source": [
    "Las properties con decoradores también pueden involucar acciones que dependen de variables de la clase:"
   ]
  },
  {
   "cell_type": "code",
   "execution_count": 11,
   "metadata": {
    "collapsed": false
   },
   "outputs": [],
   "source": [
    "class Circulo:\n",
    "    \n",
    "    def __init__(self, radio):\n",
    "        self._radio = radio\n",
    "\n",
    "    @property\n",
    "    def area(self):\n",
    "        return self._radio**2 * 3.14\n"
   ]
  },
  {
   "cell_type": "code",
   "execution_count": 12,
   "metadata": {
    "collapsed": false
   },
   "outputs": [
    {
     "name": "stdout",
     "output_type": "stream",
     "text": [
      "2\n",
      "12.56\n",
      "4\n",
      "50.24\n"
     ]
    }
   ],
   "source": [
    "c = Circulo(2)\n",
    "print(c._radio)\n",
    "print(c.area)\n",
    "c._radio = 4\n",
    "print(c._radio)\n",
    "print(c.area)"
   ]
  }
 ],
 "metadata": {
  "kernelspec": {
   "display_name": "Python 3",
   "language": "python",
   "name": "python3"
  },
  "language_info": {
   "codemirror_mode": {
    "name": "ipython",
    "version": 3
   },
   "file_extension": ".py",
   "mimetype": "text/x-python",
   "name": "python",
   "nbconvert_exporter": "python",
   "pygments_lexer": "ipython3",
   "version": "3.6.0"
  }
 },
 "nbformat": 4,
 "nbformat_minor": 0
}
