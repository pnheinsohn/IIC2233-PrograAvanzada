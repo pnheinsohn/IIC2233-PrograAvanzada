{
 "cells": [
  {
   "cell_type": "markdown",
   "metadata": {},
   "source": [
    "<p>\n",
    "<font size='5' face='Georgia, Arial'>IIC-2233 Apunte Programación Avanzada</font><br>\n",
    "<font size='1'>&copy; 2015 Karim Pichara - Christian Pieringer. Todos los derechos reservados.</font>\n",
    "</p>"
   ]
  },
  {
   "cell_type": "markdown",
   "metadata": {},
   "source": [
    "## Diccionarios\n",
    "Los diccionarios corresponden a estructuras de datos orientadas a la asociación de pares de elementos mediante una relación: **llave-valor**. Esta relación permite que la búsqueda de los elementos se realice de forma eficiente mediante el uso de la llave, quien indica la posición de memoria donde está contenido su valor asociado. Los diccionarios están implementados como *tablas de hash* cuya complejidad es de *O(1)*, independiente del número de datos que posea la estructura.\n",
    "\n",
    "![](img/hash-table.png)\n",
    "\n",
    "En Python los diccionarios se escriben con ```{}```. Se debe especificar la llave y el valor, asociadas mediante ':'. Las llaves en los diccionarios pueden ser cualquier tipo de variable **inmutable**: ```int```, ```str```, ```tuple```, etc. Su creación se realiza como sigue:"
   ]
  },
  {
   "cell_type": "code",
   "execution_count": 2,
   "metadata": {
    "collapsed": false
   },
   "outputs": [
    {
     "name": "stdout",
     "output_type": "stream",
     "text": [
      "{'bc': 'border-collie', 'lr': 'labrador retriever', 'pg': 'pug'}\n",
      "{('23545344', 0): 'oficina', ('2353445340', 1): 'secretaria'}\n"
     ]
    }
   ],
   "source": [
    "perros = {'bc': 'border-collie', 'lr': 'labrador retriever', 'pg': 'pug'}\n",
    "telefonos = {23545344: 'Juanito', 23545340: 'Sole', 23545342: 'Ignacio'}\n",
    "tuplas = {('23545344', 0): 'oficina', ('2353445340', 1): 'secretaria'}\n",
    "\n",
    "print(perros)\n",
    "print(tuplas)"
   ]
  },
  {
   "cell_type": "markdown",
   "metadata": {},
   "source": [
    "La referenciación mediante llaves es incluso más flexible. Las llaves dentro de un diccionario pueden ser de distinto tipo. Nota que en el ejemplo que el ordenamiento no está relacionado al orden de ingreso de los valores."
   ]
  },
  {
   "cell_type": "code",
   "execution_count": 3,
   "metadata": {
    "collapsed": false
   },
   "outputs": [
    {
     "name": "stdout",
     "output_type": "stream",
     "text": [
      "{1: 'primera llave', '2': 'segunda llave', 23.0: 'tercera llave', (23, 5): 'cuarta llave'}\n"
     ]
    }
   ],
   "source": [
    "varios = {1:'primera llave', '2': 'segunda llave', 23.0: 'tercera llave', (23,5): 'cuarta llave'}\n",
    "print(varios)"
   ]
  },
  {
   "cell_type": "markdown",
   "metadata": {},
   "source": [
    "Los contenidos del diccionario **no** están ordenados según ingreso como ocurre en las tuplas y listas. Para acceder a cada valor asociado a cada llave utilizamos la llave como `nombre_diccionario[nombre_llave]`. A continuación algunos ejemplos:"
   ]
  },
  {
   "cell_type": "code",
   "execution_count": 4,
   "metadata": {
    "collapsed": false
   },
   "outputs": [
    {
     "name": "stdout",
     "output_type": "stream",
     "text": [
      "border-collie\n",
      "Juanito\n",
      "oficina\n"
     ]
    }
   ],
   "source": [
    "print(perros['bc'])\n",
    "print(telefonos[23545344])\n",
    "print(tuplas[('23545344', 0)])"
   ]
  },
  {
   "cell_type": "markdown",
   "metadata": {},
   "source": [
    "Los diccionarios son estructuras de datos **mutables**, es decir, su contenido puede cambiar a lo largo del programa. Si se asigna un valor a una llave, existen dos comportamientos posibles: si la llave no existe, esta se crea y se le asigna un valor; si la llave ya existe, se actualiza con el nuevo valor."
   ]
  },
  {
   "cell_type": "code",
   "execution_count": 5,
   "metadata": {
    "collapsed": false
   },
   "outputs": [
    {
     "name": "stdout",
     "output_type": "stream",
     "text": [
      "{'bc': 'border-collie', 'lr': 'labrador retriever', 'pg': 'pug', 'te': 'terrier'}\n"
     ]
    }
   ],
   "source": [
    "perros['te'] = 'terrier'\n",
    "print(perros)\n",
    "\n",
    "perros['pg'] = 'pug-pug'"
   ]
  },
  {
   "cell_type": "markdown",
   "metadata": {},
   "source": [
    "Se puede eliminar items desde el diccionario utilizando la sentencia **del** como: ```del diccionario[<llave>]```."
   ]
  },
  {
   "cell_type": "code",
   "execution_count": 6,
   "metadata": {
    "collapsed": false
   },
   "outputs": [
    {
     "name": "stdout",
     "output_type": "stream",
     "text": [
      "{'bc': 'border-collie', 'lr': 'labrador retriever', 'pg': 'pug-pug'}\n"
     ]
    }
   ],
   "source": [
    "del perros['te']\n",
    "print(perros)"
   ]
  },
  {
   "cell_type": "markdown",
   "metadata": {},
   "source": [
    "Para comprobar la existencia de una llave en el diccionario se puede utilizar la sentencia `in`. El comportamiento por defecto al utilizar sentencias sobre el diccionario es operar sobre los valores de las llaves. En el caso de in devuelve True si la llave requerida existe dentro de las llaves en el diccionario"
   ]
  },
  {
   "cell_type": "code",
   "execution_count": 7,
   "metadata": {
    "collapsed": false
   },
   "outputs": [
    {
     "name": "stdout",
     "output_type": "stream",
     "text": [
      "True\n",
      "False\n"
     ]
    }
   ],
   "source": [
    "print('pg' in perros)\n",
    "print('te' in perros)"
   ]
  },
  {
   "cell_type": "markdown",
   "metadata": {},
   "source": [
    "Otra forma consiste en utilizar el método get que posee la clase diccionario. Este método require dos parámetros: la llave buscada y un valor en caso que la llave no exista."
   ]
  },
  {
   "cell_type": "code",
   "execution_count": 9,
   "metadata": {
    "collapsed": false
   },
   "outputs": [
    {
     "name": "stdout",
     "output_type": "stream",
     "text": [
      "pug-pug\n",
      "heyo\n",
      "False\n",
      "No existe el perro\n"
     ]
    }
   ],
   "source": [
    "print(perros.get('pg', False))\n",
    "print(perros.get(\"pene\", \"heyo\"))\n",
    "print(perros.get('te', False))\n",
    "print(perros.get('te', 'No existe el perro'))"
   ]
  },
  {
   "cell_type": "markdown",
   "metadata": {},
   "source": [
    "Una aplicación típica de esto es el llenado de diccionarios vacíos, como por ejemplo contando letras, debido a que en principio es difícil saber que letras aparecerán y cuántas."
   ]
  },
  {
   "cell_type": "code",
   "execution_count": 10,
   "metadata": {
    "collapsed": false
   },
   "outputs": [
    {
     "name": "stdout",
     "output_type": "stream",
     "text": [
      "{'u': 1, 'e': 2, 'a': 3, 'i': 6, 'o': 3}\n"
     ]
    }
   ],
   "source": [
    "msg = 'supercalifragilisticoespialidoso'\n",
    "vocales = dict() # Crea un diccionario vacío para contabilizar las letras\n",
    "\n",
    "for v in msg:\n",
    "    if v not in 'aeiou': # Revisa si v es una vocal\n",
    "        continue\n",
    "        \n",
    "    if v not in vocales: # Revisa si v existe en el diccionario, si no la crea en 0\n",
    "        vocales[v] = 0\n",
    "\n",
    "    vocales[v] += 1 # si ya existe, agrega una cuenta mas\n",
    "\n",
    "print(vocales)"
   ]
  },
  {
   "cell_type": "markdown",
   "metadata": {},
   "source": [
    "Tres métodos útiles que existen en los diccionarios son: ```keys()```, ```values()```, y ```items()```. Estos permiten obtener elementos del diccionario a distintos niveles. El resultado de cada uno de estos métodos es una lista con los elementos solicitados."
   ]
  },
  {
   "cell_type": "code",
   "execution_count": 9,
   "metadata": {
    "collapsed": false
   },
   "outputs": [
    {
     "name": "stdout",
     "output_type": "stream",
     "text": [
      "dict_keys(['brasil', 'peru', 'chile', 'italia', 'españa'])\n",
      "dict_values(['real', 'sol', 'peso', 'euro', 'euro'])\n",
      "dict_items([('brasil', 'real'), ('peru', 'sol'), ('chile', 'peso'), ('italia', 'euro'), ('españa', 'euro')])\n"
     ]
    }
   ],
   "source": [
    "monedas = {'chile':'peso', 'brasil':'real', 'peru':'sol','españa':'euro','italia':'euro'}\n",
    "\n",
    "print(monedas.keys()) # una lista con todas las llaves\n",
    "print(monedas.values()) # una lista con todos los valores\n",
    "print(monedas.items()) # una lista con tuplas de pares llave-valor"
   ]
  },
  {
   "cell_type": "markdown",
   "metadata": {},
   "source": [
    "Estos métodos son prácticos y útiles durante la iteración sobre diccionarios."
   ]
  },
  {
   "cell_type": "code",
   "execution_count": 10,
   "metadata": {
    "collapsed": false
   },
   "outputs": [
    {
     "name": "stdout",
     "output_type": "stream",
     "text": [
      "Las llaves en el diccionario son las siguientes:\n",
      "brasil\n",
      "peru\n",
      "chile\n",
      "italia\n",
      "españa\n",
      "\n",
      "brasil\n",
      "peru\n",
      "chile\n",
      "italia\n",
      "españa\n"
     ]
    }
   ],
   "source": [
    "print('Las llaves en el diccionario son las siguientes:')\n",
    "\n",
    "for m in monedas.keys():\n",
    "    print('{0}'.format(m))\n",
    "\n",
    "print()\n",
    "for m in monedas: # por defecto recorremos las llaves\n",
    "    print('{0}'.format(m))"
   ]
  },
  {
   "cell_type": "code",
   "execution_count": 11,
   "metadata": {
    "collapsed": false
   },
   "outputs": [
    {
     "name": "stdout",
     "output_type": "stream",
     "text": [
      "Los valores en el diccionario:\n",
      "real\n",
      "sol\n",
      "peso\n",
      "euro\n",
      "euro\n"
     ]
    }
   ],
   "source": [
    "print('Los valores en el diccionario:')\n",
    "for v in monedas.values():\n",
    "    print('{0}'.format(v))"
   ]
  },
  {
   "cell_type": "code",
   "execution_count": 12,
   "metadata": {
    "collapsed": false
   },
   "outputs": [
    {
     "name": "stdout",
     "output_type": "stream",
     "text": [
      "Los pares en el diccionario:\n",
      "la moneda de brasil es real\n",
      "la moneda de peru es sol\n",
      "la moneda de chile es peso\n",
      "la moneda de italia es euro\n",
      "la moneda de españa es euro\n"
     ]
    }
   ],
   "source": [
    "print('Los pares en el diccionario:')\n",
    "for k, v in monedas.items():\n",
    "    print('la moneda de {0} es {1}'.format(k,v))"
   ]
  },
  {
   "cell_type": "markdown",
   "metadata": {},
   "source": [
    "## Defaultdicts\n",
    "\n",
    "Los `defaultdict`s son diccionarios que nos permiten asignar un valor por defecto a cada *key* con la que se llama el diccionario. Esto nos ahorra el problema de tener que escribir código preocupándonos de los casos en que el valor que se intenta obtener el diccionario no existe. Otra cualidad importante de los `defaultdics` es que aceptan una función para ser asignada como valor por defecto, la cual puede realizar cualquier acción y retornar cualquier objeto (a ser asignado como valor para el respectivo key en el diccionario).\n",
    " \n",
    "Por ejemplo, supongamos que queremos un diccionario en donde cada elemento nuevo tiene como valor inicial una lista con un string equivalente al número de elementos nuevos insertados hasta el momento en el diccionario:"
   ]
  },
  {
   "cell_type": "code",
   "execution_count": 15,
   "metadata": {
    "collapsed": false
   },
   "outputs": [
    {
     "name": "stdout",
     "output_type": "stream",
     "text": [
      "españa\n",
      "españa\n",
      "españa\n",
      "españa\n",
      "españa\n",
      "españa\n",
      "defaultdict(<function funcion_ej at 0x000002A3860497B8>, {'a': 'españa', 'b': 'españa', 'c': 'españa', 'd': 'españa', 'e': 'españa'})\n"
     ]
    }
   ],
   "source": [
    "from collections import defaultdict\n",
    "\n",
    "num_items = 0\n",
    "\n",
    "def funcion_ej():\n",
    "    return \"españa\"\n",
    "\n",
    "d = defaultdict(funcion_ej)\n",
    "\n",
    "print(d['a'])\n",
    "print(d['b'])\n",
    "print(d['c'])\n",
    "print(d['d'])\n",
    "print(d['d'])\n",
    "print(d['e'])\n",
    "\n",
    "print(d)\n",
    "\n"
   ]
  },
  {
   "cell_type": "code",
   "execution_count": null,
   "metadata": {
    "collapsed": true
   },
   "outputs": [],
   "source": []
  }
 ],
 "metadata": {
  "kernelspec": {
   "display_name": "Python 3",
   "language": "python",
   "name": "python3"
  },
  "language_info": {
   "codemirror_mode": {
    "name": "ipython",
    "version": 3
   },
   "file_extension": ".py",
   "mimetype": "text/x-python",
   "name": "python",
   "nbconvert_exporter": "python",
   "pygments_lexer": "ipython3",
   "version": "3.6.0"
  }
 },
 "nbformat": 4,
 "nbformat_minor": 0
}
