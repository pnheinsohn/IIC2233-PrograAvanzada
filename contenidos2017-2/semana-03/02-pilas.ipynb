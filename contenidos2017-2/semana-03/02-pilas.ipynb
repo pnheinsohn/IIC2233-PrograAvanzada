{
 "cells": [
  {
   "cell_type": "markdown",
   "metadata": {},
   "source": [
    "<p>\n",
    "<font size='5' face='Georgia, Arial'>IIC-2233 Apunte Programación Avanzada</font><br>\n",
    "<font size='1'>&copy; 2015 Karim Pichara - Christian Pieringer. Todos los derechos reservados.</font>\n",
    "</p>"
   ]
  },
  {
   "cell_type": "markdown",
   "metadata": {},
   "source": [
    "## Pilas (Stacks)"
   ]
  },
  {
   "cell_type": "markdown",
   "metadata": {},
   "source": [
    "Las pilas son una estructura de datos en donde una colección de objetos son insertados y removidos según el principio de <b>Last In</b>, <b>First Out</b> (LIFO). Es decir, un usuario puede agregar secuencialmente objetos a la pila en cualquier momento, sin embargo, solo puede remover desde la pila el o los objetos <b>recientemente agregados ubicados en el tope de ella</b>. Cómo se muestra en la siguiente figura, el funcionamiento de las pilas es equivalente al de una columna de platos apilados después de ser lavados. El último plato lavado lavado será el primero en ser utilizado.\n",
    "\n",
    "![](img/stacks.png)"
   ]
  },
  {
   "cell_type": "markdown",
   "metadata": {},
   "source": [
    "En general las pilas tienen los siguientes métodos: `push()`, `pop()`, `top()`, `is_empty()`, `len()`. Dentro de los métodos más usados se encuentran: `push()` para insertar un objeto en la pila; y `pop()` para remover el último objeto insertado en la pila. En Python las pilas están ya implementadas mediante las listas. A continuación vemos los métodos para pilas equivalentes con la implementación usando listas.\n",
    "\n",
    "![](img/stacks-methods.png)"
   ]
  },
  {
   "cell_type": "markdown",
   "metadata": {},
   "source": [
    "Estos métodos funcionan de la siguiente manera:"
   ]
  },
  {
   "cell_type": "code",
   "execution_count": 1,
   "metadata": {
    "collapsed": false
   },
   "outputs": [
    {
     "name": "stdout",
     "output_type": "stream",
     "text": [
      "[1, 10, 12]\n",
      "pop: [1, 10]\n",
      "top: 25\n",
      "la pila tiene 3 elementos\n",
      "la pila esta vacia\n"
     ]
    }
   ],
   "source": [
    "# una pila vacia\n",
    "pila = []\n",
    "\n",
    "# push\n",
    "pila.append(1)\n",
    "pila.append(10)\n",
    "pila.append(12)\n",
    "\n",
    "print(pila)\n",
    "\n",
    "# pop\n",
    "pila.pop() \n",
    "print('pop: {0}'.format(pila))\n",
    "\n",
    "# top\n",
    "pila.append(25)\n",
    "print('top: {0}'.format(pila[-1]))\n",
    "\n",
    "# len\n",
    "print('la pila tiene {0} elementos'.format(len(pila)))\n",
    "\n",
    "# is_empty\n",
    "pila = []\n",
    "if len(pila) == 0:\n",
    "    print('la pila esta vacia')"
   ]
  },
  {
   "cell_type": "markdown",
   "metadata": {},
   "source": [
    "Un ejemplo real del uso de pilas en una aplicación es el botón *back* en los navegadores de internet. Durante la navegación todas las direcciones van siendo ingresadas en una pila. La última dirección siempre es recuperada al presionar este botón.\n",
    "\n",
    "![](img/back-button-stacks.png)"
   ]
  },
  {
   "cell_type": "code",
   "execution_count": 2,
   "metadata": {
    "collapsed": false
   },
   "outputs": [
    {
     "name": "stdout",
     "output_type": "stream",
     "text": [
      "ir -> cargando url: http://www.uc.cl\n",
      "ir -> cargando url: http://www.uc.cl/es/programas-de-estudio\n",
      "ir -> cargando url: http://www.uc.cl/es/doctorado\n",
      "pagina actual: http://www.uc.cl/es/doctorado\n",
      "back-> cargando url: http://www.uc.cl/es/programas-de-estudio\n",
      "pagina actual: http://www.uc.cl/es/programas-de-estudio\n"
     ]
    }
   ],
   "source": [
    "class Navegador:\n",
    "    \n",
    "    def __init__(self, current_url = 'http://www.google.com'):\n",
    "        self.__urls_stack = []\n",
    "        self.__current_url = current_url\n",
    "    \n",
    "    def __cargar_url(self, url):\n",
    "        self.__current_url = url\n",
    "        print('cargando url: {0}'.format(url))\n",
    "        \n",
    "    def ir(self, url):\n",
    "        self.__urls_stack.append(self.__current_url)\n",
    "        print('ir ->', end=' ')\n",
    "        self.__cargar_url(url)        \n",
    "    \n",
    "    def volver(self):\n",
    "        last_url = self.__urls_stack.pop()     \n",
    "        print('back->', end=' ')\n",
    "        self.__cargar_url(last_url)\n",
    "        \n",
    "    def mostrar_pagina_actual(self):\n",
    "        print('pagina actual: {0}'.format(self.__current_url))\n",
    "    \n",
    "    \n",
    "Chrome = Navegador()\n",
    "Chrome.ir('http://www.uc.cl')\n",
    "Chrome.ir('http://www.uc.cl/es/programas-de-estudio')\n",
    "Chrome.ir('http://www.uc.cl/es/doctorado')\n",
    "\n",
    "Chrome.mostrar_pagina_actual()\n",
    "Chrome.volver()\n",
    "Chrome.mostrar_pagina_actual()"
   ]
  },
  {
   "cell_type": "markdown",
   "metadata": {},
   "source": [
    "Otro ejemplo para el uso de pilas es revertir secuencias. A continuación una implementación sencilla de este ejemplo."
   ]
  },
  {
   "cell_type": "code",
   "execution_count": 3,
   "metadata": {
    "collapsed": false
   },
   "outputs": [
    {
     "name": "stdout",
     "output_type": "stream",
     "text": [
      "Entrada:\n",
      "he friend who can be silent with us in a moment of despair or confusion,\n",
      "who can stay with us in an hour of grief and bereavement,\n",
      "who can tolerate not knowing... not healing, not curing...\n",
      "that is a friend who cares.\n",
      "\n",
      "Salida:\n",
      "that is a friend who cares.\n",
      "who can tolerate not knowing... not healing, not curing...\n",
      "who can stay with us in an hour of grief and bereavement,\n",
      "he friend who can be silent with us in a moment of despair or confusion,\n"
     ]
    }
   ],
   "source": [
    "class Texto:\n",
    "    \n",
    "    def __init__(self):\n",
    "        self.pila = []\n",
    "\n",
    "    def leer_archivo(self, nombre_archivo):\n",
    "        print('Entrada:')\n",
    "        \n",
    "        with open(nombre_archivo) as fid:\n",
    "            for linea in fid:\n",
    "                print(linea.strip())\n",
    "                self.pila.append(linea.strip())\n",
    "        \n",
    "        print()\n",
    "        fid.closed\n",
    "\n",
    "    def invertir_lines(self):\n",
    "        print('Salida:')\n",
    "    \n",
    "        while len(self.pila) > 0:\n",
    "            print(self.pila.pop())\n",
    "            \n",
    "\n",
    "t = Texto()\n",
    "t.leer_archivo('pilas-texto.txt')\n",
    "t.invertir_lines()"
   ]
  }
 ],
 "metadata": {
  "anaconda-cloud": {},
  "kernelspec": {
   "display_name": "Python 3",
   "language": "python",
   "name": "python3"
  },
  "language_info": {
   "codemirror_mode": {
    "name": "ipython",
    "version": 3
   },
   "file_extension": ".py",
   "mimetype": "text/x-python",
   "name": "python",
   "nbconvert_exporter": "python",
   "pygments_lexer": "ipython3",
   "version": "3.6.0"
  }
 },
 "nbformat": 4,
 "nbformat_minor": 0
}
