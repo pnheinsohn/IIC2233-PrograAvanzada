{
 "cells": [
  {
   "cell_type": "markdown",
   "metadata": {},
   "source": [
    "<p>\n",
    "<font size='5' face='Georgia, Arial'>IIC-2233 Apunte Programación Avanzada</font><br>\n",
    "<font size='1'>&copy; 2015 Karim Pichara - Christian Pieringer. Todos los derechos reservados.</font>\n",
    "<br>\n",
    "<font size='1'> Modificado en 2017-2 por Equipo Docente IIC2233</font>\n",
    "</p>"
   ]
  },
  {
   "cell_type": "markdown",
   "metadata": {},
   "source": [
    "# Estructuras de Datos"
   ]
  },
  {
   "cell_type": "markdown",
   "metadata": {},
   "source": [
    "Se entiende por <b>estructura de datos</b> a una forma especializada para agrupar y almacenar la información, de tal modo que esta pueda ser utilizada eficientemente. A diferencia de las variables simples, las estructuras de datos involucran un alto nivel de abstracción y por lo tanto una estrecha relación con OOP. El uso de cada tipo de estructura de datos tiene relación directa con el contexto de aplicación, como también con el diseño y eficiencia alcanzada por los algoritmos. Es decir, la elección adecuada de la estructura de datos es crucial para desarrollar un buen software."
   ]
  },
  {
   "cell_type": "markdown",
   "metadata": {},
   "source": [
    "La estructura de datos más simple es un objeto vacío, sin métodos. Una vez que este objeto es instanciado, el usuario puede agregar atributos o propiedades. Para dejar la estructura vacía se utiliza la sentencia `pass`. Esta sentencia es una operación nula donde nada ocurre y es utilizada generalmente en lugares donde el código eventualmente no tiene nada declarado, pero que lo tendrá."
   ]
  },
  {
   "cell_type": "code",
   "execution_count": 1,
   "metadata": {
    "collapsed": false
   },
   "outputs": [
    {
     "name": "stdout",
     "output_type": "stream",
     "text": [
      "avi 1024\n",
      "bmp 8 [255, 255, 255, 200, 34, 35] 20\n"
     ]
    }
   ],
   "source": [
    "# Se crea una clase vacía.\n",
    "class Video:\n",
    "    pass\n",
    "\n",
    "vid = Video()\n",
    "\n",
    "# se agregan atributos nuevos. ¿Recuerdan por qué hacer esto no es buena práctica?\n",
    "vid.ext = 'avi'\n",
    "vid.size = '1024'\n",
    "\n",
    "print(vid.ext, vid.size) \n",
    "\n",
    "# También se puede crear una clase sin métodos pero con algunos atributos pre-definidos\n",
    "class Imagen:\n",
    "    def __init__(self):\n",
    "        self.ext = ''\n",
    "        self.size = ''\n",
    "        self.data = ''\n",
    "\n",
    "img = Imagen()\n",
    "img.ext = 'bmp'\n",
    "img.size = '8'\n",
    "img.data = [255,255,255,200,34,35]\n",
    "img.ids = 20 # python permite de todas formas agregar nuevos atributos a pesar de no estar declarados inicialmente\n",
    "\n",
    "print(img.ext, img.size, img.data, img.ids)\n"
   ]
  },
  {
   "cell_type": "markdown",
   "metadata": {},
   "source": [
    "Sin embargo, en Python el manejo de clases vacías no es la forma óptima de generar estructuras de datos debido a la cantidad de memoria requerida para hacer el seguimiento de todos los atributos, nombres y valores de potenciales nuevos atributos que pueden ser creados dinámicamente a lo largo del programa hace este método poco eficiente. Python posee varias estructuras ya implementadas para el manejo eficiente de datos: listas, tuplas, diccionarios, conjuntos, pilas y colas."
   ]
  },
  {
   "cell_type": "markdown",
   "metadata": {},
   "source": [
    "# Estructuras secuenciales basadas en arreglos"
   ]
  },
  {
   "cell_type": "markdown",
   "metadata": {},
   "source": [
    "En esta sección veremos estructuras basadas en un ordenamiento secuencial de los elementos, según como son ingresados en la estructura. Todos las estructuras de este tipo soportan indexación de los elementos de la forma ```secuencia[índice]```. El ```índice``` parte desde <b>0</b> hasta el <b>largo de la secuencia - 1</b>. En este tipo de estructuras encontramos: ```Strings```, ```Tuplas``` y ```Listas```. En particular los Strings también entran en la categoría de secuencias basadas en arreglos, sin embargo, se consideran más un tipo de variable que una estructura de datos."
   ]
  },
  {
   "cell_type": "markdown",
   "metadata": {},
   "source": [
    "## Tuplas"
   ]
  },
  {
   "cell_type": "markdown",
   "metadata": {},
   "source": [
    "Estas estructuras se utilizan para manejar datos de forma ordenada. Los contenidos pueden ser accesados utilizando el índice correspondiente al orden con que los contenidos fueron ingresados según se muestra en la figura. \n",
    "\n",
    "![](img/indices_secuencia.png)\n",
    "\n",
    "\n",
    "Las tuplas pueden contener distintos objetos o tipos de datos. Para declarar o crear una tupla se utiliza `tuple(elementos)`"
   ]
  },
  {
   "cell_type": "code",
   "execution_count": 2,
   "metadata": {
    "collapsed": false
   },
   "outputs": [
    {
     "name": "stdout",
     "output_type": "stream",
     "text": [
      "0 1\n",
      "0 mensaje\n"
     ]
    }
   ],
   "source": [
    "# Para crear una tupla vacia se usa tuple() sin ingresar elementos.\n",
    "a = tuple()\n",
    "\n",
    "# Se puede declarar explícitamente los elementos de la tupla ingresando los elementos entre paréntesis.\n",
    "b = (0, 1, 2)\n",
    "\n",
    "# La tupla puede ser creda con objetos de distito tipo. En las tuplas el uso de parentesis no es obligatorio cuando son creadas.\n",
    "c = 0, 'mensaje'\n",
    "\n",
    "print(b[0], b[1])\n",
    "print(c[0], c[1])"
   ]
  },
  {
   "cell_type": "markdown",
   "metadata": {},
   "source": [
    "Las tuplas son estructuras de datos **INMUTABLES**, es decir, que no es posible agregar o eliminar elementos, o bien cambiar el contenido de ella  una vez que esta fue creada. La principal ventaja de la inmutabilidad es que pueden ser usadas como valor de mapeo o llave en estructuras basadas en *hashing*, como son los diccionarios.\n",
    "\n",
    "En el siguiente ejemplo, la posicion 0 de la tupla a contiene originalmente un objeto del tipo *Imagen*. Intentamos reemplazar esta posición por un string (o cualquier tipo de dato). En este caso se origina un *error de tipo* debido a que la tupla no permite asignación."
   ]
  },
  {
   "cell_type": "code",
   "execution_count": 3,
   "metadata": {
    "collapsed": false,
    "scrolled": true
   },
   "outputs": [
    {
     "ename": "TypeError",
     "evalue": "'tuple' object does not support item assignment",
     "output_type": "error",
     "traceback": [
      "\u001b[0;31m---------------------------------------------------------------------------\u001b[0m",
      "\u001b[0;31mTypeError\u001b[0m                                 Traceback (most recent call last)",
      "\u001b[0;32m<ipython-input-3-ebacdeb7992d>\u001b[0m in \u001b[0;36m<module>\u001b[0;34m()\u001b[0m\n\u001b[1;32m      1\u001b[0m \u001b[0mimg\u001b[0m \u001b[0;34m=\u001b[0m \u001b[0mImagen\u001b[0m\u001b[0;34m(\u001b[0m\u001b[0;34m)\u001b[0m\u001b[0;34m\u001b[0m\u001b[0m\n\u001b[1;32m      2\u001b[0m \u001b[0ma\u001b[0m \u001b[0;34m=\u001b[0m \u001b[0;34m(\u001b[0m\u001b[0mimg\u001b[0m\u001b[0;34m,\u001b[0m \u001b[0;34m'este es'\u001b[0m\u001b[0;34m,\u001b[0m \u001b[0;34m'un archivo'\u001b[0m\u001b[0;34m)\u001b[0m\u001b[0;34m\u001b[0m\u001b[0m\n\u001b[0;32m----> 3\u001b[0;31m \u001b[0ma\u001b[0m\u001b[0;34m[\u001b[0m\u001b[0;36m0\u001b[0m\u001b[0;34m]\u001b[0m \u001b[0;34m=\u001b[0m \u001b[0;34m'nuevo dato'\u001b[0m\u001b[0;34m\u001b[0m\u001b[0m\n\u001b[0m",
      "\u001b[0;31mTypeError\u001b[0m: 'tuple' object does not support item assignment"
     ]
    }
   ],
   "source": [
    "img = Imagen()\n",
    "a = (img, 'este es', 'un archivo')\n",
    "a[0] = 'nuevo dato' "
   ]
  },
  {
   "cell_type": "markdown",
   "metadata": {},
   "source": [
    "Las tuplas pueden ser desempaquetadas en variables individuales. En este ejemplo creamos una función llamada `calcular_geometria()` que recibe como entrada los lados de un cuadrilátero y retorna algunas medidas geométricas típicas. Cuando las funciones retornan más de un valor, lo hacen empaquetando todos los valores en una tupla."
   ]
  },
  {
   "cell_type": "code",
   "execution_count": 4,
   "metadata": {
    "collapsed": false
   },
   "outputs": [
    {
     "name": "stdout",
     "output_type": "stream",
     "text": [
      "1: (200.0, 60.0, 10.0, 5.0)\n",
      "2: 200.0\n",
      "3: 200.0, 60.0, 10.0, 5.0\n",
      "4: 200.0, 60.0, 10.0, 5.0\n"
     ]
    }
   ],
   "source": [
    "def calcular_geometria(a, b):\n",
    "    area = a*b\n",
    "    perimeter = (2*a) + (2*b)\n",
    "    mpa = a/2\n",
    "    mpb = b/2\n",
    "    return (area, perimeter, mpa, mpb) # Los paréntesis son opcionales\n",
    "\n",
    "# Obtenemos una tupla con los datos provenientes de la función.\n",
    "data = calcular_geometria(20.0, 10.0)\n",
    "print('1: {0}'.format(data))\n",
    "\n",
    "# Obtenemos un valor desde la tupla directamente referenciando el índice del dato requerido.\n",
    "a = data[0]\n",
    "print('2: {0}'.format(a))\n",
    "\n",
    "# desempaquetando en variables independientes los valores contenidos en una tupla\n",
    "a, p, mpa, mpb = data\n",
    "print('3: {0}, {1}, {2}, {3}'.format(a, p, mpa, mpb))\n",
    "\n",
    "# Las funciones devuelven el conjunto de valores como una tupla. Se puede desempaquetar directamente en variables individuales como en el caso anterior.\n",
    "a, p, mpa, mpb = calcular_geometria(20.0, 10.0)\n",
    "print('4: {0}, {1}, {2}, {3}'.format(a, p, mpa, mpb))"
   ]
  },
  {
   "cell_type": "markdown",
   "metadata": {},
   "source": [
    "Es posible tomar secciones de la tupla usando la notación <i>slicing</i>. En esta notación los índices no coinciden directamente con la posición del elemento en la secuencia, si no más bien funcionan como márgenes desde donde y hasta donde se necesita recuperar. Esta notación se debe usar como `secuencia[inicio:término:pasos]`. Por defecto el número de pasos es 1. La siguiente figura muestra un ejemplo de como se debe considerar los indices al usar la notación slicing. \n",
    "![](img/indices_slicing.png)"
   ]
  },
  {
   "cell_type": "markdown",
   "metadata": {},
   "source": [
    "Forma general de hacer slicing en Python:\n",
    "\n",
    "- ```a[start : end]```: retorna los elementos desde ```start``` hasta ```end-1```\n",
    "\n",
    "- ```a[start:]```: retorna los elementos desde ```start``` hasta el final del arreglo\n",
    "\n",
    "- ```a[:end]```: retorna los elementos desde el principio hasta ```end-1```\n",
    "\n",
    "- ```a[:]```: crea una copia (shallow) del arreglo completo. Es decir, el arreglo retornado está en una nueva dirección de memoria, pero los elementos en el arreglo están hace referencia a la dirección de memoria a los elemenos del arreglo inicial\n",
    "\n",
    "- ```a[start : end : step]```: retorna los elementos desde ```start``` hasta no pasar ```end```, en pasos de a ```step```\n",
    "\n",
    "- ```a[-1]```: retorna el último elemento en el arreglo\n",
    "\n",
    "- ```a[-n:]```:   # últimos ```n``` elementos en el arreglo\n",
    "\n",
    "- ```a[:-n]```: retorna todos los elementos del arreglo menos los últimos ```n``` elementos\n",
    "\n",
    "Veamos por ejemplos de *slicing* aplicado a tuplas."
   ]
  },
  {
   "cell_type": "code",
   "execution_count": 5,
   "metadata": {
    "collapsed": false
   },
   "outputs": [
    {
     "name": "stdout",
     "output_type": "stream",
     "text": [
      "1: (20, 1)\n",
      "2: (4, 10, 11, 12, 500)\n",
      "3: (400, 20, 1, 4, 10)\n",
      "4: (1, 10, 12)\n",
      "5: (20, 4, 11)\n",
      "6: (500, 12, 11, 10, 4, 1, 20, 400)\n"
     ]
    }
   ],
   "source": [
    "# Usando los valores asignados en a, podemos obtener los valores de una sección de la tupla.\n",
    "data = (400, 20, 1, 4, 10, 11, 12, 500)\n",
    "\n",
    "# Recuperamos los elementos que están entre los índices 1 y 3\n",
    "a = data[1:3]\n",
    "print('1: {0}'.format(a))\n",
    "\n",
    "# Recuperamos desde el índice 3 en adelante\n",
    "a = data[3:]\n",
    "print('2: {0}'.format(a))\n",
    "\n",
    "# Recuperamos los valores hasta el índice 5\n",
    "a = data[:5]\n",
    "print('3: {0}'.format(a))\n",
    "\n",
    "# Recuperamos desde el índice 2 en adelante respecto del slice en pasos de a dos\n",
    "a = data[2::2]\n",
    "print('4: {0}'.format(a))\n",
    "\n",
    "# Recuperamos entre los índices 1 y 4, en pasos de a dos\n",
    "a = data[1:6:2]\n",
    "print('5: {0}'.format(a))\n",
    "\n",
    "# Una secuencia puede ser fácilmente invertida\n",
    "a = data[::-1]\n",
    "print('6: {0}'.format(a))"
   ]
  },
  {
   "cell_type": "markdown",
   "metadata": {},
   "source": [
    "## Named Tuples"
   ]
  },
  {
   "cell_type": "markdown",
   "metadata": {},
   "source": [
    "Las *Named Tuples* permiten definir campos para cada una de las posiciones en que han sido ingresado los datos. Son útiles como una forma de agrupar datos. Este tipo de tupla requiere definir un objeto con los nombres de los atributos o elementos que tendrá la tupla. Para poder hacer uso de esta estructura se requiere importar el modulo `namedtuple` dese la librería `collections`. La inicialización básica de una `namedtuple` requiere el nombre para el tipo de tupla y el nombre de los campos que tendrá."
   ]
  },
  {
   "cell_type": "code",
   "execution_count": 6,
   "metadata": {
    "collapsed": false
   },
   "outputs": [
    {
     "name": "stdout",
     "output_type": "stream",
     "text": [
      "13427974-5\n",
      "23066987-2\n",
      "<class '__main__.Register_type'>\n"
     ]
    }
   ],
   "source": [
    "from collections import namedtuple\n",
    "\n",
    "# Asignamos un nombre a la tupla (Register_type), y los nombres de los atributos que tendrá\n",
    "\n",
    "Register = namedtuple('Register_type', ['RUT', 'name', 'age'])\n",
    "\n",
    "# instanciación e iniciación de la tupla\n",
    "c1 = Register('13427974-5', 'Christian', 20) \n",
    "c2 = Register('23066987-2', 'Dante', 5)\n",
    "\n",
    "print(c1.RUT)\n",
    "print(c2.RUT)\n",
    "print(type(c2))"
   ]
  },
  {
   "cell_type": "markdown",
   "metadata": {},
   "source": [
    "Se puede usar también las *Named Tuples* para entregar la salida de una función"
   ]
  },
  {
   "cell_type": "code",
   "execution_count": 7,
   "metadata": {
    "collapsed": false
   },
   "outputs": [
    {
     "name": "stdout",
     "output_type": "stream",
     "text": [
      "200.0\n",
      "<class '__main__.Geometrical'>\n"
     ]
    }
   ],
   "source": [
    "# from collections import namedtuple\n",
    "\n",
    "def calcular_geometria(a, b):\n",
    "    Features = namedtuple('Geometrical', 'area perimeter mpa mpb')\n",
    "    area = a*b\n",
    "    perimeter = (2*a) + (2*b)\n",
    "    mpa = a/2\n",
    "    mpb = b/2\n",
    "    return Features(area, perimeter, mpa, mpb)\n",
    "\n",
    "data = calcular_geometria(20.0, 10.0)\n",
    "print(data.area)\n",
    "print(type(data))"
   ]
  },
  {
   "cell_type": "markdown",
   "metadata": {},
   "source": [
    "## Listas"
   ]
  },
  {
   "cell_type": "markdown",
   "metadata": {},
   "source": [
    "Este tipo de estructura de datos ha sido diseñada para el almacenamiento de distintas instancias de un mismo tipo de objeto. De todas formas no existe restricción en la combinación de tipos de objetos que pueden manejar. \n",
    "Las listas son estructuras que guardan datos de forma **ordenada**, a diferencia de la tuplas que son estructuras que guardan una **disposición** de los datos. Los elementos que se agregan usando `append` se ponen al final de la lista. Los elementos se pueden obtener usando el valor del índice del posición donde fueron almacenados. Las listas son estructuras **MUTABLES**, es decir, que su contenido puede cambiar dinámicamente después que esta fue creada.\n",
    "\n",
    "NOTA: **EVITA** el uso de las listas para coleccionar distintos atributos de un objeto  o bien usarlas con algún tipo de acceso similar al uso de vectores en C++, como por ejemplo, usarlas como histogramas para la cuenta de palabras `[‘a’, 1, ‘b’, 2]`. Esto necesita diseñar un algoritmo de acceso a los datos dentro de la lista que hace engorroso su manejo. En este caso preferir el uso de otro tipo de estructuras como diccionarios, named tuples u objetos."
   ]
  },
  {
   "cell_type": "code",
   "execution_count": 8,
   "metadata": {
    "collapsed": false
   },
   "outputs": [
    {
     "name": "stdout",
     "output_type": "stream",
     "text": [
      "[(2015, 3, 14), (2015, 4, 18)]\n",
      "[1, 'string', 20.5, (23, 45)]\n",
      "string\n"
     ]
    }
   ],
   "source": [
    "# lista vacía y agregar elementos incrementalmente. En este caso agregamos tuplas.\n",
    "lista = []\n",
    "lista.append((2015, 3, 14))\n",
    "lista.append((2015, 4, 18))\n",
    "print(lista)\n",
    "\n",
    "# Tambien es posible agregar los objetos explicitamente al definirla por primera vez\n",
    "lista = [1, 'string', 20.5, (23, 45)]\n",
    "print(lista)\n",
    "\n",
    "# Extraemos un el elemento usando el indice respectivo\n",
    "print(lista[1])"
   ]
  },
  {
   "cell_type": "markdown",
   "metadata": {},
   "source": [
    "A veces es necesario agregar nuevos elementos contenidos en otras listas. En estos casos resulta muy útil agregar la lista completa y no cada elemento de forma individual con `append()`. En este caso resulta mejor utilizar el método `extend()`."
   ]
  },
  {
   "cell_type": "code",
   "execution_count": 9,
   "metadata": {
    "collapsed": false
   },
   "outputs": [
    {
     "name": "stdout",
     "output_type": "stream",
     "text": [
      "['Addicted to pain', 'Ghost love score', 'As I am']\n",
      "['Addicted to pain', 'Ghost love score', 'As I am', 'Elevate', 'Shine', 'Cry of Achilles']\n"
     ]
    }
   ],
   "source": [
    "canciones = ['Addicted to pain', 'Ghost love score', 'As I am']\n",
    "print(canciones)\n",
    "\n",
    "nuevas_canciones = ['Elevate', 'Shine', 'Cry of Achilles']\n",
    "canciones.extend(nuevas_canciones)\n",
    "print(canciones)"
   ]
  },
  {
   "cell_type": "markdown",
   "metadata": {},
   "source": [
    "También es posible insertar elementos en posiciones específicas mediante el método `insert(posicion, elemento)`."
   ]
  },
  {
   "cell_type": "code",
   "execution_count": 10,
   "metadata": {
    "collapsed": false
   },
   "outputs": [
    {
     "name": "stdout",
     "output_type": "stream",
     "text": [
      "['Addicted to pain', 'Ghost love score', 'As I am', 'Elevate', 'Shine', 'Cry of Achilles']\n",
      "['Addicted to pain', 'Sober', 'Ghost love score', 'As I am', 'Elevate', 'Shine', 'Cry of Achilles']\n"
     ]
    }
   ],
   "source": [
    "print(canciones)\n",
    "canciones.insert(1, 'Sober')\n",
    "print(canciones)"
   ]
  },
  {
   "cell_type": "markdown",
   "metadata": {},
   "source": [
    "Además podemos extraer mediante indexación un elemento específico desde una lista. Al igual que las tuplas también es posible recuperar una porción completa de la lista utilizando la notación *slicing*."
   ]
  },
  {
   "cell_type": "code",
   "execution_count": 11,
   "metadata": {
    "collapsed": false,
    "scrolled": true
   },
   "outputs": [
    {
     "name": "stdout",
     "output_type": "stream",
     "text": [
      "[2, 4, 10, 20]\n",
      "[2, 4, 10, 20, 25]\n",
      "[6, 7, 2, 4, 10]\n",
      "[6, 2, 10]\n",
      "[25, 20, 10, 4, 2, 7, 6]\n"
     ]
    }
   ],
   "source": [
    "# Tomando una tajada particular\n",
    "numeros = [6, 7, 2, 4, 10, 20, 25]\n",
    "print(numeros[2:6])\n",
    "\n",
    "# tomando una seccion hasta el final de la lista\n",
    "print(numeros[2:])\n",
    "\n",
    "# tomando una sección desde el principio hasta un punto específico\n",
    "print(numeros[:5:])\n",
    "\n",
    "# considerando pasos de 2\n",
    "print(numeros[:5:2])\n",
    "\n",
    "# revirtiendo una lista\n",
    "print(numeros[::-1])"
   ]
  },
  {
   "cell_type": "markdown",
   "metadata": {},
   "source": [
    "Las listas pueden ser ordenadas utilizando el método `sort()`. Esto ordena las listas en si mismas y no devuelve nada, es decir, el resultado no es asignable a una nueva lista."
   ]
  },
  {
   "cell_type": "code",
   "execution_count": 12,
   "metadata": {
    "collapsed": false
   },
   "outputs": [
    {
     "name": "stdout",
     "output_type": "stream",
     "text": [
      "[6, 7, 2, 4, 10, 20, 25]\n",
      "[2, 4, 6, 7, 10, 20, 25] None\n",
      "[25, 20, 10, 7, 6, 4, 2]\n"
     ]
    }
   ],
   "source": [
    "numeros = [6, 7, 2, 4, 10, 20, 25]\n",
    "print(numeros)\n",
    "\n",
    "# En sentido ascendente. Observar como a no recibe ninguna asignacion despues de que la lista numeros es ordenada\n",
    "a = numeros.sort() \n",
    "print(numeros, a)\n",
    "\n",
    "# En sentido descendente\n",
    "numeros.sort(reverse=True)\n",
    "print(numeros)"
   ]
  },
  {
   "cell_type": "markdown",
   "metadata": {},
   "source": [
    "Las listas han sido optimizadas para ser una estructura flexible y fácil de manejar. También se pueden recorrer un `for``"
   ]
  },
  {
   "cell_type": "code",
   "execution_count": 13,
   "metadata": {
    "collapsed": false
   },
   "outputs": [
    {
     "name": "stdout",
     "output_type": "stream",
     "text": [
      "pid: 1 - tipo de pieza: Alfil\n",
      "pid: 2 - tipo de pieza: Peon\n",
      "pid: 3 - tipo de pieza: Rey\n",
      "pid: 4 - tipo de pieza: Reina\n"
     ]
    }
   ],
   "source": [
    "class Pieza:\n",
    "    pid = 0\n",
    "    \n",
    "    def __init__(self, pieza):\n",
    "        Pieza.pid += 1\n",
    "        self.pid = Pieza.pid\n",
    "        self.tipo = pieza\n",
    "\n",
    "piezas = []\n",
    "piezas.append(Pieza('Alfil'))\n",
    "piezas.append(Pieza('Peon'))\n",
    "piezas.append(Pieza('Rey'))\n",
    "piezas.append(Pieza('Reina'))\n",
    "\n",
    "# Por cada iteración en el ciclo la variable pieza recibe un elemento de la lista.\n",
    "for pieza in piezas:\n",
    "    print('pid: {0} - tipo de pieza: {1}'.format(pieza.pid, pieza.tipo))\n"
   ]
  }
 ],
 "metadata": {
  "anaconda-cloud": {},
  "kernelspec": {
   "display_name": "Python 3",
   "language": "python",
   "name": "python3"
  },
  "language_info": {
   "codemirror_mode": {
    "name": "ipython",
    "version": 3
   },
   "file_extension": ".py",
   "mimetype": "text/x-python",
   "name": "python",
   "nbconvert_exporter": "python",
   "pygments_lexer": "ipython3",
   "version": "3.6.0"
  }
 },
 "nbformat": 4,
 "nbformat_minor": 0
}
