{
 "cells": [
  {
   "cell_type": "markdown",
   "metadata": {},
   "source": [
    "<p>\n",
    "<font size='5' face='Georgia, Arial'>IIC-2233 Apunte Programación Avanzada</font><br>\n",
    "<font size='1'>&copy; 2015 Karim Pichara - Christian Pieringer. Todos los derechos reservados.</font>\n",
    "</p>"
   ]
  },
  {
   "cell_type": "markdown",
   "metadata": {},
   "source": [
    "# QT Designer\n",
    "\n",
    "Cuando las interfaces gráficas poseen pocos widgets resulta sencillo crearlas manualmente agregando cada uno de ellos mendiante líneas de código. Sin embargo, cuando la interfaz incluye un mayor número de objetos, interacciones o controles, la labor de codificarlos manualmente involucra un mayor tiempo. Afortunadamente PyQt provee de una herramienta llamada **QT Designer** que permite construir la interfaz gráfica visualmente. Qt Designer además de crear cada Widget de la interfaz permite tener control sobre todas las propiedades de los widgets. Esto es de gran ayuda durante el desarrollo. La siguiente figura muestra un ejemplo de la ventana principal de Qt Designer."
   ]
  },
  {
   "cell_type": "markdown",
   "metadata": {},
   "source": [
    "![](img/pyqt-qt designer.png)"
   ]
  },
  {
   "cell_type": "markdown",
   "metadata": {},
   "source": [
    "Todas las acciones del QT Designer pueden ser controladas desde los menús de la aplicación. Existen 4 secciones importantes en la ventana de trabajo. Al lado izquierdo se encuentra el Widget Box que contiene todos los widgets ordenados por tipo que pueden ser agregados al formulario diseñado. Al lado derecho se encuentra primero el Inspector de Objetos que permite desplegar visualmente la jerarquía de widgets que existen en el formulario. A continuación del Inspector de Objetos se sitúa (por defecto) el editor de propiedades. Finalmente, en el centro se encuentra  el widget central que puede ser un formulario o ventana simple, o algún Widget más complejo.\n",
    "\n",
    "![](img/qt-designer-tools.png)\n",
    "\n"
   ]
  },
  {
   "cell_type": "markdown",
   "metadata": {},
   "source": [
    "Una vez que algún widget es agregado a la interfaz se le asigna un nombre por defecto al campo **objectName** del editor de propiedades. Este nombre puede ser cambiado directamente desde la ventana de PyQt a través de este campo, como muestra la siguiente figura. Este nombre será el que usaremos para referenciar al objeto desde el código python que maneja la interfaz.\n",
    "\n",
    "![](img/qt-designer-property-editor.png)\n",
    "\n",
    "Una forma rápida de ver el resultado sin embeberlo en el código final es usar el modo preview de Qt Designer pulsado ```Ctrl + R```. Como resultado podemos ver interfaz creada, pero solo como *front-end*. Una vez que concluimos con la creación de la interfaz, debemos guardarla en un archivo con extensión **.ui**. Finalmente, debemos ensamblarla en el script de python que contendrá el resto de las funcionalidades de los widgets incluídos en la interfaz.\n",
    "\n",
    "Para incorporar la interfaz a nuestro script debemos utilizar el módulo **uic**. Este módulo nos permite cargar la interfaz mediante el método ```loadUiType(<nombre-interfaz.ui>)```. Este método retorna una tupla con dos elementos. El primero corresponde a una clase con el nombre de la ventana definida en la propiedad ```objectName``` de Qt Designer. El segundo corresponde al nombre de la clase de la cual hereda los comportamientos.\n",
    "\n",
    "![](img/qt-designer-window-name.png)\n",
    "\n",
    "El siguiente ejemplo muestra como realizar este procedimiento usando una interfaz previamente creada. En este caso, la variable formulario incluiría la tupla: ```(class 'Ui_MainWindow', class 'PyQt5.QtGui.QMainWindow')```. El prefijo **Ui** asociado al nombre de la clase que contiene la interfaz es asignado por el módulo uic durante la carga de la interfaz. Una vez que hemos cargado la interfaz, debemos inicializarla dentro del método ```__init()__``` de la clase que hereda la interfaz. Esta inicialización se realiza mediante el método ```setupUi(self)``` que recibe como parámetro la misma instancia.\n",
    "\n",
    "La creación de la aplicación debe ser realizada usando la estructura del programa principal ```main``` visto durante el comienzo de la explicación de interfaces gráficas."
   ]
  },
  {
   "cell_type": "code",
   "execution_count": 1,
   "metadata": {
    "collapsed": false
   },
   "outputs": [
    {
     "ename": "FileNotFoundError",
     "evalue": "[Errno 2] No such file or directory: 'qt-designer-label.ui'",
     "output_type": "error",
     "traceback": [
      "\u001b[0;31m---------------------------------------------------------------------------\u001b[0m",
      "\u001b[0;31mFileNotFoundError\u001b[0m                         Traceback (most recent call last)",
      "\u001b[0;32m<ipython-input-1-5bdc47f4da1c>\u001b[0m in \u001b[0;36m<module>\u001b[0;34m()\u001b[0m\n\u001b[1;32m     10\u001b[0m \"\"\"\n\u001b[1;32m     11\u001b[0m \u001b[1;33m\u001b[0m\u001b[0m\n\u001b[0;32m---> 12\u001b[0;31m \u001b[0mformulario\u001b[0m \u001b[1;33m=\u001b[0m \u001b[0muic\u001b[0m\u001b[1;33m.\u001b[0m\u001b[0mloadUiType\u001b[0m\u001b[1;33m(\u001b[0m\u001b[1;34m\"qt-designer-label.ui\"\u001b[0m\u001b[1;33m)\u001b[0m\u001b[1;33m\u001b[0m\u001b[0m\n\u001b[0m\u001b[1;32m     13\u001b[0m \u001b[1;33m\u001b[0m\u001b[0m\n\u001b[1;32m     14\u001b[0m \u001b[1;33m\u001b[0m\u001b[0m\n",
      "\u001b[0;32mC:\\Users\\paul_\\Anaconda3\\lib\\site-packages\\PyQt5\\uic\\__init__.py\u001b[0m in \u001b[0;36mloadUiType\u001b[0;34m(uifile, from_imports, resource_suffix, import_from)\u001b[0m\n\u001b[1;32m    196\u001b[0m \u001b[1;33m\u001b[0m\u001b[0m\n\u001b[1;32m    197\u001b[0m     \u001b[0mcode_string\u001b[0m \u001b[1;33m=\u001b[0m \u001b[0mStringIO\u001b[0m\u001b[1;33m(\u001b[0m\u001b[1;33m)\u001b[0m\u001b[1;33m\u001b[0m\u001b[0m\n\u001b[0;32m--> 198\u001b[0;31m     \u001b[0mwinfo\u001b[0m \u001b[1;33m=\u001b[0m \u001b[0mcompiler\u001b[0m\u001b[1;33m.\u001b[0m\u001b[0mUICompiler\u001b[0m\u001b[1;33m(\u001b[0m\u001b[1;33m)\u001b[0m\u001b[1;33m.\u001b[0m\u001b[0mcompileUi\u001b[0m\u001b[1;33m(\u001b[0m\u001b[0muifile\u001b[0m\u001b[1;33m,\u001b[0m \u001b[0mcode_string\u001b[0m\u001b[1;33m,\u001b[0m \u001b[0mfrom_imports\u001b[0m\u001b[1;33m,\u001b[0m \u001b[0mresource_suffix\u001b[0m\u001b[1;33m,\u001b[0m \u001b[0mimport_from\u001b[0m\u001b[1;33m)\u001b[0m\u001b[1;33m\u001b[0m\u001b[0m\n\u001b[0m\u001b[1;32m    199\u001b[0m \u001b[1;33m\u001b[0m\u001b[0m\n\u001b[1;32m    200\u001b[0m     \u001b[0mui_globals\u001b[0m \u001b[1;33m=\u001b[0m \u001b[1;33m{\u001b[0m\u001b[1;33m}\u001b[0m\u001b[1;33m\u001b[0m\u001b[0m\n",
      "\u001b[0;32mC:\\Users\\paul_\\Anaconda3\\lib\\site-packages\\PyQt5\\uic\\Compiler\\compiler.py\u001b[0m in \u001b[0;36mcompileUi\u001b[0;34m(self, input_stream, output_stream, from_imports, resource_suffix, import_from)\u001b[0m\n\u001b[1;32m    108\u001b[0m     \u001b[1;32mdef\u001b[0m \u001b[0mcompileUi\u001b[0m\u001b[1;33m(\u001b[0m\u001b[0mself\u001b[0m\u001b[1;33m,\u001b[0m \u001b[0minput_stream\u001b[0m\u001b[1;33m,\u001b[0m \u001b[0moutput_stream\u001b[0m\u001b[1;33m,\u001b[0m \u001b[0mfrom_imports\u001b[0m\u001b[1;33m,\u001b[0m \u001b[0mresource_suffix\u001b[0m\u001b[1;33m,\u001b[0m \u001b[0mimport_from\u001b[0m\u001b[1;33m)\u001b[0m\u001b[1;33m:\u001b[0m\u001b[1;33m\u001b[0m\u001b[0m\n\u001b[1;32m    109\u001b[0m         \u001b[0mcreateCodeIndenter\u001b[0m\u001b[1;33m(\u001b[0m\u001b[0moutput_stream\u001b[0m\u001b[1;33m)\u001b[0m\u001b[1;33m\u001b[0m\u001b[0m\n\u001b[0;32m--> 110\u001b[0;31m         \u001b[0mw\u001b[0m \u001b[1;33m=\u001b[0m \u001b[0mself\u001b[0m\u001b[1;33m.\u001b[0m\u001b[0mparse\u001b[0m\u001b[1;33m(\u001b[0m\u001b[0minput_stream\u001b[0m\u001b[1;33m,\u001b[0m \u001b[0mresource_suffix\u001b[0m\u001b[1;33m)\u001b[0m\u001b[1;33m\u001b[0m\u001b[0m\n\u001b[0m\u001b[1;32m    111\u001b[0m \u001b[1;33m\u001b[0m\u001b[0m\n\u001b[1;32m    112\u001b[0m         \u001b[0mindenter\u001b[0m \u001b[1;33m=\u001b[0m \u001b[0mgetIndenter\u001b[0m\u001b[1;33m(\u001b[0m\u001b[1;33m)\u001b[0m\u001b[1;33m\u001b[0m\u001b[0m\n",
      "\u001b[0;32mC:\\Users\\paul_\\Anaconda3\\lib\\site-packages\\PyQt5\\uic\\uiparser.py\u001b[0m in \u001b[0;36mparse\u001b[0;34m(self, filename, resource_suffix, base_dir)\u001b[0m\n\u001b[1;32m    990\u001b[0m         )\n\u001b[1;32m    991\u001b[0m \u001b[1;33m\u001b[0m\u001b[0m\n\u001b[0;32m--> 992\u001b[0;31m         \u001b[0mdocument\u001b[0m \u001b[1;33m=\u001b[0m \u001b[0mparse\u001b[0m\u001b[1;33m(\u001b[0m\u001b[0mfilename\u001b[0m\u001b[1;33m)\u001b[0m\u001b[1;33m\u001b[0m\u001b[0m\n\u001b[0m\u001b[1;32m    993\u001b[0m         \u001b[0mversion\u001b[0m \u001b[1;33m=\u001b[0m \u001b[0mdocument\u001b[0m\u001b[1;33m.\u001b[0m\u001b[0mgetroot\u001b[0m\u001b[1;33m(\u001b[0m\u001b[1;33m)\u001b[0m\u001b[1;33m.\u001b[0m\u001b[0mattrib\u001b[0m\u001b[1;33m[\u001b[0m\u001b[1;34m\"version\"\u001b[0m\u001b[1;33m]\u001b[0m\u001b[1;33m\u001b[0m\u001b[0m\n\u001b[1;32m    994\u001b[0m         \u001b[0mDEBUG\u001b[0m\u001b[1;33m(\u001b[0m\u001b[1;34m\"UI version is %s\"\u001b[0m \u001b[1;33m%\u001b[0m \u001b[1;33m(\u001b[0m\u001b[0mversion\u001b[0m\u001b[1;33m,\u001b[0m\u001b[1;33m)\u001b[0m\u001b[1;33m)\u001b[0m\u001b[1;33m\u001b[0m\u001b[0m\n",
      "\u001b[0;32mC:\\Users\\paul_\\Anaconda3\\lib\\xml\\etree\\ElementTree.py\u001b[0m in \u001b[0;36mparse\u001b[0;34m(source, parser)\u001b[0m\n\u001b[1;32m   1194\u001b[0m     \"\"\"\n\u001b[1;32m   1195\u001b[0m     \u001b[0mtree\u001b[0m \u001b[1;33m=\u001b[0m \u001b[0mElementTree\u001b[0m\u001b[1;33m(\u001b[0m\u001b[1;33m)\u001b[0m\u001b[1;33m\u001b[0m\u001b[0m\n\u001b[0;32m-> 1196\u001b[0;31m     \u001b[0mtree\u001b[0m\u001b[1;33m.\u001b[0m\u001b[0mparse\u001b[0m\u001b[1;33m(\u001b[0m\u001b[0msource\u001b[0m\u001b[1;33m,\u001b[0m \u001b[0mparser\u001b[0m\u001b[1;33m)\u001b[0m\u001b[1;33m\u001b[0m\u001b[0m\n\u001b[0m\u001b[1;32m   1197\u001b[0m     \u001b[1;32mreturn\u001b[0m \u001b[0mtree\u001b[0m\u001b[1;33m\u001b[0m\u001b[0m\n\u001b[1;32m   1198\u001b[0m \u001b[1;33m\u001b[0m\u001b[0m\n",
      "\u001b[0;32mC:\\Users\\paul_\\Anaconda3\\lib\\xml\\etree\\ElementTree.py\u001b[0m in \u001b[0;36mparse\u001b[0;34m(self, source, parser)\u001b[0m\n\u001b[1;32m    584\u001b[0m         \u001b[0mclose_source\u001b[0m \u001b[1;33m=\u001b[0m \u001b[1;32mFalse\u001b[0m\u001b[1;33m\u001b[0m\u001b[0m\n\u001b[1;32m    585\u001b[0m         \u001b[1;32mif\u001b[0m \u001b[1;32mnot\u001b[0m \u001b[0mhasattr\u001b[0m\u001b[1;33m(\u001b[0m\u001b[0msource\u001b[0m\u001b[1;33m,\u001b[0m \u001b[1;34m\"read\"\u001b[0m\u001b[1;33m)\u001b[0m\u001b[1;33m:\u001b[0m\u001b[1;33m\u001b[0m\u001b[0m\n\u001b[0;32m--> 586\u001b[0;31m             \u001b[0msource\u001b[0m \u001b[1;33m=\u001b[0m \u001b[0mopen\u001b[0m\u001b[1;33m(\u001b[0m\u001b[0msource\u001b[0m\u001b[1;33m,\u001b[0m \u001b[1;34m\"rb\"\u001b[0m\u001b[1;33m)\u001b[0m\u001b[1;33m\u001b[0m\u001b[0m\n\u001b[0m\u001b[1;32m    587\u001b[0m             \u001b[0mclose_source\u001b[0m \u001b[1;33m=\u001b[0m \u001b[1;32mTrue\u001b[0m\u001b[1;33m\u001b[0m\u001b[0m\n\u001b[1;32m    588\u001b[0m         \u001b[1;32mtry\u001b[0m\u001b[1;33m:\u001b[0m\u001b[1;33m\u001b[0m\u001b[0m\n",
      "\u001b[0;31mFileNotFoundError\u001b[0m: [Errno 2] No such file or directory: 'qt-designer-label.ui'"
     ]
    }
   ],
   "source": [
    "import sys\n",
    "from PyQt5 import uic\n",
    "from PyQt5.QtWidgets import QApplication\n",
    "\n",
    "\"\"\"\n",
    "Creamos nuestra ventana principal heredando desde la GUI creada con Designer.\n",
    "La función loadUiType retorna una tupla en donde  el primer elemento\n",
    "corresponde al nombre de la ventana definido en QtDesigner, y el segundo\n",
    "elemento a la clase base de la GUI.\n",
    "\"\"\"\n",
    "\n",
    "formulario = uic.loadUiType(\"qt-designer-label.ui\")\n",
    "\n",
    "\n",
    "class MainWindow(formulario[0], formulario[1]):\n",
    "    def __init__(self):\n",
    "        super().__init__()\n",
    "        self.setupUi(self)\n",
    "\n",
    "\n",
    "if __name__ == '__main__':\n",
    "    app = QApplication([])\n",
    "    form = MainWindow()\n",
    "    form.show()\n",
    "    sys.exit(app.exec_())\n"
   ]
  },
  {
   "cell_type": "markdown",
   "metadata": {},
   "source": [
    "La siguiente figura muestra el resultado al usar la interfaz creada en Qt Designer y embeberla en el script de python.\n",
    "\n",
    "![](img/qt-designer-label.png)"
   ]
  },
  {
   "cell_type": "markdown",
   "metadata": {},
   "source": [
    "Los comportamientos de cada widget deben ser definidos mediante *signals* y *slots* tal como se explicó en la sección anterior. A continuación se muestra un ejemplo con una interfaz que realiza la división entre dos números. El botón creado en Qt Designer despliega el resultado sobre una etiqueta.\n",
    "\n",
    "![](img/qt-designer-division-ui.png)"
   ]
  },
  {
   "cell_type": "code",
   "execution_count": null,
   "metadata": {
    "collapsed": true
   },
   "outputs": [],
   "source": [
    "import sys\n",
    "from PyQt5 import uic\n",
    "from PyQt5.QtWidgets import (QApplication, QMessageBox)\n",
    "\n",
    "# Cargamos el formulario usando uic\n",
    "formulario = uic.loadUiType(\"qt-designer-mainwindow.ui\")\n",
    "\n",
    "\n",
    "class MainWindow(formulario[0], formulario[1]):\n",
    "    def __init__(self):\n",
    "        super().__init__()\n",
    "        self.setupUi(self)\n",
    "\n",
    "        \"\"\"Creamos las conexiones con los puertos.\"\"\"\n",
    "        self.pushButton1.clicked.connect(self.click_button)\n",
    "\n",
    "    def click_button(self):\n",
    "        \"\"\"\n",
    "        Este método controla la acción ejecuta cada vez que presionamos el\n",
    "        botón1.\n",
    "        \"\"\"\n",
    "\n",
    "        try:\n",
    "            self.label_3.setText('= ' + str(\n",
    "                float(self.lineEdit1.text()) / float(self.lineEdit2.text())))\n",
    "        except ValueError as err:\n",
    "            \"\"\"Existen cuadros de dialos pre-construidos. En este caso\n",
    "            usaremos un MessageBox para mostrar el mensaje de error.\n",
    "            \"\"\"\n",
    "            QMessageBox.warning(self, '', str(err))\n",
    "\n",
    "\n",
    "if __name__ == '__main__':\n",
    "    app = QApplication([])\n",
    "    form = MainWindow()\n",
    "    form.show()\n",
    "    sys.exit(app.exec_())\n"
   ]
  },
  {
   "cell_type": "markdown",
   "metadata": {},
   "source": [
    "En Designer es fácil incluir widgets que hacen más fácil la interacción de los usuario con la interfaz. Un ejemplo es el **Radio Button**, que permite capturar opciones del usuario en el formulario. Una ventaja que presenta este widget es que disminuye la ambiguedad de la información ingresada por los usuarios. Además, por defecto los *radio buttons* en un formulario son autoexcluyentes, es decir, puede haber solo uno seleccionado. A continuación la figura muestra un ejemplo del diseño de formularios utilizando *radio buttons* y el código en python utilizado para poder verificar los valores.\n",
    "\n",
    "![](img/qt-designer-radiobutton.png)"
   ]
  },
  {
   "cell_type": "code",
   "execution_count": null,
   "metadata": {
    "collapsed": true
   },
   "outputs": [],
   "source": [
    "import sys\n",
    "\n",
    "from PyQt5 import uic\n",
    "from PyQt5.QtWidgets import QApplication\n",
    "\n",
    "formulario = uic.loadUiType(\"qt-designer-radiobutton.ui\")\n",
    "print(formulario[0], formulario[1])\n",
    "\n",
    "\n",
    "class MainWindow(formulario[0], formulario[1]):\n",
    "    def __init__(self):\n",
    "        super().__init__()\n",
    "        self.setupUi(self)\n",
    "        self.pushButton1.clicked.connect(self.mostrar_gustos)\n",
    "\n",
    "    def mostrar_gustos(self):\n",
    "        for rb_id in range(1, 3):\n",
    "            if getattr(self, 'radioButton' + str(rb_id)).isChecked():\n",
    "                opcion = getattr(self, 'radioButton' + str(rb_id)).text()\n",
    "                self.label2.setText('prefiere: {0}'.format(opcion))\n",
    "\n",
    "\n",
    "if __name__ == '__main__':\n",
    "    app = QApplication([])\n",
    "    form = MainWindow()\n",
    "    form.show()\n",
    "    sys.exit(app.exec_())\n"
   ]
  },
  {
   "cell_type": "markdown",
   "metadata": {},
   "source": [
    "El estado de un *radio button* puede ser verificado usando el método ```isChecked()``` y la información que despliega corresponde al  texto que puede ser retornado mediante el método ```text()```.\n",
    "\n",
    "\n",
    "## Consideraciones: Front-end y Back-End\n",
    "\n",
    "En ingeniería de software existen los conceptos de **Front-end** y **Back-end** para referirse a la separación que existen entre la capa de presentación y la capa de acceso a los datos. En el caso de interfaces gráficas, el *front-end* está relacionado a la interfaz misma con la cual el usuario interactúa, y el *back-end* se refiere a la lógica detrás de ella. Una buena práctica es separar ambas de modo que un cambio en la lógica no involucre un rediseño de la interfaz y viceversa. El siguiente ejemplo muestra una modificación de uno de los ejemplos anteriores considerando desacoplar la interfaz de la lógica:"
   ]
  },
  {
   "cell_type": "code",
   "execution_count": null,
   "metadata": {
    "collapsed": true
   },
   "outputs": [],
   "source": [
    "import sys\n",
    "\n",
    "from PyQt5 import uic\n",
    "from PyQt5.QtWidgets import (QApplication, QMessageBox)\n",
    "\n",
    "from backend import cuociente  # Importamos el back-end\n",
    "\n",
    "formulario = uic.loadUiType(\"qt-designer-mainwindow.ui\")\n",
    "\n",
    "\n",
    "class MainWindow(formulario[0], formulario[1]):\n",
    "    def __init__(self):\n",
    "        super().__init__()\n",
    "        self.setupUi(self)\n",
    "\n",
    "        \"\"\"Creamos las conexiones con los puertos.\"\"\"\n",
    "        self.pushButton1.clicked.connect(self.click_button)\n",
    "\n",
    "    def click_button(self):\n",
    "        \"\"\"\n",
    "        Este método controla la acción ejecuta cada vez que presionamos el\n",
    "        botón1.\n",
    "        \"\"\"\n",
    "\n",
    "        try:\n",
    "            \"\"\"\n",
    "            Cuociente pertenece al backend. En este caso, cualquier cambio en\n",
    "            el cómo calcular cuociente no significará un cambio en el\n",
    "            front-end.\n",
    "            \"\"\"\n",
    "            resultado = cuociente(self.lineEdit1.text(), self.lineEdit2.text())\n",
    "            self.label_3.setText('= {}'.format(resultado))\n",
    "        except ValueError as err:\n",
    "            QMessageBox.warning(self, '', str(err))\n",
    "\n",
    "\n",
    "if __name__ == '__main__':\n",
    "    app = QApplication([])\n",
    "    form = MainWindow()\n",
    "    form.show()\n",
    "    sys.exit(app.exec_())\n"
   ]
  },
  {
   "cell_type": "markdown",
   "metadata": {},
   "source": [
    "En el back-end deberíamos tener:"
   ]
  },
  {
   "cell_type": "code",
   "execution_count": null,
   "metadata": {
    "collapsed": true
   },
   "outputs": [],
   "source": [
    "def cuociente(valor1, valor2):\n",
    "    return float(valor1) / float(valor2)\n"
   ]
  }
 ],
 "metadata": {
  "kernelspec": {
   "display_name": "Python 3",
   "language": "python",
   "name": "python3"
  },
  "language_info": {
   "codemirror_mode": {
    "name": "ipython",
    "version": 3
   },
   "file_extension": ".py",
   "mimetype": "text/x-python",
   "name": "python",
   "nbconvert_exporter": "python",
   "pygments_lexer": "ipython3",
   "version": "3.6.0"
  }
 },
 "nbformat": 4,
 "nbformat_minor": 1
}
