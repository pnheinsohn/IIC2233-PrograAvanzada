{
 "cells": [
  {
   "cell_type": "markdown",
   "metadata": {},
   "source": [
    "# PyQt5: Objetos\n",
    "\n",
    "Como podrán adivinar, toda ventana, botón, u otro instrumento a usar en PyQt5 es un objeto. No ahondaremos más en como funcionan u organizan estas distintas clases, pero es importante que lo tengan claro al momento de programar. Que todo sea objeto significa que podremos aplicar todo el conocimiento de OOP con nuestra interfaz gráfica. Podemos entregar carácteristicas especiales a cada objeto y heredar lo que necesitemos, y así, poder personalizar aún más nuestro programa. En el material se encuentran varios ejemplos donde nos aprovechamos de esto."
   ]
  },
  {
   "cell_type": "code",
   "execution_count": 1,
   "metadata": {
    "collapsed": false
   },
   "outputs": [
    {
     "name": "stdout",
     "output_type": "stream",
     "text": [
      "1\n",
      "2\n",
      "3\n"
     ]
    },
    {
     "ename": "SystemExit",
     "evalue": "0",
     "output_type": "error",
     "traceback": [
      "An exception has occurred, use %tb to see the full traceback.\n",
      "\u001b[0;31mSystemExit\u001b[0m\u001b[0;31m:\u001b[0m 0\n"
     ]
    },
    {
     "name": "stderr",
     "output_type": "stream",
     "text": [
      "/home/ivania/.local/lib/python3.5/site-packages/IPython/core/interactiveshell.py:2889: UserWarning: To exit: use 'exit', 'quit', or Ctrl-D.\n",
      "  warn(\"To exit: use 'exit', 'quit', or Ctrl-D.\", stacklevel=1)\n"
     ]
    }
   ],
   "source": [
    "import sys\n",
    "from PyQt5.QtWidgets import (QApplication, QWidget, QPushButton)\n",
    "\n",
    "\n",
    "class MiBoton(QPushButton):\n",
    "    def __init__(self, *args):\n",
    "        QPushButton.__init__(self, *args)\n",
    "        self.contador = 0\n",
    "\n",
    "    def contar(self):\n",
    "        self.contador += 1\n",
    "\n",
    "\n",
    "class MiVentana(QWidget):\n",
    "    def __init__(self, *args, **kwargs):\n",
    "        super().__init__(*args, **kwargs)\n",
    "        self.init_GUI()\n",
    "\n",
    "    def init_GUI(self):\n",
    "        self.boton = MiBoton(\"Press Me :D\", self)\n",
    "        self.boton.resize(self.boton.sizeHint())\n",
    "        self.boton.move(60, 100)\n",
    "        self.setGeometry(200, 200, 200, 200)\n",
    "        self.setMaximumHeight(200)\n",
    "        self.setMaximumWidth(200)\n",
    "        self.boton.clicked.connect(self.boton_clickeado)\n",
    "        self.show()\n",
    "\n",
    "    def boton_clickeado(self):\n",
    "        self.boton.contar()\n",
    "        print(self.boton.contador)\n",
    "\n",
    "\n",
    "if __name__ == '__main__':\n",
    "    app = QApplication([])\n",
    "    form = MiVentana()\n",
    "    sys.exit(app.exec_())\n"
   ]
  },
  {
   "cell_type": "markdown",
   "metadata": {},
   "source": [
    "Probablemente el ejemplo no tiene un uso muy útil, pero en distintos contextos se pueden encontrar distintas aplicaciones de esta característica."
   ]
  }
 ],
 "metadata": {
  "kernelspec": {
   "display_name": "Python 3",
   "language": "python",
   "name": "python3"
  },
  "language_info": {
   "codemirror_mode": {
    "name": "ipython",
    "version": 3
   },
   "file_extension": ".py",
   "mimetype": "text/x-python",
   "name": "python",
   "nbconvert_exporter": "python",
   "pygments_lexer": "ipython3",
   "version": "3.5.2"
  }
 },
 "nbformat": 4,
 "nbformat_minor": 2
}
